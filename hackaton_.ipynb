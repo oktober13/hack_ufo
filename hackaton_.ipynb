{
  "nbformat": 4,
  "nbformat_minor": 0,
  "metadata": {
    "colab": {
      "provenance": [],
      "collapsed_sections": [
        "0xPLzLvFqWDx"
      ]
    },
    "kernelspec": {
      "name": "python3",
      "display_name": "Python 3"
    },
    "language_info": {
      "name": "python"
    }
  },
  "cells": [
    {
      "cell_type": "code",
      "source": [
        "from google.colab import drive\n",
        "drive.mount('/content/drive')"
      ],
      "metadata": {
        "colab": {
          "base_uri": "https://localhost:8080/"
        },
        "id": "KqsaPye_pnL6",
        "outputId": "b4d505c5-8212-424c-b7ef-d73965920ca0"
      },
      "execution_count": null,
      "outputs": [
        {
          "output_type": "stream",
          "name": "stdout",
          "text": [
            "Mounted at /content/drive\n"
          ]
        }
      ]
    },
    {
      "cell_type": "code",
      "source": [
        "# !unzip /content/drive/MyDrive/Хакатон/train_dataset_dataset/data/drive-download-20240413T074335Z-001.zip -d /content/drive/MyDrive/Хакатон/train_dataset_dataset/data"
      ],
      "metadata": {
        "id": "dabBJFnFXcUf"
      },
      "execution_count": null,
      "outputs": []
    },
    {
      "cell_type": "code",
      "source": [
        "!pip install striprtf -q\n",
        "!pip install pyrtf -q\n",
        "!pip install pyth -q\n",
        "!pip install pypiwin32 -q\n",
        "!pip install docx2python -q\n",
        "!pip install textract -q\n",
        "!pip install docx2txt -q\n",
        "!pip install pdfplumber python-docx -q\n",
        "!pip install natasha -q"
      ],
      "metadata": {
        "id": "CK0P1MvzMqIH"
      },
      "execution_count": null,
      "outputs": []
    },
    {
      "cell_type": "markdown",
      "source": [
        "# LIBS"
      ],
      "metadata": {
        "id": "g8tZwP2JpThG"
      }
    },
    {
      "cell_type": "code",
      "source": [
        "import pandas as pd\n",
        "import numpy as np\n",
        "# -------------------------------------------\n",
        "from striprtf.striprtf import rtf_to_text\n",
        "import os\n",
        "import pdfplumber\n",
        "from docx import Document\n",
        "import docx2txt\n",
        "import textract\n",
        "from docx2python import docx2python\n",
        "import re\n",
        "\n",
        "# -------------------------------------------\n",
        "import nltk\n",
        "nltk.download(\"stopwords\")\n",
        "nltk.download('punkt')\n",
        "from nltk.corpus import stopwords\n",
        "from nltk.stem.snowball import SnowballStemmer\n",
        "from nltk.tokenize import RegexpTokenizer, WordPunctTokenizer, word_tokenize\n",
        "\n",
        "# -------------------------------------------\n",
        "from sklearn.preprocessing import LabelEncoder\n",
        "\n",
        "import spacy as sp\n",
        "import sys\n",
        "\n",
        "# !pip install ru_core_news_sm-3.5.0-py3-none-any.whl -q\n",
        "\n",
        "import spacy\n",
        "from spacy.tokens.doc import Doc\n",
        "\n",
        "!python -m spacy download ru_core_news_lg -q\n",
        "\n",
        "from sklearn.feature_extraction.text import TfidfVectorizer\n",
        "# -------------------------------------------\n",
        "\n",
        "from sklearn.metrics import f1_score, accuracy_score, classification_report\n",
        "\n",
        "from sklearn.pipeline import Pipeline\n",
        "from sklearn.naive_bayes import MultinomialNB, ComplementNB\n",
        "from sklearn.svm import LinearSVC\n",
        "from sklearn.naive_bayes import GaussianNB\n"
      ],
      "metadata": {
        "id": "nClv-oz4-De7",
        "colab": {
          "base_uri": "https://localhost:8080/"
        },
        "outputId": "74524824-e062-49e2-d97a-b907fb8c8b4f"
      },
      "execution_count": null,
      "outputs": [
        {
          "output_type": "stream",
          "name": "stderr",
          "text": [
            "[nltk_data] Downloading package stopwords to /root/nltk_data...\n",
            "[nltk_data]   Unzipping corpora/stopwords.zip.\n",
            "[nltk_data] Downloading package punkt to /root/nltk_data...\n",
            "[nltk_data]   Unzipping tokenizers/punkt.zip.\n"
          ]
        },
        {
          "output_type": "stream",
          "name": "stdout",
          "text": [
            "\u001b[2K     \u001b[90m━━━━━━━━━━━━━━━━━━━━━━━━━━━━━━━━━━━━━━━━\u001b[0m \u001b[32m513.4/513.4 MB\u001b[0m \u001b[31m2.2 MB/s\u001b[0m eta \u001b[36m0:00:00\u001b[0m\n",
            "\u001b[2K     \u001b[90m━━━━━━━━━━━━━━━━━━━━━━━━━━━━━━━━━━━━━━━━\u001b[0m \u001b[32m53.2/53.2 kB\u001b[0m \u001b[31m671.7 kB/s\u001b[0m eta \u001b[36m0:00:00\u001b[0m\n",
            "\u001b[2K     \u001b[90m━━━━━━━━━━━━━━━━━━━━━━━━━━━━━━━━━━━━━━━━\u001b[0m \u001b[32m8.4/8.4 MB\u001b[0m \u001b[31m24.7 MB/s\u001b[0m eta \u001b[36m0:00:00\u001b[0m\n",
            "\u001b[?25h\u001b[38;5;2m✔ Download and installation successful\u001b[0m\n",
            "You can now load the package via spacy.load('ru_core_news_lg')\n",
            "\u001b[38;5;3m⚠ Restart to reload dependencies\u001b[0m\n",
            "If you are in a Jupyter or Colab notebook, you may need to restart Python in\n",
            "order to load all the package's dependencies. You can do this by selecting the\n",
            "'Restart kernel' or 'Restart runtime' option.\n"
          ]
        }
      ]
    },
    {
      "cell_type": "markdown",
      "source": [
        "# Data"
      ],
      "metadata": {
        "id": "QO0GsErCqY2b"
      }
    },
    {
      "cell_type": "code",
      "source": [
        "# !unzip /content/drive/MyDrive/Хакатон/drive-download-20240413T081215Z-001.zip -d /content/drive/MyDrive/Хакатон/train_dataset_dataset"
      ],
      "metadata": {
        "id": "JBUypUxU9a-w"
      },
      "execution_count": null,
      "outputs": []
    },
    {
      "cell_type": "code",
      "source": [
        "def read_pdf(file_path):\n",
        "    with pdfplumber.open(file_path) as pdf:\n",
        "        text = \"\"\n",
        "        for page in pdf.pages:\n",
        "            text += page.extract_text()\n",
        "        return text.strip()\n",
        "\n",
        "def read_docx(file_path):\n",
        "    doc = Document(file_path)\n",
        "    paragraphs = []\n",
        "    for para in doc.paragraphs:\n",
        "        paragraphs.append(para.text)\n",
        "    return '\\n'.join(paragraphs)\n",
        "\n",
        "def read_rtf(path):\n",
        "    with open(path, 'rb') as f:\n",
        "        content = f.read().decode('utf-8', errors='ignore')\n",
        "        text = rtf_to_text(content)\n",
        "        return [os.path.dirname(path).split(\"/\")[-1], text, os.path.basename(path).split(\".\")[-1:]]\n",
        "\n",
        "def is_word_file(file_path):\n",
        "    with open(file_path, 'rb') as f:\n",
        "        content = f.read()\n",
        "        if content.startswith(b'\\xd0\\xcf\\x11\\xe0\\xa1\\xb1\\x1a\\xe1'):  # Магическое число для файлов DOC\n",
        "            return True\n",
        "        elif content.startswith(b'PK\\x03\\x04'):  # Магическое число для файлов DOCX\n",
        "            return True\n",
        "        else:\n",
        "            return False\n",
        "\n",
        "PATH = '/content/drive/MyDrive/Хакатон/train_dataset_dataset/data'\n",
        "folders = os.listdir(PATH)\n",
        "data = []\n",
        "bugs = []\n",
        "\n",
        "def read_file(file_path, label_folder, file_ext):\n",
        "    try:\n",
        "        if file_ext == 'rtf':\n",
        "            return read_rtf(file_path)\n",
        "        elif file_ext == 'pdf':\n",
        "            return [label_folder, read_pdf(file_path), file_ext]\n",
        "        elif file_ext in ['docx', 'doc']:\n",
        "            if is_word_file(file_path):\n",
        "                return [label_folder, read_docx(file_path), file_ext]\n",
        "            else:\n",
        "                print(f'Файл {file_path} не является поддерживаемым форматом Word')\n",
        "                bugs.append(file_path)\n",
        "        else:\n",
        "            print(f'Файл {file_path} не является поддерживаемым форматом')\n",
        "            bugs.append(file_path)\n",
        "    except Exception as e:\n",
        "        print(f'Файл {file} не был прочитан. Путь: {file_path}')\n",
        "        print(e)\n",
        "        bugs.append(file_path)\n",
        "\n",
        "for label_folder in folders:\n",
        "    if os.path.isdir(os.path.join(PATH, label_folder)):\n",
        "        files = os.listdir(os.path.join(PATH, label_folder))\n",
        "        for file in files:\n",
        "            file_path = os.path.join(PATH, label_folder, file)\n",
        "            file_ext = file.split(\".\")[-1]\n",
        "            data.append(read_file(file_path, label_folder, file_ext))"
      ],
      "metadata": {
        "id": "z6125TkNzjf5"
      },
      "execution_count": 162,
      "outputs": []
    },
    {
      "cell_type": "code",
      "source": [
        "data = pd.DataFrame(data, columns=['class', 'text', 'filename'])\n",
        "data"
      ],
      "metadata": {
        "id": "tvWU6OijZggc",
        "colab": {
          "base_uri": "https://localhost:8080/",
          "height": 423
        },
        "outputId": "e55846f3-b82d-4b26-b5c6-0c405c76d8e5"
      },
      "execution_count": 170,
      "outputs": [
        {
          "output_type": "execute_result",
          "data": {
            "text/plain": [
              "             class                                               text filename\n",
              "0   contract offer  ДОГОВОР-ОФЕРТА (ПРИМЕР) 1. Общие положения 1.1...   [docx]\n",
              "1   contract offer  Договор публичной оферты об оказании услуг\\nОО...   [docx]\n",
              "2   contract offer  Договор-оферта на оказание услуг 1. Общие поло...   [docx]\n",
              "3   contract offer  ДОГОВОР-ОФЕРТА об оказании платных образовател...   [docx]\n",
              "4   contract offer  Договор-оферта интернет-магазина:\\n\\nООО \"ИНТЕ...    [rtf]\n",
              "..             ...                                                ...      ...\n",
              "89         statute  ТИПОВОЙ УСТАВ № 1, НА ОСНОВАНИИ КОТОРОГО ДЕЙСТ...     docx\n",
              "90         statute  Утвержден\\nприказом Минэкономразвития России\\n...     docx\n",
              "91         statute  УТВЕРЖДЕН:\\n\\nОбщим собранием Учредителей\\nОбщ...     docx\n",
              "92         statute  \\t\\tУТВЕРЖДЕН\\n\\t\\t\\t\\t\\t\\t\\t\\t    Решением   ...     docx\n",
              "93         statute                                                ...     docx\n",
              "\n",
              "[94 rows x 3 columns]"
            ],
            "text/html": [
              "\n",
              "  <div id=\"df-d24b9753-1798-4782-b265-465b963d8e8d\" class=\"colab-df-container\">\n",
              "    <div>\n",
              "<style scoped>\n",
              "    .dataframe tbody tr th:only-of-type {\n",
              "        vertical-align: middle;\n",
              "    }\n",
              "\n",
              "    .dataframe tbody tr th {\n",
              "        vertical-align: top;\n",
              "    }\n",
              "\n",
              "    .dataframe thead th {\n",
              "        text-align: right;\n",
              "    }\n",
              "</style>\n",
              "<table border=\"1\" class=\"dataframe\">\n",
              "  <thead>\n",
              "    <tr style=\"text-align: right;\">\n",
              "      <th></th>\n",
              "      <th>class</th>\n",
              "      <th>text</th>\n",
              "      <th>filename</th>\n",
              "    </tr>\n",
              "  </thead>\n",
              "  <tbody>\n",
              "    <tr>\n",
              "      <th>0</th>\n",
              "      <td>contract offer</td>\n",
              "      <td>ДОГОВОР-ОФЕРТА (ПРИМЕР) 1. Общие положения 1.1...</td>\n",
              "      <td>[docx]</td>\n",
              "    </tr>\n",
              "    <tr>\n",
              "      <th>1</th>\n",
              "      <td>contract offer</td>\n",
              "      <td>Договор публичной оферты об оказании услуг\\nОО...</td>\n",
              "      <td>[docx]</td>\n",
              "    </tr>\n",
              "    <tr>\n",
              "      <th>2</th>\n",
              "      <td>contract offer</td>\n",
              "      <td>Договор-оферта на оказание услуг 1. Общие поло...</td>\n",
              "      <td>[docx]</td>\n",
              "    </tr>\n",
              "    <tr>\n",
              "      <th>3</th>\n",
              "      <td>contract offer</td>\n",
              "      <td>ДОГОВОР-ОФЕРТА об оказании платных образовател...</td>\n",
              "      <td>[docx]</td>\n",
              "    </tr>\n",
              "    <tr>\n",
              "      <th>4</th>\n",
              "      <td>contract offer</td>\n",
              "      <td>Договор-оферта интернет-магазина:\\n\\nООО \"ИНТЕ...</td>\n",
              "      <td>[rtf]</td>\n",
              "    </tr>\n",
              "    <tr>\n",
              "      <th>...</th>\n",
              "      <td>...</td>\n",
              "      <td>...</td>\n",
              "      <td>...</td>\n",
              "    </tr>\n",
              "    <tr>\n",
              "      <th>89</th>\n",
              "      <td>statute</td>\n",
              "      <td>ТИПОВОЙ УСТАВ № 1, НА ОСНОВАНИИ КОТОРОГО ДЕЙСТ...</td>\n",
              "      <td>docx</td>\n",
              "    </tr>\n",
              "    <tr>\n",
              "      <th>90</th>\n",
              "      <td>statute</td>\n",
              "      <td>Утвержден\\nприказом Минэкономразвития России\\n...</td>\n",
              "      <td>docx</td>\n",
              "    </tr>\n",
              "    <tr>\n",
              "      <th>91</th>\n",
              "      <td>statute</td>\n",
              "      <td>УТВЕРЖДЕН:\\n\\nОбщим собранием Учредителей\\nОбщ...</td>\n",
              "      <td>docx</td>\n",
              "    </tr>\n",
              "    <tr>\n",
              "      <th>92</th>\n",
              "      <td>statute</td>\n",
              "      <td>\\t\\tУТВЕРЖДЕН\\n\\t\\t\\t\\t\\t\\t\\t\\t    Решением   ...</td>\n",
              "      <td>docx</td>\n",
              "    </tr>\n",
              "    <tr>\n",
              "      <th>93</th>\n",
              "      <td>statute</td>\n",
              "      <td>...</td>\n",
              "      <td>docx</td>\n",
              "    </tr>\n",
              "  </tbody>\n",
              "</table>\n",
              "<p>94 rows × 3 columns</p>\n",
              "</div>\n",
              "    <div class=\"colab-df-buttons\">\n",
              "\n",
              "  <div class=\"colab-df-container\">\n",
              "    <button class=\"colab-df-convert\" onclick=\"convertToInteractive('df-d24b9753-1798-4782-b265-465b963d8e8d')\"\n",
              "            title=\"Convert this dataframe to an interactive table.\"\n",
              "            style=\"display:none;\">\n",
              "\n",
              "  <svg xmlns=\"http://www.w3.org/2000/svg\" height=\"24px\" viewBox=\"0 -960 960 960\">\n",
              "    <path d=\"M120-120v-720h720v720H120Zm60-500h600v-160H180v160Zm220 220h160v-160H400v160Zm0 220h160v-160H400v160ZM180-400h160v-160H180v160Zm440 0h160v-160H620v160ZM180-180h160v-160H180v160Zm440 0h160v-160H620v160Z\"/>\n",
              "  </svg>\n",
              "    </button>\n",
              "\n",
              "  <style>\n",
              "    .colab-df-container {\n",
              "      display:flex;\n",
              "      gap: 12px;\n",
              "    }\n",
              "\n",
              "    .colab-df-convert {\n",
              "      background-color: #E8F0FE;\n",
              "      border: none;\n",
              "      border-radius: 50%;\n",
              "      cursor: pointer;\n",
              "      display: none;\n",
              "      fill: #1967D2;\n",
              "      height: 32px;\n",
              "      padding: 0 0 0 0;\n",
              "      width: 32px;\n",
              "    }\n",
              "\n",
              "    .colab-df-convert:hover {\n",
              "      background-color: #E2EBFA;\n",
              "      box-shadow: 0px 1px 2px rgba(60, 64, 67, 0.3), 0px 1px 3px 1px rgba(60, 64, 67, 0.15);\n",
              "      fill: #174EA6;\n",
              "    }\n",
              "\n",
              "    .colab-df-buttons div {\n",
              "      margin-bottom: 4px;\n",
              "    }\n",
              "\n",
              "    [theme=dark] .colab-df-convert {\n",
              "      background-color: #3B4455;\n",
              "      fill: #D2E3FC;\n",
              "    }\n",
              "\n",
              "    [theme=dark] .colab-df-convert:hover {\n",
              "      background-color: #434B5C;\n",
              "      box-shadow: 0px 1px 3px 1px rgba(0, 0, 0, 0.15);\n",
              "      filter: drop-shadow(0px 1px 2px rgba(0, 0, 0, 0.3));\n",
              "      fill: #FFFFFF;\n",
              "    }\n",
              "  </style>\n",
              "\n",
              "    <script>\n",
              "      const buttonEl =\n",
              "        document.querySelector('#df-d24b9753-1798-4782-b265-465b963d8e8d button.colab-df-convert');\n",
              "      buttonEl.style.display =\n",
              "        google.colab.kernel.accessAllowed ? 'block' : 'none';\n",
              "\n",
              "      async function convertToInteractive(key) {\n",
              "        const element = document.querySelector('#df-d24b9753-1798-4782-b265-465b963d8e8d');\n",
              "        const dataTable =\n",
              "          await google.colab.kernel.invokeFunction('convertToInteractive',\n",
              "                                                    [key], {});\n",
              "        if (!dataTable) return;\n",
              "\n",
              "        const docLinkHtml = 'Like what you see? Visit the ' +\n",
              "          '<a target=\"_blank\" href=https://colab.research.google.com/notebooks/data_table.ipynb>data table notebook</a>'\n",
              "          + ' to learn more about interactive tables.';\n",
              "        element.innerHTML = '';\n",
              "        dataTable['output_type'] = 'display_data';\n",
              "        await google.colab.output.renderOutput(dataTable, element);\n",
              "        const docLink = document.createElement('div');\n",
              "        docLink.innerHTML = docLinkHtml;\n",
              "        element.appendChild(docLink);\n",
              "      }\n",
              "    </script>\n",
              "  </div>\n",
              "\n",
              "\n",
              "<div id=\"df-66caf76f-a052-4379-8f52-980140b4cf83\">\n",
              "  <button class=\"colab-df-quickchart\" onclick=\"quickchart('df-66caf76f-a052-4379-8f52-980140b4cf83')\"\n",
              "            title=\"Suggest charts\"\n",
              "            style=\"display:none;\">\n",
              "\n",
              "<svg xmlns=\"http://www.w3.org/2000/svg\" height=\"24px\"viewBox=\"0 0 24 24\"\n",
              "     width=\"24px\">\n",
              "    <g>\n",
              "        <path d=\"M19 3H5c-1.1 0-2 .9-2 2v14c0 1.1.9 2 2 2h14c1.1 0 2-.9 2-2V5c0-1.1-.9-2-2-2zM9 17H7v-7h2v7zm4 0h-2V7h2v10zm4 0h-2v-4h2v4z\"/>\n",
              "    </g>\n",
              "</svg>\n",
              "  </button>\n",
              "\n",
              "<style>\n",
              "  .colab-df-quickchart {\n",
              "      --bg-color: #E8F0FE;\n",
              "      --fill-color: #1967D2;\n",
              "      --hover-bg-color: #E2EBFA;\n",
              "      --hover-fill-color: #174EA6;\n",
              "      --disabled-fill-color: #AAA;\n",
              "      --disabled-bg-color: #DDD;\n",
              "  }\n",
              "\n",
              "  [theme=dark] .colab-df-quickchart {\n",
              "      --bg-color: #3B4455;\n",
              "      --fill-color: #D2E3FC;\n",
              "      --hover-bg-color: #434B5C;\n",
              "      --hover-fill-color: #FFFFFF;\n",
              "      --disabled-bg-color: #3B4455;\n",
              "      --disabled-fill-color: #666;\n",
              "  }\n",
              "\n",
              "  .colab-df-quickchart {\n",
              "    background-color: var(--bg-color);\n",
              "    border: none;\n",
              "    border-radius: 50%;\n",
              "    cursor: pointer;\n",
              "    display: none;\n",
              "    fill: var(--fill-color);\n",
              "    height: 32px;\n",
              "    padding: 0;\n",
              "    width: 32px;\n",
              "  }\n",
              "\n",
              "  .colab-df-quickchart:hover {\n",
              "    background-color: var(--hover-bg-color);\n",
              "    box-shadow: 0 1px 2px rgba(60, 64, 67, 0.3), 0 1px 3px 1px rgba(60, 64, 67, 0.15);\n",
              "    fill: var(--button-hover-fill-color);\n",
              "  }\n",
              "\n",
              "  .colab-df-quickchart-complete:disabled,\n",
              "  .colab-df-quickchart-complete:disabled:hover {\n",
              "    background-color: var(--disabled-bg-color);\n",
              "    fill: var(--disabled-fill-color);\n",
              "    box-shadow: none;\n",
              "  }\n",
              "\n",
              "  .colab-df-spinner {\n",
              "    border: 2px solid var(--fill-color);\n",
              "    border-color: transparent;\n",
              "    border-bottom-color: var(--fill-color);\n",
              "    animation:\n",
              "      spin 1s steps(1) infinite;\n",
              "  }\n",
              "\n",
              "  @keyframes spin {\n",
              "    0% {\n",
              "      border-color: transparent;\n",
              "      border-bottom-color: var(--fill-color);\n",
              "      border-left-color: var(--fill-color);\n",
              "    }\n",
              "    20% {\n",
              "      border-color: transparent;\n",
              "      border-left-color: var(--fill-color);\n",
              "      border-top-color: var(--fill-color);\n",
              "    }\n",
              "    30% {\n",
              "      border-color: transparent;\n",
              "      border-left-color: var(--fill-color);\n",
              "      border-top-color: var(--fill-color);\n",
              "      border-right-color: var(--fill-color);\n",
              "    }\n",
              "    40% {\n",
              "      border-color: transparent;\n",
              "      border-right-color: var(--fill-color);\n",
              "      border-top-color: var(--fill-color);\n",
              "    }\n",
              "    60% {\n",
              "      border-color: transparent;\n",
              "      border-right-color: var(--fill-color);\n",
              "    }\n",
              "    80% {\n",
              "      border-color: transparent;\n",
              "      border-right-color: var(--fill-color);\n",
              "      border-bottom-color: var(--fill-color);\n",
              "    }\n",
              "    90% {\n",
              "      border-color: transparent;\n",
              "      border-bottom-color: var(--fill-color);\n",
              "    }\n",
              "  }\n",
              "</style>\n",
              "\n",
              "  <script>\n",
              "    async function quickchart(key) {\n",
              "      const quickchartButtonEl =\n",
              "        document.querySelector('#' + key + ' button');\n",
              "      quickchartButtonEl.disabled = true;  // To prevent multiple clicks.\n",
              "      quickchartButtonEl.classList.add('colab-df-spinner');\n",
              "      try {\n",
              "        const charts = await google.colab.kernel.invokeFunction(\n",
              "            'suggestCharts', [key], {});\n",
              "      } catch (error) {\n",
              "        console.error('Error during call to suggestCharts:', error);\n",
              "      }\n",
              "      quickchartButtonEl.classList.remove('colab-df-spinner');\n",
              "      quickchartButtonEl.classList.add('colab-df-quickchart-complete');\n",
              "    }\n",
              "    (() => {\n",
              "      let quickchartButtonEl =\n",
              "        document.querySelector('#df-66caf76f-a052-4379-8f52-980140b4cf83 button');\n",
              "      quickchartButtonEl.style.display =\n",
              "        google.colab.kernel.accessAllowed ? 'block' : 'none';\n",
              "    })();\n",
              "  </script>\n",
              "</div>\n",
              "    </div>\n",
              "  </div>\n"
            ],
            "application/vnd.google.colaboratory.intrinsic+json": {
              "type": "dataframe",
              "variable_name": "data",
              "summary": "{\n  \"name\": \"data\",\n  \"rows\": 94,\n  \"fields\": [\n    {\n      \"column\": \"class\",\n      \"properties\": {\n        \"dtype\": \"category\",\n        \"num_unique_values\": 3,\n        \"samples\": [\n          \"contract offer\",\n          \"determination\",\n          \"statute\"\n        ],\n        \"semantic_type\": \"\",\n        \"description\": \"\"\n      }\n    },\n    {\n      \"column\": \"text\",\n      \"properties\": {\n        \"dtype\": \"category\",\n        \"num_unique_values\": 46,\n        \"samples\": [\n          \"\\u0423 \\u0422 \\u0412 \\u0415 P \\u0416 \\u0414 \\u0415 \\u041d\\n\\u0420\\u0435\\u0448\\u0435\\u043d\\u0438\\u0435\\u043c \\u0423\\u0447\\u0440\\u0435\\u0434\\u0438\\u0442\\u0435\\u043b\\u044f\\n\\u041e\\u041e\\u041e \\u00ab\\u0420\\u043e\\u043c\\u0430\\u0448\\u043a\\u0430\\u00bb\\n\\u043e\\u0442 \\u00ab26\\u00bb \\u043c\\u0430\\u044f 2006 \\u0433.\\n\\u0423 \\u0421 \\u0422 \\u0410 \\u0412\\n\\u041e\\u0411\\u0429\\u0415\\u0421\\u0422\\u0412\\u0410 \\u0421 \\u041e\\u0413\\u0420\\u0410\\u041d\\u0418\\u0427\\u0415\\u041d\\u041d\\u041e\\u0419 \\u041e\\u0422\\u0412\\u0415\\u0422\\u0421\\u0422\\u0412\\u0415\\u041d\\u041d\\u041e\\u0421\\u0422\\u042c\\u042e\\n\\u00ab\\u0420\\u043e\\u043c\\u0430\\u0448\\u043a\\u0430\\u00bb\\n\\u0433. \\u041c\\u043e\\u0441\\u043a\\u0432\\u0430, 2009 \\u0433.\\n\\u041d\\u0430\\u0441\\u0442\\u043e\\u044f\\u0449\\u0438\\u0439 \\u0423\\u0441\\u0442\\u0430\\u0432 \\u0440\\u0430\\u0437\\u0440\\u0430\\u0431\\u043e\\u0442\\u0430\\u043d \\u043d\\u0430 \\u043e\\u0441\\u043d\\u043e\\u0432\\u0430\\u043d\\u0438\\u0438 \\u0413\\u0440\\u0430\\u0436\\u0434\\u0430\\u043d\\u0441\\u043a\\u043e\\u0433\\u043e \\u041a\\u043e\\u0434\\u0435\\u043a\\u0441\\u0430 \\u0420\\u0424, \\u0424\\u0435\\u0434\\u0435\\u0440\\u0430\\u043b\\u044c\\u043d\\u043e\\u0433\\u043e \\u0437\\u0430\\u043a\\u043e\\u043d\\u0430 \\u0420\\u0424 \\u00ab\\u041e\\u0431 \\u043e\\u0431\\u0449\\u0435\\u0441\\u0442\\u0432\\u0430\\u0445 \\u0441 \\u043e\\u0433\\u0440\\u0430\\u043d\\u0438\\u0447\\u0435\\u043d\\u043d\\u043e\\u0439 \\u043e\\u0442\\u0432\\u0435\\u0442\\u0441\\u0442\\u0432\\u0435\\u043d\\u043d\\u043e\\u0441\\u0442\\u044c\\u044e\\u00bb \\u043e\\u0442 14 \\u044f\\u043d\\u0432\\u0430\\u0440\\u044f 1998 \\u0433\\u043e\\u0434\\u0430 \\u2116 14-\\u04243 (\\u0434\\u0430\\u043b\\u0435\\u0435 - \\u0424\\u0435\\u0434\\u0435\\u0440\\u0430\\u043b\\u044c\\u043d\\u044b\\u0439 \\u0437\\u0430\\u043a\\u043e\\u043d), \\u0430 \\u0442\\u0430\\u043a\\u0436\\u0435 \\u0434\\u0440\\u0443\\u0433\\u043e\\u0433\\u043e \\u0434\\u0435\\u0439\\u0441\\u0442\\u0432\\u0443\\u044e\\u0449\\u0435\\u0433\\u043e \\u0437\\u0430\\u043a\\u043e\\u043d\\u043e\\u0434\\u0430\\u0442\\u0435\\u043b\\u044c\\u0441\\u0442\\u0432\\u0430 \\u0420\\u043e\\u0441\\u0441\\u0438\\u0439\\u0441\\u043a\\u043e\\u0439 \\u0424\\u0435\\u0434\\u0435\\u0440\\u0430\\u0446\\u0438\\u0438.\\n\\u0421 \\u0422 \\u0410 \\u0422 \\u042c \\u042f 1. \\u041e\\u0411\\u0429\\u0418\\u0415 \\u041f\\u041e\\u041b\\u041e\\u0416\\u0415\\u041d\\u0418\\u042f\\n1.1. \\u041e\\u0431\\u0449\\u0435\\u0441\\u0442\\u0432\\u043e \\u0441 \\u043e\\u0433\\u0440\\u0430\\u043d\\u0438\\u0447\\u0435\\u043d\\u043d\\u043e\\u0439 \\u043e\\u0442\\u0432\\u0435\\u0442\\u0441\\u0442\\u0432\\u0435\\u043d\\u043d\\u043e\\u0441\\u0442\\u044c\\u044e \\u00ab\\u0420\\u043e\\u043c\\u0430\\u0448\\u043a\\u0430\\u00bb, \\u0434\\u0430\\u043b\\u0435\\u0435 \\u043f\\u043e \\u0442\\u0435\\u043a\\u0441\\u0442\\u0443 \\u00ab\\u041e\\u0431\\u0449\\u0435\\u0441\\u0442\\u0432\\u043e\\u00bb, \\u0441\\u043e\\u0437\\u0434\\u0430\\u043d\\u043e \\u0432 \\u0441\\u043e\\u043e\\u0442\\u0432\\u0435\\u0442\\u0441\\u0442\\u0432\\u0438\\u0438 \\u0441 \\u0434\\u0435\\u0439\\u0441\\u0442\\u0432\\u0443\\u044e\\u0449\\u0438\\u043c \\u0437\\u0430\\u043a\\u043e\\u043d\\u043e\\u0434\\u0430\\u0442\\u0435\\u043b\\u044c\\u0441\\u0442\\u0432\\u043e\\u043c \\u0420\\u0424 \\u043f\\u0443\\u0442\\u0435\\u043c \\u0443\\u0447\\u0440\\u0435\\u0436\\u0434\\u0435\\u043d\\u0438\\u044f \\u0432\\u043d\\u043e\\u0432\\u044c.\\n1.2. \\u041e\\u0431\\u0449\\u0435\\u0441\\u0442\\u0432\\u043e \\u044f\\u0432\\u043b\\u044f\\u0435\\u0442\\u0441\\u044f \\u044e\\u0440\\u0438\\u0434\\u0438\\u0447\\u0435\\u0441\\u043a\\u0438\\u043c \\u043b\\u0438\\u0446\\u043e\\u043c \\u0438 \\u0438\\u043c\\u0435\\u0435\\u0442 \\u0432 \\u0441\\u043e\\u0431\\u0441\\u0442\\u0432\\u0435\\u043d\\u043d\\u043e\\u0441\\u0442\\u0438 \\u043e\\u0431\\u043e\\u0441\\u043e\\u0431\\u043b\\u0435\\u043d\\u043d\\u043e\\u0435 \\u0438\\u043c\\u0443\\u0449\\u0435\\u0441\\u0442\\u0432\\u043e, \\u0443\\u0447\\u0438\\u0442\\u044b\\u0432\\u0430\\u0435\\u043c\\u043e\\u0435 \\u043d\\u0430 \\u0435\\u0433\\u043e \\u0441\\u0430\\u043c\\u043e\\u0441\\u0442\\u043e\\u044f\\u0442\\u0435\\u043b\\u044c\\u043d\\u043e\\u043c \\u0431\\u0430\\u043b\\u0430\\u043d\\u0441\\u0435, \\u043c\\u043e\\u0436\\u0435\\u0442 \\u043e\\u0442 \\u0441\\u0432\\u043e\\u0435\\u0433\\u043e \\u0438\\u043c\\u0435\\u043d\\u0438 \\u043f\\u0440\\u0438\\u043e\\u0431\\u0440\\u0435\\u0442\\u0430\\u0442\\u044c \\u0438 \\u043e\\u0441\\u0443\\u0449\\u0435\\u0441\\u0442\\u0432\\u043b\\u044f\\u0442\\u044c \\u0438\\u043c\\u0443\\u0449\\u0435\\u0441\\u0442\\u0432\\u0435\\u043d\\u043d\\u044b\\u0435 \\u0438 \\u043b\\u0438\\u0447\\u043d\\u044b\\u0435 \\u043d\\u0435\\u0438\\u043c\\u0443\\u0449\\u0435\\u0441\\u0442\\u0432\\u0435\\u043d\\u043d\\u044b\\u0435 \\u043f\\u0440\\u0430\\u0432\\u0430, \\u043d\\u0435\\u0441\\u0442\\u0438 \\u043e\\u0431\\u044f\\u0437\\u0430\\u043d\\u043d\\u043e\\u0441\\u0442\\u0438, \\u0431\\u044b\\u0442\\u044c \\u0438\\u0441\\u0442\\u0446\\u043e\\u043c \\u0438 \\u043e\\u0442\\u0432\\u0435\\u0442\\u0447\\u0438\\u043a\\u043e\\u043c \\u0432 \\u0441\\u0443\\u0434\\u0435.\\n\\u041e\\u0431\\u0449\\u0435\\u0441\\u0442\\u0432\\u043e \\u0441\\u043e\\u0437\\u0434\\u0430\\u0435\\u0442\\u0441\\u044f \\u0431\\u0435\\u0437 \\u043e\\u0433\\u0440\\u0430\\u043d\\u0438\\u0447\\u0435\\u043d\\u0438\\u044f \\u0441\\u0440\\u043e\\u043a\\u0430.\\n\\u041e\\u0431\\u0449\\u0435\\u0441\\u0442\\u0432\\u043e \\u0432\\u043f\\u0440\\u0430\\u0432\\u0435 \\u0432 \\u0443\\u0441\\u0442\\u0430\\u043d\\u043e\\u0432\\u043b\\u0435\\u043d\\u043d\\u043e\\u043c \\u043f\\u043e\\u0440\\u044f\\u0434\\u043a\\u0435 \\u043e\\u0442\\u043a\\u0440\\u044b\\u0432\\u0430\\u0442\\u044c \\u0431\\u0430\\u043d\\u043a\\u043e\\u0432\\u0441\\u043a\\u0438\\u0435 \\u0441\\u0447\\u0435\\u0442\\u0430 \\u043d\\u0430 \\u0442\\u0435\\u0440\\u0440\\u0438\\u0442\\u043e\\u0440\\u0438\\u0438 \\u0420\\u043e\\u0441\\u0441\\u0438\\u0439\\u0441\\u043a\\u043e\\u0439 \\u0424\\u0435\\u0434\\u0435\\u0440\\u0430\\u0446\\u0438\\u0438 \\u0438 \\u0437\\u0430 \\u0435\\u0435 \\u043f\\u0440\\u0435\\u0434\\u0435\\u043b\\u0430\\u043c\\u0438.\\n\\u041e\\u0431\\u0449\\u0435\\u0441\\u0442\\u0432\\u043e \\u0438\\u043c\\u0435\\u0435\\u0442 \\u043a\\u0440\\u0443\\u0433\\u043b\\u0443\\u044e \\u043f\\u0435\\u0447\\u0430\\u0442\\u044c, \\u0441\\u043e\\u0434\\u0435\\u0440\\u0436\\u0430\\u0449\\u0443\\u044e \\u0435\\u0433\\u043e \\u043f\\u043e\\u043b\\u043d\\u043e\\u0435 \\u0444\\u0438\\u0440\\u043c\\u0435\\u043d\\u043d\\u043e\\u0435 \\u043d\\u0430\\u0438\\u043c\\u0435\\u043d\\u043e\\u0432\\u0430\\u043d\\u0438\\u0435 \\u043d\\u0430 \\u0440\\u0443\\u0441\\u0441\\u043a\\u043e\\u043c \\u044f\\u0437\\u044b\\u043a\\u0435, \\u0443\\u043a\\u0430\\u0437\\u0430\\u043d\\u0438\\u0435 \\u043d\\u0430 \\u043c\\u0435\\u0441\\u0442\\u043e \\u0435\\u0433\\u043e \\u043d\\u0430\\u0445\\u043e\\u0436\\u0434\\u0435\\u043d\\u0438\\u044f, \\u0440\\u0435\\u0433\\u0438\\u0441\\u0442\\u0440\\u0430\\u0446\\u0438\\u043e\\u043d\\u043d\\u044b\\u0439 \\u043d\\u043e\\u043c\\u0435\\u0440.\\n\\u041e\\u0431\\u0449\\u0435\\u0441\\u0442\\u0432\\u043e \\u0432\\u043f\\u0440\\u0430\\u0432\\u0435 \\u0438\\u043c\\u0435\\u0442\\u044c \\u0448\\u0442\\u0430\\u043c\\u043f\\u044b \\u0438 \\u0431\\u043b\\u0430\\u043d\\u043a\\u0438 \\u0441\\u043e \\u0441\\u0432\\u043e\\u0438\\u043c \\u0444\\u0438\\u0440\\u043c\\u0435\\u043d\\u043d\\u044b\\u043c \\u043d\\u0430\\u0438\\u043c\\u0435\\u043d\\u043e\\u0432\\u0430\\u043d\\u0438\\u0435\\u043c, \\u0441\\u043e\\u0431\\u0441\\u0442\\u0432\\u0435\\u043d\\u043d\\u0443\\u044e \\u044d\\u043c\\u0431\\u043b\\u0435\\u043c\\u0443, \\u0430 \\u0442\\u0430\\u043a\\u0436\\u0435 \\u0437\\u0430\\u0440\\u0435\\u0433\\u0438\\u0441\\u0442\\u0440\\u0438\\u0440\\u043e\\u0432\\u0430\\u043d\\u043d\\u044b\\u0439 \\u0432 \\u0443\\u0441\\u0442\\u0430\\u043d\\u043e\\u0432\\u043b\\u0435\\u043d\\u043d\\u043e\\u043c \\u043f\\u043e\\u0440\\u044f\\u0434\\u043a\\u0435 \\u0442\\u043e\\u0432\\u0430\\u0440\\u043d\\u044b\\u0439 \\u0437\\u043d\\u0430\\u043a \\u0438 \\u0434\\u0440\\u0443\\u0433\\u0438\\u0435 \\u0441\\u0440\\u0435\\u0434\\u0441\\u0442\\u0432\\u0430 \\u0438\\u043d\\u0434\\u0438\\u0432\\u0438\\u0434\\u0443\\u0430\\u043b\\u0438\\u0437\\u0430\\u0446\\u0438\\u0438.\\n1.3. \\u041e\\u0431\\u0449\\u0435\\u0441\\u0442\\u0432\\u043e \\u0440\\u0443\\u043a\\u043e\\u0432\\u043e\\u0434\\u0441\\u0442\\u0432\\u0443\\u0435\\u0442\\u0441\\u044f \\u0432 \\u0441\\u0432\\u043e\\u0435\\u0439 \\u0434\\u0435\\u044f\\u0442\\u0435\\u043b\\u044c\\u043d\\u043e\\u0441\\u0442\\u0438 \\u0434\\u0435\\u0439\\u0441\\u0442\\u0432\\u0443\\u044e\\u0449\\u0438\\u043c \\u0437\\u0430\\u043a\\u043e\\u043d\\u043e\\u0434\\u0430\\u0442\\u0435\\u043b\\u044c\\u0441\\u0442\\u0432\\u043e\\u043c \\u0420\\u043e\\u0441\\u0441\\u0438\\u0439\\u0441\\u043a\\u043e\\u0439 \\u0424\\u0435\\u0434\\u0435\\u0440\\u0430\\u0446\\u0438\\u0438 \\u0438 \\u043d\\u0430\\u0441\\u0442\\u043e\\u044f\\u0449\\u0438\\u043c \\u0423\\u0441\\u0442\\u0430\\u0432\\u043e\\u043c.\\n1.4. \\u041f\\u043e\\u043b\\u043d\\u043e\\u0435 \\u0444\\u0438\\u0440\\u043c\\u0435\\u043d\\u043d\\u043e\\u0435 \\u043d\\u0430\\u0438\\u043c\\u0435\\u043d\\u043e\\u0432\\u0430\\u043d\\u0438\\u0435 \\u041e\\u0431\\u0449\\u0435\\u0441\\u0442\\u0432\\u0430:\\n\\u041e\\u0431\\u0449\\u0435\\u0441\\u0442\\u0432\\u043e \\u0441 \\u043e\\u0433\\u0440\\u0430\\u043d\\u0438\\u0447\\u0435\\u043d\\u043d\\u043e\\u0439 \\u043e\\u0442\\u0432\\u0435\\u0442\\u0441\\u0442\\u0432\\u0435\\u043d\\u043d\\u043e\\u0441\\u0442\\u044c\\u044e \\u00ab\\u0420\\u043e\\u043c\\u0430\\u0448\\u043a\\u0430\\u00bb.\\n\\u0421\\u043e\\u043a\\u0440\\u0430\\u0449\\u0435\\u043d\\u043d\\u043e\\u0435 \\u0444\\u0438\\u0440\\u043c\\u0435\\u043d\\u043d\\u043e\\u0435 \\u043d\\u0430\\u0438\\u043c\\u0435\\u043d\\u043e\\u0432\\u0430\\u043d\\u0438\\u0435 \\u041e\\u0431\\u0449\\u0435\\u0441\\u0442\\u0432\\u0430 : \\u041e\\u041e\\u041e \\u00ab\\u0420\\u043e\\u043c\\u0430\\u0448\\u043a\\u0430\\u00bb.\\n\\u0424\\u0438\\u0440\\u043c\\u0435\\u043d\\u043d\\u043e\\u0435 \\u043d\\u0430\\u0438\\u043c\\u0435\\u043d\\u043e\\u0432\\u0430\\u043d\\u0438\\u0435 \\u041e\\u0431\\u0449\\u0435\\u0441\\u0442\\u0432\\u0430 \\u043d\\u0430 \\u0430\\u043d\\u0433\\u043b\\u0438\\u0439\\u0441\\u043a\\u043e\\u043c \\u044f\\u0437\\u044b\\u043a\\u0435: \\u00abRomashka\\u00bb\\n1.5. \\u041c\\u0435\\u0441\\u0442\\u043e \\u043d\\u0430\\u0445\\u043e\\u0436\\u0434\\u0435\\u043d\\u0438\\u044f \\u041e\\u0431\\u0449\\u0435\\u0441\\u0442\\u0432\\u0430: \\u0420\\u0424, 127490, \\u0433. \\u041c\\u043e\\u0441\\u043a\\u0432\\u0430, \\u0443\\u043b. \\u0422\\u0432\\u0435\\u0440\\u0441\\u043a\\u0430\\u044f, \\u0434. 21, \\u043e\\u0444. 152.\\n1.6. \\u041e\\u0431\\u0449\\u0435\\u0441\\u0442\\u0432\\u043e \\u043d\\u0435\\u0441\\u0435\\u0442 \\u043e\\u0442\\u0432\\u0435\\u0442\\u0441\\u0442\\u0432\\u0435\\u043d\\u043d\\u043e\\u0441\\u0442\\u044c \\u043f\\u043e \\u0441\\u0432\\u043e\\u0438\\u043c \\u043e\\u0431\\u044f\\u0437\\u0430\\u0442\\u0435\\u043b\\u044c\\u0441\\u0442\\u0432\\u0430\\u043c \\u0432\\u0441\\u0435\\u043c \\u043f\\u0440\\u0438\\u043d\\u0430\\u0434\\u043b\\u0435\\u0436\\u0430\\u0449\\u0438\\u043c \\u0435\\u043c\\u0443 \\u0438\\u043c\\u0443\\u0449\\u0435\\u0441\\u0442\\u0432\\u043e\\u043c.\\n\\u041e\\u0431\\u0449\\u0435\\u0441\\u0442\\u0432\\u043e \\u043d\\u0435 \\u043e\\u0442\\u0432\\u0435\\u0447\\u0430\\u0435\\u0442 \\u043f\\u043e \\u043e\\u0431\\u044f\\u0437\\u0430\\u0442\\u0435\\u043b\\u044c\\u0441\\u0442\\u0432\\u0430\\u043c \\u0441\\u0432\\u043e\\u0435\\u0433\\u043e \\u0423\\u0447\\u0430\\u0441\\u0442\\u043d\\u0438\\u043a\\u0430.\\n\\u0412 \\u0441\\u043b\\u0443\\u0447\\u0430\\u0435 \\u043d\\u0435\\u0441\\u043e\\u0441\\u0442\\u043e\\u044f\\u0442\\u0435\\u043b\\u044c\\u043d\\u043e\\u0441\\u0442\\u0438 (\\u0431\\u0430\\u043d\\u043a\\u0440\\u043e\\u0442\\u0441\\u0442\\u0432\\u0430) \\u041e\\u0431\\u0449\\u0435\\u0441\\u0442\\u0432\\u0430 \\u043f\\u043e \\u0432\\u0438\\u043d\\u0435 \\u0435\\u0433\\u043e \\u0423\\u0447\\u0430\\u0441\\u0442\\u043d\\u0438\\u043a\\u0430 \\u0438\\u043b\\u0438 \\u043f\\u043e \\u0432\\u0438\\u043d\\u0435 \\u0434\\u0440\\u0443\\u0433\\u0438\\u0445 \\u043b\\u0438\\u0446, \\u043a\\u043e\\u0442\\u043e\\u0440\\u044b\\u0435 \\u0438\\u043c\\u0435\\u044e\\u0442 \\u043f\\u0440\\u0430\\u0432\\u043e \\u0434\\u0430\\u0432\\u0430\\u0442\\u044c \\u043e\\u0431\\u044f\\u0437\\u0430\\u0442\\u0435\\u043b\\u044c\\u043d\\u044b\\u0435 \\u0434\\u043b\\u044f \\u041e\\u0431\\u0449\\u0435\\u0441\\u0442\\u0432\\u0430 \\u0443\\u043a\\u0430\\u0437\\u0430\\u043d\\u0438\\u044f \\u043b\\u0438\\u0431\\u043e \\u0438\\u043d\\u044b\\u043c \\u043e\\u0431\\u0440\\u0430\\u0437\\u043e\\u043c \\u0438\\u043c\\u0435\\u044e\\u0442 \\u0432\\u043e\\u0437\\u043c\\u043e\\u0436\\u043d\\u043e\\u0441\\u0442\\u044c \\u043e\\u043f\\u0440\\u0435\\u0434\\u0435\\u043b\\u044f\\u0442\\u044c \\u0435\\u0433\\u043e \\u0434\\u0435\\u0439\\u0441\\u0442\\u0432\\u0438\\u044f, \\u043d\\u0430 \\u0423\\u0447\\u0430\\u0441\\u0442\\u043d\\u0438\\u043a\\u0430 \\u0438\\u043b\\u0438 \\u0434\\u0440\\u0443\\u0433\\u0438\\u0445 \\u043b\\u0438\\u0446 \\u0432 \\u0441\\u043b\\u0443\\u0447\\u0430\\u0435 \\u043d\\u0435\\u0434\\u043e\\u0441\\u0442\\u0430\\u0442\\u043e\\u0447\\u043d\\u043e\\u0441\\u0442\\u0438 \\u0438\\u043c\\u0443\\u0449\\u0435\\u0441\\u0442\\u0432\\u0430 \\u041e\\u0431\\u0449\\u0435\\u0441\\u0442\\u0432\\u0430 \\u043c\\u043e\\u0436\\u0435\\u0442 \\u0431\\u044b\\u0442\\u044c \\u0432\\u043e\\u0437\\u043b\\u043e\\u0436\\u0435\\u043d\\u0430 \\u0441\\u0443\\u0431\\u0441\\u0438\\u0434\\u0438\\u0430\\u0440\\u043d\\u0430\\u044f \\u043e\\u0442\\u0432\\u0435\\u0442\\u0441\\u0442\\u0432\\u0435\\u043d\\u043d\\u043e\\u0441\\u0442\\u044c \\u043f\\u043e \\u0435\\u0433\\u043e \\u043e\\u0431\\u044f\\u0437\\u0430\\u0442\\u0435\\u043b\\u044c\\u0441\\u0442\\u0432\\u0430\\u043c.\\n\\u0420\\u043e\\u0441\\u0441\\u0438\\u0439\\u0441\\u043a\\u0430\\u044f \\u0424\\u0435\\u0434\\u0435\\u0440\\u0430\\u0446\\u0438\\u044f, \\u0441\\u0443\\u0431\\u044a\\u0435\\u043a\\u0442\\u044b \\u0420\\u043e\\u0441\\u0441\\u0438\\u0439\\u0441\\u043a\\u043e\\u0439 \\u0424\\u0435\\u0434\\u0435\\u0440\\u0430\\u0446\\u0438\\u0438 \\u0438 \\u043c\\u0443\\u043d\\u0438\\u0446\\u0438\\u043f\\u0430\\u043b\\u044c\\u043d\\u044b\\u0435 \\u043e\\u0431\\u0440\\u0430\\u0437\\u043e\\u0432\\u0430\\u043d\\u0438\\u044f \\u043d\\u0435 \\u043d\\u0435\\u0441\\u0443\\u0442 \\u043e\\u0442\\u0432\\u0435\\u0442\\u0441\\u0442\\u0432\\u0435\\u043d\\u043d\\u043e\\u0441\\u0442\\u0438 \\u043f\\u043e \\u043e\\u0431\\u044f\\u0437\\u0430\\u0442\\u0435\\u043b\\u044c\\u0441\\u0442\\u0432\\u0430\\u043c \\u041e\\u0431\\u0449\\u0435\\u0441\\u0442\\u0432\\u0430, \\u0440\\u0430\\u0432\\u043d\\u043e \\u043a\\u0430\\u043a \\u0438 \\u041e\\u0431\\u0449\\u0435\\u0441\\u0442\\u0432\\u043e \\u043d\\u0435 \\u043d\\u0435\\u0441\\u0435\\u0442 \\u043e\\u0442\\u0432\\u0435\\u0442\\u0441\\u0442\\u0432\\u0435\\u043d\\u043d\\u043e\\u0441\\u0442\\u0438 \\u043f\\u043e \\u043e\\u0431\\u044f\\u0437\\u0430\\u0442\\u0435\\u043b\\u044c\\u0441\\u0442\\u0432\\u0430\\u043c \\u0420\\u043e\\u0441\\u0441\\u0438\\u0439\\u0441\\u043a\\u043e\\u0439 \\u0424\\u0435\\u0434\\u0435\\u0440\\u0430\\u0446\\u0438\\u0438, \\u0441\\u0443\\u0431\\u044a\\u0435\\u043a\\u0442\\u043e\\u0432 \\u0420\\u043e\\u0441\\u0441\\u0438\\u0439\\u0441\\u043a\\u043e\\u0439 \\u0424\\u0435\\u0434\\u0435\\u0440\\u0430\\u0446\\u0438\\u0438 \\u0438 \\u043c\\u0443\\u043d\\u0438\\u0446\\u0438\\u043f\\u0430\\u043b\\u044c\\u043d\\u044b\\u0445 \\u043e\\u0431\\u0440\\u0430\\u0437\\u043e\\u0432\\u0430\\u043d\\u0438\\u0439.\\n1.7. \\u041e\\u0431\\u0449\\u0435\\u0441\\u0442\\u0432\\u043e \\u0432 \\u0446\\u0435\\u043b\\u044f\\u0445 \\u0440\\u0435\\u0430\\u043b\\u0438\\u0437\\u0430\\u0446\\u0438\\u0438 \\u0433\\u043e\\u0441\\u0443\\u0434\\u0430\\u0440\\u0441\\u0442\\u0432\\u0435\\u043d\\u043d\\u043e\\u0439 \\u0441\\u043e\\u0446\\u0438\\u0430\\u043b\\u044c\\u043d\\u043e\\u0439, \\u044d\\u043a\\u043e\\u043d\\u043e\\u043c\\u0438\\u0447\\u0435\\u0441\\u043a\\u043e\\u0439 \\u0438 \\u043d\\u0430\\u043b\\u043e\\u0433\\u043e\\u0432\\u043e\\u0439 \\u043f\\u043e\\u043b\\u0438\\u0442\\u0438\\u043a\\u0438 \\u043d\\u0435\\u0441\\u0435\\u0442 \\u043e\\u0442\\u0432\\u0435\\u0442\\u0441\\u0442\\u0432\\u0435\\u043d\\u043d\\u043e\\u0441\\u0442\\u044c \\u0437\\u0430 \\u0441\\u043e\\u0445\\u0440\\u0430\\u043d\\u043d\\u043e\\u0441\\u0442\\u044c \\u0434\\u043e\\u043a\\u0443\\u043c\\u0435\\u043d\\u0442\\u043e\\u0432 (\\u0443\\u043f\\u0440\\u0430\\u0432\\u043b\\u0435\\u043d\\u0447\\u0435\\u0441\\u043a\\u0438\\u0445, \\u0444\\u0438\\u043d\\u0430\\u043d\\u0441\\u043e\\u0432\\u043e-\\u0445\\u043e\\u0437\\u044f\\u0439\\u0441\\u0442\\u0432\\u0435\\u043d\\u043d\\u044b\\u0445, \\u043f\\u043e \\u043b\\u0438\\u0447\\u043d\\u043e\\u043c\\u0443 \\u0441\\u043e\\u0441\\u0442\\u0430\\u0432\\u0443 \\u0438 \\u0434\\u0440.); \\u043e\\u0431\\u0435\\u0441\\u043f\\u0435\\u0447\\u0438\\u0432\\u0430\\u0435\\u0442 \\u043f\\u0435\\u0440\\u0435\\u0434\\u0430\\u0447\\u0443 \\u043d\\u0430 \\u0433\\u043e\\u0441\\u0443\\u0434\\u0430\\u0440\\u0441\\u0442\\u0432\\u0435\\u043d\\u043d\\u043e\\u0435 \\u0445\\u0440\\u0430\\u043d\\u0435\\u043d\\u0438\\u0435 \\u0434\\u043e\\u043a\\u0443\\u043c\\u0435\\u043d\\u0442\\u043e\\u0432, \\u0438\\u043c\\u0435\\u044e\\u0449\\u0438\\u0445 \\u043d\\u0430\\u0443\\u0447\\u043d\\u043e-\\u0438\\u0441\\u0442\\u043e\\u0440\\u0438\\u0447\\u0435\\u0441\\u043a\\u043e\\u0435 \\u0437\\u043d\\u0430\\u0447\\u0435\\u043d\\u0438\\u0435, \\u0432 \\u0446\\u0435\\u043d\\u0442\\u0440\\u0430\\u043b\\u044c\\u043d\\u044b\\u0435 \\u0430\\u0440\\u0445\\u0438\\u0432\\u044b \\u041c\\u043e\\u0441\\u043a\\u0432\\u044b \\u0432 \\u0441\\u043e\\u043e\\u0442\\u0432\\u0435\\u0442\\u0441\\u0442\\u0432\\u0438\\u0438 \\u0441 \\u043f\\u0435\\u0440\\u0435\\u0447\\u043d\\u0435\\u043c \\u0434\\u043e\\u043a\\u0443\\u043c\\u0435\\u043d\\u0442\\u043e\\u0432, \\u0441\\u043e\\u0433\\u043b\\u0430\\u0441\\u043e\\u0432\\u0430\\u043d\\u043d\\u044b\\u043c \\u0441 \\u043e\\u0431\\u044a\\u0435\\u0434\\u0438\\u043d\\u0435\\u043d\\u0438\\u0435\\u043c \\u00ab\\u041c\\u043e\\u0441\\u0433\\u043e\\u0440\\u0430\\u0440\\u0445\\u0438\\u0432\\u00bb; \\u0445\\u0440\\u0430\\u043d\\u0438\\u0442 \\u0438 \\u0438\\u0441\\u043f\\u043e\\u043b\\u044c\\u0437\\u0443\\u0435\\u0442 \\u0432 \\u0443\\u0441\\u0442\\u0430\\u043d\\u043e\\u0432\\u043b\\u0435\\u043d\\u043d\\u043e\\u043c \\u043f\\u043e\\u0440\\u044f\\u0434\\u043a\\u0435 \\u0434\\u043e\\u043a\\u0443\\u043c\\u0435\\u043d\\u0442\\u044b \\u043f\\u043e \\u043b\\u0438\\u0447\\u043d\\u043e\\u043c\\u0443 \\u0441\\u043e\\u0441\\u0442\\u0430\\u0432\\u0443.\\n\\u041e\\u0431\\u0449\\u0435\\u0441\\u0442\\u0432\\u043e \\u043e\\u0431\\u044f\\u0437\\u0430\\u043d\\u043e \\u0445\\u0440\\u0430\\u043d\\u0438\\u0442\\u044c \\u0441\\u043b\\u0435\\u0434\\u0443\\u044e\\u0449\\u0438\\u0435 \\u0434\\u043e\\u043a\\u0443\\u043c\\u0435\\u043d\\u0442\\u044b:\\n- \\u0443\\u0447\\u0440\\u0435\\u0434\\u0438\\u0442\\u0435\\u043b\\u044c\\u043d\\u044b\\u0435 \\u0434\\u043e\\u043a\\u0443\\u043c\\u0435\\u043d\\u0442\\u044b \\u041e\\u0431\\u0449\\u0435\\u0441\\u0442\\u0432\\u0430, \\u0430 \\u0442\\u0430\\u043a\\u0436\\u0435 \\u0432\\u043d\\u0435\\u0441\\u0435\\u043d\\u043d\\u044b\\u0435 \\u0432 \\u0443\\u0447\\u0440\\u0435\\u0434\\u0438\\u0442\\u0435\\u043b\\u044c\\u043d\\u044b\\u0435 \\u0434\\u043e\\u043a\\u0443\\u043c\\u0435\\u043d\\u0442\\u044b \\u041e\\u0431\\u0449\\u0435\\u0441\\u0442\\u0432\\u0430 \\u0438 \\u0437\\u0430\\u0440\\u0435\\u0433\\u0438\\u0441\\u0442\\u0440\\u0438\\u0440\\u043e\\u0432\\u0430\\u043d\\u043d\\u044b\\u0435 \\u0432 \\u0443\\u0441\\u0442\\u0430\\u043d\\u043e\\u0432\\u043b\\u0435\\u043d\\u043d\\u043e\\u043c \\u043f\\u043e\\u0440\\u044f\\u0434\\u043a\\u0435 \\u0438\\u0437\\u043c\\u0435\\u043d\\u0435\\u043d\\u0438\\u044f \\u0438 \\u0434\\u043e\\u043f\\u043e\\u043b\\u043d\\u0435\\u043d\\u0438\\u044f;\\n- \\u0440\\u0435\\u0448\\u0435\\u043d\\u0438\\u0435 \\u0423\\u0447\\u0440\\u0435\\u0434\\u0438\\u0442\\u0435\\u043b\\u044f \\u043e \\u0441\\u043e\\u0437\\u0434\\u0430\\u043d\\u0438\\u0438 \\u041e\\u0431\\u0449\\u0435\\u0441\\u0442\\u0432\\u0430 \\u0438 \\u043e\\u0431 \\u0443\\u0442\\u0432\\u0435\\u0440\\u0436\\u0434\\u0435\\u043d\\u0438\\u0438 \\u0434\\u0435\\u043d\\u0435\\u0436\\u043d\\u043e\\u0439 \\u043e\\u0446\\u0435\\u043d\\u043a\\u0438 \\u043d\\u0435\\u0434\\u0435\\u043d\\u0435\\u0436\\u043d\\u044b\\u0445 \\u0432\\u043a\\u043b\\u0430\\u0434\\u043e\\u0432 \\u0432 \\u0423\\u0441\\u0442\\u0430\\u0432\\u043d\\u044b\\u0439 \\u043a\\u0430\\u043f\\u0438\\u0442\\u0430\\u043b \\u041e\\u0431\\u0449\\u0435\\u0441\\u0442\\u0432\\u0430, \\u0430 \\u0442\\u0430\\u043a\\u0436\\u0435 \\u0438\\u043d\\u044b\\u0435 \\u0440\\u0435\\u0448\\u0435\\u043d\\u0438\\u044f, \\u0441\\u0432\\u044f\\u0437\\u0430\\u043d\\u043d\\u044b\\u0435 \\u0441 \\u0441\\u043e\\u0437\\u0434\\u0430\\u043d\\u0438\\u0435\\u043c \\u041e\\u0431\\u0449\\u0435\\u0441\\u0442\\u0432\\u0430;\\n- \\u0434\\u043e\\u043a\\u0443\\u043c\\u0435\\u043d\\u0442, \\u043f\\u043e\\u0434\\u0442\\u0432\\u0435\\u0440\\u0436\\u0434\\u0430\\u044e\\u0449\\u0438\\u0439 \\u0433\\u043e\\u0441\\u0443\\u0434\\u0430\\u0440\\u0441\\u0442\\u0432\\u0435\\u043d\\u043d\\u0443\\u044e \\u0440\\u0435\\u0433\\u0438\\u0441\\u0442\\u0440\\u0430\\u0446\\u0438\\u044e \\u041e\\u0431\\u0449\\u0435\\u0441\\u0442\\u0432\\u0430;\\n- \\u0434\\u043e\\u043a\\u0443\\u043c\\u0435\\u043d\\u0442\\u044b, \\u043f\\u043e\\u0434\\u0442\\u0432\\u0435\\u0440\\u0436\\u0434\\u0430\\u044e\\u0449\\u0438\\u0435 \\u043f\\u0440\\u0430\\u0432\\u0430 \\u041e\\u0431\\u0449\\u0435\\u0441\\u0442\\u0432\\u0430 \\u043d\\u0430 \\u0438\\u043c\\u0443\\u0449\\u0435\\u0441\\u0442\\u0432\\u043e, \\u043d\\u0430\\u0445\\u043e\\u0434\\u044f\\u0449\\u0435\\u0435\\u0441\\u044f \\u043d\\u0430 \\u0435\\u0433\\u043e \\u0431\\u0430\\u043b\\u0430\\u043d\\u0441\\u0435;\\n- \\u0432\\u043d\\u0443\\u0442\\u0440\\u0435\\u043d\\u043d\\u0438\\u0435 \\u0434\\u043e\\u043a\\u0443\\u043c\\u0435\\u043d\\u0442\\u044b \\u041e\\u0431\\u0449\\u0435\\u0441\\u0442\\u0432\\u0430;\\n- \\u043f\\u043e\\u043b\\u043e\\u0436\\u0435\\u043d\\u0438\\u044f \\u043e \\u0444\\u0438\\u043b\\u0438\\u0430\\u043b\\u0430\\u0445 \\u0438 \\u043f\\u0440\\u0435\\u0434\\u0441\\u0442\\u0430\\u0432\\u0438\\u0442\\u0435\\u043b\\u044c\\u0441\\u0442\\u0432\\u0430\\u0445 \\u041e\\u0431\\u0449\\u0435\\u0441\\u0442\\u0432\\u0430;\\n- \\u0434\\u043e\\u043a\\u0443\\u043c\\u0435\\u043d\\u0442\\u044b, \\u0441\\u0432\\u044f\\u0437\\u0430\\u043d\\u043d\\u044b\\u0435 \\u0441 \\u044d\\u043c\\u0438\\u0441\\u0441\\u0438\\u0435\\u0439 \\u043e\\u0431\\u043b\\u0438\\u0433\\u0430\\u0446\\u0438\\u0439 \\u0438 \\u0438\\u043d\\u044b\\u0445 \\u044d\\u043c\\u0438\\u0441\\u0441\\u0438\\u043e\\u043d\\u043d\\u044b\\u0445 \\u0446\\u0435\\u043d\\u043d\\u044b\\u0445 \\u0431\\u0443\\u043c\\u0430\\u0433 \\u041e\\u0431\\u0449\\u0435\\u0441\\u0442\\u0432\\u0430;\\n- \\u043f\\u0440\\u043e\\u0442\\u043e\\u043a\\u043e\\u043b\\u044b \\u041e\\u0431\\u0449\\u0438\\u0445 \\u0441\\u043e\\u0431\\u0440\\u0430\\u043d\\u0438\\u0439 \\u0423\\u0447\\u0430\\u0441\\u0442\\u043d\\u0438\\u043a\\u043e\\u0432 \\u041e\\u0431\\u0449\\u0435\\u0441\\u0442\\u0432\\u0430;\\n- \\u0437\\u0430\\u043a\\u043b\\u044e\\u0447\\u0435\\u043d\\u0438\\u044f \\u0430\\u0443\\u0434\\u0438\\u0442\\u043e\\u0440\\u0430, \\u0433\\u043e\\u0441\\u0443\\u0434\\u0430\\u0440\\u0441\\u0442\\u0432\\u0435\\u043d\\u043d\\u044b\\u0445 \\u0438 \\u043c\\u0443\\u043d\\u0438\\u0446\\u0438\\u043f\\u0430\\u043b\\u044c\\u043d\\u044b\\u0445 \\u043e\\u0440\\u0433\\u0430\\u043d\\u043e\\u0432 \\u0444\\u0438\\u043d\\u0430\\u043d\\u0441\\u043e\\u0432\\u043e\\u0433\\u043e \\u043a\\u043e\\u043d\\u0442\\u0440\\u043e\\u043b\\u044f;\\n- \\u0438\\u043d\\u044b\\u0435 \\u0434\\u043e\\u043a\\u0443\\u043c\\u0435\\u043d\\u0442\\u044b, \\u043f\\u0440\\u0435\\u0434\\u0443\\u0441\\u043c\\u043e\\u0442\\u0440\\u0435\\u043d\\u043d\\u044b\\u0435 \\u0444\\u0435\\u0434\\u0435\\u0440\\u0430\\u043b\\u044c\\u043d\\u044b\\u043c\\u0438 \\u0437\\u0430\\u043a\\u043e\\u043d\\u0430\\u043c\\u0438 \\u0438 \\u0438\\u043d\\u044b\\u043c\\u0438 \\u043f\\u0440\\u0430\\u0432\\u043e\\u0432\\u044b\\u043c\\u0438 \\u0430\\u043a\\u0442\\u0430\\u043c\\u0438 \\u0420\\u043e\\u0441\\u0441\\u0438\\u0439\\u0441\\u043a\\u043e\\u0439 \\u0424\\u0435\\u0434\\u0435\\u0440\\u0430\\u0446\\u0438\\u0438, \\u0423\\u0441\\u0442\\u0430\\u0432\\u043e\\u043c \\u041e\\u0431\\u0449\\u0435\\u0441\\u0442\\u0432\\u0430, \\u0432\\u043d\\u0443\\u0442\\u0440\\u0435\\u043d\\u043d\\u0438\\u043c\\u0438 \\u0434\\u043e\\u043a\\u0443\\u043c\\u0435\\u043d\\u0442\\u0430\\u043c\\u0438 \\u041e\\u0431\\u0449\\u0435\\u0441\\u0442\\u0432\\u0430, \\u0440\\u0435\\u0448\\u0435\\u043d\\u0438\\u044f\\u043c\\u0438 \\u041e\\u0431\\u0449\\u0435\\u0433\\u043e \\u0441\\u043e\\u0431\\u0440\\u0430\\u043d\\u0438\\u044f \\u0423\\u0447\\u0430\\u0441\\u0442\\u043d\\u0438\\u043a\\u043e\\u0432 \\u041e\\u0431\\u0449\\u0435\\u0441\\u0442\\u0432\\u0430 \\u0438 \\u0438\\u0441\\u043f\\u043e\\u043b\\u043d\\u0438\\u0442\\u0435\\u043b\\u044c\\u043d\\u043e\\u0433\\u043e \\u043e\\u0440\\u0433\\u0430\\u043d\\u0430 \\u041e\\u0431\\u0449\\u0435\\u0441\\u0442\\u0432\\u0430.\\n\\u041e\\u0431\\u0449\\u0435\\u0441\\u0442\\u0432\\u043e \\u0445\\u0440\\u0430\\u043d\\u0438\\u0442 \\u0434\\u043e\\u043a\\u0443\\u043c\\u0435\\u043d\\u0442\\u044b, \\u043f\\u0440\\u0435\\u0434\\u0443\\u0441\\u043c\\u043e\\u0442\\u0440\\u0435\\u043d\\u043d\\u044b\\u0435 \\u043d\\u0430\\u0441\\u0442\\u043e\\u044f\\u0449\\u0438\\u043c \\u043f\\u0443\\u043d\\u043a\\u0442\\u043e\\u043c, \\u043f\\u043e \\u043c\\u0435\\u0441\\u0442\\u0443 \\u043d\\u0430\\u0445\\u043e\\u0436\\u0434\\u0435\\u043d\\u0438\\u044f \\u0435\\u0433\\u043e \\u0435\\u0434\\u0438\\u043d\\u043e\\u043b\\u0438\\u0447\\u043d\\u043e\\u0433\\u043e \\u0438\\u0441\\u043f\\u043e\\u043b\\u043d\\u0438\\u0442\\u0435\\u043b\\u044c\\u043d\\u043e\\u0433\\u043e \\u043e\\u0440\\u0433\\u0430\\u043d\\u0430.\\n1.8. \\u041f\\u043e \\u0442\\u0440\\u0435\\u0431\\u043e\\u0432\\u0430\\u043d\\u0438\\u044e \\u0423\\u0447\\u0430\\u0441\\u0442\\u043d\\u0438\\u043a\\u0430 \\u041e\\u0431\\u0449\\u0435\\u0441\\u0442\\u0432\\u0430 \\u0432 \\u043f\\u044f\\u0442\\u0438\\u0434\\u043d\\u0435\\u0432\\u043d\\u044b\\u0439 \\u0441\\u0440\\u043e\\u043a, \\u0430 \\u043f\\u043e \\u0442\\u0440\\u0435\\u0431\\u043e\\u0432\\u0430\\u043d\\u0438\\u044e \\u0430\\u0443\\u0434\\u0438\\u0442\\u043e\\u0440\\u0430 \\u0438\\u043b\\u0438 \\u043b\\u044e\\u0431\\u043e\\u0433\\u043e \\u0437\\u0430\\u0438\\u043d\\u0442\\u0435\\u0440\\u0435\\u0441\\u043e\\u0432\\u0430\\u043d\\u043d\\u043e\\u0433\\u043e \\u043b\\u0438\\u0446\\u0430 \\u0432 \\u0434\\u0435\\u0441\\u044f\\u0442\\u0438\\u0434\\u043d\\u0435\\u0432\\u043d\\u044b\\u0439 \\u0441\\u0440\\u043e\\u043a \\u041e\\u0431\\u0449\\u0435\\u0441\\u0442\\u0432\\u043e \\u043e\\u0431\\u044f\\u0437\\u0430\\u043d\\u043e \\u043f\\u0440\\u0435\\u0434\\u043e\\u0441\\u0442\\u0430\\u0432\\u0438\\u0442\\u044c \\u0438\\u043c \\u0432\\u043e\\u0437\\u043c\\u043e\\u0436\\u043d\\u043e\\u0441\\u0442\\u044c \\u043e\\u0437\\u043d\\u0430\\u043a\\u043e\\u043c\\u0438\\u0442\\u044c\\u0441\\u044f \\u0441 \\u0443\\u0447\\u0440\\u0435\\u0434\\u0438\\u0442\\u0435\\u043b\\u044c\\u043d\\u044b\\u043c\\u0438 \\u0434\\u043e\\u043a\\u0443\\u043c\\u0435\\u043d\\u0442\\u0430\\u043c\\u0438 \\u041e\\u0431\\u0449\\u0435\\u0441\\u0442\\u0432\\u0430, \\u0432 \\u0442\\u043e\\u043c \\u0447\\u0438\\u0441\\u043b\\u0435 \\u0441 \\u0438\\u0437\\u043c\\u0435\\u043d\\u0435\\u043d\\u0438\\u044f\\u043c\\u0438, \\u0431\\u0443\\u0445\\u0433\\u0430\\u043b\\u0442\\u0435\\u0440\\u0441\\u043a\\u0438\\u043c\\u0438 \\u0434\\u043e\\u043a\\u0443\\u043c\\u0435\\u043d\\u0442\\u0430\\u043c\\u0438 \\u0438 \\u0438\\u043d\\u043e\\u0439 \\u0434\\u043e\\u043a\\u0443\\u043c\\u0435\\u043d\\u0442\\u0430\\u0446\\u0438\\u0435\\u0439, \\u0430 \\u0442\\u0430\\u043a\\u0436\\u0435 \\u043f\\u043e\\u043b\\u0443\\u0447\\u0430\\u0442\\u044c \\u0438\\u043d\\u0444\\u043e\\u0440\\u043c\\u0430\\u0446\\u0438\\u044e \\u043e \\u0434\\u0435\\u044f\\u0442\\u0435\\u043b\\u044c\\u043d\\u043e\\u0441\\u0442\\u0438 \\u041e\\u0431\\u0449\\u0435\\u0441\\u0442\\u0432\\u0430 \\u0432 \\u043f\\u043e\\u0440\\u044f\\u0434\\u043a\\u0435, \\u043f\\u0440\\u0435\\u0434\\u0443\\u0441\\u043c\\u043e\\u0442\\u0440\\u0435\\u043d\\u043d\\u043e\\u043c \\u0437\\u0430\\u043a\\u043e\\u043d\\u043e\\u0434\\u0430\\u0442\\u0435\\u043b\\u044c\\u0441\\u0442\\u0432\\u043e\\u043c \\u0420\\u0424, \\u0432\\u043d\\u0443\\u0442\\u0440\\u0435\\u043d\\u043d\\u0438\\u043c\\u0438 \\u0434\\u043e\\u043a\\u0443\\u043c\\u0435\\u043d\\u0442\\u0430\\u043c\\u0438 \\u041e\\u0431\\u0449\\u0435\\u0441\\u0442\\u0432\\u0430 \\u0438 \\u0440\\u0435\\u0448\\u0435\\u043d\\u0438\\u044f\\u043c\\u0438 \\u043e\\u0440\\u0433\\u0430\\u043d\\u043e\\u0432 \\u041e\\u0431\\u0449\\u0435\\u0441\\u0442\\u0432\\u0430. \\u041e\\u0431\\u0449\\u0435\\u0441\\u0442\\u0432\\u043e \\u043e\\u0431\\u044f\\u0437\\u0430\\u043d\\u043e \\u043f\\u043e \\u0442\\u0440\\u0435\\u0431\\u043e\\u0432\\u0430\\u043d\\u0438\\u044e \\u0423\\u0447\\u0430\\u0441\\u0442\\u043d\\u0438\\u043a\\u0430 \\u041e\\u0431\\u0449\\u0435\\u0441\\u0442\\u0432\\u0430 \\u043f\\u0440\\u0435\\u0434\\u043e\\u0441\\u0442\\u0430\\u0432\\u0438\\u0442\\u044c \\u0435\\u043c\\u0443 \\u0432 \\u043f\\u044f\\u0442\\u0438\\u0434\\u043d\\u0435\\u0432\\u043d\\u044b\\u0439 \\u0441\\u0440\\u043e\\u043a \\u043a\\u043e\\u043f\\u0438\\u0438 \\u0434\\u0435\\u0439\\u0441\\u0442\\u0432\\u0443\\u044e\\u0449\\u0435\\u0433\\u043e \\u0423\\u0441\\u0442\\u0430\\u0432\\u0430 \\u041e\\u0431\\u0449\\u0435\\u0441\\u0442\\u0432\\u0430. \\u041f\\u043b\\u0430\\u0442\\u0430, \\u0432\\u0437\\u0438\\u043c\\u0430\\u0435\\u043c\\u0430\\u044f \\u041e\\u0431\\u0449\\u0435\\u0441\\u0442\\u0432\\u043e\\u043c \\u0437\\u0430 \\u043f\\u0440\\u0435\\u0434\\u043e\\u0441\\u0442\\u0430\\u0432\\u043b\\u0435\\u043d\\u0438\\u0435 \\u043a\\u043e\\u043f\\u0438\\u0439, \\u043d\\u0435 \\u043c\\u043e\\u0436\\u0435\\u0442 \\u043f\\u0440\\u0435\\u0432\\u044b\\u0448\\u0430\\u0442\\u044c \\u0437\\u0430\\u0442\\u0440\\u0430\\u0442\\u044b \\u043d\\u0430 \\u0438\\u0445 \\u0438\\u0437\\u0433\\u043e\\u0442\\u043e\\u0432\\u043b\\u0435\\u043d\\u0438\\u0435.\\n1.9. \\u041e\\u0442\\u0432\\u0435\\u0442\\u0441\\u0442\\u0432\\u0435\\u043d\\u043d\\u044b\\u043c \\u0437\\u0430 \\u0445\\u0440\\u0430\\u043d\\u0435\\u043d\\u0438\\u0435 \\u0434\\u043e\\u043a\\u0443\\u043c\\u0435\\u043d\\u0442\\u043e\\u0432, \\u043f\\u0440\\u0435\\u0434\\u0443\\u0441\\u043c\\u043e\\u0442\\u0440\\u0435\\u043d\\u043d\\u044b\\u0445 \\u043f\\u0443\\u043d\\u043a\\u0442\\u043e\\u043c 1.7., \\u0430 \\u0442\\u0430\\u043a\\u0436\\u0435 \\u0437\\u0430 \\u043f\\u0440\\u0435\\u0434\\u043e\\u0441\\u0442\\u0430\\u0432\\u043b\\u0435\\u043d\\u0438\\u0435 \\u0434\\u043e\\u043a\\u0443\\u043c\\u0435\\u043d\\u0442\\u043e\\u0432 \\u0438 \\u0438\\u043d\\u0444\\u043e\\u0440\\u043c\\u0430\\u0446\\u0438\\u0438, \\u043f\\u0440\\u0435\\u0434\\u0443\\u0441\\u043c\\u043e\\u0442\\u0440\\u0435\\u043d\\u043d\\u044b\\u0445 \\u043f\\u0443\\u043d\\u043a\\u0442\\u043e\\u043c 1.8., \\u044f\\u0432\\u043b\\u044f\\u0435\\u0442\\u0441\\u044f \\u0413\\u0435\\u043d\\u0435\\u0440\\u0430\\u043b\\u044c\\u043d\\u044b\\u0439 \\u0434\\u0438\\u0440\\u0435\\u043a\\u0442\\u043e\\u0440 \\u041e\\u0431\\u0449\\u0435\\u0441\\u0442\\u0432\\u0430.\\n\\u0421 \\u0422 \\u0410 \\u0422 \\u042c \\u042f 2. \\u041fP\\u0415\\u0414\\u041c\\u0415\\u0422 \\u0418 \\u0426\\u0415\\u041b\\u0418 \\u0414\\u0415\\u042f\\u0422\\u0415\\u041b\\u042c\\u041d\\u041e\\u0421\\u0422\\u0418 \\u041e\\u0411\\u0429\\u0415\\u0421\\u0422\\u0412\\u0410\\n2.1. \\u041e\\u0431\\u0449\\u0435\\u0441\\u0442\\u0432\\u043e \\u0441\\u043e\\u0437\\u0434\\u0430\\u0435\\u0442\\u0441\\u044f \\u0432 \\u0446\\u0435\\u043b\\u044f\\u0445 \\u0432\\u0435\\u0434\\u0435\\u043d\\u0438\\u044f \\u043a\\u043e\\u043c\\u043c\\u0435\\u0440\\u0447\\u0435\\u0441\\u043a\\u043e\\u0439 \\u0434\\u0435\\u044f\\u0442\\u0435\\u043b\\u044c\\u043d\\u043e\\u0441\\u0442\\u0438, \\u043d\\u0430\\u043f\\u0440\\u0430\\u0432\\u043b\\u0435\\u043d\\u043d\\u043e\\u0439 \\u043d\\u0430 \\u043f\\u043e\\u043b\\u0443\\u0447\\u0435\\u043d\\u0438\\u0435 \\u043f\\u0440\\u0438\\u0431\\u044b\\u043b\\u0438 \\u0432 \\u043f\\u043e\\u0440\\u044f\\u0434\\u043a\\u0435 \\u0438 \\u043d\\u0430 \\u0443\\u0441\\u043b\\u043e\\u0432\\u0438\\u044f\\u0445, \\u043e\\u043f\\u0440\\u0435\\u0434\\u0435\\u043b\\u044f\\u0435\\u043c\\u044b\\u0445 \\u0434\\u0435\\u0439\\u0441\\u0442\\u0432\\u0443\\u044e\\u0449\\u0438\\u043c \\u0437\\u0430\\u043a\\u043e\\u043d\\u043e\\u0434\\u0430\\u0442\\u0435\\u043b\\u044c\\u0441\\u0442\\u0432\\u043e\\u043c.\\n2.2. \\u041e\\u0431\\u0449\\u0435\\u0441\\u0442\\u0432\\u043e \\u043e\\u0441\\u0443\\u0449\\u0435\\u0441\\u0442\\u0432\\u043b\\u044f\\u0435\\u0442 \\u0441\\u043b\\u0435\\u0434\\u0443\\u044e\\u0449\\u0438\\u0435 \\u043e\\u0441\\u043d\\u043e\\u0432\\u043d\\u044b\\u0435 \\u0432\\u0438\\u0434\\u044b \\u0434\\u0435\\u044f\\u0442\\u0435\\u043b\\u044c\\u043d\\u043e\\u0441\\u0442\\u0438:\\n\\u041e\\u043a\\u0430\\u0437\\u0430\\u043d\\u0438\\u0435 \\u0438\\u043d\\u0444\\u043e\\u0440\\u043c\\u0430\\u0446\\u0438\\u043e\\u043d\\u043d\\u044b\\u0445 \\u0443\\u0441\\u043b\\u0443\\u0433, \\u0440\\u0435\\u043a\\u043b\\u0430\\u043c\\u043d\\u0430\\u044f \\u0434\\u0435\\u044f\\u0442\\u0435\\u043b\\u044c\\u043d\\u043e\\u0441\\u0442\\u044c;\\n\\u00b7 \\u0436\\u0435\\u043b\\u0435\\u0437\\u043d\\u043e\\u0434\\u043e\\u0440\\u043e\\u0436\\u043d\\u044b\\u0435, \\u0430\\u0432\\u0442\\u043e\\u043c\\u043e\\u0431\\u0438\\u043b\\u044c\\u043d\\u044b\\u0435 \\u0442\\u0440\\u0430\\u043d\\u0441\\u043f\\u043e\\u0440\\u0442\\u043d\\u044b\\u0435 \\u043f\\u0435\\u0440\\u0435\\u0432\\u043e\\u0437\\u043a\\u0438;\\n\\u00b7 \\u0434\\u0435\\u044f\\u0442\\u0435\\u043b\\u044c\\u043d\\u043e\\u0441\\u0442\\u044c \\u043c\\u0430\\u0433\\u0438\\u0441\\u0442\\u0440\\u0430\\u043b\\u044c\\u043d\\u043e\\u0433\\u043e \\u043f\\u0430\\u0441\\u0441\\u0430\\u0436\\u0438\\u0440\\u0441\\u043a\\u043e\\u0433\\u043e \\u0436\\u0435\\u043b\\u0435\\u0437\\u043d\\u043e\\u0434\\u043e\\u0440\\u043e\\u0436\\u043d\\u043e\\u0433\\u043e \\u0442\\u0440\\u0430\\u043d\\u0441\\u043f\\u043e\\u0440\\u0442\\u0430;\\n\\u00b7 \\u0432\\u043d\\u0443\\u0442\\u0440\\u0438\\u0433\\u043e\\u0440\\u043e\\u0434\\u0441\\u043a\\u0438\\u0435 \\u0438 \\u043f\\u0440\\u0438\\u0433\\u043e\\u0440\\u043e\\u0434\\u043d\\u044b\\u0435 \\u043f\\u0430\\u0441\\u0441\\u0430\\u0436\\u0438\\u0440\\u0441\\u043a\\u0438\\u0435 \\u043f\\u0435\\u0440\\u0435\\u0432\\u043e\\u0437\\u043a\\u0438 \\u043f\\u043e \\u0436\\u0435\\u043b\\u0435\\u0437\\u043d\\u044b\\u043c \\u0434\\u043e\\u0440\\u043e\\u0433\\u0430\\u043c;\\n\\u00b7 \\u043c\\u0435\\u0436\\u0434\\u0443\\u0433\\u043e\\u0440\\u043e\\u0434\\u043d\\u044b\\u0435 \\u0438 \\u043c\\u0435\\u0436\\u0434\\u0443\\u043d\\u0430\\u0440\\u043e\\u0434\\u043d\\u044b\\u0435 \\u043f\\u0430\\u0441\\u0441\\u0430\\u0436\\u0438\\u0440\\u0441\\u043a\\u0438\\u0435 \\u043f\\u0435\\u0440\\u0435\\u0432\\u043e\\u0437\\u043a\\u0438 \\u043f\\u043e \\u0436\\u0435\\u043b\\u0435\\u0437\\u043d\\u044b\\u043c \\u0434\\u043e\\u0440\\u043e\\u0433\\u0430\\u043c;\\n\\u00b7 \\u043f\\u0435\\u0440\\u0435\\u0432\\u043e\\u0437\\u043a\\u0430 \\u043f\\u0440\\u0438\\u043d\\u0430\\u0434\\u043b\\u0435\\u0436\\u0430\\u0449\\u0435\\u0433\\u043e \\u043f\\u0430\\u0441\\u0441\\u0430\\u0436\\u0438\\u0440\\u0430\\u043c \\u0431\\u0430\\u0433\\u0430\\u0436\\u0430, \\u0436\\u0438\\u0432\\u043e\\u0442\\u043d\\u044b\\u0445;\\n\\u00b7 \\u043c\\u0435\\u0436\\u0434\\u0443\\u0433\\u043e\\u0440\\u043e\\u0434\\u043d\\u044b\\u0435 \\u0438 \\u043c\\u0435\\u0436\\u0434\\u0443\\u043d\\u0430\\u0440\\u043e\\u0434\\u043d\\u044b\\u0435 \\u043f\\u0435\\u0440\\u0435\\u0432\\u043e\\u0437\\u043a\\u0438 \\u043f\\u043e \\u0436\\u0435\\u043b\\u0435\\u0437\\u043d\\u044b\\u043c \\u0434\\u043e\\u0440\\u043e\\u0433\\u0430\\u043c \\u0440\\u0430\\u0437\\u043b\\u0438\\u0447\\u043d\\u044b\\u0445 \\u0433\\u0440\\u0443\\u0437\\u043e\\u0432;\\n\\u00b7 \\u0434\\u0435\\u044f\\u0442\\u0435\\u043b\\u044c\\u043d\\u043e\\u0441\\u0442\\u044c \\u0430\\u0432\\u0442\\u043e\\u043c\\u043e\\u0431\\u0438\\u043b\\u044c\\u043d\\u043e\\u0433\\u043e (\\u0430\\u0432\\u0442\\u043e\\u0431\\u0443\\u0441\\u043d\\u043e\\u0433\\u043e) \\u043f\\u0430\\u0441\\u0441\\u0430\\u0436\\u0438\\u0440\\u0441\\u043a\\u043e\\u0433\\u043e \\u0442\\u0440\\u0430\\u043d\\u0441\\u043f\\u043e\\u0440\\u0442\\u0430;\\n\\u00b7 \\u0432\\u043d\\u0443\\u0442\\u0440\\u0438\\u0433\\u043e\\u0440\\u043e\\u0434\\u0441\\u043a\\u0438\\u0435 \\u0430\\u0432\\u0442\\u043e\\u043c\\u043e\\u0431\\u0438\\u043b\\u044c\\u043d\\u044b\\u0435 (\\u0430\\u0432\\u0442\\u043e\\u0431\\u0443\\u0441\\u043d\\u044b\\u0435) \\u043f\\u0430\\u0441\\u0441\\u0430\\u0436\\u0438\\u0440\\u0441\\u043a\\u0438\\u0435 \\u043f\\u0435\\u0440\\u0435\\u0432\\u043e\\u0437\\u043a\\u0438;\\n\\u00b7 \\u043f\\u0440\\u0438\\u0433\\u043e\\u0440\\u043e\\u0434\\u043d\\u044b\\u0435 \\u0430\\u0432\\u0442\\u043e\\u043c\\u043e\\u0431\\u0438\\u043b\\u044c\\u043d\\u044b\\u0435(\\u0430\\u0432\\u0442\\u043e\\u0431\\u0443\\u0441\\u043d\\u044b\\u0435)\\u043f\\u0430\\u0441\\u0441\\u0430\\u0436\\u0438\\u0440\\u0441\\u043a\\u0438\\u0435 \\u043f\\u0435\\u0440\\u0435\\u0432\\u043e\\u0437\\u043a\\u0438;\\n\\u00b7 \\u043c\\u0435\\u0436\\u0434\\u0443\\u0433\\u043e\\u0440\\u043e\\u0434\\u043d\\u044b\\u0435 \\u0438 \\u043c\\u0435\\u0436\\u0434\\u0443\\u043d\\u0430\\u0440\\u043e\\u0434\\u043d\\u044b\\u0435 \\u0430\\u0432\\u0442\\u043e\\u043c\\u043e\\u0431\\u0438\\u043b\\u044c\\u043d\\u044b\\u0435(\\u0430\\u0432\\u0442\\u043e\\u0431\\u0443\\u0441\\u043d\\u044b\\u0435)\\u043f\\u0430\\u0441\\u0441\\u0430\\u0436\\u0438\\u0440\\u0441\\u043a\\u0438\\u0435 \\u043f\\u0435\\u0440\\u0435\\u0432\\u043e\\u0437\\u043a\\u0438;\\n\\u00b7 \\u043e\\u0440\\u0433\\u0430\\u043d\\u0438\\u0437\\u0430\\u0446\\u0438\\u044f \\u043f\\u0435\\u0440\\u0435\\u0432\\u043e\\u0437\\u043e\\u043a \\u0433\\u0440\\u0443\\u0437\\u043e\\u0432;\\n\\u00b7 \\u0433\\u0440\\u0443\\u0437\\u043e\\u0432\\u044b\\u0435 \\u043f\\u0435\\u0440\\u0435\\u0432\\u043e\\u0437\\u043a\\u0438 \\u0442\\u0440\\u0430\\u043d\\u0441\\u043f\\u043e\\u0440\\u0442\\u043d\\u044b\\u043c\\u0438 \\u0441\\u0440\\u0435\\u0434\\u0441\\u0442\\u0432\\u0430\\u043c\\u0438 \\u0441 \\u0436\\u0438\\u0432\\u043e\\u0439 \\u0442\\u044f\\u0433\\u043e\\u0439;\\n\\u00b7 \\u0442\\u0440\\u0430\\u043d\\u0441\\u043f\\u043e\\u0440\\u0442\\u043d\\u0430\\u044f \\u043e\\u0431\\u0440\\u0430\\u0431\\u043e\\u0442\\u043a\\u0430 \\u043a\\u043e\\u043d\\u0442\\u0435\\u0439\\u043d\\u0435\\u0440\\u043e\\u0432;\\n\\u00b7 \\u0445\\u0440\\u0430\\u043d\\u0435\\u043d\\u0438\\u0435 \\u0438 \\u0441\\u043a\\u043b\\u0430\\u0434\\u0438\\u0440\\u043e\\u0432\\u0430\\u043d\\u0438\\u0435;\\n\\u00b7 \\u0441\\u043a\\u043b\\u0430\\u0434\\u0441\\u043a\\u0438\\u0435 \\u043e\\u043f\\u0435\\u0440\\u0430\\u0446\\u0438\\u0438 \\u0432 \\u043c\\u043e\\u0440\\u0441\\u043a\\u0438\\u0445 \\u043f\\u043e\\u0440\\u0442\\u0430;\\n\\u00b7 \\u044d\\u043a\\u0441\\u043f\\u043b\\u0443\\u0430\\u0442\\u0430\\u0446\\u0438\\u044f \\u0433\\u0430\\u0440\\u0430\\u0436\\u0435\\u0439, \\u0441\\u0442\\u043e\\u044f\\u043d\\u043e\\u043a \\u0434\\u043b\\u044f \\u0430\\u0432\\u0442\\u043e\\u0442\\u0440\\u0430\\u043d\\u0441\\u043f\\u043e\\u0440\\u0442\\u043d\\u044b\\u0445 \\u0441\\u0440\\u0435\\u0434\\u0441\\u0442\\u0432, \\u0432\\u0435\\u043b\\u043e\\u0441\\u0438\\u043f\\u0435\\u0434\\u043e\\u0432 \\u0438 \\u0442.\\u043f.;\\n\\u00b7 \\u043f\\u0440\\u0435\\u0434\\u043e\\u0441\\u0442\\u0430\\u0432\\u043b\\u0435\\u043d\\u0438\\u0435 \\u0442\\u0443\\u0440\\u0438\\u0441\\u0442\\u0438\\u0447\\u0435\\u0441\\u043a\\u0438\\u0445 \\u044d\\u043a\\u0441\\u043a\\u0443\\u0440\\u0441\\u0438\\u043e\\u043d\\u043d\\u044b\\u0445 \\u0443\\u0441\\u043b\\u0443\\u0433\\n\\u00b7 \\u043f\\u0440\\u0435\\u0434\\u043e\\u0441\\u0442\\u0430\\u0432\\u043b\\u0435\\u043d\\u0438\\u0435 \\u0431\\u044b\\u0442\\u043e\\u0432\\u044b\\u0445 \\u0443\\u0441\\u043b\\u0443\\u0433;\\n\\u00b7 \\u043e\\u0440\\u0433\\u0430\\u043d\\u0438\\u0437\\u0430\\u0446\\u0438\\u044f \\u043a\\u0430\\u0444\\u0435, \\u0431\\u0430\\u0440\\u043e\\u0432, \\u0440\\u0435\\u0441\\u0442\\u043e\\u0440\\u0430\\u043d\\u043e\\u0432 \\u0438 \\u0434\\u0440\\u0443\\u0433\\u0438\\u0445 \\u043f\\u0440\\u0435\\u0434\\u043f\\u0440\\u0438\\u044f\\u0442\\u0438\\u0439 \\u043e\\u0431\\u0449\\u0435\\u0441\\u0442\\u0432\\u0435\\u043d\\u043d\\u043e\\u0433\\u043e \\u043f\\u0438\\u0442\\u0430\\u043d\\u0438\\u044f;\\n\\u00b7 \\u043e\\u043f\\u0442\\u043e\\u0432\\u0430\\u044f \\u0438 \\u0440\\u043e\\u0437\\u043d\\u0438\\u0447\\u043d\\u0430\\u044f \\u0442\\u043e\\u0440\\u0433\\u043e\\u0432\\u043b\\u044f \\u043d\\u0435\\u043f\\u0440\\u043e\\u0434\\u043e\\u0432\\u043e\\u043b\\u044c\\u0441\\u0442\\u0432\\u0435\\u043d\\u043d\\u044b\\u043c\\u0438 \\u0442\\u043e\\u0432\\u0430\\u0440\\u0430\\u043c\\u0438;\\n\\u00b7 \\u043f\\u043e\\u043b\\u0438\\u0433\\u0440\\u0430\\u0444\\u0438\\u0447\\u0435\\u0441\\u043a\\u0430\\u044f \\u0434\\u0435\\u044f\\u0442\\u0435\\u043b\\u044c\\u043d\\u043e\\u0441\\u0442\\u044c;\\n\\u00b7 \\u043f\\u0440\\u043e\\u0432\\u0435\\u0434\\u0435\\u043d\\u0438\\u0435 \\u043d\\u0435\\u0437\\u0430\\u0432\\u0438\\u0441\\u0438\\u043c\\u044b\\u0445 \\u043a\\u043e\\u043d\\u0441\\u0443\\u043b\\u044c\\u0442\\u0430\\u0446\\u0438\\u0439, \\u0430\\u0442\\u0442\\u0435\\u0441\\u0442\\u0430\\u0446\\u0438\\u0439, \\u044d\\u043a\\u0441\\u043f\\u0435\\u0440\\u0442\\u0438\\u0437 \\u0440\\u0430\\u0437\\u043b\\u0438\\u0447\\u043d\\u044b\\u0445 \\u0432\\u0438\\u0434\\u043e\\u0432 \\u0434\\u0435\\u044f\\u0442\\u0435\\u043b\\u044c\\u043d\\u043e\\u0441\\u0442\\u0438, \\u0440\\u0430\\u0431\\u043e\\u0442 \\u0438 \\u043c\\u0435\\u0436\\u0434\\u0443\\u043d\\u0430\\u0440\\u043e\\u0434\\u043d\\u044b\\u0445 \\u043f\\u0440\\u043e\\u0435\\u043a\\u0442\\u043e\\u0432;\\n\\u00b7 \\u043d\\u0430\\u0443\\u0447\\u043d\\u043e-\\u0438\\u0441\\u0441\\u043b\\u0435\\u0434\\u043e\\u0432\\u0430\\u0442\\u0435\\u043b\\u044c\\u0441\\u043a\\u0430\\u044f \\u0438 \\u0432\\u043d\\u0435\\u0434\\u0440\\u0435\\u043d\\u0447\\u0435\\u0441\\u043a\\u0430\\u044f \\u0434\\u0435\\u044f\\u0442\\u0435\\u043b\\u044c\\u043d\\u043e\\u0441\\u0442\\u044c \\u0432 \\u043e\\u0431\\u043b\\u0430\\u0441\\u0442\\u0438 \\u043c\\u0435\\u0436\\u0434\\u0443\\u043d\\u0430\\u0440\\u043e\\u0434\\u043d\\u044b\\u0445 \\u044d\\u043a\\u043e\\u043d\\u043e\\u043c\\u0438\\u0447\\u0435\\u0441\\u043a\\u0438\\u0445 \\u043e\\u0442\\u043d\\u043e\\u0448\\u0435\\u043d\\u0438\\u0439, \\u0432\\u043d\\u0435\\u0448\\u043d\\u0435\\u044d\\u043a\\u043e\\u043d\\u043e\\u043c\\u0438\\u0447\\u0435\\u0441\\u043a\\u043e\\u0439 \\u0434\\u0435\\u044f\\u0442\\u0435\\u043b\\u044c\\u043d\\u043e\\u0441\\u0442\\u0438, \\u043c\\u0435\\u0436\\u0434\\u0443\\u043d\\u0430\\u0440\\u043e\\u0434\\u043d\\u044b\\u0445 \\u0432\\u0430\\u043b\\u044e\\u0442\\u043d\\u044b\\u0445 \\u0438 \\u043a\\u0440\\u0435\\u0434\\u0438\\u0442\\u043d\\u044b\\u0445 \\u043e\\u0442\\u043d\\u043e\\u0448\\u0435\\u043d\\u0438\\u0439, \\u0431\\u0430\\u043d\\u043a\\u043e\\u0432\\u0441\\u043a\\u043e\\u0439 \\u0434\\u0435\\u044f\\u0442\\u0435\\u043b\\u044c\\u043d\\u043e\\u0441\\u0442\\u0438;\\n\\u00b7 \\u043e\\u0440\\u0433\\u0430\\u043d\\u0438\\u0437\\u0430\\u0446\\u0438\\u044f \\u043e\\u043f\\u0442\\u043e\\u0432\\u043e\\u0439 \\u0438 \\u0440\\u043e\\u0437\\u043d\\u0438\\u0447\\u043d\\u043e\\u0439 \\u0442\\u043e\\u0440\\u0433\\u043e\\u0432\\u043b\\u0438 \\u043f\\u0440\\u043e\\u043c\\u044b\\u0448\\u043b\\u0435\\u043d\\u043d\\u044b\\u043c\\u0438 \\u0442\\u043e\\u0432\\u0430\\u0440\\u0430\\u043c\\u0438, \\u0442\\u043e\\u0432\\u0430\\u0440\\u0430\\u043c\\u0438 \\u043f\\u0440\\u043e\\u0438\\u0437\\u0432\\u043e\\u0434\\u0441\\u0442\\u0432\\u0435\\u043d\\u043d\\u043e-\\u0442\\u0435\\u0445\\u043d\\u0438\\u0447\\u0435\\u0441\\u043a\\u043e\\u0433\\u043e \\u043d\\u0430\\u0437\\u043d\\u0430\\u0447\\u0435\\u043d\\u0438\\u044f \\u0438 \\u043d\\u0430\\u0440\\u043e\\u0434\\u043d\\u043e\\u0433\\u043e \\u043f\\u043e\\u0442\\u0440\\u0435\\u0431\\u043b\\u0435\\u043d\\u0438\\u044f, \\u0440\\u0430\\u0437\\u043b\\u0438\\u0447\\u043d\\u043e\\u0439 \\u043f\\u0440\\u043e\\u0434\\u0443\\u043a\\u0446\\u0438\\u0435\\u0439 \\u043c\\u0435\\u0434\\u0438\\u0446\\u0438\\u043d\\u0441\\u043a\\u043e\\u0433\\u043e \\u043d\\u0430\\u0437\\u043d\\u0430\\u0447\\u0435\\u043d\\u0438\\u044f, \\u0430 \\u0442\\u0430\\u043a\\u0436\\u0435 \\u043f\\u0440\\u043e\\u0434\\u043e\\u0432\\u043e\\u043b\\u044c\\u0441\\u0442\\u0432\\u0435\\u043d\\u043d\\u044b\\u043c\\u0438 \\u0442\\u043e\\u0432\\u0430\\u0440\\u0430\\u043c\\u0438 \\u0438 \\u0441\\u0435\\u043b\\u044c\\u0441\\u043a\\u043e\\u0445\\u043e\\u0437\\u044f\\u0439\\u0441\\u0442\\u0432\\u0435\\u043d\\u043d\\u043e\\u0439 \\u043f\\u0440\\u043e\\u0434\\u0443\\u043a\\u0446\\u0438\\u0435\\u0439, \\u0432 \\u0442\\u043e\\u043c \\u0447\\u0438\\u0441\\u043b\\u0435 \\u0438 \\u043d\\u0430 \\u0443\\u0441\\u043b\\u043e\\u0432\\u0438\\u044f\\u0445 \\u043a\\u043e\\u043c\\u0438\\u0441\\u0441\\u0438\\u0438, \\u0432 \\u0441\\u0442\\u0440\\u0430\\u043d\\u0435 \\u0438 \\u0437\\u0430 \\u0440\\u0443\\u0431\\u0435\\u0436\\u043e\\u043c;\\n\\u00b7 \\u043e\\u043f\\u0442\\u043e\\u0432\\u0430\\u044f \\u0438 \\u0440\\u043e\\u0437\\u043d\\u0438\\u0447\\u043d\\u0430\\u044f \\u0442\\u043e\\u0440\\u0433\\u043e\\u0432\\u043b\\u044f \\u043b\\u0435\\u0441\\u043e\\u043c\\u0430\\u0442\\u0435\\u0440\\u0438\\u0430\\u043b\\u0430\\u043c\\u0438 \\u0438 \\u0441\\u0442\\u0440\\u043e\\u0438\\u0442\\u0435\\u043b\\u044c\\u043d\\u044b\\u043c\\u0438 \\u043c\\u0430\\u0442\\u0435\\u0440\\u0438\\u0430\\u043b\\u0430\\u043c\\u0438;\\n\\u00b7 \\u043e\\u0441\\u0443\\u0449\\u0435\\u0441\\u0442\\u0432\\u043b\\u0435\\u043d\\u0438\\u0435 \\u043e\\u043f\\u0435\\u0440\\u0430\\u0446\\u0438\\u0439 \\u043f\\u043e \\u044d\\u043a\\u0441\\u043f\\u043e\\u0440\\u0442\\u0443 \\u0438 \\u0438\\u043c\\u043f\\u043e\\u0440\\u0442\\u0443 \\u0442\\u043e\\u0432\\u0430\\u0440\\u043e\\u0432 \\u043f\\u0440\\u043e\\u0438\\u0437\\u0432\\u043e\\u0434\\u0441\\u0442\\u0432\\u0435\\u043d\\u043d\\u043e-\\u0442\\u0435\\u0445\\u043d\\u0438\\u0447\\u0435\\u0441\\u043a\\u043e\\u0433\\u043e \\u043d\\u0430\\u0437\\u043d\\u0430\\u0447\\u0435\\u043d\\u0438\\u044f \\u0438 \\u043d\\u0430\\u0440\\u043e\\u0434\\u043d\\u043e\\u0433\\u043e \\u043f\\u043e\\u0442\\u0440\\u0435\\u0431\\u043b\\u0435\\u043d\\u0438\\u044f, \\u043d\\u0430\\u0443\\u0447\\u043d\\u043e-\\u0442\\u0435\\u0445\\u043d\\u0438\\u0447\\u0435\\u0441\\u043a\\u0438\\u0445 \\u0437\\u043d\\u0430\\u043d\\u0438\\u0439 \\u0438 \\u0443\\u0441\\u043b\\u0443\\u0433;\\n\\u00b7 \\u0442\\u043e\\u0440\\u0433\\u043e\\u0432\\u043b\\u044f \\u0433\\u043e\\u0440\\u044e\\u0447\\u0435-\\u0441\\u043c\\u0430\\u0437\\u043e\\u0447\\u043d\\u044b\\u043c\\u0438 \\u043c\\u0430\\u0442\\u0435\\u0440\\u0438\\u0430\\u043b\\u0430\\u043c\\u0438;\\n\\u00b7 \\u043e\\u0440\\u0433\\u0430\\u043d\\u0438\\u0437\\u0430\\u0446\\u0438\\u044f \\u0441\\u0435\\u0442\\u0438 \\u0430\\u0432\\u0442\\u043e\\u0437\\u0430\\u043f\\u0440\\u0430\\u0432\\u043e\\u0447\\u043d\\u044b\\u0445 \\u0441\\u0442\\u0430\\u043d\\u0446\\u0438\\u0439;\\n\\u00b7 \\u043e\\u0440\\u0433\\u0430\\u043d\\u0438\\u0437\\u0430\\u0446\\u0438\\u044f \\u0438 \\u044d\\u043a\\u0441\\u043f\\u043b\\u0443\\u0430\\u0442\\u0430\\u0446\\u0438\\u044f \\u0441\\u0442\\u0430\\u043d\\u0446\\u0438\\u0439 \\u0430\\u0432\\u0442\\u043e\\u0441\\u0435\\u0440\\u0432\\u0438\\u0441\\u0430, \\u043f\\u0440\\u0438\\u043e\\u0431\\u0440\\u0435\\u0442\\u0435\\u043d\\u0438\\u0435 \\u043d\\u043e\\u0432\\u044b\\u0445 \\u0438 \\u0431\\u044b\\u0432\\u0448\\u0438\\u0445 \\u0432 \\u0443\\u043f\\u043e\\u0442\\u0440\\u0435\\u0431\\u043b\\u0435\\u043d\\u0438\\u0435 \\u0437\\u0430\\u043f\\u0447\\u0430\\u0441\\u0442\\u0435\\u0439 \\u0438 \\u0430\\u0432\\u0442\\u043e\\u043c\\u043e\\u0431\\u0438\\u043b\\u0435\\u0439 \\u043e\\u0442\\u0435\\u0447\\u0435\\u0441\\u0442\\u0432\\u0435\\u043d\\u043d\\u043e\\u0433\\u043e \\u0438 \\u0437\\u0430\\u0440\\u0443\\u0431\\u0435\\u0436\\u043d\\u043e\\u0433\\u043e \\u043f\\u0440\\u043e\\u0438\\u0437\\u0432\\u043e\\u0434\\u0441\\u0442\\u0432\\u0430 \\u0438 \\u0438\\u0445 \\u0440\\u0435\\u0430\\u043b\\u0438\\u0437\\u0430\\u0446\\u0438\\u044f;\\n\\u00b7 \\u043a\\u043e\\u043d\\u0441\\u0430\\u043b\\u0442\\u0438\\u043d\\u0433\\u043e\\u0432\\u044b\\u0435 \\u0438 \\u0438\\u043d\\u0444\\u043e\\u0440\\u043c\\u0430\\u0446\\u0438\\u043e\\u043d\\u043d\\u044b\\u0435 \\u0443\\u0441\\u043b\\u0443\\u0433\\u0438 \\u0432 \\u0440\\u0430\\u0437\\u043b\\u0438\\u0447\\u043d\\u044b\\u0445 \\u043e\\u0431\\u043b\\u0430\\u0441\\u0442\\u044f\\u0445;\\n\\u00b7 \\u0437\\u0430\\u043a\\u0443\\u043f\\u043a\\u0430, \\u043f\\u0440\\u043e\\u0438\\u0437\\u0432\\u043e\\u0434\\u0441\\u0442\\u0432\\u043e, \\u043f\\u0435\\u0440\\u0435\\u0440\\u0430\\u0431\\u043e\\u0442\\u043a\\u0430 \\u0438 \\u0440\\u0435\\u0430\\u043b\\u0438\\u0437\\u0430\\u0446\\u0438\\u044f \\u0441\\u0435\\u043b\\u044c\\u0441\\u043a\\u043e\\u0445\\u043e\\u0437\\u044f\\u0439\\u0441\\u0442\\u0432\\u0435\\u043d\\u043d\\u043e\\u0439 \\u043f\\u0440\\u043e\\u0434\\u0443\\u043a\\u0446\\u0438\\u0438;\\n\\u00b7 \\u0437\\u0430\\u043a\\u0443\\u043f\\u043a\\u0430, \\u043f\\u0440\\u043e\\u0438\\u0437\\u0432\\u043e\\u0434\\u0441\\u0442\\u0432\\u043e \\u0438 \\u0440\\u0435\\u0430\\u043b\\u0438\\u0437\\u0430\\u0446\\u0438\\u044f \\u043f\\u0440\\u043e\\u0434\\u043e\\u0432\\u043e\\u043b\\u044c\\u0441\\u0442\\u0432\\u0435\\u043d\\u043d\\u044b\\u0445 \\u0442\\u043e\\u0432\\u0430\\u0440\\u043e\\u0432 \\u0438 \\u0434\\u0440. \\u043f\\u0438\\u0449\\u0435\\u0432\\u043e\\u0439 \\u043f\\u0440\\u043e\\u0434\\u0443\\u043a\\u0446\\u0438\\u0438;\\n\\u00b7 c\\u0442\\u0440\\u043e\\u0438\\u0442\\u0435\\u043b\\u044c\\u043d\\u043e - \\u043c\\u043e\\u043d\\u0442\\u0430\\u0436\\u043d\\u044b\\u0435 \\u0440\\u0430\\u0431\\u043e\\u0442\\u044b;\\n\\u00b7 \\u043f\\u0440\\u043e\\u0438\\u0437\\u0432\\u043e\\u0434\\u0441\\u0442\\u0432\\u043e \\u0438 \\u0440\\u0435\\u0430\\u043b\\u0438\\u0437\\u0430\\u0446\\u0438\\u044f \\u0441\\u0442\\u0440\\u043e\\u0438\\u0442\\u0435\\u043b\\u044c\\u043d\\u044b\\u0445 \\u043c\\u0430\\u0442\\u0435\\u0440\\u0438\\u0430\\u043b\\u043e\\u0432;\\n\\u00b7 \\u043f\\u0440\\u043e\\u0435\\u043a\\u0442\\u0438\\u0440\\u043e\\u0432\\u0430\\u043d\\u0438\\u0435, \\u0441\\u0442\\u0440\\u043e\\u0438\\u0442\\u0435\\u043b\\u044c\\u0441\\u0442\\u0432\\u043e, \\u0440\\u0435\\u043c\\u043e\\u043d\\u0442, \\u0440\\u0435\\u0441\\u0442\\u0430\\u0432\\u0440\\u0430\\u0446\\u0438\\u044f \\u0438 \\u044d\\u043a\\u0441\\u043f\\u043b\\u0443\\u0430\\u0442\\u0430\\u0446\\u0438\\u044f \\u0437\\u0434\\u0430\\u043d\\u0438\\u0439 \\u0438 \\u043f\\u043e\\u043c\\u0435\\u0449\\u0435\\u043d\\u0438\\u0439;\\n\\u00b7 \\u0440\\u0430\\u0437\\u0440\\u0430\\u0431\\u043e\\u0442\\u043a\\u0430 \\u043f\\u0440\\u043e\\u0435\\u043a\\u0442\\u043d\\u043e-\\u0441\\u043c\\u0435\\u0442\\u043d\\u043e\\u0439, \\u043a\\u043e\\u043d\\u0441\\u0442\\u0440\\u0443\\u043a\\u0442\\u043e\\u0440\\u0441\\u043a\\u043e\\u0439 \\u0438 \\u0442\\u0435\\u0445\\u043d\\u0438\\u0447\\u0435\\u0441\\u043a\\u043e\\u0439 \\u0434\\u043e\\u043a\\u0443\\u043c\\u0435\\u043d\\u0442\\u0430\\u0446\\u0438\\u0438;\\n\\u00b7 \\u0441\\u043e\\u0437\\u0434\\u0430\\u043d\\u0438\\u0435, \\u0438\\u0437\\u0443\\u0447\\u0435\\u043d\\u0438\\u0435, \\u043f\\u0440\\u0438\\u043e\\u0431\\u0440\\u0435\\u0442\\u0435\\u043d\\u0438\\u0435, \\u0440\\u0435\\u0430\\u043b\\u0438\\u0437\\u0430\\u0446\\u0438\\u044f \\u043f\\u0440\\u043e\\u0438\\u0437\\u0432\\u0435\\u0434\\u0435\\u043d\\u0438\\u0439 \\u0438\\u0441\\u043a\\u0443\\u0441\\u0441\\u0442\\u0432\\u0430 \\u0438 \\u043e\\u0440\\u0438\\u0433\\u0438\\u043d\\u0430\\u043b\\u044c\\u043d\\u044b\\u0445 \\u0442\\u0432\\u043e\\u0440\\u0447\\u0435\\u0441\\u043a\\u0438\\u0445 \\u043d\\u043e\\u0432\\u043e\\u0432\\u0432\\u0435\\u0434\\u0435\\u043d\\u0438\\u0439;\\n\\u00b7 \\u043f\\u043e\\u043a\\u0443\\u043f\\u043a\\u0430, \\u043f\\u0440\\u043e\\u0434\\u0430\\u0436\\u0430 \\u0438 \\u043e\\u0431\\u043c\\u0435\\u043d \\u043a\\u043e\\u043c\\u043d\\u0430\\u0442, \\u043a\\u0432\\u0430\\u0440\\u0442\\u0438\\u0440, \\u0434\\u043e\\u043c\\u043e\\u0432, \\u0434\\u0430\\u0447, \\u0434\\u0430\\u0447\\u043d\\u044b\\u0445 \\u0438 \\u0441\\u0430\\u0434\\u043e\\u0432\\u044b\\u0445 \\u0443\\u0447\\u0430\\u0441\\u0442\\u043a\\u043e\\u0432, \\u0442\\u0440\\u0430\\u043d\\u0441\\u043f\\u043e\\u0440\\u0442\\u043d\\u044b\\u0435 \\u0443\\u0441\\u043b\\u0443\\u0433\\u0438 \\u043f\\u0440\\u0438 \\u043f\\u0435\\u0440\\u0435\\u0435\\u0437\\u0434\\u0430\\u0445, \\u043a\\u043e\\u043d\\u0441\\u0443\\u043b\\u044c\\u0442\\u0430\\u0446\\u0438\\u0438 \\u043f\\u043e \\u043e\\u0431\\u043c\\u0435\\u043d\\u0443, \\u043f\\u043e\\u0434\\u0431\\u043e\\u0440 \\u0432\\u0430\\u0440\\u0438\\u0430\\u043d\\u0442\\u043e\\u0432 \\u043e\\u0431\\u043c\\u0435\\u043d\\u0438\\u0432\\u0430\\u044e\\u0449\\u0438\\u0445\\u0441\\u044f \\u0441\\u0442\\u043e\\u0440\\u043e\\u043d;\\n\\u00b7 \\u043f\\u0440\\u043e\\u0432\\u0435\\u0434\\u0435\\u043d\\u0438\\u0435 \\u043f\\u0430\\u0442\\u0435\\u043d\\u0442\\u043d\\u044b\\u0445 \\u0438\\u0441\\u0441\\u043b\\u0435\\u0434\\u043e\\u0432\\u0430\\u043d\\u0438\\u0439, \\u043f\\u0440\\u0438\\u043e\\u0431\\u0440\\u0435\\u0442\\u0435\\u043d\\u0438\\u0435 \\u0438 \\u043f\\u0440\\u043e\\u0434\\u0430\\u0436\\u0430 \\u00ab\\u043d\\u043e\\u0443-\\u0445\\u0430\\u0443\\u00bb;\\n\\u00b7 \\u043e\\u0440\\u0433\\u0430\\u043d\\u0438\\u0437\\u0430\\u0446\\u0438\\u044f \\u0443\\u0447\\u0435\\u0431\\u043d\\u043e\\u0433\\u043e \\u043f\\u0440\\u043e\\u0446\\u0435\\u0441\\u0441\\u0430 \\u043f\\u043e \\u043f\\u043e\\u0434\\u0433\\u043e\\u0442\\u043e\\u0432\\u043a\\u0435 \\u0438 \\u043f\\u043e\\u0432\\u044b\\u0448\\u0435\\u043d\\u0438\\u044e \\u043a\\u0432\\u0430\\u043b\\u0438\\u0444\\u0438\\u043a\\u0430\\u0446\\u0438\\u0438 \\u043a\\u0430\\u0434\\u0440\\u043e\\u0432, \\u0432 \\u0442\\u043e\\u043c \\u0447\\u0438\\u0441\\u043b\\u0435 \\u0437\\u0430 \\u0440\\u0443\\u0431\\u0435\\u0436\\u043e\\u043c;\\n\\u00b7 \\u0445\\u0443\\u0434\\u043e\\u0436\\u0435\\u0441\\u0442\\u0432\\u0435\\u043d\\u043d\\u043e-\\u043e\\u0444\\u043e\\u0440\\u043c\\u0438\\u0442\\u0435\\u043b\\u044c\\u0441\\u043a\\u0438\\u0435 \\u0440\\u0430\\u0431\\u043e\\u0442\\u044b, \\u0432 \\u0442\\u043e\\u043c \\u0447\\u0438\\u0441\\u043b\\u0435 \\u0432\\u0435\\u0431-\\u0434\\u0438\\u0437\\u0430\\u0439\\u043d;\\n\\u00b7 \\u0440\\u0435\\u0434\\u0430\\u043a\\u0446\\u0438\\u043e\\u043d\\u043d\\u043e-\\u0438\\u0437\\u0434\\u0430\\u0442\\u0435\\u043b\\u044c\\u0441\\u043a\\u0430\\u044f \\u0434\\u0435\\u044f\\u0442\\u0435\\u043b\\u044c\\u043d\\u043e\\u0441\\u0442\\u044c, \\u0432 \\u0442\\u043e\\u043c \\u0447\\u0438\\u0441\\u043b\\u0435 \\u043b\\u0438\\u0442\\u0435\\u0440\\u0430\\u0442\\u0443\\u0440\\u043d\\u0430\\u044f \\u043e\\u0431\\u0440\\u0430\\u0431\\u043e\\u0442\\u043a\\u0430, \\u043f\\u043e\\u0434\\u0433\\u043e\\u0442\\u043e\\u0432\\u043a\\u0430 \\u0442\\u0435\\u043a\\u0441\\u0442\\u043e\\u0432, \\u0440\\u0430\\u0431\\u043e\\u0442\\u0430 \\u0441 \\u0430\\u0432\\u0442\\u043e\\u0440\\u0430\\u043c\\u0438, \\u0438\\u0437\\u0434\\u0430\\u0442\\u0435\\u043b\\u044c\\u0441\\u0442\\u0432\\u0430\\u043c\\u0438, \\u0442\\u0438\\u043f\\u043e\\u0433\\u0440\\u0430\\u0444\\u0438\\u044f\\u043c\\u0438, \\u0432\\u044b\\u043f\\u0443\\u0441\\u043a \\u043a\\u043d\\u0438\\u0436\\u043d\\u043e\\u0439 \\u0438 \\u0438\\u043d\\u043e\\u0439 \\u043f\\u0435\\u0447\\u0430\\u0442\\u043d\\u043e\\u0439 \\u043f\\u0440\\u043e\\u0434\\u0443\\u043a\\u0446\\u0438\\u0438;\\n\\u00b7 \\u0438\\u043d\\u0444\\u043e\\u0440\\u043c\\u0430\\u0446\\u0438\\u043e\\u043d\\u043d\\u043e-\\u0432\\u044b\\u0447\\u0438\\u0441\\u043b\\u0438\\u0442\\u0435\\u043b\\u044c\\u043d\\u043e\\u0435 \\u043e\\u0431\\u0441\\u043b\\u0443\\u0436\\u0438\\u0432\\u0430\\u043d\\u0438\\u0435;\\n\\u00b7 \\u0431\\u043b\\u0430\\u0433\\u043e\\u0443\\u0441\\u0442\\u0440\\u043e\\u0439\\u0441\\u0442\\u0432\\u043e \\u0442\\u0435\\u0440\\u0440\\u0438\\u0442\\u043e\\u0440\\u0438\\u0439;\\n\\u00b7 \\u043e\\u0440\\u0433\\u0430\\u043d\\u0438\\u0437\\u0430\\u0446\\u0438\\u044f \\u0438 \\u043e\\u0441\\u0443\\u0449\\u0435\\u0441\\u0442\\u0432\\u043b\\u0435\\u043d\\u0438\\u0435 \\u0432\\u0441\\u0435\\u0445 \\u0432\\u0438\\u0434\\u043e\\u0432 \\u0442\\u0440\\u0430\\u043d\\u0441\\u043f\\u043e\\u0440\\u0442\\u043d\\u044b\\u0445 \\u0443\\u0441\\u043b\\u0443\\u0433 \\u0433\\u0440\\u0430\\u0436\\u0434\\u0430\\u043d\\u0430\\u043c, \\u043f\\u0440\\u0435\\u0434\\u043f\\u0440\\u0438\\u044f\\u0442\\u0438\\u044f\\u043c \\u0438 \\u043e\\u0440\\u0433\\u0430\\u043d\\u0438\\u0437\\u0430\\u0446\\u0438\\u044f\\u043c \\u043d\\u0430 \\u0442\\u0435\\u0440\\u0440\\u0438\\u0442\\u043e\\u0440\\u0438\\u0438 \\u0420\\u043e\\u0441\\u0441\\u0438\\u0438 \\u0438 \\u0437\\u0430 \\u0440\\u0443\\u0431\\u0435\\u0436\\u043e\\u043c \\u0432 \\u0441\\u043e\\u043e\\u0442\\u0432\\u0435\\u0442\\u0441\\u0442\\u0432\\u0438\\u0438 \\u0441 \\u0434\\u0435\\u0439\\u0441\\u0442\\u0432\\u0443\\u044e\\u0449\\u0438\\u043c \\u0437\\u0430\\u043a\\u043e\\u043d\\u043e\\u0434\\u0430\\u0442\\u0435\\u043b\\u044c\\u0441\\u0442\\u0432\\u043e\\u043c;\\n\\u00b7 \\u0440\\u0435\\u043a\\u043b\\u0430\\u043c\\u043d\\u043e-\\u043f\\u0440\\u0435\\u0434\\u0441\\u0442\\u0430\\u0432\\u0438\\u0442\\u0435\\u043b\\u044c\\u0441\\u043a\\u0438\\u0435 \\u0443\\u0441\\u043b\\u0443\\u0433\\u0438;\\n\\u00b7 \\u0440\\u0430\\u0437\\u0440\\u0430\\u0431\\u043e\\u0442\\u043a\\u0430 \\u0438 \\u0440\\u0435\\u0430\\u043b\\u0438\\u0437\\u0430\\u0446\\u0438\\u044f \\u043a\\u043e\\u043c\\u043f\\u044c\\u044e\\u0442\\u0435\\u0440\\u043d\\u044b\\u0445 \\u0441\\u0438\\u0441\\u0442\\u0435\\u043c \\u043f\\u0435\\u0440\\u0435\\u0434\\u0430\\u0447\\u0438 \\u0438 \\u043e\\u0431\\u043c\\u0435\\u043d\\u0430 \\u0438\\u043d\\u0444\\u043e\\u0440\\u043c\\u0430\\u0446\\u0438\\u0435\\u0439;\\n\\u00b7 \\u0441\\u0435\\u0440\\u0432\\u0438\\u0441\\u043d\\u043e\\u0435 \\u043e\\u0431\\u0441\\u043b\\u0443\\u0436\\u0438\\u0432\\u0430\\u043d\\u0438\\u0435, \\u0440\\u0435\\u043c\\u043e\\u043d\\u0442, \\u043f\\u0443\\u0441\\u043a\\u043e\\u043d\\u0430\\u043b\\u0430\\u0434\\u043e\\u0447\\u043d\\u044b\\u0435 \\u0440\\u0430\\u0431\\u043e\\u0442\\u044b \\u0432 \\u043e\\u0431\\u043b\\u0430\\u0441\\u0442\\u0438 \\u043a\\u043e\\u043c\\u043f\\u044c\\u044e\\u0442\\u0435\\u0440\\u043d\\u043e\\u0439 \\u0438 \\u0432\\u044b\\u0447\\u0438\\u0441\\u043b\\u0438\\u0442\\u0435\\u043b\\u044c\\u043d\\u043e\\u0439 \\u0442\\u0435\\u0445\\u043d\\u0438\\u043a\\u0438;\\n\\u00b7 \\u0440\\u0435\\u0430\\u043b\\u0438\\u0437\\u0430\\u0446\\u0438\\u044f \\u043a\\u043e\\u043c\\u043f\\u044c\\u044e\\u0442\\u0435\\u0440\\u043d\\u044b\\u0445 \\u0432\\u044b\\u0447\\u0438\\u0441\\u043b\\u0438\\u0442\\u0435\\u043b\\u044c\\u043d\\u044b\\u0445 \\u043a\\u043e\\u043c\\u043f\\u043b\\u0435\\u043a\\u0441\\u043e\\u0432 \\u0438 \\u0438\\u0445 \\u043a\\u043e\\u043c\\u043f\\u043b\\u0435\\u043a\\u0442\\u0443\\u044e\\u0449\\u0438\\u0445;\\n\\u00b7 \\u0438\\u043d\\u0444\\u043e\\u0440\\u043c\\u0430\\u0446\\u0438\\u043e\\u043d\\u043d\\u043e-\\u0441\\u043f\\u0440\\u0430\\u0432\\u043e\\u0447\\u043d\\u043e\\u0435 \\u043e\\u0431\\u0441\\u043b\\u0443\\u0436\\u0438\\u0432\\u0430\\u043d\\u0438\\u0435 \\u043f\\u043e \\u0437\\u0430\\u043f\\u0440\\u043e\\u0441\\u0430\\u043c \\u043f\\u0440\\u0435\\u0434\\u043f\\u0440\\u0438\\u044f\\u0442\\u0438\\u0439, \\u043e\\u0440\\u0433\\u0430\\u043d\\u0438\\u0437\\u0430\\u0446\\u0438\\u0439 \\u0438 \\u043e\\u0442\\u0434\\u0435\\u043b\\u044c\\u043d\\u044b\\u0445 \\u043b\\u0438\\u0446 \\u0432 \\u0432\\u0438\\u0434\\u0435 \\u0444\\u0430\\u043a\\u0442\\u043e\\u0433\\u0440\\u0430\\u0444\\u0438\\u0447\\u0435\\u0441\\u043a\\u0438\\u0445 \\u0434\\u043e\\u043a\\u0443\\u043c\\u0435\\u043d\\u0442\\u0430\\u043b\\u044c\\u043d\\u044b\\u0445 \\u043f\\u043e\\u0434\\u0431\\u043e\\u0440\\u043e\\u043a, \\u043e\\u0431\\u0437\\u043e\\u0440\\u043e\\u0432 \\u0438 \\u043e\\u043f\\u0435\\u0440\\u0430\\u0442\\u0438\\u0432\\u043d\\u044b\\u0445 \\u0441\\u043f\\u0440\\u0430\\u0432\\u043e\\u043a;\\n\\u00b7 \\u0431\\u0430\\u0440\\u0442\\u0435\\u0440\\u043d\\u044b\\u0435 \\u043e\\u043f\\u0435\\u0440\\u0430\\u0446\\u0438\\u0438;\\n\\u00b7 \\u0430\\u0440\\u0435\\u043d\\u0434\\u0430, \\u043f\\u0440\\u0438\\u043e\\u0431\\u0440\\u0435\\u0442\\u0435\\u043d\\u0438\\u0435 \\u0442\\u043e\\u0440\\u0433\\u043e\\u0432\\u044b\\u0445, \\u0441\\u043a\\u043b\\u0430\\u0434\\u0441\\u043a\\u0438\\u0445, \\u043f\\u0440\\u043e\\u0438\\u0437\\u0432\\u043e\\u0434\\u0441\\u0442\\u0432\\u0435\\u043d\\u043d\\u044b\\u0445 \\u0438 \\u0438\\u043d\\u044b\\u0445 \\u043f\\u043e\\u043c\\u0435\\u0449\\u0435\\u043d\\u0438\\u0439, \\u0437\\u0434\\u0430\\u043d\\u0438\\u0439, \\u043e\\u0431\\u043e\\u0440\\u0443\\u0434\\u043e\\u0432\\u0430\\u043d\\u0438\\u044f, \\u043d\\u0435\\u043e\\u0431\\u0445\\u043e\\u0434\\u0438\\u043c\\u044b\\u0445 \\u0434\\u043b\\u044f \\u043e\\u0441\\u0443\\u0449\\u0435\\u0441\\u0442\\u0432\\u043b\\u0435\\u043d\\u0438\\u044f \\u0445\\u043e\\u0437\\u044f\\u0439\\u0441\\u0442\\u0432\\u0435\\u043d\\u043d\\u043e\\u0439 \\u0434\\u0435\\u044f\\u0442\\u0435\\u043b\\u044c\\u043d\\u043e\\u0441\\u0442\\u0438;\\n\\u00b7 \\u0442\\u0438\\u0440\\u0430\\u0436\\u0438\\u0440\\u043e\\u0432\\u0430\\u043d\\u0438\\u0435, \\u0432\\u043d\\u0435\\u0434\\u0440\\u0435\\u043d\\u0438\\u0435 \\u0438 \\u0441\\u0435\\u0440\\u0438\\u0439\\u043d\\u043e\\u0435 \\u043f\\u0440\\u043e\\u0438\\u0437\\u0432\\u043e\\u0434\\u0441\\u0442\\u0432\\u043e \\u044d\\u0444\\u0444\\u0435\\u043a\\u0442\\u0438\\u0432\\u043d\\u044b\\u0445 \\u043d\\u0430\\u0443\\u0447\\u043d\\u043e-\\u0442\\u0435\\u0445\\u043d\\u0438\\u0447\\u0435\\u0441\\u043a\\u0438\\u0445 \\u0440\\u0430\\u0437\\u0440\\u0430\\u0431\\u043e\\u0442\\u043e\\u043a, \\u0438\\u0437\\u043e\\u0431\\u0440\\u0435\\u0442\\u0435\\u043d\\u0438\\u0439 \\u0438 \\u0440\\u0430\\u0446\\u0438\\u043e\\u043d\\u0430\\u043b\\u0438\\u0437\\u0430\\u0442\\u043e\\u0440\\u0441\\u043a\\u0438\\u0445 \\u043f\\u0440\\u0435\\u0434\\u043b\\u043e\\u0436\\u0435\\u043d\\u0438\\u0439;\\n\\u00b7 \\u043e\\u0431\\u0443\\u0447\\u0435\\u043d\\u0438\\u0435 \\u044f\\u0437\\u044b\\u043a\\u0430\\u043c \\u0438 \\u043e\\u043a\\u0430\\u0437\\u0430\\u043d\\u0438\\u0435 \\u043f\\u0435\\u0440\\u0435\\u0432\\u043e\\u0434\\u0447\\u0435\\u0441\\u043a\\u0438\\u0445 \\u0443\\u0441\\u043b\\u0443\\u0433;\\n\\u00b7 \\u043f\\u0440\\u043e\\u0432\\u0435\\u0434\\u0435\\u043d\\u0438\\u0435 \\u0432 \\u0420\\u043e\\u0441\\u0441\\u0438\\u0438 \\u0438 \\u0437\\u0430 \\u0440\\u0443\\u0431\\u0435\\u0436\\u043e\\u043c \\u043b\\u0435\\u043a\\u0446\\u0438\\u0439, \\u043a\\u043e\\u043d\\u0444\\u0435\\u0440\\u0435\\u043d\\u0446\\u0438\\u0439, \\u0444\\u0435\\u0441\\u0442\\u0438\\u0432\\u0430\\u043b\\u0435\\u0439, \\u0448\\u043a\\u043e\\u043b-\\u0441\\u0435\\u043c\\u0438\\u043d\\u0430\\u0440\\u043e\\u0432, \\u0441\\u0438\\u043c\\u043f\\u043e\\u0437\\u0438\\u0443\\u043c\\u043e\\u0432, \\u0440\\u0430\\u0431\\u043e\\u0447\\u0438\\u0445 \\u0432\\u0441\\u0442\\u0440\\u0435\\u0447, \\u0430\\u0443\\u043a\\u0446\\u0438\\u043e\\u043d\\u043e\\u0432, \\u0432\\u044b\\u0441\\u0442\\u0430\\u0432\\u043e\\u043a, \\u044f\\u0440\\u043c\\u0430\\u0440\\u043e\\u043a, \\u043a\\u043e\\u043d\\u043a\\u0443\\u0440\\u0441\\u043d\\u044b\\u0445 \\u043c\\u0435\\u0440\\u043e\\u043f\\u0440\\u0438\\u044f\\u0442\\u0438\\u0439;\\n\\u00b7 \\u043f\\u0440\\u043e\\u0432\\u0435\\u0434\\u0435\\u043d\\u0438\\u0435 \\u0438 \\u0444\\u0438\\u043d\\u0430\\u043d\\u0441\\u0438\\u0440\\u043e\\u0432\\u0430\\u043d\\u0438\\u0435 \\u0441\\u0442\\u0430\\u0436\\u0438\\u0440\\u043e\\u0432\\u043e\\u043a, \\u043f\\u0440\\u0430\\u043a\\u0442\\u0438\\u043a, \\u0434\\u0435\\u043b\\u043e\\u0432\\u044b\\u0445 \\u0438 \\u043e\\u0437\\u043d\\u0430\\u043a\\u043e\\u043c\\u0438\\u0442\\u0435\\u043b\\u044c\\u043d\\u044b\\u0445 \\u043f\\u043e\\u0435\\u0437\\u0434\\u043e\\u043a \\u0437\\u0430 \\u0440\\u0443\\u0431\\u0435\\u0436;\\n\\u00b7 \\u043e\\u0440\\u0433\\u0430\\u043d\\u0438\\u0437\\u0430\\u0446\\u0438\\u044f \\u043a\\u0430\\u0437\\u0438\\u043d\\u043e, \\u043a\\u043b\\u0443\\u0431\\u043e\\u0432, \\u0437\\u0430\\u043b\\u043e\\u0432 \\u0438\\u0433\\u0440\\u043e\\u0432\\u044b\\u0445 \\u0430\\u0432\\u0442\\u043e\\u043c\\u0430\\u0442\\u043e\\u0432;\\n\\u00b7 \\u043f\\u0440\\u043e\\u0434\\u044e\\u0441\\u0435\\u0440\\u0441\\u043a\\u0430\\u044f \\u0434\\u0435\\u044f\\u0442\\u0435\\u043b\\u044c\\u043d\\u043e\\u0441\\u0442\\u044c;\\n\\u00b7 \\u0442\\u0443\\u0440\\u0438\\u0441\\u0442\\u0438\\u0447\\u0435\\u0441\\u043a\\u0430\\u044f \\u0434\\u0435\\u044f\\u0442\\u0435\\u043b\\u044c\\u043d\\u043e\\u0441\\u0442\\u044c, \\u0432 \\u0442\\u043e\\u043c \\u0447\\u0438\\u0441\\u043b\\u0435 \\u043e\\u0440\\u0433\\u0430\\u043d\\u0438\\u0437\\u0430\\u0446\\u0438\\u044f \\u0434\\u043e\\u043c\\u043e\\u0432 \\u043e\\u0442\\u0434\\u044b\\u0445\\u0430, \\u043e\\u0442\\u0435\\u043b\\u0435\\u0439;\\n\\u00b7 \\u043e\\u0440\\u0433\\u0430\\u043d\\u0438\\u0437\\u0430\\u0446\\u0438\\u044f \\u0434\\u043e\\u0441\\u0442\\u0430\\u0432\\u043a\\u0438 \\u0440\\u0430\\u0437\\u043e\\u0432\\u043e\\u0439 \\u0438 \\u043f\\u0435\\u0440\\u0438\\u043e\\u0434\\u0438\\u0447\\u0435\\u0441\\u043a\\u043e\\u0439 \\u043a\\u043e\\u0440\\u0440\\u0435\\u0441\\u043f\\u043e\\u043d\\u0434\\u0435\\u043d\\u0446\\u0438\\u0438, \\u0430\\u0431\\u043e\\u043d\\u0438\\u0440\\u043e\\u0432\\u0430\\u043d\\u043d\\u044b\\u0445 \\u044f\\u0449\\u0438\\u043a\\u043e\\u0432, \\u0432\\u044b\\u043f\\u043e\\u043b\\u043d\\u0435\\u043d\\u0438\\u0435 \\u0432\\u0441\\u0435\\u0445 \\u0434\\u0440\\u0443\\u0433\\u0438\\u0445 \\u0432\\u0438\\u0434\\u043e\\u0432 \\u0443\\u0441\\u043b\\u0443\\u0433 \\u0432 \\u043e\\u0442\\u0440\\u0430\\u0441\\u043b\\u0438 \\u0441\\u0432\\u044f\\u0437\\u0438;\\n\\u00b7 \\u043e\\u0440\\u0433\\u0430\\u043d\\u0438\\u0437\\u0430\\u0446\\u0438\\u044f \\u0438\\u043d\\u0432\\u0435\\u0441\\u0442\\u0438\\u0440\\u043e\\u0432\\u0430\\u043d\\u0438\\u044f \\u0441\\u0432\\u043e\\u0431\\u043e\\u0434\\u043d\\u044b\\u0445 \\u0434\\u0435\\u043d\\u0435\\u0436\\u043d\\u044b\\u0445 \\u0441\\u0440\\u0435\\u0434\\u0441\\u0442\\u0432 \\u043f\\u0440\\u0435\\u0434\\u043f\\u0440\\u0438\\u044f\\u0442\\u0438\\u0439, \\u043e\\u0440\\u0433\\u0430\\u043d\\u0438\\u0437\\u0430\\u0446\\u0438\\u0439 \\u0438 \\u0433\\u0440\\u0430\\u0436\\u0434\\u0430\\u043d.\\n\\u00b7 \\u043e\\u043f\\u0442\\u043e\\u0432\\u0430\\u044f \\u0438 \\u0440\\u043e\\u0437\\u043d\\u0438\\u0447\\u043d\\u0430\\u044f \\u0442\\u043e\\u0440\\u0433\\u043e\\u0432\\u043b\\u044f \\u043f\\u0440\\u043e\\u0434\\u0443\\u043a\\u0446\\u0438\\u0435\\u0439 \\u043f\\u0440\\u043e\\u0438\\u0437\\u0432\\u043e\\u0434\\u0441\\u0442\\u0432\\u0435\\u043d\\u043d\\u043e-\\u0442\\u0435\\u0445\\u043d\\u0438\\u0447\\u0435\\u0441\\u043a\\u043e\\u0433\\u043e \\u043d\\u0430\\u0437\\u043d\\u0430\\u0447\\u0435\\u043d\\u0438\\u044f;\\n\\u00b7 \\u043f\\u0440\\u043e\\u0438\\u0437\\u0432\\u043e\\u0434\\u0441\\u0442\\u0432\\u043e \\u043f\\u0440\\u043e\\u0434\\u0443\\u043a\\u0446\\u0438\\u0438 \\u043f\\u0440\\u043e\\u0438\\u0437\\u0432\\u043e\\u0434\\u0441\\u0442\\u0432\\u0435\\u043d\\u043d\\u043e-\\u0442\\u0435\\u0445\\u043d\\u0438\\u0447\\u0435\\u0441\\u043a\\u043e\\u0433\\u043e \\u043d\\u0430\\u0437\\u043d\\u0430\\u0447\\u0435\\u043d\\u0438\\u044f, \\u0442\\u043e\\u0432\\u0430\\u0440\\u043e\\u0432 \\u043d\\u0430\\u0440\\u043e\\u0434\\u043d\\u043e\\u0433\\u043e \\u043f\\u043e\\u0442\\u0440\\u0435\\u0431\\u043b\\u0435\\u043d\\u0438\\u044f, \\u0430 \\u0442\\u0430\\u043a\\u0436\\u0435 \\u043f\\u0440\\u043e\\u0434\\u0443\\u043a\\u0442\\u043e\\u0432 \\u043f\\u0438\\u0442\\u0430\\u043d\\u0438\\u044f;\\n\\u00b7 \\u043e\\u0440\\u0433\\u0430\\u043d\\u0438\\u0437\\u0430\\u0446\\u0438\\u044f \\u0438 \\u043f\\u0440\\u043e\\u0432\\u0435\\u0434\\u0435\\u043d\\u0438\\u0435 \\u043a\\u043e\\u043d\\u0444\\u0435\\u0440\\u0435\\u043d\\u0446\\u0438\\u0439, \\u043a\\u043e\\u043d\\u0433\\u0440\\u0435\\u0441\\u0441\\u043e\\u0432, \\u0432\\u044b\\u0441\\u0442\\u0430\\u0432\\u043e\\u043a, \\u043a\\u043e\\u043d\\u043a\\u0443\\u0440\\u0441\\u043e\\u0432, \\u043a\\u043e\\u043d\\u0446\\u0435\\u0440\\u0442\\u043e\\u0432, \\u0448\\u043e\\u0443-\\u043f\\u0440\\u0435\\u0434\\u0441\\u0442\\u0430\\u0432\\u043b\\u0435\\u043d\\u0438\\u0439, \\u043a\\u0443\\u043b\\u044c\\u0442\\u0443\\u0440\\u043d\\u043e-\\u043c\\u0430\\u0441\\u0441\\u043e\\u0432\\u044b\\u0445 \\u0438 \\u0441\\u043f\\u043e\\u0440\\u0442\\u0438\\u0432\\u043d\\u044b\\u0445 \\u043c\\u0435\\u0440\\u043e\\u043f\\u0440\\u0438\\u044f\\u0442\\u0438\\u0439, \\u043b\\u043e\\u0442\\u0435\\u0440\\u0435\\u0439;\\n\\u00b7 \\u043e\\u0440\\u0433\\u0430\\u043d\\u0438\\u0437\\u0430\\u0446\\u0438\\u044f \\u0444\\u0435\\u0441\\u0442\\u0438\\u0432\\u0430\\u043b\\u0435\\u0439, \\u0441\\u043c\\u043e\\u0442\\u0440\\u043e\\u0432, \\u0432\\u044b\\u0441\\u0442\\u0430\\u0432\\u043e\\u043a, \\u0430\\u0443\\u043a\\u0446\\u0438\\u043e\\u043d\\u043e\\u0432 \\u0438 \\u0434\\u0440\\u0443\\u0433\\u0430\\u044f \\u0440\\u0435\\u043a\\u043b\\u0430\\u043c\\u043d\\u043e-\\u043a\\u043e\\u043c\\u043c\\u0435\\u0440\\u0447\\u0435\\u0441\\u043a\\u0430\\u044f \\u0434\\u0435\\u044f\\u0442\\u0435\\u043b\\u044c\\u043d\\u043e\\u0441\\u0442\\u044c;\\n\\u00b7 \\u0437\\u0430\\u043a\\u0443\\u043f\\u043a\\u0430, \\u043f\\u0440\\u043e\\u0438\\u0437\\u0432\\u043e\\u0434\\u0441\\u0442\\u0432\\u043e, \\u0440\\u0430\\u0441\\u043f\\u0440\\u043e\\u0441\\u0442\\u0440\\u0430\\u043d\\u0435\\u043d\\u0438\\u0435 \\u0432\\u0438\\u0434\\u0435\\u043e-, \\u043a\\u0438\\u043d\\u043e \\u0438 \\u043a\\u043d\\u0438\\u0433\\u043e\\u043f\\u0440\\u043e\\u0434\\u0443\\u043a\\u0446\\u0438\\u0438, \\u043e\\u0440\\u0433\\u0430\\u043d\\u0438\\u0437\\u0430\\u0446\\u0438\\u044f \\u043a\\u0438\\u043d\\u043e\\u043f\\u0440\\u043e\\u043a\\u0430\\u0442\\u0430 \\u0438 \\u0432\\u0438\\u0434\\u0435\\u043e\\u043f\\u0440\\u043e\\u043a\\u0430\\u0442\\u0430;\\n\\u00b7 \\u0431\\u043b\\u0430\\u0433\\u043e\\u0442\\u0432\\u043e\\u0440\\u0438\\u0442\\u0435\\u043b\\u044c\\u043d\\u0430\\u044f \\u0434\\u0435\\u044f\\u0442\\u0435\\u043b\\u044c\\u043d\\u043e\\u0441\\u0442\\u044c;\\n\\u00b7 \\u043e\\u0441\\u0443\\u0449\\u0435\\u0441\\u0442\\u0432\\u043b\\u0435\\u043d\\u0438\\u0435 \\u0432\\u043d\\u0435\\u0448\\u043d\\u0435\\u044d\\u043a\\u043e\\u043d\\u043e\\u043c\\u0438\\u0447\\u0435\\u0441\\u043a\\u043e\\u0439 \\u0434\\u0435\\u044f\\u0442\\u0435\\u043b\\u044c\\u043d\\u043e\\u0441\\u0442\\u0438.\\n2.3. \\u041e\\u0431\\u0449\\u0435\\u0441\\u0442\\u0432\\u043e \\u0432\\u043f\\u0440\\u0430\\u0432\\u0435 \\u043e\\u0441\\u0443\\u0449\\u0435\\u0441\\u0442\\u0432\\u043b\\u044f\\u0442\\u044c \\u043b\\u044e\\u0431\\u044b\\u0435 \\u0434\\u0440\\u0443\\u0433\\u0438\\u0435 \\u0432\\u0438\\u0434\\u044b \\u0434\\u0435\\u044f\\u0442\\u0435\\u043b\\u044c\\u043d\\u043e\\u0441\\u0442\\u0438, \\u043d\\u0435 \\u0437\\u0430\\u043f\\u0440\\u0435\\u0449\\u0435\\u043d\\u043d\\u044b\\u0435 \\u0434\\u0435\\u0439\\u0441\\u0442\\u0432\\u0443\\u044e\\u0449\\u0438\\u043c \\u0437\\u0430\\u043a\\u043e\\u043d\\u043e\\u0434\\u0430\\u0442\\u0435\\u043b\\u044c\\u0441\\u0442\\u0432\\u043e\\u043c \\u0420\\u0424.\\n2.4. \\u041e\\u0431\\u0449\\u0435\\u0441\\u0442\\u0432\\u043e \\u0432\\u043f\\u0440\\u0430\\u0432\\u0435 \\u043e\\u0441\\u0443\\u0449\\u0435\\u0441\\u0442\\u0432\\u043b\\u044f\\u0442\\u044c \\u0441\\u0432\\u043e\\u044e \\u0434\\u0435\\u044f\\u0442\\u0435\\u043b\\u044c\\u043d\\u043e\\u0441\\u0442\\u044c \\u043d\\u0430 \\u0432\\u0441\\u0435\\u0439 \\u0442\\u0435\\u0440\\u0440\\u0438\\u0442\\u043e\\u0440\\u0438\\u0438 \\u0420\\u0424 \\u0438 \\u0437\\u0430 \\u0435\\u0435 \\u043f\\u0440\\u0435\\u0434\\u0435\\u043b\\u0430\\u043c\\u0438.\\n2.5. \\u041e\\u0442\\u0434\\u0435\\u043b\\u044c\\u043d\\u044b\\u043c\\u0438 \\u0432\\u0438\\u0434\\u0430\\u043c\\u0438 \\u0434\\u0435\\u044f\\u0442\\u0435\\u043b\\u044c\\u043d\\u043e\\u0441\\u0442\\u0438, \\u043f\\u0435\\u0440\\u0435\\u0447\\u0435\\u043d\\u044c \\u043a\\u043e\\u0442\\u043e\\u0440\\u044b\\u0445 \\u043e\\u043f\\u0440\\u0435\\u0434\\u0435\\u043b\\u044f\\u0435\\u0442\\u0441\\u044f \\u0444\\u0435\\u0434\\u0435\\u0440\\u0430\\u043b\\u044c\\u043d\\u044b\\u043c \\u0437\\u0430\\u043a\\u043e\\u043d\\u043e\\u043c, \\u041e\\u0431\\u0449\\u0435\\u0441\\u0442\\u0432\\u043e \\u043c\\u043e\\u0436\\u0435\\u0442 \\u0437\\u0430\\u043d\\u0438\\u043c\\u0430\\u0442\\u044c\\u0441\\u044f \\u0442\\u043e\\u043b\\u044c\\u043a\\u043e \\u043d\\u0430 \\u043e\\u0441\\u043d\\u043e\\u0432\\u0430\\u043d\\u0438\\u0438 \\u0441\\u043f\\u0435\\u0446\\u0438\\u0430\\u043b\\u044c\\u043d\\u043e\\u0433\\u043e \\u0440\\u0430\\u0437\\u0440\\u0435\\u0448\\u0435\\u043d\\u0438\\u044f (\\u043b\\u0438\\u0446\\u0435\\u043d\\u0437\\u0438\\u0438). \\u0415\\u0441\\u043b\\u0438 \\u0443\\u0441\\u043b\\u043e\\u0432\\u0438\\u044f\\u043c\\u0438 \\u043f\\u0440\\u0435\\u0434\\u043e\\u0441\\u0442\\u0430\\u0432\\u043b\\u0435\\u043d\\u0438\\u044f \\u0441\\u043f\\u0435\\u0446\\u0438\\u0430\\u043b\\u044c\\u043d\\u043e\\u0433\\u043e \\u0440\\u0430\\u0437\\u0440\\u0435\\u0448\\u0435\\u043d\\u0438\\u044f (\\u043b\\u0438\\u0446\\u0435\\u043d\\u0437\\u0438\\u0438) \\u043d\\u0430 \\u043e\\u0441\\u0443\\u0449\\u0435\\u0441\\u0442\\u0432\\u043b\\u0435\\u043d\\u0438\\u0435 \\u043e\\u043f\\u0440\\u0435\\u0434\\u0435\\u043b\\u0435\\u043d\\u043d\\u043e\\u0433\\u043e \\u0432\\u0438\\u0434\\u0430 \\u0434\\u0435\\u044f\\u0442\\u0435\\u043b\\u044c\\u043d\\u043e\\u0441\\u0442\\u0438 \\u043f\\u0440\\u0435\\u0434\\u0443\\u0441\\u043c\\u043e\\u0442\\u0440\\u0435\\u043d\\u043e \\u0442\\u0440\\u0435\\u0431\\u043e\\u0432\\u0430\\u043d\\u0438\\u0435 \\u043e\\u0441\\u0443\\u0449\\u0435\\u0441\\u0442\\u0432\\u043b\\u044f\\u0442\\u044c \\u0442\\u0430\\u043a\\u0443\\u044e \\u0434\\u0435\\u044f\\u0442\\u0435\\u043b\\u044c\\u043d\\u043e\\u0441\\u0442\\u044c \\u043a\\u0430\\u043a \\u0438\\u0441\\u043a\\u043b\\u044e\\u0447\\u0438\\u0442\\u0435\\u043b\\u044c\\u043d\\u0443\\u044e, \\u041e\\u0431\\u0449\\u0435\\u0441\\u0442\\u0432\\u043e \\u0432 \\u0442\\u0435\\u0447\\u0435\\u043d\\u0438\\u0435 \\u0441\\u0440\\u043e\\u043a\\u0430 \\u0434\\u0435\\u0439\\u0441\\u0442\\u0432\\u0438\\u044f \\u0441\\u043f\\u0435\\u0446\\u0438\\u0430\\u043b\\u044c\\u043d\\u043e\\u0433\\u043e \\u0440\\u0430\\u0437\\u0440\\u0435\\u0448\\u0435\\u043d\\u0438\\u044f (\\u043b\\u0438\\u0446\\u0435\\u043d\\u0437\\u0438\\u0438) \\u0432\\u043f\\u0440\\u0430\\u0432\\u0435 \\u043e\\u0441\\u0443\\u0449\\u0435\\u0441\\u0442\\u0432\\u043b\\u044f\\u0442\\u044c \\u0442\\u043e\\u043b\\u044c\\u043a\\u043e \\u0432\\u0438\\u0434\\u044b \\u0434\\u0435\\u044f\\u0442\\u0435\\u043b\\u044c\\u043d\\u043e\\u0441\\u0442\\u0438, \\u043f\\u0440\\u0435\\u0434\\u0443\\u0441\\u043c\\u043e\\u0442\\u0440\\u0435\\u043d\\u043d\\u044b\\u0435 \\u0441\\u043f\\u0435\\u0446\\u0438\\u0430\\u043b\\u044c\\u043d\\u044b\\u043c \\u0440\\u0430\\u0437\\u0440\\u0435\\u0448\\u0435\\u043d\\u0438\\u0435\\u043c (\\u043b\\u0438\\u0446\\u0435\\u043d\\u0437\\u0438\\u0435\\u0439), \\u0438 \\u0441\\u043e\\u043f\\u0443\\u0442\\u0441\\u0442\\u0432\\u0443\\u044e\\u0449\\u0438\\u0435 \\u0432\\u0438\\u0434\\u044b \\u0434\\u0435\\u044f\\u0442\\u0435\\u043b\\u044c\\u043d\\u043e\\u0441\\u0442\\u0438.\\n\\u0421 \\u0422 \\u0410 \\u0422 \\u042c \\u042f 3. \\u0423\\u0427\\u0420\\u0415\\u0414\\u0418\\u0422\\u0415\\u041b\\u0418 (\\u0423\\u0427\\u0410\\u0421\\u0422\\u041d\\u0418\\u041a\\u0418) \\u041e\\u0411\\u0429\\u0415\\u0421\\u0422\\u0412\\u0410\\n3.1. \\u0423\\u0447\\u0440\\u0435\\u0434\\u0438\\u0442\\u0435\\u043b\\u0435\\u043c (\\u0423\\u0447\\u0430\\u0441\\u0442\\u043d\\u0438\\u043a\\u043e\\u043c) \\u041e\\u0431\\u0449\\u0435\\u0441\\u0442\\u0432\\u0430 \\u044f\\u0432\\u043b\\u044f\\u0435\\u0442\\u0441\\u044f:\\n\\u0413\\u0440\\u0430\\u0436\\u0434\\u0430\\u043d\\u0438\\u043d \\u0420\\u043e\\u0441\\u0441\\u0438\\u0438 \\u0418\\u0432\\u0430\\u043d\\u043e\\u0432 \\u0418\\u0432\\u0430\\u043d \\u0418\\u0432\\u0430\\u043d\\u043e\\u0432\\u0438\\u0447, \\u043f\\u0430\\u0441\\u043f\\u043e\\u0440\\u0442 \\u0441\\u0435\\u0440\\u0438\\u0438 00 00 \\u2116 000000, \\u0432\\u044b\\u0434\\u0430\\u043d \\u041f\\u0430\\u0441\\u043f\\u043e\\u0440\\u0442\\u043d\\u044b\\u043c \\u0441\\u0442\\u043e\\u043b\\u043e\\u043c \\u2116 1 \\u041e\\u0412\\u0414 \\u00ab\\u0412\\u0435\\u0441\\u0435\\u043b\\u043e\\u0435\\u00bb \\u0433\\u043e\\u0440. \\u041c\\u043e\\u0441\\u043a\\u0432\\u044b 01.01.2001 \\u0433., \\u043a\\u043e\\u0434 \\u043f\\u043e\\u0434\\u0440\\u0430\\u0437\\u0434\\u0435\\u043b\\u0435\\u043d\\u0438\\u044f 777-007, \\u0437\\u0430\\u0440\\u0435\\u0433\\u0438\\u0441\\u0442\\u0440\\u0438\\u0440\\u043e\\u0432\\u0430\\u043d \\u043f\\u043e \\u043c\\u0435\\u0441\\u0442\\u0443 \\u0436\\u0438\\u0442\\u0435\\u043b\\u044c\\u0441\\u0442\\u0432\\u0430: \\u0420\\u0424, 127490, \\u041c\\u043e\\u0441\\u043a\\u0432\\u0430, \\u0443\\u043b. \\u041a\\u0443\\u043a\\u0443\\u0440\\u0443\\u0437\\u043d\\u0430\\u044f, \\u0434. 1, \\u043a\\u0432. 101.\\n3.2. \\u0423\\u0447\\u0430\\u0441\\u0442\\u043d\\u0438\\u043a \\u041e\\u0431\\u0449\\u0435\\u0441\\u0442\\u0432\\u0430 \\u043d\\u0435 \\u043e\\u0442\\u0432\\u0435\\u0447\\u0430\\u0435\\u0442 \\u043f\\u043e \\u043e\\u0431\\u044f\\u0437\\u0430\\u0442\\u0435\\u043b\\u044c\\u0441\\u0442\\u0432\\u0430\\u043c \\u041e\\u0431\\u0449\\u0435\\u0441\\u0442\\u0432\\u0430 \\u0438 \\u043d\\u0435\\u0441\\u0435\\u0442 \\u0440\\u0438\\u0441\\u043a \\u0443\\u0431\\u044b\\u0442\\u043a\\u043e\\u0432, \\u0441\\u0432\\u044f\\u0437\\u0430\\u043d\\u043d\\u044b\\u0445 \\u0441 \\u0434\\u0435\\u044f\\u0442\\u0435\\u043b\\u044c\\u043d\\u043e\\u0441\\u0442\\u044c\\u044e \\u041e\\u0431\\u0449\\u0435\\u0441\\u0442\\u0432\\u0430, \\u0432 \\u043f\\u0440\\u0435\\u0434\\u0435\\u043b\\u0430\\u0445 \\u0441\\u0442\\u043e\\u0438\\u043c\\u043e\\u0441\\u0442\\u0438 \\u0432\\u043d\\u0435\\u0441\\u0435\\u043d\\u043d\\u043e\\u0433\\u043e \\u0438\\u043c \\u0432\\u043a\\u043b\\u0430\\u0434\\u0430 \\u0437\\u0430 \\u0438\\u0441\\u043a\\u043b\\u044e\\u0447\\u0435\\u043d\\u0438\\u0435\\u043c \\u0441\\u043b\\u0443\\u0447\\u0430\\u0435\\u0432, \\u043f\\u0440\\u0435\\u0434\\u0443\\u0441\\u043c\\u043e\\u0442\\u0440\\u0435\\u043d\\u043d\\u044b\\u0445 \\u0437\\u0430\\u043a\\u043e\\u043d\\u043e\\u0434\\u0430\\u0442\\u0435\\u043b\\u044c\\u0441\\u0442\\u0432\\u043e\\u043c \\u0420\\u0424 \\u043b\\u0438\\u0431\\u043e \\u0443\\u0447\\u0440\\u0435\\u0434\\u0438\\u0442\\u0435\\u043b\\u044c\\u043d\\u044b\\u043c\\u0438 \\u0434\\u043e\\u043a\\u0443\\u043c\\u0435\\u043d\\u0442\\u0430\\u043c\\u0438 \\u041e\\u0431\\u0449\\u0435\\u0441\\u0442\\u0432\\u0430.\\n\\u0421 \\u0422 \\u0410 \\u0422 \\u042c \\u042f 4. \\u041fP\\u0410\\u0412\\u0410 \\u0423\\u0427\\u0410\\u0421\\u0422\\u041d\\u0418\\u041a\\u0410 \\u041e\\u0411\\u0429\\u0415\\u0421\\u0422\\u0412\\u0410\\n4.1. \\u0423\\u0447\\u0430\\u0441\\u0442\\u043d\\u0438\\u043a \\u041e\\u0431\\u0449\\u0435\\u0441\\u0442\\u0432\\u0430 \\u0432\\u043f\\u0440\\u0430\\u0432\\u0435:\\n- \\u0443\\u0447\\u0430\\u0441\\u0442\\u0432\\u043e\\u0432\\u0430\\u0442\\u044c \\u0432 \\u0443\\u043f\\u0440\\u0430\\u0432\\u043b\\u0435\\u043d\\u0438\\u0438 \\u0434\\u0435\\u043b\\u0430\\u043c\\u0438 \\u041e\\u0431\\u0449\\u0435\\u0441\\u0442\\u0432\\u0430 \\u0432 \\u043f\\u043e\\u0440\\u044f\\u0434\\u043a\\u0435, \\u0443\\u0441\\u0442\\u0430\\u043d\\u043e\\u0432\\u043b\\u0435\\u043d\\u043d\\u043e\\u043c \\u0424\\u0435\\u0434\\u0435\\u0440\\u0430\\u043b\\u044c\\u043d\\u044b\\u043c \\u0437\\u0430\\u043a\\u043e\\u043d\\u043e\\u043c \\u0438 \\u0443\\u0447\\u0440\\u0435\\u0434\\u0438\\u0442\\u0435\\u043b\\u044c\\u043d\\u044b\\u043c\\u0438 \\u0434\\u043e\\u043a\\u0443\\u043c\\u0435\\u043d\\u0442\\u0430\\u043c\\u0438 \\u041e\\u0431\\u0449\\u0435\\u0441\\u0442\\u0432\\u0430;\\n- \\u043f\\u043e\\u043b\\u0443\\u0447\\u0430\\u0442\\u044c \\u0438\\u043d\\u0444\\u043e\\u0440\\u043c\\u0430\\u0446\\u0438\\u044e \\u043e \\u0434\\u0435\\u044f\\u0442\\u0435\\u043b\\u044c\\u043d\\u043e\\u0441\\u0442\\u0438 \\u041e\\u0431\\u0449\\u0435\\u0441\\u0442\\u0432\\u0430 \\u0438 \\u0437\\u043d\\u0430\\u043a\\u043e\\u043c\\u0438\\u0442\\u044c\\u0441\\u044f \\u0441 \\u0435\\u0433\\u043e \\u0431\\u0443\\u0445\\u0433\\u0430\\u043b\\u0442\\u0435\\u0440\\u0441\\u043a\\u0438\\u043c\\u0438 \\u043a\\u043d\\u0438\\u0433\\u0430\\u043c\\u0438 \\u0438 \\u0438\\u043d\\u043e\\u0439 \\u0434\\u043e\\u043a\\u0443\\u043c\\u0435\\u043d\\u0442\\u0430\\u0446\\u0438\\u0435\\u0439 \\u0432 \\u0443\\u0441\\u0442\\u0430\\u043d\\u043e\\u0432\\u043b\\u0435\\u043d\\u043d\\u043e\\u043c \\u0435\\u0433\\u043e \\u0443\\u0447\\u0440\\u0435\\u0434\\u0438\\u0442\\u0435\\u043b\\u044c\\u043d\\u044b\\u043c\\u0438 \\u0434\\u043e\\u043a\\u0443\\u043c\\u0435\\u043d\\u0442\\u0430\\u043c\\u0438 \\u043f\\u043e\\u0440\\u044f\\u0434\\u043a\\u0435;\\n- \\u043f\\u0440\\u0438\\u043d\\u0438\\u043c\\u0430\\u0442\\u044c \\u0443\\u0447\\u0430\\u0441\\u0442\\u0438\\u0435 \\u0432 \\u0440\\u0430\\u0441\\u043f\\u0440\\u0435\\u0434\\u0435\\u043b\\u0435\\u043d\\u0438\\u0438 \\u043f\\u0440\\u0438\\u0431\\u044b\\u043b\\u0438;\\n- \\u043f\\u0440\\u043e\\u0434\\u0430\\u0442\\u044c \\u0438\\u043b\\u0438 \\u0438\\u043d\\u044b\\u043c \\u043e\\u0431\\u0440\\u0430\\u0437\\u043e\\u043c \\u0443\\u0441\\u0442\\u0443\\u043f\\u0438\\u0442\\u044c \\u0441\\u0432\\u043e\\u044e \\u0434\\u043e\\u043b\\u044e \\u0432 \\u0423\\u0441\\u0442\\u0430\\u0432\\u043d\\u043e\\u043c \\u043a\\u0430\\u043f\\u0438\\u0442\\u0430\\u043b\\u0435 \\u041e\\u0431\\u0449\\u0435\\u0441\\u0442\\u0432\\u0430 \\u043b\\u0438\\u0431\\u043e \\u0435\\u0435 \\u0447\\u0430\\u0441\\u0442\\u044c \\u043e\\u0434\\u043d\\u043e\\u043c\\u0443 \\u0438\\u043b\\u0438 \\u043d\\u0435\\u0441\\u043a\\u043e\\u043b\\u044c\\u043a\\u0438\\u043c \\u043b\\u0438\\u0446\\u0430\\u043c \\u0432 \\u043f\\u043e\\u0440\\u044f\\u0434\\u043a\\u0435, \\u043f\\u0440\\u0435\\u0434\\u0443\\u0441\\u043c\\u043e\\u0442\\u0440\\u0435\\u043d\\u043d\\u043e\\u043c \\u0424\\u0435\\u0434\\u0435\\u0440\\u0430\\u043b\\u044c\\u043d\\u044b\\u043c \\u0437\\u0430\\u043a\\u043e\\u043d\\u043e\\u043c \\u0438 \\u0423\\u0441\\u0442\\u0430\\u0432\\u043e\\u043c \\u041e\\u0431\\u0449\\u0435\\u0441\\u0442\\u0432\\u0430;\\n- \\u043f\\u043e\\u043b\\u0443\\u0447\\u0438\\u0442\\u044c \\u0432 \\u0441\\u043b\\u0443\\u0447\\u0430\\u0435 \\u043b\\u0438\\u043a\\u0432\\u0438\\u0434\\u0430\\u0446\\u0438\\u0438 \\u041e\\u0431\\u0449\\u0435\\u0441\\u0442\\u0432\\u0430 \\u0447\\u0430\\u0441\\u0442\\u044c \\u0438\\u043c\\u0443\\u0449\\u0435\\u0441\\u0442\\u0432\\u0430, \\u043e\\u0441\\u0442\\u0430\\u0432\\u0448\\u0435\\u0433\\u043e\\u0441\\u044f \\u043f\\u043e\\u0441\\u043b\\u0435 \\u0440\\u0430\\u0441\\u0447\\u0435\\u0442\\u043e\\u0432 \\u0441 \\u043a\\u0440\\u0435\\u0434\\u0438\\u0442\\u043e\\u0440\\u0430\\u043c\\u0438, \\u0438\\u043b\\u0438 \\u0435\\u0433\\u043e \\u0441\\u0442\\u043e\\u0438\\u043c\\u043e\\u0441\\u0442\\u044c.\\n4.2. \\u0423\\u0447\\u0430\\u0441\\u0442\\u043d\\u0438\\u043a \\u041e\\u0431\\u0449\\u0435\\u0441\\u0442\\u0432\\u0430 \\u0438\\u043c\\u0435\\u0435\\u0442 \\u0442\\u0430\\u043a\\u0436\\u0435 \\u0434\\u0440\\u0443\\u0433\\u0438\\u0435 \\u043f\\u0440\\u0430\\u0432\\u0430, \\u043f\\u0440\\u0435\\u0434\\u0443\\u0441\\u043c\\u043e\\u0442\\u0440\\u0435\\u043d\\u043d\\u044b\\u0435 \\u0424\\u0435\\u0434\\u0435\\u0440\\u0430\\u043b\\u044c\\u043d\\u044b\\u043c \\u0437\\u0430\\u043a\\u043e\\u043d\\u043e\\u043c \\u0438 \\u0443\\u0447\\u0440\\u0435\\u0434\\u0438\\u0442\\u0435\\u043b\\u044c\\u043d\\u044b\\u043c\\u0438 \\u0434\\u043e\\u043a\\u0443\\u043c\\u0435\\u043d\\u0442\\u0430\\u043c\\u0438 \\u041e\\u0431\\u0449\\u0435\\u0441\\u0442\\u0432\\u0430.\\n\\u0421 \\u0422 \\u0410 \\u0422 \\u042c \\u042f 5. \\u041e\\u0411\\u042f\\u0417\\u0410\\u041d\\u041d\\u041e\\u0421\\u0422\\u0418 \\u0423\\u0427\\u0410\\u0421\\u0422\\u041d\\u0418\\u041a\\u0410 \\u041e\\u0411\\u0429\\u0415\\u0421\\u0422\\u0412\\u0410\\n5.1. \\u0423\\u0447\\u0430\\u0441\\u0442\\u043d\\u0438\\u043a \\u041e\\u0431\\u0449\\u0435\\u0441\\u0442\\u0432\\u0430 \\u043e\\u0431\\u044f\\u0437\\u0430\\u043d:\\n- \\u0432\\u043d\\u043e\\u0441\\u0438\\u0442\\u044c \\u0432\\u043a\\u043b\\u0430\\u0434 \\u0432 \\u043f\\u043e\\u0440\\u044f\\u0434\\u043a\\u0435, \\u0432 \\u0440\\u0430\\u0437\\u043c\\u0435\\u0440\\u0430\\u0445, \\u0432 \\u0441\\u043e\\u0441\\u0442\\u0430\\u0432\\u0435 \\u0438 \\u0432 \\u0441\\u0440\\u043e\\u043a\\u0438, \\u043a\\u043e\\u0442\\u043e\\u0440\\u044b\\u0435 \\u043f\\u0440\\u0435\\u0434\\u0443\\u0441\\u043c\\u043e\\u0442\\u0440\\u0435\\u043d\\u044b \\u0424\\u0435\\u0434\\u0435\\u0440\\u0430\\u043b\\u044c\\u043d\\u044b\\u043c \\u0437\\u0430\\u043a\\u043e\\u043d\\u043e\\u043c \\u0438 \\u0443\\u0447\\u0440\\u0435\\u0434\\u0438\\u0442\\u0435\\u043b\\u044c\\u043d\\u044b\\u043c\\u0438 \\u0434\\u043e\\u043a\\u0443\\u043c\\u0435\\u043d\\u0442\\u0430\\u043c\\u0438 \\u041e\\u0431\\u0449\\u0435\\u0441\\u0442\\u0432\\u0430;\\n- \\u043d\\u0435 \\u0440\\u0430\\u0437\\u0433\\u043b\\u0430\\u0448\\u0430\\u0442\\u044c \\u043a\\u043e\\u043d\\u0444\\u0438\\u0434\\u0435\\u043d\\u0446\\u0438\\u0430\\u043b\\u044c\\u043d\\u0443\\u044e \\u0438\\u043d\\u0444\\u043e\\u0440\\u043c\\u0430\\u0446\\u0438\\u044e \\u043e \\u0434\\u0435\\u044f\\u0442\\u0435\\u043b\\u044c\\u043d\\u043e\\u0441\\u0442\\u0438 \\u041e\\u0431\\u0449\\u0435\\u0441\\u0442\\u0432\\u0430.\\n5.2. \\u0423\\u0447\\u0430\\u0441\\u0442\\u043d\\u0438\\u043a \\u041e\\u0431\\u0449\\u0435\\u0441\\u0442\\u0432\\u0430 \\u043d\\u0435\\u0441\\u0435\\u0442 \\u0438 \\u0434\\u0440\\u0443\\u0433\\u0438\\u0435 \\u043e\\u0431\\u044f\\u0437\\u0430\\u043d\\u043d\\u043e\\u0441\\u0442\\u0438, \\u043f\\u0440\\u0435\\u0434\\u0443\\u0441\\u043c\\u043e\\u0442\\u0440\\u0435\\u043d\\u043d\\u044b\\u0435 \\u0424\\u0435\\u0434\\u0435\\u0440\\u0430\\u043b\\u044c\\u043d\\u044b\\u043c \\u0437\\u0430\\u043a\\u043e\\u043d\\u043e\\u043c \\u0438 \\u0443\\u0447\\u0440\\u0435\\u0434\\u0438\\u0442\\u0435\\u043b\\u044c\\u043d\\u044b\\u043c\\u0438 \\u0434\\u043e\\u043a\\u0443\\u043c\\u0435\\u043d\\u0442\\u0430\\u043c\\u0438 \\u041e\\u0431\\u0449\\u0435\\u0441\\u0442\\u0432\\u0430.\\n\\u0421 \\u0422 \\u0410 \\u0422 \\u042c \\u042f 6. \\u0423\\u0421\\u0422\\u0410\\u0412\\u041d\\u042b\\u0419 \\u041a\\u0410\\u041f\\u0418\\u0422\\u0410\\u041b\\n6.1. \\u0423\\u0441\\u0442\\u0430\\u0432\\u043d\\u044b\\u0439 \\u043a\\u0430\\u043f\\u0438\\u0442\\u0430\\u043b \\u041e\\u0431\\u0449\\u0435\\u0441\\u0442\\u0432\\u0430 \\u0441\\u043e\\u0441\\u0442\\u0430\\u0432\\u043b\\u044f\\u0435\\u0442\\u0441\\u044f \\u0438\\u0437 \\u043d\\u043e\\u043c\\u0438\\u043d\\u0430\\u043b\\u044c\\u043d\\u043e\\u0439 \\u0441\\u0442\\u043e\\u0438\\u043c\\u043e\\u0441\\u0442\\u0438 \\u0434\\u043e\\u043b\\u0438 \\u0435\\u0433\\u043e \\u0423\\u0447\\u0430\\u0441\\u0442\\u043d\\u0438\\u043a\\u0430 \\u0438 \\u043e\\u043f\\u0440\\u0435\\u0434\\u0435\\u043b\\u044f\\u0435\\u0442 \\u043c\\u0438\\u043d\\u0438\\u043c\\u0430\\u043b\\u044c\\u043d\\u044b\\u0439 \\u0440\\u0430\\u0437\\u043c\\u0435\\u0440 \\u0438\\u043c\\u0443\\u0449\\u0435\\u0441\\u0442\\u0432\\u0430 \\u041e\\u0431\\u0449\\u0435\\u0441\\u0442\\u0432\\u0430, \\u0433\\u0430\\u0440\\u0430\\u043d\\u0442\\u0438\\u0440\\u0443\\u044e\\u0449\\u0435\\u0433\\u043e \\u0438\\u043d\\u0442\\u0435\\u0440\\u0435\\u0441\\u044b \\u0435\\u0433\\u043e \\u043a\\u0440\\u0435\\u0434\\u0438\\u0442\\u043e\\u0440\\u043e\\u0432.\\n6.2. \\u0420\\u0430\\u0437\\u043c\\u0435p \\u0423\\u0441\\u0442\\u0430\\u0432\\u043d\\u043e\\u0433\\u043e \\u043a\\u0430\\u043f\\u0438\\u0442\\u0430\\u043b\\u0430 \\u041e\\u0431\\u0449\\u0435\\u0441\\u0442\\u0432\\u0430 \\u0441\\u043e\\u0441\\u0442\\u0430\\u0432\\u043b\\u044f\\u0435\\u0442 10 000 (\\u0414\\u0435\\u0441\\u044f\\u0442\\u044c \\u0442\\u044b\\u0441\\u044f\\u0447) \\u0440\\u0443\\u0431\\u043b\\u0435\\u0439.\\n6.3. \\u041d\\u043e\\u043c\\u0438\\u043d\\u0430\\u043b\\u044c\\u043d\\u0430\\u044f \\u0441\\u0442\\u043e\\u0438\\u043c\\u043e\\u0441\\u0442\\u044c \\u0434\\u043e\\u043b\\u0438 \\u0423\\u0447\\u0440\\u0435\\u0434\\u0438\\u0442\\u0435\\u043b\\u044f (\\u0423\\u0447\\u0430\\u0441\\u0442\\u043d\\u0438\\u043a\\u0430) \\u0432 \\u0423\\u0441\\u0442\\u0430\\u0432\\u043d\\u043e\\u043c \\u043a\\u0430\\u043f\\u0438\\u0442\\u0430\\u043b\\u0435 \\u041e\\u0431\\u0449\\u0435\\u0441\\u0442\\u0432\\u0430 \\u0441\\u043e\\u0441\\u0442\\u0430\\u0432\\u043b\\u044f\\u0435\\u0442 10 000 (\\u0414\\u0435\\u0441\\u044f\\u0442\\u044c \\u0442\\u044b\\u0441\\u044f\\u0447) \\u0440\\u0443\\u0431\\u043b\\u0435\\u0439.\\n\\u0420\\u0430\\u0437\\u043c\\u0435\\u0440 \\u0434\\u043e\\u043b\\u0438 \\u0423\\u0447\\u0430\\u0441\\u0442\\u043d\\u0438\\u043a\\u0430 \\u041e\\u0431\\u0449\\u0435\\u0441\\u0442\\u0432\\u0430 \\u0432 \\u0423\\u0441\\u0442\\u0430\\u0432\\u043d\\u043e\\u043c \\u043a\\u0430\\u043f\\u0438\\u0442\\u0430\\u043b\\u0435 \\u041e\\u0431\\u0449\\u0435\\u0441\\u0442\\u0432\\u0430 \\u043e\\u043f\\u0440\\u0435\\u0434\\u0435\\u043b\\u044f\\u0435\\u0442\\u0441\\u044f \\u0432 \\u043f\\u0440\\u043e\\u0446\\u0435\\u043d\\u0442\\u0430\\u0445 \\u0438 \\u0441\\u043e\\u043e\\u0442\\u0432\\u0435\\u0442\\u0441\\u0442\\u0432\\u0443\\u0435\\u0442 \\u0441\\u043e\\u043e\\u0442\\u043d\\u043e\\u0448\\u0435\\u043d\\u0438\\u044e \\u043d\\u043e\\u043c\\u0438\\u043d\\u0430\\u043b\\u044c\\u043d\\u043e\\u0439 \\u0441\\u0442\\u043e\\u0438\\u043c\\u043e\\u0441\\u0442\\u0438 \\u0435\\u0433\\u043e \\u0434\\u043e\\u043b\\u0438 \\u0438 \\u0423\\u0441\\u0442\\u0430\\u0432\\u043d\\u043e\\u0433\\u043e \\u043a\\u0430\\u043f\\u0438\\u0442\\u0430\\u043b\\u0430 \\u041e\\u0431\\u0449\\u0435\\u0441\\u0442\\u0432\\u0430.\\n\\u0420\\u0430\\u0437\\u043c\\u0435\\u0440 \\u0434\\u043e\\u043b\\u0438 \\u0423\\u0447\\u0440\\u0435\\u0434\\u0438\\u0442\\u0435\\u043b\\u044f (\\u0423\\u0447\\u0430\\u0441\\u0442\\u043d\\u0438\\u043a\\u0430) \\u0432 \\u0423\\u0441\\u0442\\u0430\\u0432\\u043d\\u043e\\u043c \\u043a\\u0430\\u043f\\u0438\\u0442\\u0430\\u043b\\u0435 \\u041e\\u0431\\u0449\\u0435\\u0441\\u0442\\u0432\\u0430 \\u0441\\u043e\\u0441\\u0442\\u0430\\u0432\\u043b\\u044f\\u0435\\u0442 100 (\\u0421\\u0442\\u043e) \\u043f\\u0440\\u043e\\u0446\\u0435\\u043d\\u0442\\u043e\\u0432 \\u0423\\u0441\\u0442\\u0430\\u0432\\u043d\\u043e\\u0433\\u043e \\u043a\\u0430\\u043f\\u0438\\u0442\\u0430\\u043b\\u0430.\\n\\u0414\\u0435\\u0439\\u0441\\u0442\\u0432\\u0438\\u0442\\u0435\\u043b\\u044c\\u043d\\u0430\\u044f \\u0441\\u0442\\u043e\\u0438\\u043c\\u043e\\u0441\\u0442\\u044c \\u0434\\u043e\\u043b\\u0438 \\u0423\\u0447\\u0430\\u0441\\u0442\\u043d\\u0438\\u043a\\u0430 \\u041e\\u0431\\u0449\\u0435\\u0441\\u0442\\u0432\\u0430 \\u0441\\u043e\\u043e\\u0442\\u0432\\u0435\\u0442\\u0441\\u0442\\u0432\\u0443\\u0435\\u0442 \\u0447\\u0430\\u0441\\u0442\\u0438 \\u0441\\u0442\\u043e\\u0438\\u043c\\u043e\\u0441\\u0442\\u0438 \\u0447\\u0438\\u0441\\u0442\\u044b\\u0445 \\u0430\\u043a\\u0442\\u0438\\u0432\\u043e\\u0432 \\u041e\\u0431\\u0449\\u0435\\u0441\\u0442\\u0432\\u0430, \\u043f\\u0440\\u043e\\u043f\\u043e\\u0440\\u0446\\u0438\\u043e\\u043d\\u0430\\u043b\\u044c\\u043d\\u043e\\u0439 \\u0440\\u0430\\u0437\\u043c\\u0435\\u0440\\u0443 \\u0435\\u0433\\u043e \\u0434\\u043e\\u043b\\u0438.\\n6.4. \\u0412\\u043a\\u043b\\u0430\\u0434\\u043e\\u043c \\u0432 \\u0423\\u0441\\u0442\\u0430\\u0432\\u043d\\u044b\\u0439 \\u043a\\u0430\\u043f\\u0438\\u0442\\u0430\\u043b \\u041e\\u0431\\u0449\\u0435\\u0441\\u0442\\u0432\\u0430 \\u043c\\u043e\\u0433\\u0443\\u0442 \\u0431\\u044b\\u0442\\u044c \\u0434\\u0435\\u043d\\u044c\\u0433\\u0438, \\u0446\\u0435\\u043d\\u043d\\u044b\\u0435 \\u0431\\u0443\\u043c\\u0430\\u0433\\u0438, \\u0434\\u0440\\u0443\\u0433\\u0438\\u0435 \\u0432\\u0435\\u0449\\u0438 \\u0438\\u043b\\u0438 \\u0438\\u043c\\u0443\\u0449\\u0435\\u0441\\u0442\\u0432\\u0435\\u043d\\u043d\\u044b\\u0435 \\u043f\\u0440\\u0430\\u0432\\u0430 \\u043b\\u0438\\u0431\\u043e \\u0438\\u043d\\u044b\\u0435 \\u043f\\u0440\\u0430\\u0432\\u0430, \\u0438\\u043c\\u0435\\u044e\\u0449\\u0438\\u0435 \\u0434\\u0435\\u043d\\u0435\\u0436\\u043d\\u0443\\u044e \\u043e\\u0446\\u0435\\u043d\\u043a\\u0443.\\n\\u0421 \\u0422 \\u0410 \\u0422 \\u042c \\u042f 7. \\u041f\\u041e\\u0420\\u042f\\u0414\\u041e\\u041a \\u0412\\u041d\\u0415\\u0421\\u0415\\u041d\\u0418\\u042f \\u0412\\u041a\\u041b\\u0410\\u0414\\u041e\\u0412 \\u0412 \\u0423\\u0421\\u0422\\u0410\\u0412\\u041d\\u042b\\u0419 \\u041a\\u0410\\u041f\\u0418\\u0422\\u0410\\u041b \\u041e\\u0411\\u0429\\u0415\\u0421\\u0422\\u0412\\u0410 \\u041f\\u0420\\u0418 \\u0415\\u0413\\u041e \\u0423\\u0427\\u0420\\u0415\\u0416\\u0414\\u0415\\u041d\\u0418\\u0418\\n7.1. \\u0423\\u0447\\u0440\\u0435\\u0434\\u0438\\u0442\\u0435\\u043b\\u044c \\u041e\\u0431\\u0449\\u0435\\u0441\\u0442\\u0432\\u0430 \\u0434\\u043e\\u043b\\u0436\\u0435\\u043d \\u043f\\u043e\\u043b\\u043d\\u043e\\u0441\\u0442\\u044c\\u044e \\u0432\\u043d\\u0435\\u0441\\u0442\\u0438 \\u0441\\u0432\\u043e\\u0439 \\u0432\\u043a\\u043b\\u0430\\u0434 \\u0432 \\u0423\\u0441\\u0442\\u0430\\u0432\\u043d\\u044b\\u0439 \\u043a\\u0430\\u043f\\u0438\\u0442\\u0430\\u043b \\u041e\\u0431\\u0449\\u0435\\u0441\\u0442\\u0432\\u0430 \\u0432 \\u0442\\u0435\\u0447\\u0435\\u043d\\u0438\\u0435 \\u043e\\u0434\\u043d\\u043e\\u0433\\u043e \\u0433\\u043e\\u0434\\u0430 \\u0441 \\u043c\\u043e\\u043c\\u0435\\u043d\\u0442\\u0430 \\u0433\\u043e\\u0441\\u0443\\u0434\\u0430\\u0440\\u0441\\u0442\\u0432\\u0435\\u043d\\u043d\\u043e\\u0439 \\u0440\\u0435\\u0433\\u0438\\u0441\\u0442\\u0440\\u0430\\u0446\\u0438\\u0438 \\u041e\\u0431\\u0449\\u0435\\u0441\\u0442\\u0432\\u0430. \\u041f\\u0440\\u0438 \\u044d\\u0442\\u043e\\u043c \\u0441\\u0442\\u043e\\u0438\\u043c\\u043e\\u0441\\u0442\\u044c \\u0432\\u043a\\u043b\\u0430\\u0434\\u0430 \\u0423\\u0447\\u0440\\u0435\\u0434\\u0438\\u0442\\u0435\\u043b\\u044f \\u041e\\u0431\\u0449\\u0435\\u0441\\u0442\\u0432\\u0430 \\u0434\\u043e\\u043b\\u0436\\u043d\\u0430 \\u0431\\u044b\\u0442\\u044c \\u043d\\u0435 \\u043c\\u0435\\u043d\\u0435\\u0435 \\u043d\\u043e\\u043c\\u0438\\u043d\\u0430\\u043b\\u044c\\u043d\\u043e\\u0439 \\u0441\\u0442\\u043e\\u0438\\u043c\\u043e\\u0441\\u0442\\u0438 \\u0435\\u0433\\u043e \\u0434\\u043e\\u043b\\u0438.\\n\\u041d\\u0435 \\u0434\\u043e\\u043f\\u0443\\u0441\\u043a\\u0430\\u0435\\u0442\\u0441\\u044f \\u043e\\u0441\\u0432\\u043e\\u0431\\u043e\\u0436\\u0434\\u0435\\u043d\\u0438\\u0435 \\u0423\\u0447\\u0440\\u0435\\u0434\\u0438\\u0442\\u0435\\u043b\\u044f \\u041e\\u0431\\u0449\\u0435\\u0441\\u0442\\u0432\\u0430 \\u043e\\u0442 \\u043e\\u0431\\u044f\\u0437\\u0430\\u043d\\u043d\\u043e\\u0441\\u0442\\u0438 \\u0432\\u043d\\u0435\\u0441\\u0435\\u043d\\u0438\\u044f \\u0432\\u043a\\u043b\\u0430\\u0434\\u0430 \\u0432 \\u0423\\u0441\\u0442\\u0430\\u0432\\u043d\\u044b\\u0439 \\u043a\\u0430\\u043f\\u0438\\u0442\\u0430\\u043b \\u041e\\u0431\\u0449\\u0435\\u0441\\u0442\\u0432\\u0430, \\u0432 \\u0442\\u043e\\u043c \\u0447\\u0438\\u0441\\u043b\\u0435 \\u043f\\u0443\\u0442\\u0435\\u043c \\u0437\\u0430\\u0447\\u0435\\u0442\\u0430 \\u0435\\u0433\\u043e \\u0442\\u0440\\u0435\\u0431\\u043e\\u0432\\u0430\\u043d\\u0438\\u0439 \\u043a \\u041e\\u0431\\u0449\\u0435\\u0441\\u0442\\u0432\\u0443.\\n7.2. \\u041d\\u0430 \\u043c\\u043e\\u043c\\u0435\\u043d\\u0442 \\u0433\\u043e\\u0441\\u0443\\u0434\\u0430\\u0440\\u0441\\u0442\\u0432\\u0435\\u043d\\u043d\\u043e\\u0439 \\u0440\\u0435\\u0433\\u0438\\u0441\\u0442\\u0440\\u0430\\u0446\\u0438\\u0438 \\u041e\\u0431\\u0449\\u0435\\u0441\\u0442\\u0432\\u0430 \\u0423\\u0441\\u0442\\u0430\\u0432\\u043d\\u044b\\u0439 \\u043a\\u0430\\u043f\\u0438\\u0442\\u0430\\u043b \\u0432\\u043d\\u0435\\u0441\\u0435\\u043d \\u0434\\u0435\\u043d\\u0435\\u0436\\u043d\\u044b\\u043c\\u0438 \\u0441\\u0440\\u0435\\u0434\\u0441\\u0442\\u0432\\u0430\\u043c\\u0438 \\u0432 \\u0440\\u0430\\u0437\\u043c\\u0435\\u0440\\u0435 50% \\u043d\\u0430 \\u0441\\u0443\\u043c\\u043c\\u0443 5 000 (\\u043f\\u044f\\u0442\\u044c \\u0442\\u044b\\u0441\\u044f\\u0447) \\u0440\\u0443\\u0431\\u043b\\u0435\\u0439.\\n\\u0421 \\u0422 \\u0410 \\u0422 \\u042c \\u042f 8. \\u041f\\u0415\\u0420\\u0415\\u0425\\u041e\\u0414 \\u0414\\u041e\\u041b\\u0418 (\\u0427\\u0410\\u0421\\u0422\\u0418 \\u0414\\u041e\\u041b\\u0418) \\u0423\\u0427\\u0410\\u0421\\u0422\\u041d\\u0418\\u041a\\u0410 \\u041e\\u0411\\u0429\\u0415\\u0421\\u0422\\u0412\\u0410 \\u0412 \\u0423\\u0421\\u0422\\u0410\\u0412\\u041d\\u041e\\u041c \\u041a\\u0410\\u041f\\u0418\\u0422\\u0410\\u041b\\u0415 \\u041e\\u0411\\u0429\\u0415\\u0421\\u0422\\u0412\\u0410 \\u041a \\u0414\\u0420\\u0423\\u0413\\u0418\\u041c \\u0423\\u0427\\u0410\\u0421\\u0422\\u041d\\u0418\\u041a\\u0410\\u041c \\u041e\\u0411\\u0429\\u0415\\u0421\\u0422\\u0412\\u0410 \\u0418 \\u0422\\u0420\\u0415\\u0422\\u042c\\u0418\\u041c \\u041b\\u0418\\u0426\\u0410\\u041c\\n8.1. \\u0423\\u0447\\u0430\\u0441\\u0442\\u043d\\u0438\\u043a \\u041e\\u0431\\u0449\\u0435\\u0441\\u0442\\u0432\\u0430 \\u0432\\u043f\\u0440\\u0430\\u0432\\u0435 \\u043f\\u0440\\u043e\\u0434\\u0430\\u0442\\u044c \\u0438\\u043b\\u0438 \\u0438\\u043d\\u044b\\u043c \\u043e\\u0431\\u0440\\u0430\\u0437\\u043e\\u043c \\u0443\\u0441\\u0442\\u0443\\u043f\\u0438\\u0442\\u044c \\u0441\\u0432\\u043e\\u044e \\u0434\\u043e\\u043b\\u044e (\\u0447\\u0430\\u0441\\u0442\\u044c \\u0434\\u043e\\u043b\\u0438) \\u0432 \\u0423\\u0441\\u0442\\u0430\\u0432\\u043d\\u043e\\u043c \\u043a\\u0430\\u043f\\u0438\\u0442\\u0430\\u043b\\u0435 \\u041e\\u0431\\u0449\\u0435\\u0441\\u0442\\u0432\\u0430 \\u0442\\u0440\\u0435\\u0442\\u044c\\u0438\\u043c \\u043b\\u0438\\u0446\\u0430\\u043c.\\n8.2. \\u0414\\u043e\\u043b\\u044f \\u0423\\u0447\\u0430\\u0441\\u0442\\u043d\\u0438\\u043a\\u0430 \\u041e\\u0431\\u0449\\u0435\\u0441\\u0442\\u0432\\u0430 \\u043c\\u043e\\u0436\\u0435\\u0442 \\u0431\\u044b\\u0442\\u044c \\u043e\\u0442\\u0447\\u0443\\u0436\\u0434\\u0435\\u043d\\u0430 \\u0434\\u043e \\u043f\\u043e\\u043b\\u043d\\u043e\\u0439 \\u0435\\u0435 \\u043e\\u043f\\u043b\\u0430\\u0442\\u044b \\u0442\\u043e\\u043b\\u044c\\u043a\\u043e \\u0432 \\u0442\\u043e\\u0439 \\u0447\\u0430\\u0441\\u0442\\u0438, \\u0432 \\u043a\\u043e\\u0442\\u043e\\u0440\\u043e\\u0439 \\u043e\\u043d\\u0430 \\u0443\\u0436\\u0435 \\u043e\\u043f\\u043b\\u0430\\u0447\\u0435\\u043d\\u0430.\\n8.3. \\u041e\\u0431\\u0449\\u0435\\u0441\\u0442\\u0432\\u043e \\u043f\\u043e\\u043b\\u044c\\u0437\\u0443\\u0435\\u0442\\u0441\\u044f \\u043f\\u0440\\u0435\\u0438\\u043c\\u0443\\u0449\\u0435\\u0441\\u0442\\u0432\\u0435\\u043d\\u043d\\u044b\\u043c \\u043f\\u0440\\u0430\\u0432\\u043e\\u043c \\u043f\\u043e\\u043a\\u0443\\u043f\\u043a\\u0438 \\u0434\\u043e\\u043b\\u0438 (\\u0447\\u0430\\u0441\\u0442\\u0438 \\u0434\\u043e\\u043b\\u0438) \\u0423\\u0447\\u0430\\u0441\\u0442\\u043d\\u0438\\u043a\\u0430 \\u041e\\u0431\\u0449\\u0435\\u0441\\u0442\\u0432\\u0430 \\u043f\\u043e \\u0446\\u0435\\u043d\\u0435 \\u043f\\u0440\\u0435\\u0434\\u043b\\u043e\\u0436\\u0435\\u043d\\u0438\\u044f \\u0442\\u0440\\u0435\\u0442\\u044c\\u0435\\u043c\\u0443 \\u043b\\u0438\\u0446\\u0443.\\n8.4. \\u0423\\u0447\\u0430\\u0441\\u0442\\u043d\\u0438\\u043a \\u041e\\u0431\\u0449\\u0435\\u0441\\u0442\\u0432\\u0430, \\u043d\\u0430\\u043c\\u0435\\u0440\\u0435\\u043d\\u043d\\u044b\\u0439 \\u043f\\u0440\\u043e\\u0434\\u0430\\u0442\\u044c \\u0441\\u0432\\u043e\\u044e \\u0434\\u043e\\u043b\\u044e (\\u0447\\u0430\\u0441\\u0442\\u044c \\u0434\\u043e\\u043b\\u0438) \\u0442\\u0440\\u0435\\u0442\\u044c\\u0435\\u043c\\u0443 \\u043b\\u0438\\u0446\\u0443, \\u043e\\u0431\\u044f\\u0437\\u0430\\u043d \\u043f\\u0438\\u0441\\u044c\\u043c\\u0435\\u043d\\u043d\\u043e \\u0438\\u0437\\u0432\\u0435\\u0441\\u0442\\u0438\\u0442\\u044c \\u043e\\u0431 \\u044d\\u0442\\u043e\\u043c \\u041e\\u0431\\u0449\\u0435\\u0441\\u0442\\u0432\\u043e \\u0441 \\u0443\\u043a\\u0430\\u0437\\u0430\\u043d\\u0438\\u0435\\u043c \\u0446\\u0435\\u043d\\u044b \\u0438 \\u0434\\u0440\\u0443\\u0433\\u0438\\u0445 \\u0443\\u0441\\u043b\\u043e\\u0432\\u0438\\u0439 \\u0435\\u0435 \\u043f\\u0440\\u043e\\u0434\\u0430\\u0436\\u0438. \\u0412 \\u0441\\u043b\\u0443\\u0447\\u0430\\u0435, \\u0435\\u0441\\u043b\\u0438 \\u041e\\u0431\\u0449\\u0435\\u0441\\u0442\\u0432\\u043e \\u043d\\u0435 \\u0432\\u043e\\u0441\\u043f\\u043e\\u043b\\u044c\\u0437\\u0443\\u0435\\u0442\\u0441\\u044f \\u043f\\u0440\\u0435\\u0438\\u043c\\u0443\\u0449\\u0435\\u0441\\u0442\\u0432\\u0435\\u043d\\u043d\\u044b\\u043c \\u043f\\u0440\\u0430\\u0432\\u043e\\u043c \\u043f\\u043e\\u043a\\u0443\\u043f\\u043a\\u0438 \\u0432\\u0441\\u0435\\u0439 \\u0434\\u043e\\u043b\\u0438 (\\u0432\\u0441\\u0435\\u0439 \\u0447\\u0430\\u0441\\u0442\\u0438 \\u0434\\u043e\\u043b\\u0438), \\u043f\\u0440\\u0435\\u0434\\u043b\\u0430\\u0433\\u0430\\u0435\\u043c\\u043e\\u0439 \\u0434\\u043b\\u044f \\u043f\\u0440\\u043e\\u0434\\u0430\\u0436\\u0438, \\u0432 \\u0442\\u0435\\u0447\\u0435\\u043d\\u0438\\u0435 \\u043c\\u0435\\u0441\\u044f\\u0446\\u0430 \\u0441\\u043e \\u0434\\u043d\\u044f \\u0442\\u0430\\u043a\\u043e\\u0433\\u043e \\u0438\\u0437\\u0432\\u0435\\u0449\\u0435\\u043d\\u0438\\u044f, \\u0434\\u043e\\u043b\\u044f (\\u0447\\u0430\\u0441\\u0442\\u044c \\u0434\\u043e\\u043b\\u0438) \\u043c\\u043e\\u0436\\u0435\\u0442 \\u0431\\u044b\\u0442\\u044c \\u043f\\u0440\\u043e\\u0434\\u0430\\u043d\\u0430 \\u0442\\u0440\\u0435\\u0442\\u044c\\u0435\\u043c\\u0443 \\u043b\\u0438\\u0446\\u0443 \\u043f\\u043e \\u0446\\u0435\\u043d\\u0435 \\u0438 \\u043d\\u0430 \\u0443\\u0441\\u043b\\u043e\\u0432\\u0438\\u044f\\u0445, \\u0441\\u043e\\u043e\\u0431\\u0449\\u0435\\u043d\\u043d\\u044b\\u0445 \\u041e\\u0431\\u0449\\u0435\\u0441\\u0442\\u0432\\u0443.\\n\\u041f\\u0440\\u0438 \\u043f\\u0440\\u043e\\u0434\\u0430\\u0436\\u0435 \\u0434\\u043e\\u043b\\u0438 (\\u0447\\u0430\\u0441\\u0442\\u0438 \\u0434\\u043e\\u043b\\u0438) \\u0441 \\u043d\\u0430\\u0440\\u0443\\u0448\\u0435\\u043d\\u0438\\u0435\\u043c \\u043f\\u0440\\u0435\\u0438\\u043c\\u0443\\u0449\\u0435\\u0441\\u0442\\u0432\\u0435\\u043d\\u043d\\u043e\\u0433\\u043e \\u043f\\u0440\\u0430\\u0432\\u0430 \\u043f\\u043e\\u043a\\u0443\\u043f\\u043a\\u0438 \\u041e\\u0431\\u0449\\u0435\\u0441\\u0442\\u0432\\u043e \\u0432\\u043f\\u0440\\u0430\\u0432\\u0435 \\u0432 \\u0442\\u0435\\u0447\\u0435\\u043d\\u0438\\u0435 \\u0442\\u0440\\u0435\\u0445 \\u043c\\u0435\\u0441\\u044f\\u0446\\u0435\\u0432 \\u0441 \\u043c\\u043e\\u043c\\u0435\\u043d\\u0442\\u0430, \\u043a\\u043e\\u0433\\u0434\\u0430 \\u041e\\u0431\\u0449\\u0435\\u0441\\u0442\\u0432\\u043e \\u0443\\u0437\\u043d\\u0430\\u043b\\u043e \\u043b\\u0438\\u0431\\u043e \\u0434\\u043e\\u043b\\u0436\\u043d\\u043e \\u0431\\u044b\\u043b\\u043e \\u0443\\u0437\\u043d\\u0430\\u0442\\u044c \\u043e \\u0442\\u0430\\u043a\\u043e\\u043c \\u043d\\u0430\\u0440\\u0443\\u0448\\u0435\\u043d\\u0438\\u0438, \\u043f\\u043e\\u0442\\u0440\\u0435\\u0431\\u043e\\u0432\\u0430\\u0442\\u044c \\u0432 \\u0441\\u0443\\u0434\\u0435\\u0431\\u043d\\u043e\\u043c \\u043f\\u043e\\u0440\\u044f\\u0434\\u043a\\u0435 \\u043f\\u0435\\u0440\\u0435\\u0432\\u043e\\u0434\\u0430 \\u043d\\u0430 \\u043d\\u0435\\u0433\\u043e \\u043f\\u0440\\u0430\\u0432 \\u0438 \\u043e\\u0431\\u044f\\u0437\\u0430\\u043d\\u043d\\u043e\\u0441\\u0442\\u0435\\u0439 \\u043f\\u043e\\u043a\\u0443\\u043f\\u0430\\u0442\\u0435\\u043b\\u044f.\\n\\u0423\\u0441\\u0442\\u0443\\u043f\\u043a\\u0430 \\u0443\\u043a\\u0430\\u0437\\u0430\\u043d\\u043d\\u043e\\u0433\\u043e \\u043f\\u0440\\u0435\\u0438\\u043c\\u0443\\u0449\\u0435\\u0441\\u0442\\u0432\\u0435\\u043d\\u043d\\u043e\\u0433\\u043e \\u043f\\u0440\\u0430\\u0432\\u0430 \\u043d\\u0435 \\u0434\\u043e\\u043f\\u0443\\u0441\\u043a\\u0430\\u0435\\u0442\\u0441\\u044f.\\n8.5. \\u0423\\u0441\\u0442\\u0443\\u043f\\u043a\\u0430 \\u0434\\u043e\\u043b\\u0438 (\\u0447\\u0430\\u0441\\u0442\\u0438 \\u0434\\u043e\\u043b\\u0438) \\u0432 \\u0423\\u0441\\u0442\\u0430\\u0432\\u043d\\u043e\\u043c \\u043a\\u0430\\u043f\\u0438\\u0442\\u0430\\u043b\\u0435 \\u041e\\u0431\\u0449\\u0435\\u0441\\u0442\\u0432\\u0430 \\u0434\\u043e\\u043b\\u0436\\u043d\\u0430 \\u0431\\u044b\\u0442\\u044c \\u0441\\u043e\\u0432\\u0435\\u0440\\u0448\\u0435\\u043d\\u0430 \\u0432 \\u043f\\u0440\\u043e\\u0441\\u0442\\u043e\\u0439 \\u043f\\u0438\\u0441\\u044c\\u043c\\u0435\\u043d\\u043d\\u043e\\u0439 \\u0444\\u043e\\u0440\\u043c\\u0435. \\u041d\\u0435\\u0441\\u043e\\u0431\\u043b\\u044e\\u0434\\u0435\\u043d\\u0438\\u0435 \\u0443\\u0441\\u0442\\u0430\\u043d\\u043e\\u0432\\u043b\\u0435\\u043d\\u043d\\u043e\\u0439 \\u0444\\u043e\\u0440\\u043c\\u044b \\u0441\\u0434\\u0435\\u043b\\u043a\\u0438 \\u043f\\u043e \\u0443\\u0441\\u0442\\u0443\\u043f\\u043a\\u0435 \\u0434\\u043e\\u043b\\u0438 (\\u0447\\u0430\\u0441\\u0442\\u0438 \\u0434\\u043e\\u043b\\u0438) \\u0432 \\u0423\\u0441\\u0442\\u0430\\u0432\\u043d\\u043e\\u043c \\u043a\\u0430\\u043f\\u0438\\u0442\\u0430\\u043b\\u0435 \\u041e\\u0431\\u0449\\u0435\\u0441\\u0442\\u0432\\u0430 \\u0432\\u043b\\u0435\\u0447\\u0435\\u0442 \\u0435\\u0435 \\u043d\\u0435\\u0434\\u0435\\u0439\\u0441\\u0442\\u0432\\u0438\\u0442\\u0435\\u043b\\u044c\\u043d\\u043e\\u0441\\u0442\\u044c.\\n\\u041e\\u0431\\u0449\\u0435\\u0441\\u0442\\u0432\\u043e \\u0434\\u043e\\u043b\\u0436\\u043d\\u043e \\u0431\\u044b\\u0442\\u044c \\u043f\\u0438\\u0441\\u044c\\u043c\\u0435\\u043d\\u043d\\u043e \\u0443\\u0432\\u0435\\u0434\\u043e\\u043c\\u043b\\u0435\\u043d\\u043e \\u043e \\u0441\\u043e\\u0441\\u0442\\u043e\\u044f\\u0432\\u0448\\u0435\\u0439\\u0441\\u044f \\u0443\\u0441\\u0442\\u0443\\u043f\\u043a\\u0435 \\u0434\\u043e\\u043b\\u0438 (\\u0447\\u0430\\u0441\\u0442\\u0438 \\u0434\\u043e\\u043b\\u0438) \\u0432 \\u0423\\u0441\\u0442\\u0430\\u0432\\u043d\\u043e\\u043c \\u043a\\u0430\\u043f\\u0438\\u0442\\u0430\\u043b\\u0435 \\u041e\\u0431\\u0449\\u0435\\u0441\\u0442\\u0432\\u0430 \\u0441 \\u043f\\u0440\\u0435\\u0434\\u0441\\u0442\\u0430\\u0432\\u043b\\u0435\\u043d\\u0438\\u0435\\u043c \\u0434\\u043e\\u043a\\u0430\\u0437\\u0430\\u0442\\u0435\\u043b\\u044c\\u0441\\u0442\\u0432 \\u0442\\u0430\\u043a\\u043e\\u0439 \\u0443\\u0441\\u0442\\u0443\\u043f\\u043a\\u0438. \\u041f\\u0440\\u0438\\u043e\\u0431\\u0440\\u0435\\u0442\\u0430\\u0442\\u0435\\u043b\\u044c \\u0434\\u043e\\u043b\\u0438 (\\u0447\\u0430\\u0441\\u0442\\u0438 \\u0434\\u043e\\u043b\\u0438) \\u0432 \\u0423\\u0441\\u0442\\u0430\\u0432\\u043d\\u043e\\u043c \\u043a\\u0430\\u043f\\u0438\\u0442\\u0430\\u043b\\u0435 \\u041e\\u0431\\u0449\\u0435\\u0441\\u0442\\u0432\\u0430 \\u043e\\u0441\\u0443\\u0449\\u0435\\u0441\\u0442\\u0432\\u043b\\u044f\\u0435\\u0442 \\u043f\\u0440\\u0430\\u0432\\u0430 \\u0438 \\u043d\\u0435\\u0441\\u0435\\u0442 \\u043e\\u0431\\u044f\\u0437\\u0430\\u043d\\u043d\\u043e\\u0441\\u0442\\u0438 \\u0423\\u0447\\u0430\\u0441\\u0442\\u043d\\u0438\\u043a\\u0430 \\u041e\\u0431\\u0449\\u0435\\u0441\\u0442\\u0432\\u0430 \\u0441 \\u043c\\u043e\\u043c\\u0435\\u043d\\u0442\\u0430 \\u0443\\u0432\\u0435\\u0434\\u043e\\u043c\\u043b\\u0435\\u043d\\u0438\\u044f \\u041e\\u0431\\u0449\\u0435\\u0441\\u0442\\u0432\\u0430 \\u043e\\u0431 \\u0443\\u043a\\u0430\\u0437\\u0430\\u043d\\u043d\\u043e\\u0439 \\u0443\\u0441\\u0442\\u0443\\u043f\\u043a\\u0435.\\n\\u041a \\u043f\\u0440\\u0438\\u043e\\u0431\\u0440\\u0435\\u0442\\u0430\\u0442\\u0435\\u043b\\u044e \\u0434\\u043e\\u043b\\u0438 (\\u0447\\u0430\\u0441\\u0442\\u0438 \\u0434\\u043e\\u043b\\u0438) \\u0432 \\u0423\\u0441\\u0442\\u0430\\u0432\\u043d\\u043e\\u043c \\u043a\\u0430\\u043f\\u0438\\u0442\\u0430\\u043b\\u0435 \\u041e\\u0431\\u0449\\u0435\\u0441\\u0442\\u0432\\u0430 \\u043f\\u0435\\u0440\\u0435\\u0445\\u043e\\u0434\\u044f\\u0442 \\u0432\\u0441\\u0435 \\u043f\\u0440\\u0430\\u0432\\u0430 \\u0438 \\u043e\\u0431\\u044f\\u0437\\u0430\\u043d\\u043d\\u043e\\u0441\\u0442\\u0438 \\u0423\\u0447\\u0430\\u0441\\u0442\\u043d\\u0438\\u043a\\u0430 \\u041e\\u0431\\u0449\\u0435\\u0441\\u0442\\u0432\\u0430, \\u0432\\u043e\\u0437\\u043d\\u0438\\u043a\\u0448\\u0438\\u0435 \\u0434\\u043e \\u0443\\u0441\\u0442\\u0443\\u043f\\u043a\\u0438 \\u0443\\u043a\\u0430\\u0437\\u0430\\u043d\\u043d\\u043e\\u0439 \\u0434\\u043e\\u043b\\u0438 (\\u0447\\u0430\\u0441\\u0442\\u0438 \\u0434\\u043e\\u043b\\u0438), \\u0437\\u0430 \\u0438\\u0441\\u043a\\u043b\\u044e\\u0447\\u0435\\u043d\\u0438\\u0435\\u043c \\u0434\\u043e\\u043f\\u043e\\u043b\\u043d\\u0438\\u0442\\u0435\\u043b\\u044c\\u043d\\u044b\\u0445 \\u043f\\u0440\\u0430\\u0432 \\u0438 \\u043e\\u0431\\u044f\\u0437\\u0430\\u043d\\u043d\\u043e\\u0441\\u0442\\u0435\\u0439, \\u043f\\u0440\\u0435\\u0434\\u043e\\u0441\\u0442\\u0430\\u0432\\u043b\\u0435\\u043d\\u043d\\u044b\\u0445 (\\u0432\\u043e\\u0437\\u043b\\u043e\\u0436\\u0435\\u043d\\u043d\\u044b\\u0445) \\u0432 \\u043f\\u043e\\u0440\\u044f\\u0434\\u043a\\u0435, \\u043f\\u0440\\u0435\\u0434\\u0443\\u0441\\u043c\\u043e\\u0442\\u0440\\u0435\\u043d\\u043d\\u043e\\u043c \\u043d\\u0430\\u0441\\u0442\\u043e\\u044f\\u0449\\u0438\\u043c \\u0423\\u0441\\u0442\\u0430\\u0432\\u043e\\u043c. \\u0423\\u0447\\u0430\\u0441\\u0442\\u043d\\u0438\\u043a \\u041e\\u0431\\u0449\\u0435\\u0441\\u0442\\u0432\\u0430, \\u0443\\u0441\\u0442\\u0443\\u043f\\u0438\\u0432\\u0448\\u0438\\u0439 \\u0441\\u0432\\u043e\\u044e \\u0434\\u043e\\u043b\\u044e (\\u0447\\u0430\\u0441\\u0442\\u044c \\u0434\\u043e\\u043b\\u0438) \\u0432 \\u0423\\u0441\\u0442\\u0430\\u0432\\u043d\\u043e\\u043c \\u043a\\u0430\\u043f\\u0438\\u0442\\u0430\\u043b\\u0435 \\u041e\\u0431\\u0449\\u0435\\u0441\\u0442\\u0432\\u0430, \\u043d\\u0435\\u0441\\u0435\\u0442 \\u043f\\u0435\\u0440\\u0435\\u0434 \\u041e\\u0431\\u0449\\u0435\\u0441\\u0442\\u0432\\u043e\\u043c \\u043e\\u0431\\u044f\\u0437\\u0430\\u043d\\u043d\\u043e\\u0441\\u0442\\u044c \\u043f\\u043e \\u0432\\u043d\\u0435\\u0441\\u0435\\u043d\\u0438\\u044e \\u0432\\u043a\\u043b\\u0430\\u0434\\u0430 \\u0432 \\u0438\\u043c\\u0443\\u0449\\u0435\\u0441\\u0442\\u0432\\u043e, \\u0432\\u043e\\u0437\\u043d\\u0438\\u043a\\u0448\\u0443\\u044e \\u0434\\u043e \\u0443\\u0441\\u0442\\u0443\\u043f\\u043a\\u0438 \\u0443\\u043a\\u0430\\u0437\\u0430\\u043d\\u043d\\u043e\\u0439 \\u0434\\u043e\\u043b\\u0438 (\\u0447\\u0430\\u0441\\u0442\\u0438 \\u0434\\u043e\\u043b\\u0438), \\u0441\\u043e\\u043b\\u0438\\u0434\\u0430\\u0440\\u043d\\u043e \\u0441 \\u0435\\u0435 \\u043f\\u0440\\u0438\\u043e\\u0431\\u0440\\u0435\\u0442\\u0430\\u0442\\u0435\\u043b\\u0435\\u043c.\\n8.6. \\u0423\\u0447\\u0430\\u0441\\u0442\\u043d\\u0438\\u043a \\u041e\\u0431\\u0449\\u0435\\u0441\\u0442\\u0432\\u0430 \\u0432\\u043f\\u0440\\u0430\\u0432\\u0435 \\u0437\\u0430\\u043b\\u043e\\u0436\\u0438\\u0442\\u044c \\u043f\\u0440\\u0438\\u043d\\u0430\\u0434\\u043b\\u0435\\u0436\\u0430\\u0449\\u0443\\u044e \\u0435\\u043c\\u0443 \\u0434\\u043e\\u043b\\u044e (\\u0447\\u0430\\u0441\\u0442\\u044c \\u0434\\u043e\\u043b\\u0438) \\u0434\\u0440\\u0443\\u0433\\u043e\\u043c\\u0443 \\u0423\\u0447\\u0430\\u0441\\u0442\\u043d\\u0438\\u043a\\u0443, \\u0438, \\u0441 \\u0441\\u043e\\u0433\\u043b\\u0430\\u0441\\u0438\\u044f \\u041e\\u0431\\u0449\\u0435\\u0441\\u0442\\u0432\\u0430 \\u043f\\u043e \\u0440\\u0435\\u0448\\u0435\\u043d\\u0438\\u044e \\u041e\\u0431\\u0449\\u0435\\u0433\\u043e \\u0441\\u043e\\u0431\\u0440\\u0430\\u043d\\u0438\\u044f, \\u043f\\u0440\\u0438\\u043d\\u044f\\u0442\\u043e\\u043c\\u0443 \\u0431\\u043e\\u043b\\u044c\\u0448\\u0438\\u043d\\u0441\\u0442\\u0432\\u043e\\u043c \\u0433\\u043e\\u043b\\u043e\\u0441\\u043e\\u0432 \\u0432\\u0441\\u0435\\u0445 \\u0423\\u0447\\u0430\\u0441\\u0442\\u043d\\u0438\\u043a\\u043e\\u0432 \\u041e\\u0431\\u0449\\u0435\\u0441\\u0442\\u0432\\u0430, \\u0442\\u0440\\u0435\\u0442\\u044c\\u0435\\u043c\\u0443 \\u043b\\u0438\\u0446\\u0443.\\n8.6. \\u0414\\u043e\\u043b\\u0438 \\u0432 \\u0423\\u0441\\u0442\\u0430\\u0432\\u043d\\u043e\\u043c \\u043a\\u0430\\u043f\\u0438\\u0442\\u0430\\u043b\\u0435 \\u041e\\u0431\\u0449\\u0435\\u0441\\u0442\\u0432\\u0430 \\u043f\\u0435\\u0440\\u0435\\u0445\\u043e\\u0434\\u044f\\u0442 \\u043a \\u043d\\u0430\\u0441\\u043b\\u0435\\u0434\\u043d\\u0438\\u043a\\u0430\\u043c \\u0433\\u0440\\u0430\\u0436\\u0434\\u0430\\u043d \\u0438 \\u043a \\u043f\\u0440\\u0430\\u0432\\u043e\\u043f\\u0440\\u0435\\u0435\\u043c\\u043d\\u0438\\u043a\\u0430\\u043c \\u044e\\u0440\\u0438\\u0434\\u0438\\u0447\\u0435\\u0441\\u043a\\u0438\\u0445 \\u043b\\u0438\\u0446, \\u044f\\u0432\\u043b\\u044f\\u044e\\u0449\\u0438\\u0445\\u0441\\u044f \\u0443\\u0447\\u0430\\u0441\\u0442\\u043d\\u0438\\u043a\\u0430\\u043c\\u0438 \\u041e\\u0431\\u0449\\u0435\\u0441\\u0442\\u0432\\u0430.\\n\\u0412 \\u0441\\u043b\\u0443\\u0447\\u0430\\u0435 \\u043b\\u0438\\u043a\\u0432\\u0438\\u0434\\u0430\\u0446\\u0438\\u0438 \\u044e\\u0440\\u0438\\u0434\\u0438\\u0447\\u0435\\u0441\\u043a\\u043e\\u0433\\u043e \\u043b\\u0438\\u0446\\u0430 - \\u0423\\u0447\\u0430\\u0441\\u0442\\u043d\\u0438\\u043a\\u0430 \\u041e\\u0431\\u0449\\u0435\\u0441\\u0442\\u0432\\u0430 \\u043f\\u0440\\u0438\\u043d\\u0430\\u0434\\u043b\\u0435\\u0436\\u0430\\u0449\\u0430\\u044f \\u0435\\u043c\\u0443 \\u0434\\u043e\\u043b\\u044f, \\u043e\\u0441\\u0442\\u0430\\u0432\\u0448\\u0430\\u044f\\u0441\\u044f \\u043f\\u043e\\u0441\\u043b\\u0435 \\u0437\\u0430\\u0432\\u0435\\u0440\\u0448\\u0435\\u043d\\u0438\\u044f \\u0440\\u0430\\u0441\\u0447\\u0435\\u0442\\u043e\\u0432 \\u0441 \\u0435\\u0433\\u043e \\u043a\\u0440\\u0435\\u0434\\u0438\\u0442\\u043e\\u0440\\u0430\\u043c\\u0438, \\u0440\\u0430\\u0441\\u043f\\u0440\\u0435\\u0434\\u0435\\u043b\\u044f\\u0435\\u0442\\u0441\\u044f \\u043c\\u0435\\u0436\\u0434\\u0443 \\u0423\\u0447\\u0430\\u0441\\u0442\\u043d\\u0438\\u043a\\u0430\\u043c\\u0438 \\u043b\\u0438\\u043a\\u0432\\u0438\\u0434\\u0438\\u0440\\u0443\\u0435\\u043c\\u043e\\u0433\\u043e \\u044e\\u0440\\u0438\\u0434\\u0438\\u0447\\u0435\\u0441\\u043a\\u043e\\u0433\\u043e \\u043b\\u0438\\u0446\\u0430, \\u0435\\u0441\\u043b\\u0438 \\u0438\\u043d\\u043e\\u0435 \\u043d\\u0435 \\u043f\\u0440\\u0435\\u0434\\u0443\\u0441\\u043c\\u043e\\u0442\\u0440\\u0435\\u043d\\u043e \\u0444\\u0435\\u0434\\u0435\\u0440\\u0430\\u043b\\u044c\\u043d\\u044b\\u043c\\u0438 \\u0437\\u0430\\u043a\\u043e\\u043d\\u0430\\u043c\\u0438, \\u0438\\u043d\\u044b\\u043c\\u0438 \\u043f\\u0440\\u0430\\u0432\\u043e\\u0432\\u044b\\u043c\\u0438 \\u0430\\u043a\\u0442\\u0430\\u043c\\u0438 \\u0438\\u043b\\u0438 \\u0443\\u0447\\u0440\\u0435\\u0434\\u0438\\u0442\\u0435\\u043b\\u044c\\u043d\\u044b\\u043c\\u0438 \\u0434\\u043e\\u043a\\u0443\\u043c\\u0435\\u043d\\u0442\\u0430\\u043c\\u0438 \\u043b\\u0438\\u043a\\u0432\\u0438\\u0434\\u0438\\u0440\\u0443\\u0435\\u043c\\u043e\\u0433\\u043e \\u044e\\u0440\\u0438\\u0434\\u0438\\u0447\\u0435\\u0441\\u043a\\u043e\\u0433\\u043e \\u043b\\u0438\\u0446\\u0430.\\n8.7. \\u041f\\u0440\\u0438 \\u043f\\u0440\\u043e\\u0434\\u0430\\u0436\\u0435 \\u0434\\u043e\\u043b\\u0438 (\\u0447\\u0430\\u0441\\u0442\\u0438 \\u0434\\u043e\\u043b\\u0438) \\u0432 \\u0423\\u0441\\u0442\\u0430\\u0432\\u043d\\u043e\\u043c \\u043a\\u0430\\u043f\\u0438\\u0442\\u0430\\u043b\\u0435 \\u041e\\u0431\\u0449\\u0435\\u0441\\u0442\\u0432\\u0430 \\u0441 \\u043f\\u0443\\u0431\\u043b\\u0438\\u0447\\u043d\\u044b\\u0445 \\u0442\\u043e\\u0440\\u0433\\u043e\\u0432 \\u0432 \\u0441\\u043b\\u0443\\u0447\\u0430\\u044f\\u0445, \\u043f\\u0440\\u0435\\u0434\\u0443\\u0441\\u043c\\u043e\\u0442\\u0440\\u0435\\u043d\\u043d\\u044b\\u0445 \\u0424\\u0435\\u0434\\u0435\\u0440\\u0430\\u043b\\u044c\\u043d\\u044b\\u043c \\u0437\\u0430\\u043a\\u043e\\u043d\\u043e\\u043c \\u0420\\u0424 \\u00ab\\u041e\\u0431 \\u041e\\u0431\\u0449\\u0435\\u0441\\u0442\\u0432\\u0430\\u0445 \\u0441 \\u043e\\u0433\\u0440\\u0430\\u043d\\u0438\\u0447\\u0435\\u043d\\u043d\\u043e\\u0439 \\u043e\\u0442\\u0432\\u0435\\u0442\\u0441\\u0442\\u0432\\u0435\\u043d\\u043d\\u043e\\u0441\\u0442\\u044c\\u044e\\u00bb \\u0438\\u043b\\u0438 \\u0438\\u043d\\u044b\\u043c\\u0438 \\u0444\\u0435\\u0434\\u0435\\u0440\\u0430\\u043b\\u044c\\u043d\\u044b\\u043c\\u0438 \\u0437\\u0430\\u043a\\u043e\\u043d\\u0430\\u043c\\u0438, \\u043f\\u0440\\u0438\\u043e\\u0431\\u0440\\u0435\\u0442\\u0430\\u0442\\u0435\\u043b\\u044c \\u0443\\u043a\\u0430\\u0437\\u0430\\u043d\\u043d\\u043e\\u0439 \\u0434\\u043e\\u043b\\u0438 (\\u0447\\u0430\\u0441\\u0442\\u0438 \\u0434\\u043e\\u043b\\u0438) \\u0441\\u0442\\u0430\\u043d\\u043e\\u0432\\u0438\\u0442\\u0441\\u044f \\u0423\\u0447\\u0430\\u0441\\u0442\\u043d\\u0438\\u043a\\u043e\\u043c \\u041e\\u0431\\u0449\\u0435\\u0441\\u0442\\u0432\\u0430 \\u043d\\u0435\\u0437\\u0430\\u0432\\u0438\\u0441\\u0438\\u043c\\u043e \\u043e\\u0442 \\u0441\\u043e\\u0433\\u043b\\u0430\\u0441\\u0438\\u044f \\u041e\\u0431\\u0449\\u0435\\u0441\\u0442\\u0432\\u0430 \\u0438\\u043b\\u0438 \\u0435\\u0433\\u043e \\u0423\\u0447\\u0430\\u0441\\u0442\\u043d\\u0438\\u043a\\u043e\\u0432.\\n\\u0421 \\u0422\\u0410 \\u0422 \\u042c \\u042f 9. \\u041e\\u0420\\u0413\\u0410\\u041d\\u042b \\u041e\\u0411\\u0429\\u0415\\u0421\\u0422\\u0412\\u0410\\n9.1. \\u0412\\u044b\\u0441\\u0448\\u0438\\u043c \\u043e\\u0440\\u0433\\u0430\\u043d\\u043e\\u043c \\u041e\\u0431\\u0449\\u0435\\u0441\\u0442\\u0432\\u0430 \\u044f\\u0432\\u043b\\u044f\\u0435\\u0442\\u0441\\u044f \\u041e\\u0431\\u0449\\u0435\\u0435 \\u0441\\u043e\\u0431\\u0440\\u0430\\u043d\\u0438\\u0435 \\u0423\\u0447\\u0430\\u0441\\u0442\\u043d\\u0438\\u043a\\u043e\\u0432 \\u041e\\u0431\\u0449\\u0435\\u0441\\u0442\\u0432\\u0430.\\n\\u0412 \\u041e\\u0431\\u0449\\u0435\\u0441\\u0442\\u0432\\u0435, \\u0441\\u043e\\u0441\\u0442\\u043e\\u044f\\u0449\\u0435\\u043c \\u0438\\u0437 \\u043e\\u0434\\u043d\\u043e\\u0433\\u043e \\u0423\\u0447\\u0430\\u0441\\u0442\\u043d\\u0438\\u043a\\u0430, \\u0440\\u0435\\u0448\\u0435\\u043d\\u0438\\u044f \\u043f\\u043e \\u0432\\u043e\\u043f\\u0440\\u043e\\u0441\\u0430\\u043c, \\u043e\\u0442\\u043d\\u043e\\u0441\\u044f\\u0449\\u0438\\u043c\\u0441\\u044f \\u043a \\u043a\\u043e\\u043c\\u043f\\u0435\\u0442\\u0435\\u043d\\u0446\\u0438\\u0438 \\u041e\\u0431\\u0449\\u0435\\u0433\\u043e \\u0441\\u043e\\u0431\\u0440\\u0430\\u043d\\u0438\\u044f \\u0423\\u0447\\u0430\\u0441\\u0442\\u043d\\u0438\\u043a\\u043e\\u0432 \\u041e\\u0431\\u0449\\u0435\\u0441\\u0442\\u0432\\u0430, \\u043f\\u0440\\u0438\\u043d\\u0438\\u043c\\u0430\\u044e\\u0442\\u0441\\u044f \\u0435\\u0434\\u0438\\u043d\\u0441\\u0442\\u0432\\u0435\\u043d\\u043d\\u044b\\u043c \\u0423\\u0447\\u0430\\u0441\\u0442\\u043d\\u0438\\u043a\\u043e\\u043c \\u041e\\u0431\\u0449\\u0435\\u0441\\u0442\\u0432\\u0430 \\u0435\\u0434\\u0438\\u043d\\u043e\\u043b\\u0438\\u0447\\u043d\\u043e \\u0438 \\u043e\\u0444\\u043e\\u0440\\u043c\\u043b\\u044f\\u044e\\u0442\\u0441\\u044f \\u043f\\u0438\\u0441\\u044c\\u043c\\u0435\\u043d\\u043d\\u043e. \\u041f\\u0440\\u0438 \\u044d\\u0442\\u043e\\u043c \\u043f\\u043e\\u043b\\u043e\\u0436\\u0435\\u043d\\u0438\\u044f \\u0441\\u0442\\u0430\\u0442\\u0435\\u0439 34, 35, 36, 37, 38 \\u0438 43 \\u0424\\u0435\\u0434\\u0435\\u0440\\u0430\\u043b\\u044c\\u043d\\u043e\\u0433\\u043e \\u0437\\u0430\\u043a\\u043e\\u043d\\u0430 \\u043d\\u0435 \\u043f\\u0440\\u0438\\u043c\\u0435\\u043d\\u044f\\u044e\\u0442\\u0441\\u044f, \\u0437\\u0430 \\u0438\\u0441\\u043a\\u043b\\u044e\\u0447\\u0435\\u043d\\u0438\\u0435\\u043c \\u043f\\u043e\\u043b\\u043e\\u0436\\u0435\\u043d\\u0438\\u0439, \\u043a\\u0430\\u0441\\u0430\\u044e\\u0449\\u0438\\u0445\\u0441\\u044f \\u0441\\u0440\\u043e\\u043a\\u043e\\u0432 \\u043f\\u0440\\u043e\\u0432\\u0435\\u0434\\u0435\\u043d\\u0438\\u044f \\u0433\\u043e\\u0434\\u043e\\u0432\\u043e\\u0433\\u043e \\u041e\\u0431\\u0449\\u0435\\u0433\\u043e \\u0441\\u043e\\u0431\\u0440\\u0430\\u043d\\u0438\\u044f \\u0423\\u0447\\u0430\\u0441\\u0442\\u043d\\u0438\\u043a\\u043e\\u0432 \\u041e\\u0431\\u0449\\u0435\\u0441\\u0442\\u0432\\u0430.\\n9.2. \\u0420\\u0443\\u043a\\u043e\\u0432\\u043e\\u0434\\u0441\\u0442\\u0432\\u043e \\u0442\\u0435\\u043a\\u0443\\u0449\\u0435\\u0439 \\u0434\\u0435\\u044f\\u0442\\u0435\\u043b\\u044c\\u043d\\u043e\\u0441\\u0442\\u044c\\u044e \\u041e\\u0431\\u0449\\u0435\\u0441\\u0442\\u0432\\u0430 \\u043e\\u0441\\u0443\\u0449\\u0435\\u0441\\u0442\\u0432\\u043b\\u044f\\u0435\\u0442\\u0441\\u044f \\u0435\\u0434\\u0438\\u043d\\u043e\\u043b\\u0438\\u0447\\u043d\\u044b\\u043c \\u0438\\u0441\\u043f\\u043e\\u043b\\u043d\\u0438\\u0442\\u0435\\u043b\\u044c\\u043d\\u044b\\u043c \\u043e\\u0440\\u0433\\u0430\\u043d\\u043e\\u043c \\u041e\\u0431\\u0449\\u0435\\u0441\\u0442\\u0432\\u0430 - \\u0413\\u0435\\u043d\\u0435\\u0440\\u0430\\u043b\\u044c\\u043d\\u044b\\u043c \\u0434\\u0438\\u0440\\u0435\\u043a\\u0442\\u043e\\u0440\\u043e\\u043c \\u041e\\u0431\\u0449\\u0435\\u0441\\u0442\\u0432\\u0430, \\u043a\\u043e\\u0442\\u043e\\u0440\\u044b\\u0439 \\u043f\\u043e\\u0434\\u043e\\u0442\\u0447\\u0435\\u0442\\u0435\\u043d \\u041e\\u0431\\u0449\\u0435\\u043c\\u0443 \\u0441\\u043e\\u0431\\u0440\\u0430\\u043d\\u0438\\u044e \\u0423\\u0447\\u0430\\u0441\\u0442\\u043d\\u0438\\u043a\\u043e\\u0432 \\u041e\\u0431\\u0449\\u0435\\u0441\\u0442\\u0432\\u0430.\\n\\u0421 \\u0422 \\u0410 \\u0422 \\u042c \\u042f 10. \\u041e\\u0411\\u0429\\u0415\\u0415 \\u0421\\u041e\\u0411\\u0420\\u0410\\u041d\\u0418\\u0415 \\u0423\\u0427\\u0410\\u0421\\u0422\\u041d\\u0418\\u041a\\u041e\\u0412 \\u041e\\u0411\\u0429\\u0415\\u0421\\u0422\\u0412\\u0410\\n10.1. \\u041e\\u0431\\u0449\\u0435\\u0435 \\u0441\\u043e\\u0431\\u0440\\u0430\\u043d\\u0438\\u0435 \\u0423\\u0447\\u0430\\u0441\\u0442\\u043d\\u0438\\u043a\\u043e\\u0432 \\u041e\\u0431\\u0449\\u0435\\u0441\\u0442\\u0432\\u0430 \\u043c\\u043e\\u0436\\u0435\\u0442 \\u0431\\u044b\\u0442\\u044c \\u043e\\u0447\\u0435\\u0440\\u0435\\u0434\\u043d\\u044b\\u043c \\u0438\\u043b\\u0438 \\u0432\\u043d\\u0435\\u043e\\u0447\\u0435\\u0440\\u0435\\u0434\\u043d\\u044b\\u043c.\\n10.2. \\u041e\\u0431\\u0449\\u0435\\u0441\\u0442\\u0432\\u043e \\u043f\\u0440\\u043e\\u0432\\u043e\\u0434\\u0438\\u0442 \\u043e\\u0434\\u0438\\u043d \\u0440\\u0430\\u0437 \\u0432 \\u0433\\u043e\\u0434 \\u043e\\u0447\\u0435\\u0440\\u0435\\u0434\\u043d\\u043e\\u0435 \\u041e\\u0431\\u0449\\u0435\\u0435 \\u0441\\u043e\\u0431\\u0440\\u0430\\u043d\\u0438\\u0435 \\u0423\\u0447\\u0430\\u0441\\u0442\\u043d\\u0438\\u043a\\u043e\\u0432 \\u041e\\u0431\\u0449\\u0435\\u0441\\u0442\\u0432\\u0430, \\u043d\\u0430 \\u043a\\u043e\\u0442\\u043e\\u0440\\u043e\\u043c \\u0443\\u0442\\u0432\\u0435\\u0440\\u0436\\u0434\\u0430\\u044e\\u0442\\u0441\\u044f \\u0433\\u043e\\u0434\\u043e\\u0432\\u044b\\u0435 \\u0440\\u0435\\u0437\\u0443\\u043b\\u044c\\u0442\\u0430\\u0442\\u044b \\u0434\\u0435\\u044f\\u0442\\u0435\\u043b\\u044c\\u043d\\u043e\\u0441\\u0442\\u0438 \\u041e\\u0431\\u0449\\u0435\\u0441\\u0442\\u0432\\u0430 \\u043f\\u0440\\u043e\\u0432\\u043e\\u0434\\u0438\\u0442\\u0441\\u044f \\u043d\\u0435 \\u0440\\u0430\\u043d\\u0435\\u0435 \\u0447\\u0435\\u043c \\u0447\\u0435\\u0440\\u0435\\u0437 \\u0434\\u0432\\u0430 \\u043c\\u0435\\u0441\\u044f\\u0446\\u0430 \\u0438 \\u043d\\u0435 \\u043f\\u043e\\u0437\\u0434\\u043d\\u0435\\u0435 \\u0447\\u0435\\u043c \\u0447\\u0435\\u0440\\u0435\\u0437 \\u0447\\u0435\\u0442\\u044b\\u0440\\u0435 \\u043c\\u0435\\u0441\\u044f\\u0446\\u0435\\u0432 \\u043f\\u043e\\u0441\\u043b\\u0435 \\u043e\\u043a\\u043e\\u043d\\u0447\\u0430\\u043d\\u0438\\u044f \\u0444\\u0438\\u043d\\u0430\\u043d\\u0441\\u043e\\u0432\\u043e\\u0433\\u043e \\u0433\\u043e\\u0434\\u0430 \\u041e\\u0431\\u0449\\u0435\\u0441\\u0442\\u0432\\u0430, \\u043a\\u043e\\u0442\\u043e\\u0440\\u044b\\u0439 \\u0443\\u0441\\u0442\\u0430\\u043d\\u0430\\u0432\\u043b\\u0438\\u0432\\u0430\\u0435\\u0442\\u0441\\u044f \\u0441 1 \\u044f\\u043d\\u0432\\u0430\\u0440\\u044f \\u043f\\u043e 31 \\u0434\\u0435\\u043a\\u0430\\u0431\\u0440\\u044f.\\n\\u041e\\u0447\\u0435\\u0440\\u0435\\u0434\\u043d\\u043e\\u0435 \\u041e\\u0431\\u0449\\u0435\\u0435 \\u0441\\u043e\\u0431\\u0440\\u0430\\u043d\\u0438\\u0435 \\u0423\\u0447\\u0430\\u0441\\u0442\\u043d\\u0438\\u043a\\u043e\\u0432 \\u041e\\u0431\\u0449\\u0435\\u0441\\u0442\\u0432\\u0430 \\u0441\\u043e\\u0437\\u044b\\u0432\\u0430\\u0435\\u0442\\u0441\\u044f \\u0438\\u0441\\u043f\\u043e\\u043b\\u043d\\u0438\\u0442\\u0435\\u043b\\u044c\\u043d\\u044b\\u043c \\u043e\\u0440\\u0433\\u0430\\u043d\\u043e\\u043c \\u041e\\u0431\\u0449\\u0435\\u0441\\u0442\\u0432\\u0430.\\n10.3. \\u0412\\u043d\\u0435\\u043e\\u0447\\u0435\\u0440\\u0435\\u0434\\u043d\\u043e\\u0435 \\u041e\\u0431\\u0449\\u0435\\u0435 \\u0441\\u043e\\u0431\\u0440\\u0430\\u043d\\u0438\\u0435 \\u0423\\u0447\\u0430\\u0441\\u0442\\u043d\\u0438\\u043a\\u043e\\u0432 \\u041e\\u0431\\u0449\\u0435\\u0441\\u0442\\u0432\\u0430 \\u043f\\u0440\\u043e\\u0432\\u043e\\u0434\\u0438\\u0442\\u0441\\u044f \\u0432 \\u0441\\u043b\\u0443\\u0447\\u0430\\u044f\\u0445, \\u0435\\u0441\\u043b\\u0438 \\u043f\\u0440\\u043e\\u0432\\u0435\\u0434\\u0435\\u043d\\u0438\\u044f \\u0442\\u0430\\u043a\\u043e\\u0433\\u043e \\u0441\\u043e\\u0431\\u0440\\u0430\\u043d\\u0438\\u044f \\u0442\\u0440\\u0435\\u0431\\u0443\\u044e\\u0442 \\u0438\\u043d\\u0442\\u0435\\u0440\\u0435\\u0441\\u044b \\u041e\\u0431\\u0449\\u0435\\u0441\\u0442\\u0432\\u0430 \\u0438 \\u0435\\u0433\\u043e \\u0423\\u0447\\u0430\\u0441\\u0442\\u043d\\u0438\\u043a\\u043e\\u0432.\\n\\u0412\\u043d\\u0435\\u043e\\u0447\\u0435\\u0440\\u0435\\u0434\\u043d\\u043e\\u0435 \\u041e\\u0431\\u0449\\u0435\\u0435 \\u0441\\u043e\\u0431\\u0440\\u0430\\u043d\\u0438\\u0435 \\u0423\\u0447\\u0430\\u0441\\u0442\\u043d\\u0438\\u043a\\u043e\\u0432 \\u041e\\u0431\\u0449\\u0435\\u0441\\u0442\\u0432\\u0430 \\u0441\\u043e\\u0437\\u044b\\u0432\\u0430\\u0435\\u0442\\u0441\\u044f \\u0438\\u0441\\u043f\\u043e\\u043b\\u043d\\u0438\\u0442\\u0435\\u043b\\u044c\\u043d\\u044b\\u043c \\u043e\\u0440\\u0433\\u0430\\u043d\\u043e\\u043c \\u041e\\u0431\\u0449\\u0435\\u0441\\u0442\\u0432\\u0430 \\u043f\\u043e \\u0435\\u0433\\u043e \\u0438\\u043d\\u0438\\u0446\\u0438\\u0430\\u0442\\u0438\\u0432\\u0435, \\u0430\\u0443\\u0434\\u0438\\u0442\\u043e\\u0440\\u0430, \\u0430 \\u0442\\u0430\\u043a\\u0436\\u0435 \\u043f\\u043e \\u0442\\u0440\\u0435\\u0431\\u043e\\u0432\\u0430\\u043d\\u0438\\u044e \\u0423\\u0447\\u0430\\u0441\\u0442\\u043d\\u0438\\u043a\\u043e\\u0432 \\u041e\\u0431\\u0449\\u0435\\u0441\\u0442\\u0432\\u0430, \\u043e\\u0431\\u043b\\u0430\\u0434\\u0430\\u044e\\u0449\\u0438\\u0445 \\u0432 \\u0441\\u043e\\u0432\\u043e\\u043a\\u0443\\u043f\\u043d\\u043e\\u0441\\u0442\\u0438 \\u043d\\u0435 \\u043c\\u0435\\u043d\\u0435\\u0435 \\u0447\\u0435\\u043c \\u043e\\u0434\\u043d\\u043e\\u0439 \\u0434\\u0435\\u0441\\u044f\\u0442\\u043e\\u0439 \\u043e\\u0442 \\u043e\\u0431\\u0449\\u0435\\u0433\\u043e \\u0447\\u0438\\u0441\\u043b\\u0430 \\u0433\\u043e\\u043b\\u043e\\u0441\\u043e\\u0432 \\u0423\\u0447\\u0430\\u0441\\u0442\\u043d\\u0438\\u043a\\u043e\\u0432 \\u041e\\u0431\\u0449\\u0435\\u0441\\u0442\\u0432\\u0430.\\n10.4. \\u041e\\u0431\\u0449\\u0435\\u0435 \\u0441\\u043e\\u0431\\u0440\\u0430\\u043d\\u0438\\u0435 \\u0423\\u0447\\u0430\\u0441\\u0442\\u043d\\u0438\\u043a\\u043e\\u0432 \\u041e\\u0431\\u0449\\u0435\\u0441\\u0442\\u0432\\u0430 \\u043f\\u0440\\u0438\\u043d\\u0438\\u043c\\u0430\\u0435\\u0442 \\u0440\\u0435\\u0448\\u0435\\u043d\\u0438\\u044f \\u043f\\u043e \\u0432\\u043e\\u043f\\u0440\\u043e\\u0441\\u0430\\u043c, \\u043e\\u0442\\u043d\\u0435\\u0441\\u0435\\u043d\\u043d\\u044b\\u043c \\u043a \\u0435\\u0433\\u043e \\u043a\\u043e\\u043c\\u043f\\u0435\\u0442\\u0435\\u043d\\u0446\\u0438\\u0438 \\u0424\\u0435\\u0434\\u0435\\u0440\\u0430\\u043b\\u044c\\u043d\\u044b\\u043c \\u0437\\u0430\\u043a\\u043e\\u043d\\u043e\\u043c, \\u0434\\u0440\\u0443\\u0433\\u0438\\u043c \\u0437\\u0430\\u043a\\u043e\\u043d\\u043e\\u0434\\u0430\\u0442\\u0435\\u043b\\u044c\\u0441\\u0442\\u0432\\u043e\\u043c \\u0420\\u0424 \\u0438 \\u043d\\u0430\\u0441\\u0442\\u043e\\u044f\\u0449\\u0438\\u043c \\u0423\\u0441\\u0442\\u0430\\u0432\\u043e\\u043c.\\n10.5. \\u041a \\u0438\\u0441\\u043a\\u043b\\u044e\\u0447\\u0438\\u0442\\u0435\\u043b\\u044c\\u043d\\u043e\\u0439 \\u043a\\u043e\\u043c\\u043f\\u0435\\u0442\\u0435\\u043d\\u0446\\u0438\\u0438 \\u041e\\u0431\\u0449\\u0435\\u0433\\u043e \\u0441\\u043e\\u0431\\u0440\\u0430\\u043d\\u0438\\u044f \\u0423\\u0447\\u0430\\u0441\\u0442\\u043d\\u0438\\u043a\\u043e\\u0432 \\u041e\\u0431\\u0449\\u0435\\u0441\\u0442\\u0432\\u0430 \\u043e\\u0442\\u043d\\u043e\\u0441\\u044f\\u0442\\u0441\\u044f:\\n1) \\u043e\\u043f\\u0440\\u0435\\u0434\\u0435\\u043b\\u0435\\u043d\\u0438\\u0435 \\u043e\\u0441\\u043d\\u043e\\u0432\\u043d\\u044b\\u0445 \\u043d\\u0430\\u043f\\u0440\\u0430\\u0432\\u043b\\u0435\\u043d\\u0438\\u0439 \\u0434\\u0435\\u044f\\u0442\\u0435\\u043b\\u044c\\u043d\\u043e\\u0441\\u0442\\u0438 \\u041e\\u0431\\u0449\\u0435\\u0441\\u0442\\u0432\\u0430, \\u0430 \\u0442\\u0430\\u043a\\u0436\\u0435 \\u043f\\u0440\\u0438\\u043d\\u044f\\u0442\\u0438\\u0435 \\u0440\\u0435\\u0448\\u0435\\u043d\\u0438\\u044f \\u043e\\u0431 \\u0443\\u0447\\u0430\\u0441\\u0442\\u0438\\u0438 \\u0432 \\u0430\\u0441\\u0441\\u043e\\u0446\\u0438\\u0430\\u0446\\u0438\\u044f\\u0445 \\u0438 \\u0434\\u0440\\u0443\\u0433\\u0438\\u0445 \\u043e\\u0431\\u044a\\u0435\\u0434\\u0438\\u043d\\u0435\\u043d\\u0438\\u044f\\u0445 \\u043a\\u043e\\u043c\\u043c\\u0435\\u0440\\u0447\\u0435\\u0441\\u043a\\u0438\\u0445 \\u043e\\u0440\\u0433\\u0430\\u043d\\u0438\\u0437\\u0430\\u0446\\u0438\\u0439;\\n2) \\u0438\\u0437\\u043c\\u0435\\u043d\\u0435\\u043d\\u0438\\u0435 \\u0423\\u0441\\u0442\\u0430\\u0432\\u0430 \\u041e\\u0431\\u0449\\u0435\\u0441\\u0442\\u0432\\u0430, \\u0432 \\u0442\\u043e\\u043c \\u0447\\u0438\\u0441\\u043b\\u0435 \\u0438\\u0437\\u043c\\u0435\\u043d\\u0435\\u043d\\u0438\\u0435 \\u0440\\u0430\\u0437\\u043c\\u0435\\u0440\\u0430 \\u0423\\u0441\\u0442\\u0430\\u0432\\u043d\\u043e\\u0433\\u043e \\u043a\\u0430\\u043f\\u0438\\u0442\\u0430\\u043b\\u0430 \\u041e\\u0431\\u0449\\u0435\\u0441\\u0442\\u0432\\u0430;\\n3) \\u043e\\u0431\\u0440\\u0430\\u0437\\u043e\\u0432\\u0430\\u043d\\u0438\\u0435 \\u0438\\u0441\\u043f\\u043e\\u043b\\u043d\\u0438\\u0442\\u0435\\u043b\\u044c\\u043d\\u044b\\u0445 \\u043e\\u0440\\u0433\\u0430\\u043d\\u043e\\u0432 \\u041e\\u0431\\u0449\\u0435\\u0441\\u0442\\u0432\\u0430 \\u0438 \\u0434\\u043e\\u0441\\u0440\\u043e\\u0447\\u043d\\u043e\\u0435 \\u043f\\u0440\\u0435\\u043a\\u0440\\u0430\\u0449\\u0435\\u043d\\u0438\\u0435 \\u0438\\u0445 \\u043f\\u043e\\u043b\\u043d\\u043e\\u043c\\u043e\\u0447\\u0438\\u0439, \\u0430 \\u0442\\u0430\\u043a\\u0436\\u0435 \\u043f\\u0440\\u0438\\u043d\\u044f\\u0442\\u0438\\u0435 \\u0440\\u0435\\u0448\\u0435\\u043d\\u0438\\u044f \\u043e \\u043f\\u0435\\u0440\\u0435\\u0434\\u0430\\u0447\\u0435 \\u043f\\u043e\\u043b\\u043d\\u043e\\u043c\\u043e\\u0447\\u0438\\u0439 \\u0435\\u0434\\u0438\\u043d\\u043e\\u043b\\u0438\\u0447\\u043d\\u043e\\u0433\\u043e \\u0438\\u0441\\u043f\\u043e\\u043b\\u043d\\u0438\\u0442\\u0435\\u043b\\u044c\\u043d\\u043e\\u0433\\u043e \\u043e\\u0440\\u0433\\u0430\\u043d\\u0430 \\u041e\\u0431\\u0449\\u0435\\u0441\\u0442\\u0432\\u0430 \\u0443\\u043f\\u0440\\u0430\\u0432\\u043b\\u044f\\u044e\\u0449\\u0435\\u043c\\u0443, \\u0443\\u0442\\u0432\\u0435\\u0440\\u0436\\u0434\\u0435\\u043d\\u0438\\u0435 \\u0442\\u0430\\u043a\\u043e\\u0433\\u043e \\u0443\\u043f\\u0440\\u0430\\u0432\\u043b\\u044f\\u044e\\u0449\\u0435\\u0433\\u043e \\u0438 \\u0443\\u0441\\u043b\\u043e\\u0432\\u0438\\u0439 \\u0434\\u043e\\u0433\\u043e\\u0432\\u043e\\u0440\\u0430 \\u0441 \\u043d\\u0438\\u043c;\\n4) \\u0443\\u0442\\u0432\\u0435\\u0440\\u0436\\u0434\\u0435\\u043d\\u0438\\u0435 \\u0433\\u043e\\u0434\\u043e\\u0432\\u044b\\u0445 \\u043e\\u0442\\u0447\\u0435\\u0442\\u043e\\u0432 \\u0438 \\u0433\\u043e\\u0434\\u043e\\u0432\\u044b\\u0445 \\u0431\\u0443\\u0445\\u0433\\u0430\\u043b\\u0442\\u0435\\u0440\\u0441\\u043a\\u0438\\u0445 \\u0431\\u0430\\u043b\\u0430\\u043d\\u0441\\u043e\\u0432;\\n5) \\u043f\\u0440\\u0438\\u043d\\u044f\\u0442\\u0438\\u0435 \\u0440\\u0435\\u0448\\u0435\\u043d\\u0438\\u044f \\u043e \\u0440\\u0430\\u0441\\u043f\\u043e\\u0440\\u044f\\u0436\\u0435\\u043d\\u0438\\u0438 \\u0447\\u0438\\u0441\\u0442\\u043e\\u0439 \\u043f\\u0440\\u0438\\u0431\\u044b\\u043b\\u0438 \\u041e\\u0431\\u0449\\u0435\\u0441\\u0442\\u0432\\u0430;\\n6) \\u0443\\u0442\\u0432\\u0435\\u0440\\u0436\\u0434\\u0435\\u043d\\u0438\\u0435 (\\u043f\\u0440\\u0438\\u043d\\u044f\\u0442\\u0438\\u0435) \\u0434\\u043e\\u043a\\u0443\\u043c\\u0435\\u043d\\u0442\\u043e\\u0432, \\u0440\\u0435\\u0433\\u0443\\u043b\\u0438\\u0440\\u0443\\u044e\\u0449\\u0438\\u0445 \\u0432\\u043d\\u0443\\u0442\\u0440\\u0435\\u043d\\u043d\\u044e\\u044e \\u0434\\u0435\\u044f\\u0442\\u0435\\u043b\\u044c\\u043d\\u043e\\u0441\\u0442\\u044c \\u041e\\u0431\\u0449\\u0435\\u0441\\u0442\\u0432\\u0430 (\\u0432\\u043d\\u0443\\u0442\\u0440\\u0435\\u043d\\u043d\\u0438\\u0445 \\u0434\\u043e\\u043a\\u0443\\u043c\\u0435\\u043d\\u0442\\u043e\\u0432 \\u041e\\u0431\\u0449\\u0435\\u0441\\u0442\\u0432\\u0430);\\n7) \\u043f\\u0440\\u0438\\u043d\\u044f\\u0442\\u0438\\u0435 \\u0440\\u0435\\u0448\\u0435\\u043d\\u0438\\u044f \\u043e \\u0440\\u0430\\u0437\\u043c\\u0435\\u0449\\u0435\\u043d\\u0438\\u0438 \\u041e\\u0431\\u0449\\u0435\\u0441\\u0442\\u0432\\u043e\\u043c \\u043e\\u0431\\u043b\\u0438\\u0433\\u0430\\u0446\\u0438\\u0439 \\u0438 \\u0438\\u043d\\u044b\\u0445 \\u044d\\u043c\\u0438\\u0441\\u0441\\u0438\\u043e\\u043d\\u043d\\u044b\\u0445 \\u0446\\u0435\\u043d\\u043d\\u044b\\u0445 \\u0431\\u0443\\u043c\\u0430\\u0433;\\n8) \\u043d\\u0430\\u0437\\u043d\\u0430\\u0447\\u0435\\u043d\\u0438\\u0435 \\u0430\\u0443\\u0434\\u0438\\u0442\\u043e\\u0440\\u0441\\u043a\\u043e\\u0439 \\u043f\\u0440\\u043e\\u0432\\u0435\\u0440\\u043a\\u0438, \\u0443\\u0442\\u0432\\u0435\\u0440\\u0436\\u0434\\u0435\\u043d\\u0438\\u0435 \\u0430\\u0443\\u0434\\u0438\\u0442\\u043e\\u0440\\u0430 \\u0438 \\u043e\\u043f\\u0440\\u0435\\u0434\\u0435\\u043b\\u0435\\u043d\\u0438\\u0435 \\u0440\\u0430\\u0437\\u043c\\u0435\\u0440\\u0430 \\u043e\\u043f\\u043b\\u0430\\u0442\\u044b \\u0435\\u0433\\u043e \\u0443\\u0441\\u043b\\u0443\\u0433;\\n9) \\u043f\\u0440\\u0438\\u043d\\u044f\\u0442\\u0438\\u0435 \\u0440\\u0435\\u0448\\u0435\\u043d\\u0438\\u044f \\u043e \\u0440\\u0435\\u043e\\u0440\\u0433\\u0430\\u043d\\u0438\\u0437\\u0430\\u0446\\u0438\\u0438 \\u0438\\u043b\\u0438 \\u043b\\u0438\\u043a\\u0432\\u0438\\u0434\\u0430\\u0446\\u0438\\u0438 \\u041e\\u0431\\u0449\\u0435\\u0441\\u0442\\u0432\\u0430;\\n10) \\u043d\\u0430\\u0437\\u043d\\u0430\\u0447\\u0435\\u043d\\u0438\\u0435 \\u043b\\u0438\\u043a\\u0432\\u0438\\u0434\\u0430\\u0446\\u0438\\u043e\\u043d\\u043d\\u043e\\u0439 \\u043a\\u043e\\u043c\\u0438\\u0441\\u0441\\u0438\\u0438 \\u0438 \\u0443\\u0442\\u0432\\u0435\\u0440\\u0436\\u0434\\u0435\\u043d\\u0438\\u0435 \\u043b\\u0438\\u043a\\u0432\\u0438\\u0434\\u0430\\u0446\\u0438\\u043e\\u043d\\u043d\\u044b\\u0445 \\u0431\\u0430\\u043b\\u0430\\u043d\\u0441\\u043e\\u0432;\\n11) \\u0440\\u0435\\u0448\\u0435\\u043d\\u0438\\u0435 \\u0438\\u043d\\u044b\\u0445 \\u0432\\u043e\\u043f\\u0440\\u043e\\u0441\\u043e\\u0432, \\u043f\\u0440\\u0435\\u0434\\u0443\\u0441\\u043c\\u043e\\u0442\\u0440\\u0435\\u043d\\u043d\\u044b\\u0445 \\u0424\\u0435\\u0434\\u0435\\u0440\\u0430\\u043b\\u044c\\u043d\\u044b\\u043c \\u0437\\u0430\\u043a\\u043e\\u043d\\u043e\\u043c.\\n\\u0412\\u043e\\u043f\\u0440\\u043e\\u0441\\u044b, \\u043e\\u0442\\u043d\\u0435\\u0441\\u0435\\u043d\\u043d\\u044b\\u0435 \\u043a \\u0438\\u0441\\u043a\\u043b\\u044e\\u0447\\u0438\\u0442\\u0435\\u043b\\u044c\\u043d\\u043e\\u0439 \\u043a\\u043e\\u043c\\u043f\\u0435\\u0442\\u0435\\u043d\\u0446\\u0438\\u0438 \\u043e\\u0431\\u0449\\u0435\\u0433\\u043e \\u0441\\u043e\\u0431\\u0440\\u0430\\u043d\\u0438\\u044f \\u0423\\u0447\\u0430\\u0441\\u0442\\u043d\\u0438\\u043a\\u043e\\u0432 \\u041e\\u0431\\u0449\\u0435\\u0441\\u0442\\u0432\\u0430, \\u043d\\u0435 \\u043c\\u043e\\u0433\\u0443\\u0442 \\u0431\\u044b\\u0442\\u044c \\u043f\\u0435\\u0440\\u0435\\u0434\\u0430\\u043d\\u044b \\u0438\\u043c \\u043d\\u0430 \\u0440\\u0435\\u0448\\u0435\\u043d\\u0438\\u0435 \\u0438\\u0441\\u043f\\u043e\\u043b\\u043d\\u0438\\u0442\\u0435\\u043b\\u044c\\u043d\\u044b\\u0445 \\u043e\\u0440\\u0433\\u0430\\u043d\\u043e\\u0432 \\u041e\\u0431\\u0449\\u0435\\u0441\\u0442\\u0432\\u0430.\\n\\u0421 \\u0422 \\u0410 \\u0422 \\u042c \\u042f 11. \\u0415\\u0414\\u0418\\u041d\\u041e\\u041b\\u0418\\u0427\\u041d\\u042b\\u0419 \\u0418\\u0421\\u041f\\u041e\\u041b\\u041d\\u0418\\u0422\\u0415\\u041b\\u042c\\u041d\\u042b\\u0419 \\u041e\\u0420\\u0413\\u0410\\u041d \\u041e\\u0411\\u0429\\u0415\\u0421\\u0422\\u0412\\u0410\\n11.1. \\u0415\\u0434\\u0438\\u043d\\u043e\\u043b\\u0438\\u0447\\u043d\\u044b\\u0439 \\u0438\\u0441\\u043f\\u043e\\u043b\\u043d\\u0438\\u0442\\u0435\\u043b\\u044c\\u043d\\u044b\\u0439 \\u043e\\u0440\\u0433\\u0430\\u043d \\u041e\\u0431\\u0449\\u0435\\u0441\\u0442\\u0432\\u0430 - \\u0413\\u0435\\u043d\\u0435\\u0440\\u0430\\u043b\\u044c\\u043d\\u044b\\u0439 \\u0434\\u0438\\u0440\\u0435\\u043a\\u0442\\u043e\\u0440 \\u041e\\u0431\\u0449\\u0435\\u0441\\u0442\\u0432\\u0430 - \\u043d\\u0430\\u0437\\u043d\\u0430\\u0447\\u0430\\u0435\\u0442\\u0441\\u044f \\u0435\\u0434\\u0438\\u043d\\u0441\\u0442\\u0432\\u0435\\u043d\\u043d\\u044b\\u043c \\u0423\\u0447\\u0430\\u0441\\u0442\\u043d\\u0438\\u043a\\u043e\\u043c \\u041e\\u0431\\u0449\\u0435\\u0441\\u0442\\u0432\\u0430 \\u0441\\u0440\\u043e\\u043a\\u043e\\u043c \\u043d\\u0430 \\u0442\\u0440\\u0438 \\u0433\\u043e\\u0434\\u0430. \\u0415\\u0434\\u0438\\u043d\\u043e\\u043b\\u0438\\u0447\\u043d\\u044b\\u0439 \\u0438\\u0441\\u043f\\u043e\\u043b\\u043d\\u0438\\u0442\\u0435\\u043b\\u044c\\u043d\\u044b\\u0439 \\u043e\\u0440\\u0433\\u0430\\u043d \\u041e\\u0431\\u0449\\u0435\\u0441\\u0442\\u0432\\u0430 \\u043c\\u043e\\u0436\\u0435\\u0442 \\u0431\\u044b\\u0442\\u044c \\u0438\\u0437\\u0431\\u0440\\u0430\\u043d \\u0442\\u0430\\u043a\\u0436\\u0435 \\u0438 \\u043d\\u0435 \\u0438\\u0437 \\u0447\\u0438\\u0441\\u043b\\u0430 \\u0435\\u0433\\u043e \\u0423\\u0447\\u0430\\u0441\\u0442\\u043d\\u0438\\u043a\\u043e\\u0432.\\n\\u0414\\u043e\\u0433\\u043e\\u0432\\u043e\\u0440 \\u043c\\u0435\\u0436\\u0434\\u0443 \\u041e\\u0431\\u0449\\u0435\\u0441\\u0442\\u0432\\u043e\\u043c \\u0438 \\u043b\\u0438\\u0446\\u043e\\u043c, \\u043e\\u0441\\u0443\\u0449\\u0435\\u0441\\u0442\\u0432\\u043b\\u044f\\u044e\\u0449\\u0438\\u043c \\u0444\\u0443\\u043d\\u043a\\u0446\\u0438\\u0438 \\u0435\\u0434\\u0438\\u043d\\u043e\\u043b\\u0438\\u0447\\u043d\\u043e\\u0433\\u043e \\u0438\\u0441\\u043f\\u043e\\u043b\\u043d\\u0438\\u0442\\u0435\\u043b\\u044c\\u043d\\u043e\\u0433\\u043e \\u043e\\u0440\\u0433\\u0430\\u043d\\u0430 \\u041e\\u0431\\u0449\\u0435\\u0441\\u0442\\u0432\\u0430, \\u043f\\u043e\\u0434\\u043f\\u0438\\u0441\\u044b\\u0432\\u0430\\u0435\\u0442\\u0441\\u044f \\u043e\\u0442 \\u0438\\u043c\\u0435\\u043d\\u0438 \\u041e\\u0431\\u0449\\u0435\\u0441\\u0442\\u0432\\u0430 \\u0435\\u0434\\u0438\\u043d\\u0441\\u0442\\u0432\\u0435\\u043d\\u043d\\u044b\\u043c \\u0423\\u0447\\u0430\\u0441\\u0442\\u043d\\u0438\\u043a\\u043e\\u043c \\u041e\\u0431\\u0449\\u0435\\u0441\\u0442\\u0432\\u0430.\\n11.2. \\u0412 \\u043a\\u0430\\u0447\\u0435\\u0441\\u0442\\u0432\\u0435 \\u0435\\u0434\\u0438\\u043d\\u043e\\u043b\\u0438\\u0447\\u043d\\u043e\\u0433\\u043e \\u0438\\u0441\\u043f\\u043e\\u043b\\u043d\\u0438\\u0442\\u0435\\u043b\\u044c\\u043d\\u043e\\u0433\\u043e \\u043e\\u0440\\u0433\\u0430\\u043d\\u0430 \\u041e\\u0431\\u0449\\u0435\\u0441\\u0442\\u0432\\u0430 \\u043c\\u043e\\u0436\\u0435\\u0442 \\u0432\\u044b\\u0441\\u0442\\u0443\\u043f\\u0430\\u0442\\u044c \\u0442\\u043e\\u043b\\u044c\\u043a\\u043e \\u0444\\u0438\\u0437\\u0438\\u0447\\u0435\\u0441\\u043a\\u043e\\u0435 \\u043b\\u0438\\u0446\\u043e.\\n11.3. \\u0415\\u0434\\u0438\\u043d\\u043e\\u043b\\u0438\\u0447\\u043d\\u044b\\u0439 \\u0438\\u0441\\u043f\\u043e\\u043b\\u043d\\u0438\\u0442\\u0435\\u043b\\u044c\\u043d\\u044b\\u0439 \\u043e\\u0440\\u0433\\u0430\\u043d \\u041e\\u0431\\u0449\\u0435\\u0441\\u0442\\u0432\\u0430:\\n1) \\u0431\\u0435\\u0437 \\u0434\\u043e\\u0432\\u0435\\u0440\\u0435\\u043d\\u043d\\u043e\\u0441\\u0442\\u0438 \\u0434\\u0435\\u0439\\u0441\\u0442\\u0432\\u0443\\u0435\\u0442 \\u043e\\u0442 \\u0438\\u043c\\u0435\\u043d\\u0438 \\u041e\\u0431\\u0449\\u0435\\u0441\\u0442\\u0432\\u0430, \\u0432 \\u0442\\u043e\\u043c \\u0447\\u0438\\u0441\\u043b\\u0435 \\u043f\\u0440\\u0435\\u0434\\u0441\\u0442\\u0430\\u0432\\u043b\\u044f\\u0435\\u0442 \\u0435\\u0433\\u043e \\u0438\\u043d\\u0442\\u0435\\u0440\\u0435\\u0441\\u044b \\u0438 \\u0441\\u043e\\u0432\\u0435\\u0440\\u0448\\u0430\\u0435\\u0442 \\u0441\\u0434\\u0435\\u043b\\u043a\\u0438;\\n2) \\u0432\\u044b\\u0434\\u0430\\u0435\\u0442 \\u0434\\u043e\\u0432\\u0435\\u0440\\u0435\\u043d\\u043d\\u043e\\u0441\\u0442\\u0438 \\u043d\\u0430 \\u043f\\u0440\\u0430\\u0432\\u043e \\u043f\\u0440\\u0435\\u0434\\u0441\\u0442\\u0430\\u0432\\u0438\\u0442\\u0435\\u043b\\u044c\\u0441\\u0442\\u0432\\u0430 \\u043e\\u0442 \\u0438\\u043c\\u0435\\u043d\\u0438 \\u041e\\u0431\\u0449\\u0435\\u0441\\u0442\\u0432\\u0430, \\u0432 \\u0442\\u043e\\u043c \\u0447\\u0438\\u0441\\u043b\\u0435 \\u0434\\u043e\\u0432\\u0435\\u0440\\u0435\\u043d\\u043d\\u043e\\u0441\\u0442\\u0438 \\u0441 \\u043f\\u0440\\u0430\\u0432\\u043e\\u043c \\u043f\\u0435\\u0440\\u0435\\u0434\\u043e\\u0432\\u0435\\u0440\\u0438\\u044f;\\n3) \\u0438\\u0437\\u0434\\u0430\\u0435\\u0442 \\u043f\\u0440\\u0438\\u043a\\u0430\\u0437\\u044b \\u043e \\u043d\\u0430\\u0437\\u043d\\u0430\\u0447\\u0435\\u043d\\u0438\\u0438 \\u043d\\u0430 \\u0434\\u043e\\u043b\\u0436\\u043d\\u043e\\u0441\\u0442\\u0438 \\u0440\\u0430\\u0431\\u043e\\u0442\\u043d\\u0438\\u043a\\u043e\\u0432 \\u041e\\u0431\\u0449\\u0435\\u0441\\u0442\\u0432\\u0430, \\u043e\\u0431 \\u0438\\u0445 \\u043f\\u0435\\u0440\\u0435\\u0432\\u043e\\u0434\\u0435 \\u0438 \\u0443\\u0432\\u043e\\u043b\\u044c\\u043d\\u0435\\u043d\\u0438\\u0438, \\u043f\\u0440\\u0438\\u043c\\u0435\\u043d\\u044f\\u0435\\u0442 \\u043c\\u0435\\u0440\\u044b \\u043f\\u043e\\u043e\\u0449\\u0440\\u0435\\u043d\\u0438\\u044f \\u0438 \\u043d\\u0430\\u043b\\u0430\\u0433\\u0430\\u0435\\u0442 \\u0434\\u0438\\u0441\\u0446\\u0438\\u043f\\u043b\\u0438\\u043d\\u0430\\u0440\\u043d\\u044b\\u0435 \\u0432\\u0437\\u044b\\u0441\\u043a\\u0430\\u043d\\u0438\\u044f;\\n4) \\u043e\\u0441\\u0443\\u0449\\u0435\\u0441\\u0442\\u0432\\u043b\\u044f\\u0435\\u0442 \\u0438\\u043d\\u044b\\u0435 \\u043f\\u043e\\u043b\\u043d\\u043e\\u043c\\u043e\\u0447\\u0438\\u044f, \\u043d\\u0435 \\u043e\\u0442\\u043d\\u0435\\u0441\\u0435\\u043d\\u043d\\u044b\\u0435 \\u0424\\u0435\\u0434\\u0435\\u0440\\u0430\\u043b\\u044c\\u043d\\u044b\\u043c \\u0437\\u0430\\u043a\\u043e\\u043d\\u043e\\u043c \\u0438\\u043b\\u0438 \\u0423\\u0441\\u0442\\u0430\\u0432\\u043e\\u043c \\u041e\\u0431\\u0449\\u0435\\u0441\\u0442\\u0432\\u0430 \\u043a \\u043a\\u043e\\u043c\\u043f\\u0435\\u0442\\u0435\\u043d\\u0446\\u0438\\u0438 \\u041e\\u0431\\u0449\\u0435\\u0433\\u043e \\u0441\\u043e\\u0431\\u0440\\u0430\\u043d\\u0438\\u044f \\u0423\\u0447\\u0430\\u0441\\u0442\\u043d\\u0438\\u043a\\u043e\\u0432 \\u041e\\u0431\\u0449\\u0435\\u0441\\u0442\\u0432\\u0430.\\n11.4. \\u041f\\u043e\\u0440\\u044f\\u0434\\u043e\\u043a \\u0434\\u0435\\u044f\\u0442\\u0435\\u043b\\u044c\\u043d\\u043e\\u0441\\u0442\\u0438 \\u0435\\u0434\\u0438\\u043d\\u043e\\u043b\\u0438\\u0447\\u043d\\u043e\\u0433\\u043e \\u0438\\u0441\\u043f\\u043e\\u043b\\u043d\\u0438\\u0442\\u0435\\u043b\\u044c\\u043d\\u043e\\u0433\\u043e \\u043e\\u0440\\u0433\\u0430\\u043d\\u0430 \\u041e\\u0431\\u0449\\u0435\\u0441\\u0442\\u0432\\u0430 \\u0438 \\u043f\\u0440\\u0438\\u043d\\u044f\\u0442\\u0438\\u044f \\u0438\\u043c \\u0440\\u0435\\u0448\\u0435\\u043d\\u0438\\u0439 \\u0443\\u0441\\u0442\\u0430\\u043d\\u0430\\u0432\\u043b\\u0438\\u0432\\u0430\\u0435\\u0442\\u0441\\u044f \\u0432\\u043d\\u0443\\u0442\\u0440\\u0435\\u043d\\u043d\\u0438\\u043c\\u0438 \\u0434\\u043e\\u043a\\u0443\\u043c\\u0435\\u043d\\u0442\\u0430\\u043c\\u0438 \\u041e\\u0431\\u0449\\u0435\\u0441\\u0442\\u0432\\u0430, \\u0430 \\u0442\\u0430\\u043a\\u0436\\u0435 \\u0434\\u043e\\u0433\\u043e\\u0432\\u043e\\u0440\\u043e\\u043c, \\u0437\\u0430\\u043a\\u043b\\u044e\\u0447\\u0435\\u043d\\u043d\\u044b\\u043c \\u043c\\u0435\\u0436\\u0434\\u0443 \\u041e\\u0431\\u0449\\u0435\\u0441\\u0442\\u0432\\u043e\\u043c \\u0438 \\u043b\\u0438\\u0446\\u043e\\u043c, \\u043e\\u0441\\u0443\\u0449\\u0435\\u0441\\u0442\\u0432\\u043b\\u044f\\u044e\\u0449\\u0438\\u043c \\u0444\\u0443\\u043d\\u043a\\u0446\\u0438\\u0438 \\u0435\\u0433\\u043e \\u0435\\u0434\\u0438\\u043d\\u043e\\u043b\\u0438\\u0447\\u043d\\u043e\\u0433\\u043e \\u0438\\u0441\\u043f\\u043e\\u043b\\u043d\\u0438\\u0442\\u0435\\u043b\\u044c\\u043d\\u043e\\u0433\\u043e \\u043e\\u0440\\u0433\\u0430\\u043d\\u0430.\\n\\u0421 \\u0422 \\u0410 \\u0422 \\u042c \\u042f 12. \\u0420\\u0415\\u041e\\u0420\\u0413\\u0410\\u041d\\u0418\\u0417\\u0410\\u0426\\u0418\\u042f \\u0418 \\u041b\\u0418\\u041a\\u0412\\u0418\\u0414\\u0410\\u0426\\u0418\\u042f \\u041e\\u0411\\u0429\\u0415\\u0421\\u0422\\u0412\\u0410\\n12.1. \\u041e\\u0431\\u0449\\u0435\\u0441\\u0442\\u0432\\u043e \\u043c\\u043e\\u0436\\u0435\\u0442 \\u0431\\u044b\\u0442\\u044c \\u0434\\u043e\\u0431\\u0440\\u043e\\u0432\\u043e\\u043b\\u044c\\u043d\\u043e \\u0440\\u0435\\u043e\\u0440\\u0433\\u0430\\u043d\\u0438\\u0437\\u043e\\u0432\\u0430\\u043d\\u043e \\u0432 \\u043f\\u043e\\u0440\\u044f\\u0434\\u043a\\u0435, \\u043f\\u0440\\u0435\\u0434\\u0443\\u0441\\u043c\\u043e\\u0442\\u0440\\u0435\\u043d\\u043d\\u043e\\u043c \\u0424\\u0435\\u0434\\u0435\\u0440\\u0430\\u043b\\u044c\\u043d\\u044b\\u043c \\u0437\\u0430\\u043a\\u043e\\u043d\\u043e\\u043c.\\n\\u0414\\u0440\\u0443\\u0433\\u0438\\u0435 \\u043e\\u0441\\u043d\\u043e\\u0432\\u0430\\u043d\\u0438\\u044f \\u0438 \\u043f\\u043e\\u0440\\u044f\\u0434\\u043e\\u043a \\u0440\\u0435\\u043e\\u0440\\u0433\\u0430\\u043d\\u0438\\u0437\\u0430\\u0446\\u0438\\u0438 \\u041e\\u0431\\u0449\\u0435\\u0441\\u0442\\u0432\\u0430 \\u043e\\u043f\\u0440\\u0435\\u0434\\u0435\\u043b\\u044f\\u044e\\u0442\\u0441\\u044f \\u0413\\u0440\\u0430\\u0436\\u0434\\u0430\\u043d\\u0441\\u043a\\u0438\\u043c \\u043a\\u043e\\u0434\\u0435\\u043a\\u0441\\u043e\\u043c \\u0420\\u0424 \\u0438 \\u0438\\u043d\\u044b\\u043c\\u0438 \\u0444\\u0435\\u0434\\u0435\\u0440\\u0430\\u043b\\u044c\\u043d\\u044b\\u043c\\u0438 \\u0437\\u0430\\u043a\\u043e\\u043d\\u0430\\u043c\\u0438.\\n12.2. \\u041e\\u0431\\u0449\\u0435\\u0441\\u0442\\u0432\\u043e \\u043c\\u043e\\u0436\\u0435\\u0442 \\u0431\\u044b\\u0442\\u044c \\u043b\\u0438\\u043a\\u0432\\u0438\\u0434\\u0438\\u0440\\u043e\\u0432\\u0430\\u043d\\u043e \\u0434\\u043e\\u0431\\u0440\\u043e\\u0432\\u043e\\u043b\\u044c\\u043d\\u043e \\u0432 \\u043f\\u043e\\u0440\\u044f\\u0434\\u043a\\u0435, \\u0443\\u0441\\u0442\\u0430\\u043d\\u043e\\u0432\\u043b\\u0435\\u043d\\u043d\\u043e\\u043c \\u0413\\u0440\\u0430\\u0436\\u0434\\u0430\\u043d\\u0441\\u043a\\u0438\\u043c \\u043a\\u043e\\u0434\\u0435\\u043a\\u0441\\u043e\\u043c \\u0420\\u0424, \\u0441 \\u0443\\u0447\\u0435\\u0442\\u043e\\u043c \\u0442\\u0440\\u0435\\u0431\\u043e\\u0432\\u0430\\u043d\\u0438\\u0439 \\u0424\\u0435\\u0434\\u0435\\u0440\\u0430\\u043b\\u044c\\u043d\\u043e\\u0433\\u043e \\u0437\\u0430\\u043a\\u043e\\u043d\\u0430. \\u041e\\u0431\\u0449\\u0435\\u0441\\u0442\\u0432\\u043e \\u043c\\u043e\\u0436\\u0435\\u0442 \\u0431\\u044b\\u0442\\u044c \\u043b\\u0438\\u043a\\u0432\\u0438\\u0434\\u0438\\u0440\\u043e\\u0432\\u0430\\u043d\\u043e \\u0442\\u0430\\u043a\\u0436\\u0435 \\u043f\\u043e \\u0440\\u0435\\u0448\\u0435\\u043d\\u0438\\u044e \\u0441\\u0443\\u0434\\u0430 \\u043f\\u043e \\u043e\\u0441\\u043d\\u043e\\u0432\\u0430\\u043d\\u0438\\u044f\\u043c, \\u043f\\u0440\\u0435\\u0434\\u0443\\u0441\\u043c\\u043e\\u0442\\u0440\\u0435\\u043d\\u043d\\u044b\\u043c \\u0413\\u0440\\u0430\\u0436\\u0434\\u0430\\u043d\\u0441\\u043a\\u0438\\u043c \\u043a\\u043e\\u0434\\u0435\\u043a\\u0441\\u043e\\u043c \\u0420\\u0424.\\n\\u041b\\u0438\\u043a\\u0432\\u0438\\u0434\\u0430\\u0446\\u0438\\u044f \\u041e\\u0431\\u0449\\u0435\\u0441\\u0442\\u0432\\u0430 \\u0432\\u043b\\u0435\\u0447\\u0435\\u0442 \\u0437\\u0430 \\u0441\\u043e\\u0431\\u043e\\u0439 \\u0435\\u0433\\u043e \\u043f\\u0440\\u0435\\u043a\\u0440\\u0430\\u0449\\u0435\\u043d\\u0438\\u0435 \\u0431\\u0435\\u0437 \\u043f\\u0435\\u0440\\u0435\\u0445\\u043e\\u0434\\u0430 \\u043f\\u0440\\u0430\\u0432 \\u0438 \\u043e\\u0431\\u044f\\u0437\\u0430\\u043d\\u043d\\u043e\\u0441\\u0442\\u0435\\u0439 \\u0432 \\u043f\\u043e\\u0440\\u044f\\u0434\\u043a\\u0435 \\u043f\\u0440\\u0430\\u0432\\u043e\\u043f\\u0440\\u0435\\u0435\\u043c\\u0441\\u0442\\u0432\\u0430 \\u043a \\u0434\\u0440\\u0443\\u0433\\u0438\\u043c \\u043b\\u0438\\u0446\\u0430\\u043c.\\n\",\n          \"\\u0420\\u0415\\u0428\\u0415\\u041d\\u0418\\u0415 \\u2116 1\\n\\u0415\\u0434\\u0438\\u043d\\u0441\\u0442\\u0432\\u0435\\u043d\\u043d\\u043e\\u0433\\u043e \\u0443\\u0447\\u0440\\u0435\\u0434\\u0438\\u0442\\u0435\\u043b\\u044f\\n\\u041e\\u0431\\u0449\\u0435\\u0441\\u0442\\u0432\\u0430 \\u0441 \\u043e\\u0433\\u0440\\u0430\\u043d\\u0438\\u0447\\u0435\\u043d\\u043d\\u043e\\u0439 \\u043e\\u0442\\u0432\\u0435\\u0442\\u0441\\u0442\\u0432\\u0435\\u043d\\u043d\\u043e\\u0441\\u0442\\u044c\\u044e \\u00ab\\u0420\\u043e\\u043c\\u0430\\u0448\\u043a\\u0430\\u00bb\\n\\n \\u0433. \\u041c\\u043e\\u0441\\u043a\\u0432\\u0430                                                                                       \\u00ab___\\u00bb ________ 2014 \\u0433\\u043e\\u0434\\u0430    \\n                                             \\n\\u0415\\u0434\\u0438\\u043d\\u0441\\u0442\\u0432\\u0435\\u043d\\u043d\\u044b\\u0439 \\u0423\\u0447\\u0440\\u0435\\u0434\\u0438\\u0442\\u0435\\u043b\\u044c \\u041e\\u0431\\u0449\\u0435\\u0441\\u0442\\u0432\\u0430 \\u0441 \\u043e\\u0433\\u0440\\u0430\\u043d\\u0438\\u0447\\u0435\\u043d\\u043d\\u043e\\u0439 \\u043e\\u0442\\u0432\\u0435\\u0442\\u0441\\u0442\\u0432\\u0435\\u043d\\u043d\\u043e\\u0441\\u0442\\u044c\\u044e \\u00ab\\u0420\\u043e\\u043c\\u0430\\u0448\\u043a\\u0430\\u00bb \\u2013 \\u0413\\u0440\\u0430\\u0436\\u0434\\u0430\\u043d\\u0438\\u043d \\u0420\\u043e\\u0441\\u0441\\u0438\\u0439\\u0441\\u043a\\u043e\\u0439 \\u0424\\u0435\\u0434\\u0435\\u0440\\u0430\\u0446\\u0438\\u0438 (\\u0434\\u0430\\u043d\\u043d\\u044b\\u0435 \\u043f\\u0430\\u0441\\u043f\\u043e\\u0440\\u0442\\u0430),\\n \\n\\u0420\\u0415\\u0428\\u0418\\u041b:\\n \\n\\u0421\\u043e\\u0437\\u0434\\u0430\\u0442\\u044c \\u041e\\u0431\\u0449\\u0435\\u0441\\u0442\\u0432\\u043e \\u0441 \\u043e\\u0433\\u0440\\u0430\\u043d\\u0438\\u0447\\u0435\\u043d\\u043d\\u043e\\u0439 \\u043e\\u0442\\u0432\\u0435\\u0442\\u0441\\u0442\\u0432\\u0435\\u043d\\u043d\\u043e\\u0441\\u0442\\u044c\\u044e \\u00ab\\u0420\\u043e\\u043c\\u0430\\u0448\\u043a\\u0430\\u00bb.\\n\\u0423\\u0442\\u0432\\u0435\\u0440\\u0434\\u0438\\u0442\\u044c \\u0423\\u0441\\u0442\\u0430\\u0432 \\u041e\\u0431\\u0449\\u0435\\u0441\\u0442\\u0432\\u0430 \\u0441 \\u043e\\u0433\\u0440\\u0430\\u043d\\u0438\\u0447\\u0435\\u043d\\u043d\\u043e\\u0439 \\u043e\\u0442\\u0432\\u0435\\u0442\\u0441\\u0442\\u0432\\u0435\\u043d\\u043d\\u043e\\u0441\\u0442\\u044c\\u044e \\u00ab\\u0420\\u043e\\u043c\\u0430\\u0448\\u043a\\u0430\\u00bb.\\n\\u041e\\u043f\\u0440\\u0435\\u0434\\u0435\\u043b\\u0438\\u0442\\u044c \\u0443\\u0441\\u0442\\u0430\\u0432\\u043d\\u044b\\u0439 \\u043a\\u0430\\u043f\\u0438\\u0442\\u0430\\u043b \\u041e\\u0431\\u0449\\u0435\\u0441\\u0442\\u0432\\u0430 \\u0441 \\u043e\\u0433\\u0440\\u0430\\u043d\\u0438\\u0447\\u0435\\u043d\\u043d\\u043e\\u0439 \\u043e\\u0442\\u0432\\u0435\\u0442\\u0441\\u0442\\u0432\\u0435\\u043d\\u043d\\u043e\\u0441\\u0442\\u044c\\u044e \\u00ab\\u0420\\u043e\\u043c\\u0430\\u0448\\u043a\\u0430\\u00bb \\u0432 \\u0440\\u0430\\u0437\\u043c\\u0435\\u0440\\u0435 10 000 (\\u0434\\u0435\\u0441\\u044f\\u0442\\u044c \\u0442\\u044b\\u0441\\u044f\\u0447) \\u0440\\u0443\\u0431\\u043b\\u0435\\u0439. \\u0414\\u043e\\u043b\\u0438 \\u0440\\u0430\\u0441\\u043f\\u0440\\u0435\\u0434\\u0435\\u043b\\u0438\\u0442\\u044c \\u0441\\u043b\\u0435\\u0434\\u0443\\u044e\\u0449\\u0438\\u043c \\u043e\\u0431\\u0440\\u0430\\u0437\\u043e\\u043c:\\n\\u0413\\u0440\\u0430\\u0436\\u0434\\u0430\\u043d\\u0438\\u043d \\u0420\\u043e\\u0441\\u0441\\u0438\\u0439\\u0441\\u043a\\u043e\\u0439 \\u0424\\u0435\\u0434\\u0435\\u0440\\u0430\\u0446\\u0438\\u0438\\u2013 10 000 (\\u0434\\u0435\\u0441\\u044f\\u0442\\u044c \\u0442\\u044b\\u0441\\u044f\\u0447) \\u0440\\u0443\\u0431\\u043b\\u0435\\u0439 \\u2013 100 % \\u0443\\u0441\\u0442\\u0430\\u0432\\u043d\\u043e\\u0433\\u043e \\u043a\\u0430\\u043f\\u0438\\u0442\\u0430\\u043b\\u0430 (\\u043e\\u0434\\u043d\\u0430 \\u0434\\u043e\\u043b\\u044f). \\u0423\\u0447\\u0440\\u0435\\u0434\\u0438\\u0442\\u0435\\u043b\\u044c \\u041e\\u0431\\u0449\\u0435\\u0441\\u0442\\u0432\\u0430 \\u0441 \\u043e\\u0433\\u0440\\u0430\\u043d\\u0438\\u0447\\u0435\\u043d\\u043d\\u043e\\u0439 \\u043e\\u0442\\u0432\\u0435\\u0442\\u0441\\u0442\\u0432\\u0435\\u043d\\u043d\\u043e\\u0441\\u0442\\u044c\\u044e \\u00ab\\u0420\\u043e\\u043c\\u0430\\u0448\\u043a\\u0430\\u00bb \\u043e\\u043f\\u043b\\u0430\\u0447\\u0438\\u0432\\u0430\\u0435\\u0442 \\u0441\\u0432\\u043e\\u044e \\u0434\\u043e\\u043b\\u044e \\u0432 \\u0440\\u0430\\u0437\\u043c\\u0435\\u0440\\u0435 100 % \\u0434\\u0435\\u043d\\u0435\\u0436\\u043d\\u044b\\u043c\\u0438 \\u0441\\u0440\\u0435\\u0434\\u0441\\u0442\\u0432\\u0430\\u043c\\u0438 \\u0432 \\u0442\\u0435\\u0447\\u0435\\u043d\\u0438\\u0435 \\u0447\\u0435\\u0442\\u044b\\u0440\\u0435\\u0445 \\u043c\\u0435\\u0441\\u044f\\u0446\\u0435\\u0432 \\u0441 \\u043c\\u043e\\u043c\\u0435\\u043d\\u0442\\u0430 \\u0433\\u043e\\u0441\\u0443\\u0434\\u0430\\u0440\\u0441\\u0442\\u0432\\u0435\\u043d\\u043d\\u043e\\u0439 \\u0440\\u0435\\u0433\\u0438\\u0441\\u0442\\u0440\\u0430\\u0446\\u0438\\u0438 \\u043e\\u0431\\u0449\\u0435\\u0441\\u0442\\u0432\\u0430.\\n\\n\\u041e\\u043f\\u0440\\u0435\\u0434\\u0435\\u043b\\u0438\\u0442\\u044c:\\n\\u041c\\u0435\\u0441\\u0442\\u043e\\u043c \\u043d\\u0430\\u0445\\u043e\\u0436\\u0434\\u0435\\u043d\\u0438\\u044f \\u041e\\u0431\\u0449\\u0435\\u0441\\u0442\\u0432\\u0430: \\u0433\\u043e\\u0440\\u043e\\u0434 \\u041c\\u043e\\u0441\\u043a\\u0432\\u0430.\\n\\u0410\\u0434\\u0440\\u0435\\u0441\\u043e\\u043c, \\u043f\\u043e\\u0447\\u0442\\u043e\\u0432\\u044b\\u043c \\u0430\\u0434\\u0440\\u0435\\u0441\\u043e\\u043c \\u0438 \\u043c\\u0435\\u0441\\u0442\\u043e\\u043c \\u0445\\u0440\\u0430\\u043d\\u0435\\u043d\\u0438\\u044f \\u0434\\u043e\\u043a\\u0443\\u043c\\u0435\\u043d\\u0442\\u043e\\u0432 \\u041e\\u0431\\u0449\\u0435\\u0441\\u0442\\u0432\\u0430: . \\u041c\\u043e\\u0441\\u043a\\u0432\\u0430, \\u0443\\u043b. \\u0413\\u043e\\u0440\\u0431\\u0443\\u043d\\u043e\\u0432\\u0430, \\u0434. 2, \\u043e\\u0444\\u0438\\u0441 45.\\n\\u0413\\u0435\\u043d\\u0435\\u0440\\u0430\\u043b\\u044c\\u043d\\u044b\\u043c \\u0434\\u0438\\u0440\\u0435\\u043a\\u0442\\u043e\\u0440\\u043e\\u043c \\u041e\\u0431\\u0449\\u0435\\u0441\\u0442\\u0432\\u0430 \\u0441 \\u043e\\u0433\\u0440\\u0430\\u043d\\u0438\\u0447\\u0435\\u043d\\u043d\\u043e\\u0439 \\u043e\\u0442\\u0432\\u0435\\u0442\\u0441\\u0442\\u0432\\u0435\\u043d\\u043d\\u043e\\u0441\\u0442\\u044c\\u044e \\u00ab\\u0420\\u043e\\u043c\\u0430\\u0448\\u043a\\u0430\\u00bb \\u0438\\u0437\\u0431\\u0440\\u0430\\u0442\\u044c \\u0413\\u0440\\u0430\\u0436\\u0434\\u0430\\u043d\\u0438\\u043d\\u0430 \\u0420\\u043e\\u0441\\u0441\\u0438\\u0439\\u0441\\u043a\\u043e\\u0439 \\u0424\\u0435\\u0434\\u0435\\u0440\\u0430\\u0446\\u0438\\u0438.\\n\\u0423\\u0442\\u0432\\u0435\\u0440\\u0434\\u0438\\u0442\\u044c \\u044d\\u0441\\u043a\\u0438\\u0437 \\u043f\\u0435\\u0447\\u0430\\u0442\\u0438 \\u041e\\u0431\\u0449\\u0435\\u0441\\u0442\\u0432\\u0430 \\u0441 \\u043e\\u0433\\u0440\\u0430\\u043d\\u0438\\u0447\\u0435\\u043d\\u043d\\u043e\\u0439 \\u043e\\u0442\\u0432\\u0435\\u0442\\u0441\\u0442\\u0432\\u0435\\u043d\\u043d\\u043e\\u0441\\u0442\\u044c\\u044e \\u00ab\\u0420\\u043e\\u043c\\u0430\\u0448\\u043a\\u0430\\u00bb, \\u0438 \\u0438\\u0437\\u0433\\u043e\\u0442\\u043e\\u0432\\u0438\\u0442\\u044c \\u043f\\u0435\\u0447\\u0430\\u0442\\u044c \\u041e\\u0431\\u0449\\u0435\\u0441\\u0442\\u0432\\u0430 \\u0441 \\u043e\\u0433\\u0440\\u0430\\u043d\\u0438\\u0447\\u0435\\u043d\\u043d\\u043e\\u0439 \\u043e\\u0442\\u0432\\u0435\\u0442\\u0441\\u0442\\u0432\\u0435\\u043d\\u043d\\u043e\\u0441\\u0442\\u044c\\u044e \\u00ab\\u0420\\u043e\\u043c\\u0430\\u0448\\u043a\\u0430\\u00bb \\u0441\\u043e\\u0433\\u043b\\u0430\\u0441\\u043d\\u043e \\u0443\\u0442\\u0432\\u0435\\u0440\\u0436\\u0434\\u0435\\u043d\\u043d\\u043e\\u043c\\u0443 \\u044d\\u0441\\u043a\\u0438\\u0437\\u0443.\\n\\u041f\\u0440\\u043e\\u0432\\u0435\\u0441\\u0442\\u0438 \\u0433\\u043e\\u0441\\u0443\\u0434\\u0430\\u0440\\u0441\\u0442\\u0432\\u0435\\u043d\\u043d\\u0443\\u044e \\u0440\\u0435\\u0433\\u0438\\u0441\\u0442\\u0440\\u0430\\u0446\\u0438\\u044e \\u041e\\u0431\\u0449\\u0435\\u0441\\u0442\\u0432\\u0430 \\u0441 \\u043e\\u0433\\u0440\\u0430\\u043d\\u0438\\u0447\\u0435\\u043d\\u043d\\u043e\\u0439 \\u043e\\u0442\\u0432\\u0435\\u0442\\u0441\\u0442\\u0432\\u0435\\u043d\\u043d\\u043e\\u0441\\u0442\\u044c\\u044e \\u00ab\\u0420\\u043e\\u043c\\u0430\\u0448\\u043a\\u0430\\u00bb. \\u041e\\u0442\\u0432\\u0435\\u0442\\u0441\\u0442\\u0432\\u0435\\u043d\\u043d\\u044b\\u043c \\u0437\\u0430 \\u043f\\u0440\\u043e\\u0432\\u0435\\u0434\\u0435\\u043d\\u0438\\u0435 \\u0433\\u043e\\u0441\\u0443\\u0434\\u0430\\u0440\\u0441\\u0442\\u0432\\u0435\\u043d\\u043d\\u043e\\u0439 \\u0440\\u0435\\u0433\\u0438\\u0441\\u0442\\u0440\\u0430\\u0446\\u0438\\u0438 \\u041e\\u0431\\u0449\\u0435\\u0441\\u0442\\u0432\\u0430 \\u0441 \\u043e\\u0433\\u0440\\u0430\\u043d\\u0438\\u0447\\u0435\\u043d\\u043d\\u043e\\u0439 \\u043e\\u0442\\u0432\\u0435\\u0442\\u0441\\u0442\\u0432\\u0435\\u043d\\u043d\\u043e\\u0441\\u0442\\u044c\\u044e \\u00ab\\u0420\\u043e\\u043c\\u0430\\u0448\\u043a\\u0430\\u00bb \\u043d\\u0430\\u0437\\u043d\\u0430\\u0447\\u0438\\u0442\\u044c \\u0413\\u0440\\u0430\\u0436\\u0434\\u0430\\u043d\\u0438\\u043d\\u0430 \\u0420\\u043e\\u0441\\u0441\\u0438\\u0439\\u0441\\u043a\\u043e\\u0439 \\u0424\\u0435\\u0434\\u0435\\u0440\\u0430\\u0446\\u0438\\u0438, \\u0441 \\u043f\\u0440\\u0430\\u0432\\u043e\\u043c \\u043f\\u0435\\u0440\\u0435\\u0434\\u043e\\u0432\\u0435\\u0440\\u0438\\u044f.\\n\\n\\u0415\\u0434\\u0438\\u043d\\u0441\\u0442\\u0432\\u0435\\u043d\\u043d\\u044b\\u0439 \\u0423\\u0447\\u0440\\u0435\\u0434\\u0438\\u0442\\u0435\\u043b\\u044c:                             _________________   \",\n          \"\\u041e\\u0411\\u0429\\u0415\\u0421\\u0422\\u0412\\u041e \\u0421 \\u041e\\u0413\\u0420\\u0410\\u041d\\u0418\\u0427\\u0415\\u041d\\u041d\\u041e\\u0419 \\u041e\\u0422\\u0412\\u0415\\u0422\\u0421\\u0422\\u0412\\u0415\\u041d\\u041d\\u041e\\u0421\\u0422\\u042c\\u042e \\u00ab________________\\u00bb\\n\\u041e\\u0413\\u0420\\u041d: ____________, \\u0418\\u041d\\u041d/\\u041a\\u041f\\u041f: _____________/__________________\\n______________________________________________ (\\u0410\\u0434\\u0440\\u0435\\u0441 \\u043e\\u0431\\u0449\\u0435\\u0441\\u0442\\u0432\\u0430)\\n(\\u0434\\u0430\\u043b\\u0435\\u0435 \\u2013 \\u041e\\u0431\\u0449\\u0435\\u0441\\u0442\\u0432\\u043e)\\n\\n\\u0420\\u0415\\u0428\\u0415\\u041d\\u0418\\u0415 \\u2116 _____\\n \\u0435\\u0434\\u0438\\u043d\\u0441\\u0442\\u0432\\u0435\\u043d\\u043d\\u043e\\u0433\\u043e \\u0443\\u0447\\u0430\\u0441\\u0442\\u043d\\u0438\\u043a\\u0430\\n\\u0415\\u0434\\u0438\\u043d\\u0441\\u0442\\u0432\\u0435\\u043d\\u043d\\u044b\\u0439 \\u0443\\u0447\\u0430\\u0441\\u0442\\u043d\\u0438\\u043a:\\n\\n\\n\\u0420\\u0435\\u0448\\u0438\\u043b:\\n\\n\\n\\n\\n\\n\"\n        ],\n        \"semantic_type\": \"\",\n        \"description\": \"\"\n      }\n    },\n    {\n      \"column\": \"filename\",\n      \"properties\": {\n        \"dtype\": \"object\",\n        \"semantic_type\": \"\",\n        \"description\": \"\"\n      }\n    }\n  ]\n}"
            }
          },
          "metadata": {},
          "execution_count": 170
        }
      ]
    },
    {
      "cell_type": "code",
      "source": [
        "data.info()"
      ],
      "metadata": {
        "id": "-38ulHzHYv2M",
        "colab": {
          "base_uri": "https://localhost:8080/"
        },
        "outputId": "e4de5247-3407-4efa-d9fe-8196c0ee3c6f"
      },
      "execution_count": 171,
      "outputs": [
        {
          "output_type": "stream",
          "name": "stdout",
          "text": [
            "<class 'pandas.core.frame.DataFrame'>\n",
            "RangeIndex: 94 entries, 0 to 93\n",
            "Data columns (total 3 columns):\n",
            " #   Column    Non-Null Count  Dtype \n",
            "---  ------    --------------  ----- \n",
            " 0   class     94 non-null     object\n",
            " 1   text      94 non-null     object\n",
            " 2   filename  94 non-null     object\n",
            "dtypes: object(3)\n",
            "memory usage: 2.3+ KB\n"
          ]
        }
      ]
    },
    {
      "cell_type": "code",
      "source": [
        "data.isnull().sum()"
      ],
      "metadata": {
        "id": "1yRy5S7sxWnb"
      },
      "execution_count": null,
      "outputs": []
    },
    {
      "cell_type": "code",
      "source": [
        "df = pd.read_csv('/content/drive/MyDrive/Хакатон/train_dataset_dataset/data/sample.csv')\n",
        "df"
      ],
      "metadata": {
        "id": "QZCDEcsnrO3j",
        "colab": {
          "base_uri": "https://localhost:8080/",
          "height": 423
        },
        "outputId": "7dcf7dbc-201f-4d26-89c2-fc73dbe3817a"
      },
      "execution_count": 172,
      "outputs": [
        {
          "output_type": "execute_result",
          "data": {
            "text/plain": [
              "           class                                               text\n",
              "0    arrangement  СОГЛАШЕНИЕ N 8\\nо расторжении трудового догово...\n",
              "1    arrangement  Соглашение о предоставлении опциона на заключе...\n",
              "2    arrangement  Соглашение\\nо реструктуризации задолженности\\n...\n",
              "3    arrangement  Дополнительное соглашение\\r\\nк договору купли-...\n",
              "4    arrangement  Соглашение\\nо расторжении договора об оказании...\n",
              "..           ...                                                ...\n",
              "496         bill  Счет № 5 от 01 октября 2020 г.\\r\\n\\r\\nПоставщи...\n",
              "497         bill  Счет на оплату № от 14 октября 2020 года\\r\\n\\r...\n",
              "498         bill  Счет №23                  от 12.09.2024 г.\\t\\t...\n",
              "499         bill  \"Огурец!\" (ИП Микрюков В.В.)\\t\\t\\t\\t\\t\\t\\r\\n\\t...\n",
              "500         bill  ООО «Тигр-Ряв»\\t\\t \\r\\nг. Липецк, ул. Масленая...\n",
              "\n",
              "[501 rows x 2 columns]"
            ],
            "text/html": [
              "\n",
              "  <div id=\"df-91cbfdc6-7898-4b80-97e9-bd883598b1ad\" class=\"colab-df-container\">\n",
              "    <div>\n",
              "<style scoped>\n",
              "    .dataframe tbody tr th:only-of-type {\n",
              "        vertical-align: middle;\n",
              "    }\n",
              "\n",
              "    .dataframe tbody tr th {\n",
              "        vertical-align: top;\n",
              "    }\n",
              "\n",
              "    .dataframe thead th {\n",
              "        text-align: right;\n",
              "    }\n",
              "</style>\n",
              "<table border=\"1\" class=\"dataframe\">\n",
              "  <thead>\n",
              "    <tr style=\"text-align: right;\">\n",
              "      <th></th>\n",
              "      <th>class</th>\n",
              "      <th>text</th>\n",
              "    </tr>\n",
              "  </thead>\n",
              "  <tbody>\n",
              "    <tr>\n",
              "      <th>0</th>\n",
              "      <td>arrangement</td>\n",
              "      <td>СОГЛАШЕНИЕ N 8\\nо расторжении трудового догово...</td>\n",
              "    </tr>\n",
              "    <tr>\n",
              "      <th>1</th>\n",
              "      <td>arrangement</td>\n",
              "      <td>Соглашение о предоставлении опциона на заключе...</td>\n",
              "    </tr>\n",
              "    <tr>\n",
              "      <th>2</th>\n",
              "      <td>arrangement</td>\n",
              "      <td>Соглашение\\nо реструктуризации задолженности\\n...</td>\n",
              "    </tr>\n",
              "    <tr>\n",
              "      <th>3</th>\n",
              "      <td>arrangement</td>\n",
              "      <td>Дополнительное соглашение\\r\\nк договору купли-...</td>\n",
              "    </tr>\n",
              "    <tr>\n",
              "      <th>4</th>\n",
              "      <td>arrangement</td>\n",
              "      <td>Соглашение\\nо расторжении договора об оказании...</td>\n",
              "    </tr>\n",
              "    <tr>\n",
              "      <th>...</th>\n",
              "      <td>...</td>\n",
              "      <td>...</td>\n",
              "    </tr>\n",
              "    <tr>\n",
              "      <th>496</th>\n",
              "      <td>bill</td>\n",
              "      <td>Счет № 5 от 01 октября 2020 г.\\r\\n\\r\\nПоставщи...</td>\n",
              "    </tr>\n",
              "    <tr>\n",
              "      <th>497</th>\n",
              "      <td>bill</td>\n",
              "      <td>Счет на оплату № от 14 октября 2020 года\\r\\n\\r...</td>\n",
              "    </tr>\n",
              "    <tr>\n",
              "      <th>498</th>\n",
              "      <td>bill</td>\n",
              "      <td>Счет №23                  от 12.09.2024 г.\\t\\t...</td>\n",
              "    </tr>\n",
              "    <tr>\n",
              "      <th>499</th>\n",
              "      <td>bill</td>\n",
              "      <td>\"Огурец!\" (ИП Микрюков В.В.)\\t\\t\\t\\t\\t\\t\\r\\n\\t...</td>\n",
              "    </tr>\n",
              "    <tr>\n",
              "      <th>500</th>\n",
              "      <td>bill</td>\n",
              "      <td>ООО «Тигр-Ряв»\\t\\t \\r\\nг. Липецк, ул. Масленая...</td>\n",
              "    </tr>\n",
              "  </tbody>\n",
              "</table>\n",
              "<p>501 rows × 2 columns</p>\n",
              "</div>\n",
              "    <div class=\"colab-df-buttons\">\n",
              "\n",
              "  <div class=\"colab-df-container\">\n",
              "    <button class=\"colab-df-convert\" onclick=\"convertToInteractive('df-91cbfdc6-7898-4b80-97e9-bd883598b1ad')\"\n",
              "            title=\"Convert this dataframe to an interactive table.\"\n",
              "            style=\"display:none;\">\n",
              "\n",
              "  <svg xmlns=\"http://www.w3.org/2000/svg\" height=\"24px\" viewBox=\"0 -960 960 960\">\n",
              "    <path d=\"M120-120v-720h720v720H120Zm60-500h600v-160H180v160Zm220 220h160v-160H400v160Zm0 220h160v-160H400v160ZM180-400h160v-160H180v160Zm440 0h160v-160H620v160ZM180-180h160v-160H180v160Zm440 0h160v-160H620v160Z\"/>\n",
              "  </svg>\n",
              "    </button>\n",
              "\n",
              "  <style>\n",
              "    .colab-df-container {\n",
              "      display:flex;\n",
              "      gap: 12px;\n",
              "    }\n",
              "\n",
              "    .colab-df-convert {\n",
              "      background-color: #E8F0FE;\n",
              "      border: none;\n",
              "      border-radius: 50%;\n",
              "      cursor: pointer;\n",
              "      display: none;\n",
              "      fill: #1967D2;\n",
              "      height: 32px;\n",
              "      padding: 0 0 0 0;\n",
              "      width: 32px;\n",
              "    }\n",
              "\n",
              "    .colab-df-convert:hover {\n",
              "      background-color: #E2EBFA;\n",
              "      box-shadow: 0px 1px 2px rgba(60, 64, 67, 0.3), 0px 1px 3px 1px rgba(60, 64, 67, 0.15);\n",
              "      fill: #174EA6;\n",
              "    }\n",
              "\n",
              "    .colab-df-buttons div {\n",
              "      margin-bottom: 4px;\n",
              "    }\n",
              "\n",
              "    [theme=dark] .colab-df-convert {\n",
              "      background-color: #3B4455;\n",
              "      fill: #D2E3FC;\n",
              "    }\n",
              "\n",
              "    [theme=dark] .colab-df-convert:hover {\n",
              "      background-color: #434B5C;\n",
              "      box-shadow: 0px 1px 3px 1px rgba(0, 0, 0, 0.15);\n",
              "      filter: drop-shadow(0px 1px 2px rgba(0, 0, 0, 0.3));\n",
              "      fill: #FFFFFF;\n",
              "    }\n",
              "  </style>\n",
              "\n",
              "    <script>\n",
              "      const buttonEl =\n",
              "        document.querySelector('#df-91cbfdc6-7898-4b80-97e9-bd883598b1ad button.colab-df-convert');\n",
              "      buttonEl.style.display =\n",
              "        google.colab.kernel.accessAllowed ? 'block' : 'none';\n",
              "\n",
              "      async function convertToInteractive(key) {\n",
              "        const element = document.querySelector('#df-91cbfdc6-7898-4b80-97e9-bd883598b1ad');\n",
              "        const dataTable =\n",
              "          await google.colab.kernel.invokeFunction('convertToInteractive',\n",
              "                                                    [key], {});\n",
              "        if (!dataTable) return;\n",
              "\n",
              "        const docLinkHtml = 'Like what you see? Visit the ' +\n",
              "          '<a target=\"_blank\" href=https://colab.research.google.com/notebooks/data_table.ipynb>data table notebook</a>'\n",
              "          + ' to learn more about interactive tables.';\n",
              "        element.innerHTML = '';\n",
              "        dataTable['output_type'] = 'display_data';\n",
              "        await google.colab.output.renderOutput(dataTable, element);\n",
              "        const docLink = document.createElement('div');\n",
              "        docLink.innerHTML = docLinkHtml;\n",
              "        element.appendChild(docLink);\n",
              "      }\n",
              "    </script>\n",
              "  </div>\n",
              "\n",
              "\n",
              "<div id=\"df-245935f6-2477-4b62-a3ba-bd9fd82a0fc9\">\n",
              "  <button class=\"colab-df-quickchart\" onclick=\"quickchart('df-245935f6-2477-4b62-a3ba-bd9fd82a0fc9')\"\n",
              "            title=\"Suggest charts\"\n",
              "            style=\"display:none;\">\n",
              "\n",
              "<svg xmlns=\"http://www.w3.org/2000/svg\" height=\"24px\"viewBox=\"0 0 24 24\"\n",
              "     width=\"24px\">\n",
              "    <g>\n",
              "        <path d=\"M19 3H5c-1.1 0-2 .9-2 2v14c0 1.1.9 2 2 2h14c1.1 0 2-.9 2-2V5c0-1.1-.9-2-2-2zM9 17H7v-7h2v7zm4 0h-2V7h2v10zm4 0h-2v-4h2v4z\"/>\n",
              "    </g>\n",
              "</svg>\n",
              "  </button>\n",
              "\n",
              "<style>\n",
              "  .colab-df-quickchart {\n",
              "      --bg-color: #E8F0FE;\n",
              "      --fill-color: #1967D2;\n",
              "      --hover-bg-color: #E2EBFA;\n",
              "      --hover-fill-color: #174EA6;\n",
              "      --disabled-fill-color: #AAA;\n",
              "      --disabled-bg-color: #DDD;\n",
              "  }\n",
              "\n",
              "  [theme=dark] .colab-df-quickchart {\n",
              "      --bg-color: #3B4455;\n",
              "      --fill-color: #D2E3FC;\n",
              "      --hover-bg-color: #434B5C;\n",
              "      --hover-fill-color: #FFFFFF;\n",
              "      --disabled-bg-color: #3B4455;\n",
              "      --disabled-fill-color: #666;\n",
              "  }\n",
              "\n",
              "  .colab-df-quickchart {\n",
              "    background-color: var(--bg-color);\n",
              "    border: none;\n",
              "    border-radius: 50%;\n",
              "    cursor: pointer;\n",
              "    display: none;\n",
              "    fill: var(--fill-color);\n",
              "    height: 32px;\n",
              "    padding: 0;\n",
              "    width: 32px;\n",
              "  }\n",
              "\n",
              "  .colab-df-quickchart:hover {\n",
              "    background-color: var(--hover-bg-color);\n",
              "    box-shadow: 0 1px 2px rgba(60, 64, 67, 0.3), 0 1px 3px 1px rgba(60, 64, 67, 0.15);\n",
              "    fill: var(--button-hover-fill-color);\n",
              "  }\n",
              "\n",
              "  .colab-df-quickchart-complete:disabled,\n",
              "  .colab-df-quickchart-complete:disabled:hover {\n",
              "    background-color: var(--disabled-bg-color);\n",
              "    fill: var(--disabled-fill-color);\n",
              "    box-shadow: none;\n",
              "  }\n",
              "\n",
              "  .colab-df-spinner {\n",
              "    border: 2px solid var(--fill-color);\n",
              "    border-color: transparent;\n",
              "    border-bottom-color: var(--fill-color);\n",
              "    animation:\n",
              "      spin 1s steps(1) infinite;\n",
              "  }\n",
              "\n",
              "  @keyframes spin {\n",
              "    0% {\n",
              "      border-color: transparent;\n",
              "      border-bottom-color: var(--fill-color);\n",
              "      border-left-color: var(--fill-color);\n",
              "    }\n",
              "    20% {\n",
              "      border-color: transparent;\n",
              "      border-left-color: var(--fill-color);\n",
              "      border-top-color: var(--fill-color);\n",
              "    }\n",
              "    30% {\n",
              "      border-color: transparent;\n",
              "      border-left-color: var(--fill-color);\n",
              "      border-top-color: var(--fill-color);\n",
              "      border-right-color: var(--fill-color);\n",
              "    }\n",
              "    40% {\n",
              "      border-color: transparent;\n",
              "      border-right-color: var(--fill-color);\n",
              "      border-top-color: var(--fill-color);\n",
              "    }\n",
              "    60% {\n",
              "      border-color: transparent;\n",
              "      border-right-color: var(--fill-color);\n",
              "    }\n",
              "    80% {\n",
              "      border-color: transparent;\n",
              "      border-right-color: var(--fill-color);\n",
              "      border-bottom-color: var(--fill-color);\n",
              "    }\n",
              "    90% {\n",
              "      border-color: transparent;\n",
              "      border-bottom-color: var(--fill-color);\n",
              "    }\n",
              "  }\n",
              "</style>\n",
              "\n",
              "  <script>\n",
              "    async function quickchart(key) {\n",
              "      const quickchartButtonEl =\n",
              "        document.querySelector('#' + key + ' button');\n",
              "      quickchartButtonEl.disabled = true;  // To prevent multiple clicks.\n",
              "      quickchartButtonEl.classList.add('colab-df-spinner');\n",
              "      try {\n",
              "        const charts = await google.colab.kernel.invokeFunction(\n",
              "            'suggestCharts', [key], {});\n",
              "      } catch (error) {\n",
              "        console.error('Error during call to suggestCharts:', error);\n",
              "      }\n",
              "      quickchartButtonEl.classList.remove('colab-df-spinner');\n",
              "      quickchartButtonEl.classList.add('colab-df-quickchart-complete');\n",
              "    }\n",
              "    (() => {\n",
              "      let quickchartButtonEl =\n",
              "        document.querySelector('#df-245935f6-2477-4b62-a3ba-bd9fd82a0fc9 button');\n",
              "      quickchartButtonEl.style.display =\n",
              "        google.colab.kernel.accessAllowed ? 'block' : 'none';\n",
              "    })();\n",
              "  </script>\n",
              "</div>\n",
              "    </div>\n",
              "  </div>\n"
            ],
            "application/vnd.google.colaboratory.intrinsic+json": {
              "type": "dataframe",
              "variable_name": "df",
              "summary": "{\n  \"name\": \"df\",\n  \"rows\": 501,\n  \"fields\": [\n    {\n      \"column\": \"class\",\n      \"properties\": {\n        \"dtype\": \"category\",\n        \"num_unique_values\": 11,\n        \"samples\": [\n          \"order\",\n          \"arrangement\",\n          \"invoice\"\n        ],\n        \"semantic_type\": \"\",\n        \"description\": \"\"\n      }\n    },\n    {\n      \"column\": \"text\",\n      \"properties\": {\n        \"dtype\": \"string\",\n        \"num_unique_values\": 498,\n        \"samples\": [\n          \"\\t\\t\\t\\t\\t\\t\\t\\t\\t\\t\\t\\t\\t\\t\\t\\t\\t\\t\\t\\t\\t\\t\\t\\t\\t\\t\\t\\t\\t\\t\\t\\t\\t\\t\\t\\t\\t\\t\\t\\t\\t\\t\\t\\t\\t\\t\\t\\t\\t\\t\\t\\t\\t\\t\\t\\t\\t\\t\\t\\t\\t\\t\\t\\t\\t\\t\\t\\t\\t\\t\\t\\t\\t\\t\\t\\t\\t\\t\\t\\t\\t\\t\\t\\t\\t\\t\\t\\t\\t\\t\\t\\t\\t\\t\\t\\t\\t\\t\\t\\t\\t\\t\\t\\t\\t\\t\\t\\t\\t\\t\\t\\t\\t\\t\\t\\t\\t\\t\\t\\t\\t\\t\\t\\t\\t\\t\\t\\t\\t\\t\\t\\t\\t\\t\\t\\t\\t\\t\\t\\t\\t\\t\\t\\t\\t\\t\\t\\t\\t\\t\\t\\t\\t\\t\\t\\t\\t\\t\\t\\t\\t\\t\\t\\t\\t\\t\\u041f\\u0440\\u0438\\u043b\\u043e\\u0436\\u0435\\u043d\\u0438\\u0435 \\u2116 1\\r\\n\\t\\t\\t\\t\\t\\t\\t\\t\\t\\t\\t\\t\\t\\t\\t\\t\\t\\t\\t\\t\\t\\t\\t\\t\\t\\t\\t\\t\\t\\t\\t\\t\\t\\t\\t\\t\\t\\t\\t\\t\\t\\t\\t\\t\\t\\t\\t\\t\\t\\t\\t\\t\\t\\t\\t\\t\\t\\t\\t\\t\\t\\t\\t\\t\\t\\t\\t\\t\\t\\t\\t\\t\\t\\t\\t\\t\\t\\t\\t\\t\\t\\t\\t\\t\\t\\t\\t\\t\\t\\t\\t\\t\\t\\t\\t\\t\\t\\t\\t\\t\\t\\t\\t\\t\\t\\t\\t\\t\\t\\t\\t\\t\\t\\t\\t\\t\\t\\t\\t\\t\\t\\t\\t\\t\\t\\t\\t\\t\\t\\t\\t\\t\\t\\t\\t\\\"\\u043a \\u043f\\u043e\\u0441\\u0442\\u0430\\u043d\\u043e\\u0432\\u043b\\u0435\\u043d\\u0438\\u044e \\u041f\\u0440\\u0430\\u0432\\u0438\\u0442\\u0435\\u043b\\u044c\\u0441\\u0442\\u0432\\u0430\\n\\u0420\\u043e\\u0441\\u0441\\u0438\\u0439\\u0441\\u043a\\u043e\\u0439 \\u0424\\u0435\\u0434\\u0435\\u0440\\u0430\\u0446\\u0438\\u0438\\n\\u043e\\u0442 26 \\u0434\\u0435\\u043a\\u0430\\u0431\\u0440\\u044f 2011 \\u0433. \\u2116 1137\\\"\\t\\t\\t\\t\\t\\t\\t\\t\\t\\t\\t\\t\\t\\t\\t\\t\\t\\t\\t\\t\\t\\t\\t\\t\\t\\t\\t\\t\\t\\t\\t\\r\\n\\t\\t\\t\\t\\t\\t\\t\\t\\t\\t\\t\\t\\t\\t\\t\\t\\t\\t\\t\\t\\t\\t\\t\\t\\t\\t\\t\\t\\t\\t\\t\\t\\t\\t\\t\\t\\t\\t\\t\\t\\t\\t\\t\\t\\t\\t\\t\\t\\t\\t\\t\\t\\t\\t\\t\\t\\t\\t\\t\\t\\t\\t\\t\\t\\t\\t\\t\\t\\t\\t\\t\\t\\t\\t\\t\\t\\t\\t\\t\\t\\t\\t\\t\\t\\t\\t\\t\\t\\t\\t\\t\\t\\t\\t\\t\\t\\t\\t\\t\\t\\t\\t\\t\\t\\t\\t\\t\\t\\t\\t\\t\\t\\t\\t\\t\\t\\t\\t\\t\\t\\t\\t\\t\\t\\t\\t\\t\\t\\t\\t\\t\\t\\t\\t\\t\\t\\t\\t\\t\\t\\t\\t\\t\\t\\t\\t\\t\\t\\t\\t\\t\\t\\t\\t\\t\\t\\t\\t\\t\\t\\t\\t\\t\\t\\t\\t\\r\\n\\t\\t\\t\\t\\t\\t\\t\\t\\t\\t\\t\\t\\t\\t\\t\\t\\t\\t\\t\\t\\t\\t\\t\\t\\t\\t\\t\\t\\t\\t\\t\\t\\t\\t\\t\\t\\t\\t\\t\\t\\t\\t\\t\\t\\t\\t\\t\\t\\t\\t\\t\\t\\t\\t\\t\\t\\t\\t\\t\\t\\t\\t\\t\\t\\t\\t\\t\\t\\t\\t\\t\\t\\t\\t\\t\\t\\t\\t\\t\\t\\t\\t\\t\\t\\t\\t\\t\\t\\t\\t\\t\\t\\t\\t\\t\\t\\t\\t\\t\\t\\t\\t\\t\\t\\t\\t\\t\\t\\t\\t\\t\\t\\t\\t\\t\\t\\t\\t\\t\\t\\t\\t\\t\\t\\t\\t\\t\\t\\t\\t\\t\\t\\t\\t\\t\\t\\t\\t\\t\\t\\t\\t\\t\\t\\t\\t\\t\\t\\t\\t\\t\\t\\t\\t\\t\\t\\t\\t\\t\\t\\t\\t\\t\\t\\t\\t(\\u0432 \\u0440\\u0435\\u0434. \\u041f\\u043e\\u0441\\u0442\\u0430\\u043d\\u043e\\u0432\\u043b\\u0435\\u043d\\u0438\\u044f \\u041f\\u0440\\u0430\\u0432\\u0438\\u0442\\u0435\\u043b\\u044c\\u0441\\u0442\\u0432\\u0430 \\u0420\\u0424 \\u043e\\u0442 02.04.2021 \\u2116 534)\\r\\n\\t\\t\\t\\t\\t\\t\\t\\t\\t\\t\\t\\t\\t\\t\\t\\t\\t\\t\\t\\t\\t\\t\\t\\t\\t\\t\\t\\t\\t\\t\\t\\t\\t\\t\\t\\t\\t\\t\\t\\t\\t\\t\\t\\t\\t\\t\\t\\t\\t\\t\\t\\t\\t\\t\\t\\t\\t\\t\\t\\t\\t\\t\\t\\t\\t\\t\\t\\t\\t\\t\\t\\t\\t\\t\\t\\t\\t\\t\\t\\t\\t\\t\\t\\t\\t\\t\\t\\t\\t\\t\\t\\t\\t\\t\\t\\t\\t\\t\\t\\t\\t\\t\\t\\t\\t\\t\\t\\t\\t\\t\\t\\t\\t\\t\\t\\t\\t\\t\\t\\t\\t\\t\\t\\t\\t\\t\\t\\t\\t\\t\\t\\t\\t\\t\\t\\t\\t\\t\\t\\t\\t\\t\\t\\t\\t\\t\\t\\t\\t\\t\\t\\t\\t\\t\\t\\t\\t\\t\\t\\t\\t\\t\\t\\t\\t\\t\\r\\n\\t\\t\\t\\t\\t\\t\\t\\t\\t\\t\\t\\t\\t\\t\\t\\t\\t\\t\\t\\t\\t\\t\\t\\t\\t\\t\\t\\t\\t\\t\\t\\t\\t\\t\\t\\t\\t\\t\\t\\t\\t\\t\\t\\t\\t\\t\\t\\t\\t\\t\\t\\t\\t\\t\\t\\t\\t\\t\\t\\t\\t\\t\\t\\t\\t\\t\\t\\t\\t\\t\\t\\t\\t\\t\\t\\t\\t\\t\\t\\t\\t\\t\\t\\t\\t\\t\\t\\t\\t\\t\\t\\t\\t\\t\\t\\t\\t\\t\\t\\t\\t\\t\\t\\t\\t\\t\\t\\t\\t\\t\\t\\t\\t\\t\\t\\t\\t\\t\\t\\t\\t\\t\\t\\t\\t\\t\\t\\t\\t\\t\\t\\t\\t\\t\\t\\t\\t\\t\\t\\t\\t\\t\\t\\t\\t\\t\\t\\t\\t\\t\\t\\t\\t\\t\\t\\t\\t\\t\\t\\t\\t\\t\\t\\t\\t\\t\\r\\n\\t\\t\\t\\t\\t\\t\\t\\t\\t\\t\\t\\t\\t\\t\\t\\t\\t\\t\\t\\t\\t\\t\\t\\t\\t\\t\\t\\t\\t\\t\\t\\t\\t\\t\\t\\t\\t\\t\\t\\t\\t\\t\\t\\t\\t\\t\\t\\t\\t\\t\\t\\t\\t\\t\\t\\t\\t\\t\\t\\t\\t\\t\\t\\t\\t\\t\\t\\t\\t\\t\\t\\t\\t\\t\\t\\t\\t\\t\\t\\t\\t\\t\\t\\t\\t\\t\\t\\t\\t\\t\\t\\t\\t\\t\\t\\t\\t\\t\\t\\t\\t\\t\\t\\t\\t\\t\\t\\t\\t\\t\\t\\t\\t\\t\\t\\t\\t\\t\\t\\t\\t\\t\\t\\t\\t\\t\\t\\t\\t\\t\\t\\t\\t\\t\\t\\t\\t\\t\\t\\t\\t\\t\\t\\t\\t\\t\\t\\t\\t\\t\\t\\t\\t\\t\\t\\t\\t\\t\\t\\t\\t\\t\\t\\t\\t\\t\\r\\n\\t\\t\\t\\t\\t\\t\\t\\t\\t\\t\\t\\t\\t\\t\\t\\t\\t\\t\\t\\t\\t\\t\\t\\t\\t\\t\\t\\t\\t\\t\\t\\t\\t\\t\\t\\t\\t\\u0421\\u0427\\u0415\\u0422-\\u0424\\u0410\\u041a\\u0422\\u0423\\u0420\\u0410  \\u2116\\t\\t\\t\\t\\t\\t425\\t\\t\\t\\t\\t\\t\\t\\t\\t\\t\\t\\t\\t\\t\\u043e\\u0442 \\\"\\t16\\t\\t\\t\\t\\t\\\"\\t\\t\\t\\u043e\\u043a\\u0442\\u044f\\u0431\\u0440\\u044f 2023 \\u0433.\\t\\t\\t\\t\\t\\t\\t\\t\\t\\t\\t\\t\\t\\t\\t\\t\\t\\t\\t\\t\\t\\t\\t\\t\\t(1)\\t\\t\\t\\t\\t\\t\\t\\t\\t\\t\\t\\t\\t\\t\\t\\t\\t\\t\\t\\t\\t\\t\\t\\t\\t\\t\\t\\t\\t\\t\\t\\t\\t\\t\\t\\t\\t\\t\\t\\t\\t\\t\\t\\t\\t\\t\\t\\t\\t\\t\\t\\t\\t\\t\\t\\t\\t\\t\\t\\t\\t\\t\\t\\t\\t\\t\\t\\t\\t\\t\\t\\t\\t\\t\\t\\r\\n\\t\\t\\t\\t\\t\\t\\t\\t\\t\\t\\t\\t\\t\\t\\t\\t\\t\\t\\t\\t\\t\\t\\t\\t\\t\\t\\t\\t\\t\\t\\t\\t\\t\\t\\t\\t\\t\\u0418\\u0421\\u041f\\u0420\\u0410\\u0412\\u041b\\u0415\\u041d\\u0418\\u0415  \\u2116\\t\\t\\t\\t\\t\\t1\\t\\t\\t\\t\\t\\t\\t\\t\\t\\t\\t\\t\\t\\t\\u043e\\u0442 \\\"\\t17\\t\\t\\t\\t\\t\\\"\\t\\t\\t\\u043e\\u043a\\u0442\\u044f\\u0431\\u0440\\u044f 2023 \\u0433.\\t\\t\\t\\t\\t\\t\\t\\t\\t\\t\\t\\t\\t\\t\\t\\t\\t\\t\\t\\t\\t\\t\\t\\t\\t(1\\u0430)\\t\\t\\t\\t\\t\\t\\t\\t\\t\\t\\t\\t\\t\\t\\t\\t\\t\\t\\t\\t\\t\\t\\t\\t\\t\\t\\t\\t\\t\\t\\t\\t\\t\\t\\t\\t\\t\\t\\t\\t\\t\\t\\t\\t\\t\\t\\t\\t\\t\\t\\t\\t\\t\\t\\t\\t\\t\\t\\t\\t\\t\\t\\t\\t\\t\\t\\t\\t\\t\\t\\t\\t\\t\\t\\t\\r\\n\\u041f\\u0440\\u043e\\u0434\\u0430\\u0432\\u0435\\u0446\\t\\t\\t\\t\\t\\t\\t\\t\\t\\u041e\\u041e\\u041e \\\"\\u0410\\u043b\\u044c\\u0444\\u0430\\\"\\t\\t\\t\\t\\t\\t\\t\\t\\t\\t\\t\\t\\t\\t\\t\\t\\t\\t\\t\\t\\t\\t\\t\\t\\t\\t\\t\\t\\t\\t\\t\\t\\t\\t\\t\\t\\t\\t\\t\\t\\t\\t\\t\\t\\t\\t\\t\\t\\t\\t\\t\\t\\t\\t\\t\\t\\t\\t\\t\\t\\t\\t\\t\\t\\t\\t\\t\\t\\t\\t\\t\\t\\t\\t\\t\\t\\t\\t\\t\\t\\t\\t(2)\\t\\t\\t\\t\\t\\t\\t\\t\\t\\t\\t\\t\\t\\t\\t\\t\\t\\t\\t\\t\\t\\t\\t\\t\\t\\t\\t\\t\\t\\t\\t\\t\\t\\t\\t\\t\\t\\t\\t\\t\\t\\t\\t\\t\\t\\t\\t\\t\\t\\t\\t\\t\\t\\t\\t\\t\\t\\t\\t\\t\\t\\t\\t\\t\\t\\t\\t\\t\\t\\t\\t\\t\\t\\t\\t\\r\\n\\u0410\\u0434\\u0440\\u0435\\u0441\\t\\t\\t\\t\\t\\t117418, \\u0433. \\u041c\\u043e\\u0441\\u043a\\u0432\\u0430, \\u0443\\u043b. \\u0426\\u044e\\u0440\\u0443\\u043f\\u044b, \\u0434. 12, \\u043a\\u043e\\u0440\\u043f. 9\\t\\t\\t\\t\\t\\t\\t\\t\\t\\t\\t\\t\\t\\t\\t\\t\\t\\t\\t\\t\\t\\t\\t\\t\\t\\t\\t\\t\\t\\t\\t\\t\\t\\t\\t\\t\\t\\t\\t\\t\\t\\t\\t\\t\\t\\t\\t\\t\\t\\t\\t\\t\\t\\t\\t\\t\\t\\t\\t\\t\\t\\t\\t\\t\\t\\t\\t\\t\\t\\t\\t\\t\\t\\t\\t\\t\\t\\t\\t\\t\\t\\t\\t\\t\\t(2\\u0430)\\t\\t\\t\\t\\t\\t\\t\\t\\t\\t\\t\\t\\t\\t\\t\\t\\t\\t\\t\\t\\t\\t\\t\\t\\t\\t\\t\\t\\t\\t\\t\\t\\t\\t\\t\\t\\t\\t\\t\\t\\t\\t\\t\\t\\t\\t\\t\\t\\t\\t\\t\\t\\t\\t\\t\\t\\t\\t\\t\\t\\t\\t\\t\\t\\t\\t\\t\\t\\t\\t\\t\\t\\t\\t\\t\\r\\n\\u0418\\u041d\\u041d/\\u041a\\u041f\\u041f \\u043f\\u0440\\u043e\\u0434\\u0430\\u0432\\u0446\\u0430\\t\\t\\t\\t\\t\\t\\t\\t\\t\\t\\t\\t\\t\\t\\t\\t7727098760 / 772701001\\t\\t\\t\\t\\t\\t\\t\\t\\t\\t\\t\\t\\t\\t\\t\\t\\t\\t\\t\\t\\t\\t\\t\\t\\t\\t\\t\\t\\t\\t\\t\\t\\t\\t\\t\\t\\t\\t\\t\\t\\t\\t\\t\\t\\t\\t\\t\\t\\t\\t\\t\\t\\t\\t\\t\\t\\t\\t\\t\\t\\t\\t\\t\\t\\t\\t\\t\\t\\t\\t\\t\\t\\t\\t\\t(2\\u0431)\\t\\t\\t\\t\\t\\t\\t\\t\\t\\t\\t\\t\\t\\t\\t\\t\\t\\t\\t\\t\\t\\t\\t\\t\\t\\t\\t\\t\\t\\t\\t\\t\\t\\t\\t\\t\\t\\t\\t\\t\\t\\t\\t\\t\\t\\t\\t\\t\\t\\t\\t\\t\\t\\t\\t\\t\\t\\t\\t\\t\\t\\t\\t\\t\\t\\t\\t\\t\\t\\t\\t\\t\\t\\t\\t\\r\\n\\u0413\\u0440\\u0443\\u0437\\u043e\\u043e\\u0442\\u043f\\u0440\\u0430\\u0432\\u0438\\u0442\\u0435\\u043b\\u044c \\u0438 \\u0435\\u0433\\u043e \\u0430\\u0434\\u0440\\u0435\\u0441\\t\\t\\t\\t\\t\\t\\t\\t\\t\\t\\t\\t\\t\\t\\t\\t\\t\\t\\t\\t\\t\\t\\t\\u043e\\u043d \\u0436\\u0435\\t\\t\\t\\t\\t\\t\\t\\t\\t\\t\\t\\t\\t\\t\\t\\t\\t\\t\\t\\t\\t\\t\\t\\t\\t\\t\\t\\t\\t\\t\\t\\t\\t\\t\\t\\t\\t\\t\\t\\t\\t\\t\\t\\t\\t\\t\\t\\t\\t\\t\\t\\t\\t\\t\\t\\t\\t\\t\\t\\t\\t\\t\\t\\t\\t\\t\\t\\t(3)\\t\\t\\t\\t\\t\\t\\t\\t\\t\\t\\t\\t\\t\\t\\t\\t\\t\\t\\t\\t\\t\\t\\t\\t\\t\\t\\t\\t\\t\\t\\t\\t\\t\\t\\t\\t\\t\\t\\t\\t\\t\\t\\t\\t\\t\\t\\t\\t\\t\\t\\t\\t\\t\\t\\t\\t\\t\\t\\t\\t\\t\\t\\t\\t\\t\\t\\t\\t\\t\\t\\t\\t\\t\\t\\t\\r\\n\\u0413\\u0440\\u0443\\u0437\\u043e\\u043f\\u043e\\u043b\\u0443\\u0447\\u0430\\u0442\\u0435\\u043b\\u044c \\u0438 \\u0435\\u0433\\u043e \\u0430\\u0434\\u0440\\u0435\\u0441\\t\\t\\t\\t\\t\\t\\t\\t\\t\\t\\t\\t\\t\\t\\t\\t\\t\\t\\t\\t\\t\\t\\u041e\\u041e\\u041e \\\"\\u0411\\u0435\\u0442\\u0430\\\", 129337, \\u0433. \\u041c\\u043e\\u0441\\u043a\\u0432\\u0430, \\u0443\\u043b. \\u041a\\u0440\\u0430\\u0441\\u043d\\u0430\\u044f \\u0421\\u043e\\u0441\\u043d\\u0430, \\u0434. 5\\t\\t\\t\\t\\t\\t\\t\\t\\t\\t\\t\\t\\t\\t\\t\\t\\t\\t\\t\\t\\t\\t\\t\\t\\t\\t\\t\\t\\t\\t\\t\\t\\t\\t\\t\\t\\t\\t\\t\\t\\t\\t\\t\\t\\t\\t\\t\\t\\t\\t\\t\\t\\t\\t\\t\\t\\t\\t\\t\\t\\t\\t\\t\\t\\t\\t\\t\\t\\t(4)\\t\\t\\t\\t\\t\\t\\t\\t\\t\\t\\t\\t\\t\\t\\t\\t\\t\\t\\t\\t\\t\\t\\t\\t\\t\\t\\t\\t\\t\\t\\t\\t\\t\\t\\t\\t\\t\\t\\t\\t\\t\\t\\t\\t\\t\\t\\t\\t\\t\\t\\t\\t\\t\\t\\t\\t\\t\\t\\t\\t\\t\\t\\t\\t\\t\\t\\t\\t\\t\\t\\t\\t\\t\\t\\t\\r\\n\\u041a \\u043f\\u043b\\u0430\\u0442\\u0435\\u0436\\u043d\\u043e-\\u0440\\u0430\\u0441\\u0447\\u0435\\u0442\\u043d\\u043e\\u043c\\u0443 \\u0434\\u043e\\u043a\\u0443\\u043c\\u0435\\u043d\\u0442\\u0443 \\u2116\\t\\t\\t\\t\\t\\t\\t\\t\\t\\t\\t\\t\\t\\t\\t\\t\\t\\t\\t\\t\\t\\t\\t\\t\\t\\t\\t\\t\\t557\\t\\t\\t\\t\\t\\t\\t\\t\\t\\t\\t\\t\\t\\t\\t\\t\\t\\t\\t\\t\\t\\t\\t\\t\\t\\t\\t\\u043e\\u0442\\t\\t\\t\\t13.10.2023\\t\\t\\t\\t\\t\\t\\t\\t\\t\\t\\t\\t\\t\\t\\t\\t\\t\\t\\t\\t\\t\\t\\t\\t\\t\\t\\t\\t\\t\\t\\t(5)\\t\\t\\t\\t\\t\\t\\t\\t\\t\\t\\t\\t\\t\\t\\t\\t\\t\\t\\t\\t\\t\\t\\t\\t\\t\\t\\t\\t\\t\\t\\t\\t\\t\\t\\t\\t\\t\\t\\t\\t\\t\\t\\t\\t\\t\\t\\t\\t\\t\\t\\t\\t\\t\\t\\t\\t\\t\\t\\t\\t\\t\\t\\t\\t\\t\\t\\t\\t\\t\\t\\t\\t\\t\\t\\t\\r\\n\\u0414\\u043e\\u043a\\u0443\\u043c\\u0435\\u043d\\u0442 \\u043e\\u0431 \\u043e\\u0442\\u0433\\u0440\\u0443\\u0437\\u043a\\u0435 \\u2116 \\u043f/\\u043f\\t\\t\\t\\t\\t\\t\\t\\t\\t\\t\\t\\t\\t\\t\\t\\t\\t\\t\\t\\t\\t\\t1\\t\\t\\t\\t\\t\\t\\t\\t\\t\\t\\t\\t\\t\\t\\t\\t\\u2116\\t\\t\\t420\\t\\t\\t\\t\\t\\t\\t\\t\\t\\t\\t\\t\\t\\t\\t\\u043e\\u0442\\t\\t\\t\\t16.10.2023\\t\\t\\t\\t\\t\\t\\t\\t\\t\\t\\t\\t\\t\\t\\t\\t\\t\\t\\t\\t\\t\\t\\t\\t\\t\\t\\t\\t\\t\\t\\t(5\\u0430)\\t\\t\\t\\t\\t\\t\\t\\t\\t\\t\\t\\t\\t\\t\\t\\t\\t\\t\\t\\t\\t\\t\\t\\t\\t\\t\\t\\t\\t\\t\\t\\t\\t\\t\\t\\t\\t\\t\\t\\t\\t\\t\\t\\t\\t\\t\\t\\t\\t\\t\\t\\t\\t\\t\\t\\t\\t\\t\\t\\t\\t\\t\\t\\t\\t\\t\\t\\t\\t\\t\\t\\t\\t\\t\\t\\r\\n\\u041f\\u043e\\u043a\\u0443\\u043f\\u0430\\u0442\\u0435\\u043b\\u044c\\t\\t\\t\\t\\t\\t\\t\\t\\t\\t\\u041e\\u041e\\u041e \\\"\\u0411\\u0435\\u0442\\u0430\\\"\\t\\t\\t\\t\\t\\t\\t\\t\\t\\t\\t\\t\\t\\t\\t\\t\\t\\t\\t\\t\\t\\t\\t\\t\\t\\t\\t\\t\\t\\t\\t\\t\\t\\t\\t\\t\\t\\t\\t\\t\\t\\t\\t\\t\\t\\t\\t\\t\\t\\t\\t\\t\\t\\t\\t\\t\\t\\t\\t\\t\\t\\t\\t\\t\\t\\t\\t\\t\\t\\t\\t\\t\\t\\t\\t\\t\\t\\t\\t\\t\\t(6)\\t\\t\\t\\t\\t\\t\\t\\t\\t\\t\\t\\t\\t\\t\\t\\t\\t\\t\\t\\t\\t\\t\\t\\t\\t\\t\\t\\t\\t\\t\\t\\t\\t\\t\\t\\t\\t\\t\\t\\t\\t\\t\\t\\t\\t\\t\\t\\t\\t\\t\\t\\t\\t\\t\\t\\t\\t\\t\\t\\t\\t\\t\\t\\t\\t\\t\\t\\t\\t\\t\\t\\t\\t\\t\\t\\r\\n\\u0410\\u0434\\u0440\\u0435\\u0441\\t\\t\\t\\t\\t\\t129337, \\u0433. \\u041c\\u043e\\u0441\\u043a\\u0432\\u0430, \\u0443\\u043b. \\u041a\\u0440\\u0430\\u0441\\u043d\\u0430\\u044f \\u0421\\u043e\\u0441\\u043d\\u0430, \\u0434. 5\\t\\t\\t\\t\\t\\t\\t\\t\\t\\t\\t\\t\\t\\t\\t\\t\\t\\t\\t\\t\\t\\t\\t\\t\\t\\t\\t\\t\\t\\t\\t\\t\\t\\t\\t\\t\\t\\t\\t\\t\\t\\t\\t\\t\\t\\t\\t\\t\\t\\t\\t\\t\\t\\t\\t\\t\\t\\t\\t\\t\\t\\t\\t\\t\\t\\t\\t\\t\\t\\t\\t\\t\\t\\t\\t\\t\\t\\t\\t\\t\\t\\t\\t\\t\\t(6\\u0430)\\t\\t\\t\\t\\t\\t\\t\\t\\t\\t\\t\\t\\t\\t\\t\\t\\t\\t\\t\\t\\t\\t\\t\\t\\t\\t\\t\\t\\t\\t\\t\\t\\t\\t\\t\\t\\t\\t\\t\\t\\t\\t\\t\\t\\t\\t\\t\\t\\t\\t\\t\\t\\t\\t\\t\\t\\t\\t\\t\\t\\t\\t\\t\\t\\t\\t\\t\\t\\t\\t\\t\\t\\t\\t\\t\\r\\n\\u0418\\u041d\\u041d/\\u041a\\u041f\\u041f \\u043f\\u043e\\u043a\\u0443\\u043f\\u0430\\u0442\\u0435\\u043b\\u044f\\t\\t\\t\\t\\t\\t\\t\\t\\t\\t\\t\\t\\t\\t\\t\\t\\t\\t7716502558 / 771601001\\t\\t\\t\\t\\t\\t\\t\\t\\t\\t\\t\\t\\t\\t\\t\\t\\t\\t\\t\\t\\t\\t\\t\\t\\t\\t\\t\\t\\t\\t\\t\\t\\t\\t\\t\\t\\t\\t\\t\\t\\t\\t\\t\\t\\t\\t\\t\\t\\t\\t\\t\\t\\t\\t\\t\\t\\t\\t\\t\\t\\t\\t\\t\\t\\t\\t\\t\\t\\t\\t\\t\\t\\t(6\\u0431)\\t\\t\\t\\t\\t\\t\\t\\t\\t\\t\\t\\t\\t\\t\\t\\t\\t\\t\\t\\t\\t\\t\\t\\t\\t\\t\\t\\t\\t\\t\\t\\t\\t\\t\\t\\t\\t\\t\\t\\t\\t\\t\\t\\t\\t\\t\\t\\t\\t\\t\\t\\t\\t\\t\\t\\t\\t\\t\\t\\t\\t\\t\\t\\t\\t\\t\\t\\t\\t\\t\\t\\t\\t\\t\\t\\r\\n\\u0412\\u0430\\u043b\\u044e\\u0442\\u0430: \\u043d\\u0430\\u0438\\u043c\\u0435\\u043d\\u043e\\u0432\\u0430\\u043d\\u0438\\u0435, \\u043a\\u043e\\u0434\\t\\t\\t\\t\\t\\t\\t\\t\\t\\t\\t\\t\\t\\t\\t\\t\\t\\t\\t\\t\\t\\t\\u0420\\u043e\\u0441\\u0441\\u0438\\u0439\\u0441\\u043a\\u0438\\u0439 \\u0440\\u0443\\u0431\\u043b\\u044c, 643\\t\\t\\t\\t\\t\\t\\t\\t\\t\\t\\t\\t\\t\\t\\t\\t\\t\\t\\t\\t\\t\\t\\t\\t\\t\\t\\t\\t\\t\\t\\t\\t\\t\\t\\t\\t\\t\\t\\t\\t\\t\\t\\t\\t\\t\\t\\t\\t\\t\\t\\t\\t\\t\\t\\t\\t\\t\\t\\t\\t\\t\\t\\t\\t\\t\\t\\t\\t\\t(7)\\t\\t\\t\\t\\t\\t\\t\\t\\t\\t\\t\\t\\t\\t\\t\\t\\t\\t\\t\\t\\t\\t\\t\\t\\t\\t\\t\\t\\t\\t\\t\\t\\t\\t\\t\\t\\t\\t\\t\\t\\t\\t\\t\\t\\t\\t\\t\\t\\t\\t\\t\\t\\t\\t\\t\\t\\t\\t\\t\\t\\t\\t\\t\\t\\t\\t\\t\\t\\t\\t\\t\\t\\t\\t\\t\\r\\n\\u0418\\u0434\\u0435\\u043d\\u0442\\u0438\\u0444\\u0438\\u043a\\u0430\\u0442\\u043e\\u0440 \\u0433\\u043e\\u0441\\u0443\\u0434\\u0430\\u0440\\u0441\\u0442\\u0432\\u0435\\u043d\\u043d\\u043e\\u0433\\u043e \\u043a\\u043e\\u043d\\u0442\\u0440\\u0430\\u043a\\u0442\\u0430, \\u0434\\u043e\\u0433\\u043e\\u0432\\u043e\\u0440\\u0430 (\\u0441\\u043e\\u0433\\u043b\\u0430\\u0448\\u0435\\u043d\\u0438\\u044f) (\\u043f\\u0440\\u0438 \\u043d\\u0430\\u043b\\u0438\\u0447\\u0438\\u0438)\\t\\t\\t\\t\\t\\t\\t\\t\\t\\t\\t\\t\\t\\t\\t\\t\\t\\t\\t\\t\\t\\t\\t\\t\\t\\t\\t\\t\\t\\t\\t\\t\\t\\t\\t\\t\\t\\t\\t\\t\\t\\t\\t\\t\\t\\t\\t\\t\\t\\t\\t\\t\\t\\t\\t\\t\\t\\t\\t\\t\\t\\t\\t\\t\\t\\t\\t\\t\\t\\t\\t\\t\\t\\t\\t\\t\\t\\t\\t\\t\\t\\t\\t\\t\\t\\t\\t\\t\\t\\t\\t(8)\\t\\t\\t\\t\\t\\t\\t\\t\\t\\t\\t\\t\\t\\t\\t\\t\\t\\t\\t\\t\\t\\t\\t\\t\\t\\t\\t\\t\\t\\t\\t\\t\\t\\t\\t\\t\\t\\t\\t\\t\\t\\t\\t\\t\\t\\t\\t\\t\\t\\t\\t\\t\\t\\t\\t\\t\\t\\t\\t\\t\\t\\t\\t\\t\\t\\t\\t\\t\\t\\t\\t\\t\\t\\t\\t\\r\\n\\t\\t\\t\\t\\t\\t\\t\\t\\t\\t\\t\\t\\t\\t\\t\\t\\t\\t\\t\\t\\t\\t\\t\\t\\t\\t\\t\\t\\t\\t\\t\\t\\t\\t\\t\\t\\t\\t\\t\\t\\t\\t\\t\\t\\t\\t\\t\\t\\t\\t\\t\\t\\t\\t\\t\\t\\t\\t\\t\\t\\t\\t\\t\\t\\t\\t\\t\\t\\t\\t\\t\\t\\t\\t\\t\\t\\t\\t\\t\\t\\t\\t\\t\\t\\t\\t\\t\\t\\t\\t\\t\\t\\t\\t\\t\\t\\t\\t\\t\\t\\t\\t\\t\\t\\t\\t\\t\\t\\t\\t\\t\\t\\t\\t\\t\\t\\t\\t\\t\\t\\t\\t\\t\\t\\t\\t\\t\\t\\t\\t\\t\\t\\t\\t\\t\\t\\t\\t\\t\\t\\t\\t\\t\\t\\t\\t\\t\\t\\t\\t\\t\\t\\t\\t\\t\\t\\t\\t\\t\\t\\t\\t\\t\\t\\t\\t\\r\\n\\\"\\u2116\\n\\u043f/\\u043f\\\"\\t\\t\\t\\t\\\"\\u041d\\u0430\\u0438\\u043c\\u0435\\u043d\\u043e\\u0432\\u0430\\u043d\\u0438\\u0435 \\u0442\\u043e\\u0432\\u0430\\u0440\\u0430 \\n(\\u043e\\u043f\\u0438\\u0441\\u0430\\u043d\\u0438\\u0435 \\u0432\\u044b\\u043f\\u043e\\u043b\\u043d\\u0435\\u043d\\u043d\\u044b\\u0445 \\u0440\\u0430\\u0431\\u043e\\u0442, \\u043e\\u043a\\u0430\\u0437\\u0430\\u043d\\u043d\\u044b\\u0445 \\u0443\\u0441\\u043b\\u0443\\u0433), \\u0438\\u043c\\u0443\\u0449\\u0435\\u0441\\u0442\\u0432\\u0435\\u043d\\u043d\\u043e\\u0433\\u043e \\u043f\\u0440\\u0430\\u0432\\u0430\\\"\\t\\t\\t\\t\\t\\t\\t\\t\\t\\t\\t\\t\\t\\t\\t\\u041a\\u043e\\u0434 \\u0432\\u0438\\u0434\\u0430 \\u0442\\u043e\\u0432\\u0430\\u0440\\u0430\\t\\t\\t\\t\\t\\t\\\"\\u0415\\u0434\\u0438\\u043d\\u0438\\u0446\\u0430\\n\\u0438\\u0437\\u043c\\u0435\\u0440\\u0435\\u043d\\u0438\\u044f\\\"\\t\\t\\t\\t\\t\\t\\t\\t\\t\\t\\t\\t\\t\\t\\t\\t\\\"\\u041a\\u043e\\u043b\\u0438-\\n\\u0447\\u0435\\u0441\\u0442\\u0432\\u043e\\n(\\u043e\\u0431\\u044a\\u0435\\u043c)\\\"\\t\\t\\t\\t\\t\\t\\t\\\"\\u0426\\u0435\\u043d\\u0430 (\\u0442\\u0430\\u0440\\u0438\\u0444)\\n\\u0437\\u0430 \\u0435\\u0434\\u0438\\u043d\\u0438\\u0446\\u0443 \\u0438\\u0437\\u043c\\u0435\\u0440\\u0435\\u043d\\u0438\\u044f\\\"\\t\\t\\t\\t\\t\\t\\t\\t\\t\\u0421\\u0442\\u043e\\u0438\\u043c\\u043e\\u0441\\u0442\\u044c \\u0442\\u043e\\u0432\\u0430\\u0440\\u043e\\u0432 (\\u0440\\u0430\\u0431\\u043e\\u0442, \\u0443\\u0441\\u043b\\u0443\\u0433), \\u0438\\u043c\\u0443\\u0449\\u0435\\u0441\\u0442\\u0432\\u0435\\u043d\\u043d\\u044b\\u0445 \\u043f\\u0440\\u0430\\u0432 \\u0431\\u0435\\u0437 \\u043d\\u0430\\u043b\\u043e\\u0433\\u0430 - \\u0432\\u0441\\u0435\\u0433\\u043e\\t\\t\\t\\t\\t\\t\\t\\t\\t\\t\\t\\u0412 \\u0442\\u043e\\u043c \\u0447\\u0438\\u0441\\u043b\\u0435 \\u0441\\u0443\\u043c\\u043c\\u0430 \\u0430\\u043a\\u0446\\u0438\\u0437\\u0430\\t\\t\\t\\t\\t\\t\\t\\u041d\\u0430\\u043b\\u043e\\u0433\\u043e\\u0432\\u0430\\u044f \\u0441\\u0442\\u0430\\u0432\\u043a\\u0430\\t\\t\\t\\t\\t\\t\\t\\\"\\u0421\\u0443\\u043c\\u043c\\u0430\\n\\u043d\\u0430\\u043b\\u043e\\u0433\\u0430, \\u043f\\u0440\\u0435\\u0434\\u044a\\u044f\\u0432\\u043b\\u044f\\u0435\\u043c\\u0430\\u044f \\u043f\\u043e\\u043a\\u0443\\u043f\\u0430\\u0442\\u0435\\u043b\\u044e\\\"\\t\\t\\t\\t\\t\\t\\t\\t\\t\\\"\\u0421\\u0442\\u043e\\u0438\\u043c\\u043e\\u0441\\u0442\\u044c \\u0442\\u043e\\u0432\\u0430\\u0440\\u043e\\u0432 (\\u0440\\u0430\\u0431\\u043e\\u0442, \\u0443\\u0441\\u043b\\u0443\\u0433), \\u0438\\u043c\\u0443\\u0449\\u0435\\u0441\\u0442\\u0432\\u0435\\u043d\\u043d\\u044b\\u0445 \\u043f\\u0440\\u0430\\u0432\\n\\u0441 \\u043d\\u0430\\u043b\\u043e\\u0433\\u043e\\u043c - \\u0432\\u0441\\u0435\\u0433\\u043e\\\"\\t\\t\\t\\t\\t\\t\\t\\t\\t\\t\\t\\t\\t\\u0421\\u0442\\u0440\\u0430\\u043d\\u0430 \\u043f\\u0440\\u043e\\u0438\\u0441\\u0445\\u043e\\u0436\\u0434\\u0435\\u043d\\u0438\\u044f \\u0442\\u043e\\u0432\\u0430\\u0440\\u0430\\t\\t\\t\\t\\t\\t\\t\\t\\t\\t\\t\\t\\t\\t\\t\\t\\t\\\"\\u0420\\u0435\\u0433\\u0438\\u0441\\u0442\\u0440\\u0430\\u0446\\u0438\\u043e\\u043d\\u043d\\u044b\\u0439 \\u043d\\u043e\\u043c\\u0435\\u0440 \\u0434\\u0435\\u043a\\u043b\\u0430\\u0440\\u0430\\u0446\\u0438\\u0438\\n\\u043d\\u0430 \\u0442\\u043e\\u0432\\u0430\\u0440\\u044b \\u0438\\u043b\\u0438 \\u0440\\u0435\\u0433\\u0438\\u0441\\u0442\\u0440\\u0430\\u0446\\u0438\\u043e\\u043d\\u043d\\u044b\\u0439 \\u043d\\u043e\\u043c\\u0435\\u0440 \\u043f\\u0430\\u0440\\u0442\\u0438\\u0438 \\u0442\\u043e\\u0432\\u0430\\u0440\\u0430, \\u043f\\u043e\\u0434\\u043b\\u0435\\u0436\\u0430\\u0449\\u0435\\u0433\\u043e \\u043f\\u0440\\u043e\\u0441\\u043b\\u0435\\u0436\\u0438\\u0432\\u0430\\u0435\\u043c\\u043e\\u0441\\u0442\\u0438\\\"\\t\\t\\t\\t\\t\\t\\t\\t\\t\\t\\t\\t\\t\\t\\t\\t\\t\\t\\t\\t\\t\\t\\t\\t\\t\\t\\t\\t\\t\\t\\t\\t\\t\\t\\t\\t\\t\\t\\t\\t\\t\\t\\t\\t\\t\\r\\n\\t\\t\\t\\t\\t\\t\\t\\t\\t\\t\\t\\t\\t\\t\\t\\t\\t\\t\\t\\t\\t\\t\\t\\t\\t\\u043a\\u043e\\u0434\\t\\t\\t\\t\\t\\u0443\\u0441\\u043b\\u043e\\u0432\\u043d\\u043e\\u0435 \\u043e\\u0431\\u043e\\u0437\\u043d\\u0430\\u0447\\u0435\\u043d\\u0438\\u0435 (\\u043d\\u0430\\u0446\\u0438\\u043e\\u043d\\u0430\\u043b\\u044c\\u043d\\u043e\\u0435)\\t\\t\\t\\t\\t\\t\\t\\t\\t\\t\\t\\t\\t\\t\\t\\t\\t\\t\\t\\t\\t\\t\\t\\t\\t\\t\\t\\t\\t\\t\\t\\t\\t\\t\\t\\t\\t\\t\\t\\t\\t\\t\\t\\t\\t\\t\\t\\t\\t\\t\\t\\t\\t\\t\\t\\t\\t\\t\\t\\t\\t\\t\\t\\t\\t\\t\\t\\t\\t\\t\\t\\t\\t\\t\\u0446\\u0438\\u0444\\u0440\\u043e\\u0432\\u043e\\u0439 \\u043a\\u043e\\u0434\\t\\t\\t\\t\\t\\t\\t\\u043a\\u0440\\u0430\\u0442\\u043a\\u043e\\u0435 \\u043d\\u0430\\u0438\\u043c\\u0435\\u043d\\u043e\\u0432\\u0430\\u043d\\u0438\\u0435\\t\\t\\t\\t\\t\\t\\t\\t\\t\\t\\t\\t\\t\\t\\t\\t\\t\\t\\t\\t\\t\\t\\t\\t\\t\\t\\t\\t\\t\\t\\t\\t\\t\\t\\t\\t\\t\\t\\t\\t\\t\\t\\t\\t\\t\\t\\t\\t\\t\\t\\t\\t\\t\\t\\t\\r\\n1\\t\\t\\t\\t1\\u0430\\t\\t\\t\\t\\t\\t\\t\\t\\t\\t\\t\\t\\t\\t\\t1\\u0431\\t\\t\\t\\t\\t\\t2\\t\\t\\t\\t\\t2\\u0430\\t\\t\\t\\t\\t\\t\\t\\t\\t\\t\\t3\\t\\t\\t\\t\\t\\t\\t4\\t\\t\\t\\t\\t\\t\\t\\t\\t5\\t\\t\\t\\t\\t\\t\\t\\t\\t\\t\\t6\\t\\t\\t\\t\\t\\t\\t7\\t\\t\\t\\t\\t\\t\\t8\\t\\t\\t\\t\\t\\t\\t\\t\\t9\\t\\t\\t\\t\\t\\t\\t\\t\\t\\t\\t\\t\\t10\\t\\t\\t\\t\\t\\t\\t10\\u0430\\t\\t\\t\\t\\t\\t\\t\\t\\t\\t11\\t\\t\\t\\t\\t\\t\\t\\t\\t\\t\\t\\t\\t\\t\\t\\t\\t\\t\\t\\t\\t\\t\\t\\t\\t\\t\\t\\t\\t\\t\\t\\t\\t\\t\\t\\t\\t\\t\\t\\t\\t\\t\\t\\t\\t\\r\\n1\\t\\t\\t\\t\\u042d\\u043b\\u0435\\u043a\\u0442\\u0440\\u0438\\u0447\\u0435\\u0441\\u043a\\u0438\\u0439 \\u0447\\u0430\\u0439\\u043d\\u0438\\u043a \\\"\\u041f\\u0440\\u0435\\u043c\\u0438\\u0443\\u043c\\\"\\t\\t\\t\\t\\t\\t\\t\\t\\t\\t\\t\\t\\t\\t\\t_\\t\\t\\t\\t\\t\\t796\\t\\t\\t\\t\\t\\u0448\\u0442.\\t\\t\\t\\t\\t\\t\\t\\t\\t\\t\\t20\\t\\t\\t\\t\\t\\t\\t1 000,00\\t\\t\\t\\t\\t\\t\\t\\t\\t20 000,00\\t\\t\\t\\t\\t\\t\\t\\t\\t\\t\\t\\u0431\\u0435\\u0437 \\u0430\\u043a\\u0446\\u0438\\u0437\\u0430\\t\\t\\t\\t\\t\\t\\t20%\\t\\t\\t\\t\\t\\t\\t4 000,00\\t\\t\\t\\t\\t\\t\\t\\t\\t24 000,00\\t\\t\\t\\t\\t\\t\\t\\t\\t\\t\\t\\t\\t\\t\\t\\t\\t\\t\\t\\t\\t\\t\\t\\t\\t\\t\\t\\t\\t\\t\\t\\t\\t\\t\\t\\t\\t\\t\\t\\t\\t\\t\\t\\t\\t\\t\\t\\t\\t\\t\\t\\t\\t\\t\\t\\t\\t\\t\\t\\t\\t\\t\\t\\t\\t\\t\\t\\t\\t\\t\\t\\t\\t\\t\\t\\r\\n\\t\\t\\t\\t\\t\\t\\t\\t\\t\\t\\t\\t\\t\\t\\t\\t\\t\\t\\t\\t\\t\\t\\t\\t\\t\\t\\t\\t\\t\\t\\t\\t\\t\\t\\t\\t\\t\\t\\t\\t\\t\\t\\t\\t\\t\\t\\t\\t\\t\\t\\t\\t\\t\\t\\t\\t\\t\\t\\t\\t\\t\\t\\t\\t\\t\\t\\t\\t\\t\\t\\t\\t\\t\\t\\t\\t\\t\\t\\t\\t\\t\\t\\t\\t\\t\\t\\t\\t\\t\\t\\t\\t\\t\\t\\t\\t\\t\\t\\t\\t\\t\\t\\t\\t\\t\\t\\t\\t\\t\\t\\t\\t\\t\\t\\t\\t\\t\\t\\t\\t\\t\\t\\t\\t\\t\\t\\t\\t\\t\\t\\t\\t\\t\\t\\t\\t\\t\\t\\t\\t\\t\\t\\t\\t\\t\\t\\t\\t\\t\\t\\t\\t\\t\\t\\t\\t\\t\\t\\t\\t\\t\\t\\t\\t\\t\\t\\r\\n\\t\\t\\t\\t\\t\\t\\t\\t\\t\\t\\t\\t\\t\\t\\t\\t\\t\\t\\t\\t\\t\\t\\t\\t\\t\\t\\t\\t\\t\\t\\t\\t\\t\\t\\t\\t\\t\\t\\t\\t\\t\\t\\t\\t\\t\\t\\t\\t\\t\\t\\t\\t\\t\\t\\t\\t\\t\\t\\t\\t\\t\\t\\t\\t\\t\\t\\t\\t\\t\\t\\t\\t\\t\\t\\t\\t\\t\\t\\t\\t\\t\\t\\t\\t\\t\\t\\t\\t\\t\\t\\t\\t\\t\\t\\t\\t\\t\\t\\t\\t\\t\\t\\t\\t\\t\\t\\t\\t\\t\\t\\t\\t\\t\\t\\t\\t\\t\\t\\t\\t\\t\\t\\t\\t\\t\\t\\t\\t\\t\\t\\t\\t\\t\\t\\t\\t\\t\\t\\t\\t\\t\\t\\t\\t\\t\\t\\t\\t\\t\\t\\t\\t\\t\\t\\t\\t\\t\\t\\t\\t\\t\\t\\t\\t\\t\\t\\r\\n\\t\\t\\t\\t\\t\\t\\t\\t\\t\\t\\t\\t\\t\\t\\t\\t\\t\\t\\t\\t\\t\\t\\t\\t\\t\\t\\t\\t\\t\\t\\t\\t\\t\\t\\t\\t\\t\\t\\t\\t\\t\\t\\t\\t\\t\\t\\t\\t\\t\\t\\t\\t\\t\\t\\t\\t\\t\\t\\t\\t\\t\\t\\t\\t\\t\\t\\t\\t\\t\\t\\t\\t\\t\\t\\t\\t\\t\\t\\t\\t\\t\\t\\t\\t\\t\\t\\t\\t\\t\\t\\t\\t\\t\\t\\t\\t\\t\\t\\t\\t\\t\\t\\t\\t\\t\\t\\t\\t\\t\\t\\t\\t\\t\\t\\t\\t\\t\\t\\t\\t\\t\\t\\t\\t\\t\\t\\t\\t\\t\\t\\t\\t\\t\\t\\t\\t\\t\\t\\t\\t\\t\\t\\t\\t\\t\\t\\t\\t\\t\\t\\t\\t\\t\\t\\t\\t\\t\\t\\t\\t\\t\\t\\t\\t\\t\\t\\r\\n\\t\\t\\t\\t\\t\\t\\t\\t\\t\\t\\t\\t\\t\\t\\t\\t\\t\\t\\t\\t\\t\\t\\t\\t\\t\\t\\t\\t\\t\\t\\t\\t\\t\\t\\t\\t\\t\\t\\t\\t\\t\\t\\t\\t\\t\\t\\t\\t\\t\\t\\t\\t\\t\\t\\t\\t\\t\\t\\t\\t\\t\\t\\t\\t\\t\\t\\t\\t\\t\\t\\t\\t\\t\\t\\t\\t\\t\\t\\t\\t\\t\\t\\t\\t\\t\\t\\t\\t\\t\\t\\t\\t\\t\\t\\t\\t\\t\\t\\t\\t\\t\\t\\t\\t\\t\\t\\t\\t\\t\\t\\t\\t\\t\\t\\t\\t\\t\\t\\t\\t\\t\\t\\t\\t\\t\\t\\t\\t\\t\\t\\t\\t\\t\\t\\t\\t\\t\\t\\t\\t\\t\\t\\t\\t\\t\\t\\t\\t\\t\\t\\t\\t\\t\\t\\t\\t\\t\\t\\t\\t\\t\\t\\t\\t\\t\\t\\r\\n\\t\\t\\t\\t\\t\\t\\t\\t\\t\\t\\t\\t\\t\\t\\t\\t\\t\\t\\t\\t\\t\\t\\t\\t\\t\\t\\t\\t\\t\\t\\t\\t\\t\\t\\t\\t\\t\\t\\t\\t\\t\\t\\t\\t\\t\\t\\t\\t\\t\\t\\t\\t\\t\\t\\t\\t\\t\\t\\t\\t\\t\\t\\t\\t\\t\\t\\t\\t\\t\\t\\t\\t\\t\\t\\t\\t\\t\\t\\t\\t\\t\\t\\t\\t\\t\\t\\t\\t\\t\\t\\t\\t\\t\\t\\t\\t\\t\\t\\t\\t\\t\\t\\t\\t\\t\\t\\t\\t\\t\\t\\t\\t\\t\\t\\t\\t\\t\\t\\t\\t\\t\\t\\t\\t\\t\\t\\t\\t\\t\\t\\t\\t\\t\\t\\t\\t\\t\\t\\t\\t\\t\\t\\t\\t\\t\\t\\t\\t\\t\\t\\t\\t\\t\\t\\t\\t\\t\\t\\t\\t\\t\\t\\t\\t\\t\\t\\r\\n\\t\\t\\t\\t\\t\\t\\t\\t\\t\\t\\t\\t\\t\\t\\t\\t\\t\\t\\t\\t\\t\\t\\t\\t\\t\\t\\t\\t\\t\\t\\t\\t\\t\\t\\t\\t\\t\\t\\t\\t\\t\\t\\t\\t\\t\\t\\t\\t\\t\\t\\t\\t\\t\\t\\t\\t\\t\\t\\t\\t\\t\\t\\t\\t\\t\\t\\t\\t\\t\\t\\t\\t\\t\\t\\t\\t\\t\\t\\t\\t\\t\\t\\t\\t\\t\\t\\t\\t\\t\\t\\t\\t\\t\\t\\t\\t\\t\\t\\t\\t\\t\\t\\t\\t\\t\\t\\t\\t\\t\\t\\t\\t\\t\\t\\t\\t\\t\\t\\t\\t\\t\\t\\t\\t\\t\\t\\t\\t\\t\\t\\t\\t\\t\\t\\t\\t\\t\\t\\t\\t\\t\\t\\t\\t\\t\\t\\t\\t\\t\\t\\t\\t\\t\\t\\t\\t\\t\\t\\t\\t\\t\\t\\t\\t\\t\\t\\r\\n\\t\\t\\t\\t\\t\\t\\t\\t\\t\\t\\t\\t\\t\\t\\t\\t\\t\\t\\t\\t\\t\\t\\t\\t\\t\\t\\t\\t\\t\\t\\t\\t\\t\\t\\t\\t\\t\\t\\t\\t\\t\\t\\t\\t\\t\\t\\t\\t\\t\\t\\t\\t\\t\\t\\t\\t\\t\\t\\t\\t\\t\\t\\t\\t\\t\\t\\t\\t\\t\\t\\t\\t\\t\\t\\t\\t\\t\\t\\t\\t\\t\\t\\t\\t\\t\\t\\t\\t\\t\\t\\t\\t\\t\\t\\t\\t\\t\\t\\t\\t\\t\\t\\t\\t\\t\\t\\t\\t\\t\\t\\t\\t\\t\\t\\t\\t\\t\\t\\t\\t\\t\\t\\t\\t\\t\\t\\t\\t\\t\\t\\t\\t\\t\\t\\t\\t\\t\\t\\t\\t\\t\\t\\t\\t\\t\\t\\t\\t\\t\\t\\t\\t\\t\\t\\t\\t\\t\\t\\t\\t\\t\\t\\t\\t\\t\\t\\r\\n\\t\\t\\t\\t\\t\\t\\t\\t\\t\\t\\t\\t\\t\\t\\t\\t\\t\\t\\t\\t\\t\\t\\t\\t\\t\\t\\t\\t\\t\\t\\t\\t\\t\\t\\t\\t\\t\\t\\t\\t\\t\\t\\t\\t\\t\\t\\t\\t\\t\\t\\t\\t\\t\\t\\t\\t\\t\\t\\t\\t\\t\\t\\t\\t\\t\\t\\t\\t\\t\\t\\t\\t\\t\\t\\t\\t\\t\\t\\t\\t\\t\\t\\t\\t\\t\\t\\t\\t\\t\\t\\t\\t\\t\\t\\t\\t\\t\\t\\t\\t\\t\\t\\t\\t\\t\\t\\t\\t\\t\\t\\t\\t\\t\\t\\t\\t\\t\\t\\t\\t\\t\\t\\t\\t\\t\\t\\t\\t\\t\\t\\t\\t\\t\\t\\t\\t\\t\\t\\t\\t\\t\\t\\t\\t\\t\\t\\t\\t\\t\\t\\t\\t\\t\\t\\t\\t\\t\\t\\t\\t\\t\\t\\t\\t\\t\\t\\r\\n \\u0412\\u0441\\u0435\\u0433\\u043e \\u043a \\u043e\\u043f\\u043b\\u0430\\u0442\\u0435 (9)\\t\\t\\t\\t\\t\\t\\t\\t\\t\\t\\t\\t\\t\\t\\t\\t\\t\\t\\t\\t\\t\\t\\t\\t\\t\\t\\t\\t\\t\\t\\t\\t\\t\\t\\t\\t\\t\\t\\t\\t\\t\\t\\t\\t\\t\\t\\t\\t\\t\\t\\t\\t\\t\\t\\t\\t\\t20 000,00\\t\\t\\t\\t\\t\\t\\t\\t\\t\\t\\t\\u0425\\t\\t\\t\\t\\t\\t\\t\\t\\t\\t\\t\\t\\t\\t4 000,00\\t\\t\\t\\t\\t\\t\\t\\t\\t24 000,00\\t\\t\\t\\t\\t\\t\\t\\t\\t\\t\\t\\t\\t\\t\\t\\t\\t\\t\\t\\t\\t\\t\\t\\t\\t\\t\\t\\t\\t\\t\\t\\t\\t\\t\\t\\t\\t\\t\\t\\t\\t\\t\\t\\t\\t\\t\\t\\t\\t\\t\\t\\t\\t\\t\\t\\t\\t\\t\\t\\t\\t\\t\\t\\t\\t\\t\\t\\t\\t\\t\\t\\t\\t\\t\\t\\r\\n\\t\\t\\t\\t\\t\\t\\t\\t\\t\\t\\t\\t\\t\\t\\t\\t\\t\\t\\t\\t\\t\\t\\t\\t\\t\\t\\t\\t\\t\\t\\t\\t\\t\\t\\t\\t\\t\\t\\t\\t\\t\\t\\t\\t\\t\\t\\t\\t\\t\\t\\t\\t\\t\\t\\t\\t\\t\\t\\t\\t\\t\\t\\t\\t\\t\\t\\t\\t\\t\\t\\t\\t\\t\\t\\t\\t\\t\\t\\t\\t\\t\\t\\t\\t\\t\\t\\t\\t\\t\\t\\t\\t\\t\\t\\t\\t\\t\\t\\t\\t\\t\\t\\t\\t\\t\\t\\t\\t\\t\\t\\t\\t\\t\\t\\t\\t\\t\\t\\t\\t\\t\\t\\t\\t\\t\\t\\t\\t\\t\\t\\t\\t\\t\\t\\t\\t\\t\\t\\t\\t\\t\\t\\t\\t\\t\\t\\t\\t\\t\\t\\t\\t\\t\\t\\t\\t\\t\\t\\t\\t\\t\\t\\t\\t\\t\\t\\r\\n\\u0420\\u0443\\u043a\\u043e\\u0432\\u043e\\u0434\\u0438\\u0442\\u0435\\u043b\\u044c \\u043e\\u0440\\u0433\\u0430\\u043d\\u0438\\u0437\\u0430\\u0446\\u0438\\u0438\\t\\t\\t\\t\\t\\t\\t\\t\\t\\t\\t\\t\\t\\t\\t\\t\\t\\t\\t\\t\\t\\t\\t\\t\\t\\t\\t\\t\\t\\t\\t\\t\\t\\t\\t\\t\\t\\t\\t\\t\\t\\t\\t\\t\\t\\t\\t\\t\\t\\t\\t\\t\\t\\t\\t\\t\\t\\t\\t\\t\\t\\t\\t\\t\\t\\t\\t\\t\\t\\t\\t\\t\\t\\t\\t\\t\\t\\t\\t\\t\\t\\t\\t\\t\\t\\t\\t\\u0413\\u043b\\u0430\\u0432\\u043d\\u044b\\u0439 \\u0431\\u0443\\u0445\\u0433\\u0430\\u043b\\u0442\\u0435\\u0440\\t\\t\\t\\t\\t\\t\\t\\t\\t\\t\\t\\t\\t\\t\\t\\t\\t\\t\\t\\t\\t\\t\\t\\t\\t\\t\\t\\t\\t\\t\\t\\t\\t\\t\\t\\t\\t\\t\\t\\t\\t\\t\\t\\t\\t\\t\\t\\t\\t\\t\\t\\t\\t\\t\\t\\t\\t\\t\\t\\t\\t\\t\\t\\t\\t\\t\\t\\t\\t\\t\\t\\t\\t\\t\\t\\t\\t\\t\\t\\r\\n\\u0438\\u043b\\u0438 \\u0438\\u043d\\u043e\\u0435 \\u0443\\u043f\\u043e\\u043b\\u043d\\u043e\\u043c\\u043e\\u0447\\u0435\\u043d\\u043d\\u043e\\u0435 \\u043b\\u0438\\u0446\\u043e\\t\\t\\t\\t\\t\\t\\t\\t\\t\\t\\t\\t\\t\\t\\t\\t\\t\\t\\t\\t\\t\\t\\t\\t\\t\\t\\t\\t\\t\\t\\t\\t\\t\\t\\t\\t\\t\\t\\u0421\\u0435\\u0440\\u0433\\u0435\\u0435\\u0432\\t\\t\\t\\t\\t\\t\\t\\t\\t\\t\\t\\t\\t\\t\\t\\t\\t\\t\\u0421\\u0435\\u0440\\u0433\\u0435\\u0435\\u0432 \\u0410.\\u0410.\\t\\t\\t\\t\\t\\t\\t\\t\\t\\t\\t\\t\\t\\t\\t\\t\\t\\t\\t\\t\\t\\t\\t\\t\\t\\t\\t\\t\\t\\t\\t\\u0438\\u043b\\u0438 \\u0438\\u043d\\u043e\\u0435 \\u0443\\u043f\\u043e\\u043b\\u043d\\u043e\\u043c\\u043e\\u0447\\u0435\\u043d\\u043d\\u043e\\u0435 \\u043b\\u0438\\u0446\\u043e\\t\\t\\t\\t\\t\\t\\t\\t\\t\\t\\t\\t\\t\\t\\t\\t\\t\\t\\t\\t\\t\\t\\t\\t\\t\\t\\t\\t\\t\\t\\t\\t\\t\\u0424\\u0435\\u0434\\u043e\\u0440\\u043e\\u0432 \\t\\t\\t\\t\\t\\t\\t\\t\\t\\t\\t\\t\\t\\t\\t\\t\\t\\t\\u0424\\u0435\\u0434\\u043e\\u0440\\u043e\\u0432 \\u0418.\\u0418.\\t\\t\\t\\t\\t\\t\\t\\t\\t\\t\\t\\t\\t\\t\\t\\t\\t\\t\\t\\t\\t\\t\\t\\t\\t\\t\\t\\t\\r\\n\\t\\t\\t\\t\\t\\t\\t\\t\\t\\t\\t\\t\\t\\t\\t\\t\\t\\t\\t\\t\\t\\t\\t\\t\\t\\t\\t\\t\\t\\t\\t\\t\\t\\t\\t\\t\\t\\t(\\u043f\\u043e\\u0434\\u043f\\u0438\\u0441\\u044c)\\t\\t\\t\\t\\t\\t\\t\\t\\t\\t\\t\\t\\t\\t\\t\\t\\t\\t(\\u0444.\\u0438.\\u043e.)\\t\\t\\t\\t\\t\\t\\t\\t\\t\\t\\t\\t\\t\\t\\t\\t\\t\\t\\t\\t\\t\\t\\t\\t\\t\\t\\t\\t\\t\\t\\t\\t\\t\\t\\t\\t\\t\\t\\t\\t\\t\\t\\t\\t\\t\\t\\t\\t\\t\\t\\t\\t\\t\\t\\t\\t\\t\\t\\t\\t\\t\\t\\t\\t(\\u043f\\u043e\\u0434\\u043f\\u0438\\u0441\\u044c)\\t\\t\\t\\t\\t\\t\\t\\t\\t\\t\\t\\t\\t\\t\\t\\t\\t\\t(\\u0444.\\u0438.\\u043e.)\\t\\t\\t\\t\\t\\t\\t\\t\\t\\t\\t\\t\\t\\t\\t\\t\\t\\t\\t\\t\\t\\t\\t\\t\\t\\t\\t\\t\\r\\n\\u0418\\u043d\\u0434\\u0438\\u0432\\u0438\\u0434\\u0443\\u0430\\u043b\\u044c\\u043d\\u044b\\u0439 \\u043f\\u0440\\u0435\\u0434\\u043f\\u0440\\u0438\\u043d\\u0438\\u043c\\u0430\\u0442\\u0435\\u043b\\u044c\\t\\t\\t\\t\\t\\t\\t\\t\\t\\t\\t\\t\\t\\t\\t\\t\\t\\t\\t\\t\\t\\t\\t\\t\\t\\t\\t\\t\\t\\t\\t\\t\\t\\t\\t\\t\\t\\t\\t\\t\\t\\t\\t\\t\\t\\t\\t\\t\\t\\t\\t\\t\\t\\t\\t\\t\\t\\t\\t\\t\\t\\t\\t\\t\\t\\t\\t\\t\\t\\t\\t\\t\\t\\t\\t\\t\\t\\t\\t\\t\\t\\t\\t\\t\\t\\t\\t\\t\\t\\t\\t\\t\\t\\t\\t\\t\\t\\t\\t\\t\\t\\t\\t\\t\\t\\t\\t\\t\\t\\t\\t\\t\\t\\t\\t\\t\\t\\t\\t\\t\\t\\t\\t\\t\\t\\t\\t\\t\\t\\t\\t\\t\\t\\t\\t\\t\\t\\t\\t\\t\\t\\t\\t\\t\\t\\t\\t\\t\\t\\t\\t\\t\\t\\t\\t\\t\\t\\t\\t\\t\\t\\t\\t\\t\\t\\t\\r\\n\\u0438\\u043b\\u0438 \\u0438\\u043d\\u043e\\u0435 \\u0443\\u043f\\u043e\\u043b\\u043d\\u043e\\u043c\\u043e\\u0447\\u0435\\u043d\\u043d\\u043e\\u0435 \\u043b\\u0438\\u0446\\u043e\\t\\t\\t\\t\\t\\t\\t\\t\\t\\t\\t\\t\\t\\t\\t\\t\\t\\t\\t\\t\\t\\t\\t\\t\\t\\t\\t\\t\\t\\t\\t\\t\\t\\t\\t\\t\\t\\t\\t\\t\\t\\t\\t\\t\\t\\t\\t\\t\\t\\t\\t\\t\\t\\t\\t\\t\\t\\t\\t\\t\\t\\t\\t\\t\\t\\t\\t\\t\\t\\t\\t\\t\\t\\t\\t\\t\\t\\t\\t\\t\\t\\t\\t\\t\\t\\t\\t\\t\\t\\t\\t\\t\\t\\t\\t\\t\\t\\t\\t\\t\\t\\t\\t\\t\\t\\t\\t\\t\\t\\t\\t\\t\\t\\t\\t\\t\\t\\t\\t\\t\\t\\t\\t\\t\\t\\t\\t\\t\\t\\t\\t\\t\\t\\t\\t\\t\\t\\t\\t\\t\\t\\t\\t\\t\\t\\t\\t\\t\\t\\t\\t\\t\\t\\t\\t\\t\\t\\t\\t\\t\\t\\t\\t\\t\\t\\t\\r\\n\\t\\t\\t\\t\\t\\t\\t\\t\\t\\t\\t\\t\\t\\t\\t\\t\\t\\t\\t\\t\\t\\t\\t\\t\\t\\t\\t\\t\\t\\t\\t\\t\\t\\t\\t\\t\\t\\t(\\u043f\\u043e\\u0434\\u043f\\u0438\\u0441\\u044c)\\t\\t\\t\\t\\t\\t\\t\\t\\t\\t\\t\\t\\t\\t\\t\\t\\t\\t(\\u0444.\\u0438.\\u043e.)\\t\\t\\t\\t\\t\\t\\t\\t\\t\\t\\t\\t\\t\\t\\t\\t\\t\\t\\t\\t\\t\\t\\t\\t\\t\\t\\t\\t\\t\\t\\t\\\"(\\u0440\\u0435\\u043a\\u0432\\u0438\\u0437\\u0438\\u0442\\u044b \\u0441\\u0432\\u0438\\u0434\\u0435\\u0442\\u0435\\u043b\\u044c\\u0441\\u0442\\u0432\\u0430 \\u043e \\u0433\\u043e\\u0441\\u0443\\u0434\\u0430\\u0440\\u0441\\u0442\\u0432\\u0435\\u043d\\u043d\\u043e\\u0439 \\u0440\\u0435\\u0433\\u0438\\u0441\\u0442\\u0440\\u0430\\u0446\\u0438\\u0438\\n\\u0438\\u043d\\u0434\\u0438\\u0432\\u0438\\u0434\\u0443\\u0430\\u043b\\u044c\\u043d\\u043e\\u0433\\u043e \\u043f\\u0440\\u0435\\u0434\\u043f\\u0440\\u0438\\u043d\\u0438\\u043c\\u0430\\u0442\\u0435\\u043b\\u044f)\\\"\\t\\t\\t\\t\\t\\t\\t\\t\\t\\t\\t\\t\\t\\t\\t\\t\\t\\t\\t\\t\\t\\t\\t\\t\\t\\t\\t\\t\\t\\t\\t\\t\\t\\t\\t\\t\\t\\t\\t\\t\\t\\t\\t\\t\\t\\t\\t\\t\\t\\t\\t\\t\\t\\t\\t\\t\\t\\t\\t\\t\\t\\t\\t\\t\\t\\t\\t\\t\\t\\t\\t\\t\\t\\t\\t\\t\\t\\t\\t\\r\",\n          \"\\u0420\\u0443\\u043a\\u043e\\u0432\\u043e\\u0434\\u0438\\u0442\\u0435\\u043b\\u044e \\u0423\\u0440\\u0430\\u043b\\u044c\\u0441\\u043a\\u043e\\u0433\\u043e \\u0443\\u043f\\u0440\\u0430\\u0432\\u043b\\u0435\\u043d\\u0438\\u044f \\u041f\\u0410\\u041e \\u00ab\\u0421\\u0431\\u0435\\u0440\\u0431\\u0430\\u043d\\u043a\\u00bb \\u0414\\u0435\\u043d\\u0438\\u0441\\u043e\\u0432\\u0443 \\u0414\\u0435\\u043d\\u0438\\u0441\\u0443 \\u0414\\u0435\\u043d\\u0438\\u0441\\u043e\\u0432\\u0438\\u0447\\u0443\\r\\n\\u041a\\u0443\\u0440\\u0433\\u0430\\u043d\\u0441\\u043a\\u0430\\u044f \\u043e\\u0431\\u043b\\u0430\\u0441\\u0442\\u044c, \\u0433. \\u041a\\u0443\\u0440\\u0433\\u0430\\u043d, \\u0443\\u043b. \\u041b\\u0435\\u043d\\u0438\\u043d\\u0430, \\u0434. 65, \\u043e\\u0444\\u0438\\u0441 15\\u0410.\\r\\n\\u041e\\u0442 \\u0421\\u0438\\u043c\\u043e\\u043d\\u043e\\u0432\\u0430 \\u041e\\u043b\\u0435\\u0433\\u0430 \\u041f\\u0430\\u0432\\u043b\\u043e\\u0432\\u0438\\u0447\\u0430\\r\\n\\u041f\\u0430\\u0441\\u043f\\u043e\\u0440\\u0442 3717 768900\\r\\n\\u041c\\u0435\\u0441\\u0442\\u043e \\u043f\\u0440\\u043e\\u043f\\u0438\\u0441\\u043a\\u0438: \\u0433. \\u041a\\u0443\\u0440\\u0433\\u0430\\u043d, \\u0443\\u043b. \\u041a\\u0440\\u0430\\u0441\\u0438\\u043d\\u0430, \\u0434. 12, \\u043a\\u0432. 1.\\r\\n\\u041d\\u043e\\u043c\\u0435\\u0440 \\u0442\\u0435\\u043b\\u0435\\u0444\\u043e\\u043d\\u0430: +7-909-424-12-88\\r\\n12 \\u0434\\u0435\\u043a\\u0430\\u0431\\u0440\\u044f 2025 \\u0433\\u043e\\u0434\\u0430\\r\\n\\u0417\\u0430\\u044f\\u0432\\u043b\\u0435\\u043d\\u0438\\u0435 \\u043f\\u043e \\u043e\\u0448\\u0438\\u0431\\u043e\\u0447\\u043d\\u043e \\u043f\\u0435\\u0440\\u0435\\u0447\\u0438\\u0441\\u043b\\u0435\\u043d\\u043d\\u044b\\u043c \\u0434\\u0435\\u043d\\u0435\\u0436\\u043d\\u044b\\u043c \\u0441\\u0440\\u0435\\u0434\\u0441\\u0442\\u0432\\u0430\\u043c\\r\\n\\u042f, \\u0421\\u0438\\u043c\\u043e\\u043d\\u043e\\u0432 \\u041e\\u043b\\u0435\\u0433 \\u041f\\u0430\\u0432\\u043b\\u043e\\u0432\\u0438\\u0447, \\u043e\\u0448\\u0438\\u0431\\u043e\\u0447\\u043d\\u043e \\u043f\\u0435\\u0440\\u0435\\u0432\\u0435\\u043b \\u0441\\u043e \\u0441\\u0447\\u0435\\u0442\\u0430 \\u043f\\u043e\\u0434 \\u043d\\u043e\\u043c\\u0435\\u0440\\u043e\\u043c 4505 7890 9889 6780 \\u0434\\u0435\\u043d\\u0435\\u0436\\u043d\\u044b\\u0435 \\u0441\\u0440\\u0435\\u0434\\u0441\\u0442\\u0432\\u0430 \\u0432 \\u0441\\u0443\\u043c\\u043c\\u0435 20 000 \\u0440\\u0443\\u0431\\u043b\\u0435\\u0439 \\u043d\\u0430 \\u0431\\u0430\\u043d\\u043a\\u043e\\u0432\\u0441\\u043a\\u0438\\u0439 \\u0441\\u0447\\u0435\\u0442 \\u043f\\u043e\\u0434 \\u043d\\u043e\\u043c\\u0435\\u0440\\u043e\\u043c 4505 4554 1232 2332, \\u043f\\u0440\\u0438\\u043d\\u0430\\u0434\\u043b\\u0435\\u0436\\u0430\\u0449\\u0438\\u0439 \\u043d\\u0435\\u043a\\u043e\\u043c\\u0443 \\u0410\\u043b\\u0435\\u043a\\u0441\\u0435\\u044e \\u0421\\u0435\\u0440\\u0433\\u0435\\u0435\\u0432\\u0438\\u0447\\u0443 \\u0414.\\r\\n\\u0412 \\u0441\\u0432\\u044f\\u0437\\u0438 \\u0441 \\u043e\\u0448\\u0438\\u0431\\u043e\\u0447\\u043d\\u044b\\u043c \\u043f\\u0435\\u0440\\u0435\\u0432\\u043e\\u0434\\u043e\\u043c \\u0434\\u0435\\u043d\\u0435\\u0436\\u043d\\u044b\\u0445 \\u0441\\u0440\\u0435\\u0434\\u0441\\u0442\\u0432, \\u043f\\u0440\\u043e\\u0448\\u0443\\r\\n1.\\t\\u0412\\u043e\\u0437\\u0432\\u0440\\u0430\\u0442\\u0438\\u0442\\u044c \\u043e\\u0448\\u0438\\u0431\\u043e\\u0447\\u043d\\u043e \\u043f\\u0435\\u0440\\u0435\\u0432\\u0435\\u0434\\u0435\\u043d\\u043d\\u044b\\u0435 \\u0434\\u0435\\u043d\\u0435\\u0436\\u043d\\u044b\\u0435 \\u0441\\u0440\\u0435\\u0434\\u0441\\u0442\\u0432\\u0430 \\u0432 \\u0441\\u0443\\u043c\\u043c\\u0435 20 000 \\u0440\\u0443\\u0431\\u043b\\u0435\\u0439.\\r\\n\\u0421\\u0438\\u043c\\u043e\\u043d\\u043e\\u0432 \\u041e\\u043b\\u0435\\u0433 \\u041f\\u0430\\u0432\\u043b\\u043e\\u0432\\u0438\\u0447 \\r\\n' \",\n          \"\\u0414\\u043e\\u0433\\u043e\\u0432\\u043e\\u0440 \\u043f\\u043e\\u0434\\u0440\\u044f\\u0434\\u0430 \\u043d\\u0430 \\u0438\\u0437\\u0433\\u043e\\u0442\\u043e\\u0432\\u043b\\u0435\\u043d\\u0438\\u0435 \\u0431\\u0435\\u0441\\u0435\\u0434\\u043a\\u0438\\n\\u0433. \\u042f\\u043b\\u0443\\u0442\\u043e\\u0440\\u043e\\u0432\\u0441\\u043a 18 \\u043d\\u043e\\u044f\\u0431\\u0440\\u044f 2024 \\u0433\\u043e\\u0434\\u0430\\n\\u041f\\u0430\\u043b\\u0430\\u0433\\u0438\\u043d \\u042e\\u0440\\u0438\\u0439 \\u041b\\u044c\\u0432\\u043e\\u0432\\u0438\\u0447, \\u0434\\u0435\\u0439\\u0441\\u0442\\u0432\\u0443\\u044e\\u0449\\u0438\\u0439 \\u043e\\u0442 \\u0441\\u0432\\u043e\\u0435\\u0433\\u043e \\u0438\\u043c\\u0435\\u043d\\u0438,\\n\\u0438\\u043c\\u0435\\u043d\\u0443\\u0435\\u043c\\u044b\\u0439 \\u0434\\u0430\\u043b\\u0435\\u0435 \\u00ab\\u0417\\u0430\\u043a\\u0430\\u0437\\u0447\\u0438\\u043a\\u00bb, \\u0441 \\u043e\\u0434\\u043d\\u043e\\u0439 \\u0441\\u0442\\u043e\\u0440\\u043e\\u043d\\u044b,\\n\\u0438\\n\\u041e\\u041e\\u041e \\u00ab\\u0422\\u0410\\u041c\\u041f\\u00bb, \\u0432 \\u043b\\u0438\\u0446\\u0435 \\u041a\\u0430\\u0440\\u0433\\u0430\\u043f\\u043e\\u043b\\u044c\\u0446\\u0435\\u0432\\u0430 \\u042e\\u0440\\u0438\\u044f \\u0410\\u043d\\u0442\\u043e\\u043d\\u043e\\u0432\\u0438\\u0447\\u0430, \\u0434\\u0435\\u0439\\u0441\\u0442\\u0432\\u0443\\u044e\\u0449\\u0435\\u0433\\u043e \\u043d\\u0430 \\u043e\\u0441\\u043d\\u043e\\u0432\\u0430\\u043d\\u0438\\u0438 \\u0434\\u043e\\u0432\\u0435\\u0440\\u0435\\u043d\\u043d\\u043e\\u0441\\u0442\\u0438 \\u043e\\u0442 16.04.2022 \\u0433. No15-74/293,\\n\\u0438\\u043c\\u0435\\u043d\\u0443\\u0435\\u043c\\u043e\\u0435 \\u0434\\u0430\\u043b\\u0435\\u0435 \\u00ab\\u041f\\u043e\\u0434\\u0440\\u044f\\u0434\\u0447\\u0438\\u043a\\u00bb, \\u0441 \\u0434\\u0440\\u0443\\u0433\\u043e\\u0439 \\u0441\\u0442\\u043e\\u0440\\u043e\\u043d\\u044b,\\n\\u0437\\u0430\\u043a\\u043b\\u044e\\u0447\\u0438\\u043b\\u0438 \\u043d\\u0430\\u0441\\u0442\\u043e\\u044f\\u0449\\u0438\\u0439 \\u0434\\u043e\\u0433\\u043e\\u0432\\u043e\\u0440 \\u043e \\u043d\\u0438\\u0436\\u0435\\u0441\\u043b\\u0435\\u0434\\u0443\\u044e\\u0449\\u0435\\u043c:\\n\\u041f\\u0440\\u0435\\u0434\\u043c\\u0435\\u0442\\n\\u0412 \\u0440\\u0430\\u043c\\u043a\\u0430\\u0445 \\u0434\\u043e\\u0433\\u043e\\u0432\\u043e\\u0440\\u0430, \\u0437\\u0430\\u043a\\u043b\\u044e\\u0447\\u0435\\u043d\\u043d\\u043e\\u0433\\u043e \\u043c\\u0435\\u0436\\u0434\\u0443 \\u0441\\u0442\\u043e\\u0440\\u043e\\u043d\\u0430\\u043c\\u0438, \\u041f\\u043e\\u0434\\u0440\\u044f\\u0434\\u0447\\u0438\\u043a \\u043e\\u0431\\u0435\\u0441\\u043f\\u0435\\u0447\\u0438\\u0432\\u0430\\u0435\\u0442 \\u043f\\u0440\\u043e\\u0432\\u0435\\u0434\\u0435\\u043d\\u0438\\u0435 \\u0440\\u0430\\u0431\\u043e\\u0442, \\u0441\\u0432\\u044f\\u0437\\u0430\\u043d\\u043d\\u044b\\u0445 \\u0441 \\u0438\\u0437\\u0433\\u043e\\u0442\\u043e\\u0432\\u043b\\u0435\\u043d\\u0438\\u0435\\u043c \\u0431\\u0435\\u0441\\u0435\\u0434\\u043a\\u0438 (\\u0434\\u0430\\u043b\\u0435\\u0435 \\u0442\\u0430\\u043a\\u0436\\u0435 \\u2013 \\u0440\\u0430\\u0431\\u043e\\u0442\\u044b) \\u0441\\u043e\\u0433\\u043b\\u0430\\u0441\\u043d\\u043e \\u0442\\u0435\\u0445\\u043d\\u0438\\u0447\\u0435\\u0441\\u043a\\u043e\\u043c\\u0443 \\u0437\\u0430\\u0434\\u0430\\u043d\\u0438\\u044e, \\u043a\\u043e\\u0442\\u043e\\u0440\\u043e\\u0435 \\u0441\\u043e\\u0434\\u0435\\u0440\\u0436\\u0438\\u0442\\u0441\\u044f \\u0432 \\u041f\\u0440\\u0438\\u043b\\u043e\\u0436\\u0435\\u043d\\u0438\\u0438 1 \\u043a \\u043d\\u0430\\u0441\\u0442\\u043e\\u044f\\u0449\\u0435\\u043c\\u0443 \\u0434\\u043e\\u0433\\u043e\\u0432\\u043e\\u0440\\u0443 (\\u0434\\u0430\\u043b\\u0435\\u0435 \\u2013 \\u041f\\u0440\\u0438\\u043b\\u043e\\u0436\\u0435\\u043d\\u0438\\u0435 1), \\u0430 \\u0417\\u0430\\u043a\\u0430\\u0437\\u0447\\u0438\\u043a \\u043e\\u0441\\u0443\\u0449\\u0435\\u0441\\u0442\\u0432\\u043b\\u044f\\u0435\\u0442 \\u043f\\u0440\\u0438\\u0435\\u043c\\u043a\\u0443 \\u0438 \\u043e\\u043f\\u043b\\u0430\\u0442\\u0443 \\u044d\\u0442\\u0438\\u0445 \\u0440\\u0430\\u0431\\u043e\\u0442.\\n\\u041f\\u0440\\u0438\\u0435\\u043c \\u0440\\u0430\\u0431\\u043e\\u0442 \\u0441\\u043e\\u043f\\u0440\\u043e\\u0432\\u043e\\u0436\\u0434\\u0430\\u0435\\u0442\\u0441\\u044f \\u043e\\u0444\\u043e\\u0440\\u043c\\u043b\\u0435\\u043d\\u0438\\u0435\\u043c \\u0410\\u043a\\u0442\\u0430 \\u043f\\u0440\\u0438\\u0435\\u043c\\u0430-\\u043f\\u0435\\u0440\\u0435\\u0434\\u0430\\u0447\\u0438 \\u0432\\u044b\\u043f\\u043e\\u043b\\u043d\\u0435\\u043d\\u043d\\u044b\\u0445 \\u0440\\u0430\\u0431\\u043e\\u0442 (\\u0434\\u0430\\u043b\\u0435\\u0435 \\u2013 \\u0410\\u043a\\u0442).\\n\\u0421\\u0440\\u043e\\u043a \\u043d\\u0430 \\u0432\\u044b\\u043f\\u043e\\u043b\\u043d\\u0435\\u043d\\u0438\\u0435 \\u0440\\u0430\\u0431\\u043e\\u0442 \\u0443\\u0441\\u0442\\u0430\\u043d\\u043e\\u0432\\u043b\\u0435\\u043d \\u0434\\u043e\\u0433\\u043e\\u0432\\u043e\\u0440\\u043e\\u043c \\u0438 \\u0441\\u043e\\u0441\\u0442\\u0430\\u0432\\u043b\\u044f\\u0435\\u0442: 240 \\u0440\\u0443\\u0431\\u043b\\u0435\\u0439\\n\\u041e\\u043f\\u043b\\u0430\\u0442\\u0430 \\u0440\\u0430\\u0431\\u043e\\u0442, \\u043f\\u0440\\u043e\\u0432\\u0435\\u0434\\u0435\\u043d\\u043d\\u044b\\u0445 \\u041f\\u043e\\u0434\\u0440\\u044f\\u0434\\u0447\\u0438\\u043a\\u043e\\u043c, \\u043f\\u0440\\u043e\\u0438\\u0437\\u0432\\u043e\\u0434\\u0438\\u0442\\u0441\\u044f \\u0432 \\u0440\\u0443\\u0431\\u043b\\u044f\\u0445 \\u0438 \\u0441\\u043e\\u0441\\u0442\\u0430\\u0432\\u043b\\u044f\\u0435\\u0442 240 \\u0440\\u0443\\u0431\\u043b\\u0435\\u0439\\n\\u0426\\u0435\\u043d\\u0430, \\u0443\\u0441\\u0442\\u0430\\u043d\\u043e\\u0432\\u043b\\u0435\\u043d\\u043d\\u0430\\u044f \\u0441\\u043e\\u0433\\u043b\\u0430\\u0448\\u0435\\u043d\\u0438\\u0435\\u043c, \\u043d\\u0435 \\u043f\\u043e\\u0434\\u043b\\u0435\\u0436\\u0438\\u0442 \\u0438\\u0437\\u043c\\u0435\\u043d\\u0435\\u043d\\u0438\\u044e \\u0432 \\u0445\\u043e\\u0434\\u0435 \\u0435\\u0433\\u043e \\u0438\\u0441\\u043f\\u043e\\u043b\\u043d\\u0435\\u043d\\u0438\\u044f.\\n\\u041e\\u043f\\u043b\\u0430\\u0442\\u0430 \\u043e\\u0441\\u0443\\u0449\\u0435\\u0441\\u0442\\u0432\\u043b\\u044f\\u0435\\u0442\\u0441\\u044f \\u043f\\u0443\\u0442\\u0435\\u043c \\u0434\\u0435\\u043d\\u0435\\u0436\\u043d\\u043e\\u0433\\u043e \\u043f\\u0435\\u0440\\u0435\\u0432\\u043e\\u0434\\u0430 \\u043f\\u043e \\u0443\\u043a\\u0430\\u0437\\u0430\\u043d\\u043d\\u044b\\u043c \\u0440\\u0435\\u043a\\u0432\\u0438\\u0437\\u0438\\u0442\\u0430\\u043c \\u0432 \\u0442\\u0435\\u0447\\u0435\\u043d\\u0438\\u0435 5 (\\u041f\\u044f\\u0442\\u0438) \\u043a\\u0430\\u043b\\u0435\\u043d\\u0434\\u0430\\u0440\\u043d\\u044b\\u0445 \\u043f\\u043e\\u0441\\u043b\\u0435 \\u043f\\u043e\\u0434\\u043f\\u0438\\u0441\\u0430\\u043d\\u0438\\u044f \\u0441\\u043e\\u043e\\u0442\\u0432\\u0435\\u0442\\u0441\\u0442\\u0432\\u0443\\u044e\\u0449\\u0435\\u0433\\u043e \\u0410\\u043a\\u0442\\u0430.\\n\\u041f\\u0440\\u0430\\u0432\\u0430 \\u0438 \\u043e\\u0431\\u044f\\u0437\\u0430\\u043d\\u043d\\u043e\\u0441\\u0442\\u0438\\n\\u041f\\u043e\\u0434\\u0440\\u044f\\u0434\\u0447\\u0438\\u043a \\u0432\\u043f\\u0440\\u0430\\u0432\\u0435:\\n\\u0422\\u0440\\u0435\\u0431\\u043e\\u0432\\u0430\\u0442\\u044c \\u043e\\u043f\\u043b\\u0430\\u0442\\u044b \\u043f\\u0440\\u043e\\u0432\\u0435\\u0434\\u0435\\u043d\\u043d\\u044b\\u0445 \\u0440\\u0430\\u0431\\u043e\\u0442 \\u0432 \\u0441\\u0440\\u043e\\u043a, \\u0443\\u0441\\u0442\\u0430\\u043d\\u043e\\u0432\\u043b\\u0435\\u043d\\u043d\\u044b\\u0439 \\u0441\\u043e\\u0433\\u043b\\u0430\\u0448\\u0435\\u043d\\u0438\\u0435\\u043c.\\n\\u041f\\u043e\\u0434\\u0440\\u044f\\u0434\\u0447\\u0438\\u043a \\u043e\\u0431\\u044f\\u0437\\u0430\\u043d:\\n\\u041e\\u0431\\u0435\\u0441\\u043f\\u0435\\u0447\\u0438\\u0442\\u044c \\u043f\\u0440\\u043e\\u0432\\u0435\\u0434\\u0435\\u043d\\u0438\\u0435 \\u0440\\u0430\\u0431\\u043e\\u0442 \\u0432 \\u0440\\u0430\\u043c\\u043a\\u0430\\u0445 \\u0443\\u0441\\u043b\\u043e\\u0432\\u0438\\u0439 \\u0434\\u043e\\u0433\\u043e\\u0432\\u043e\\u0440\\u0430;\\n\\u0412 \\u0441\\u043b\\u0443\\u0447\\u0430\\u0435 \\u043d\\u0435\\u0432\\u043e\\u0437\\u043c\\u043e\\u0436\\u043d\\u043e\\u0441\\u0442\\u0438 \\u0432\\u044b\\u043f\\u043e\\u043b\\u043d\\u0435\\u043d\\u0438\\u044f \\u0440\\u0430\\u0431\\u043e\\u0442 \\u043f\\u043e \\u043a\\u0430\\u043a\\u0438\\u043c-\\u043b\\u0438\\u0431\\u043e \\u043f\\u0440\\u0438\\u0447\\u0438\\u043d\\u0430\\u043c, \\u043d\\u0435\\u0437\\u0430\\u043c\\u0435\\u0434\\u043b\\u0438\\u0442\\u0435\\u043b\\u044c\\u043d\\u043e \\u0438\\u0437\\u0432\\u0435\\u0441\\u0442\\u0438\\u0442\\u044c \\u043e\\u0431 \\u044d\\u0442\\u043e\\u043c \\u0417\\u0430\\u043a\\u0430\\u0437\\u0447\\u0438\\u043a\\u0430.\\n\\u0417\\u0430\\u043a\\u0430\\u0437\\u0447\\u0438\\u043a \\u0432\\u043f\\u0440\\u0430\\u0432\\u0435:\\n\\u041d\\u0435 \\u043f\\u0440\\u0438\\u043d\\u0438\\u043c\\u0430\\u0442\\u044c \\u0440\\u0430\\u0431\\u043e\\u0442\\u044b, \\u0435\\u0441\\u043b\\u0438 \\u043e\\u043d\\u0438 \\u0432\\u044b\\u043f\\u043e\\u043b\\u043d\\u0435\\u043d\\u044b \\u043d\\u0435\\u043d\\u0430\\u0434\\u043b\\u0435\\u0436\\u0430\\u0449\\u0438\\u043c \\u043e\\u0431\\u0440\\u0430\\u0437\\u043e\\u043c.\\n\\u0417\\u0430\\u043a\\u0430\\u0437\\u0447\\u0438\\u043a \\u043e\\u0431\\u044f\\u0437\\u0430\\u043d:\\n\\u041e\\u0441\\u0443\\u0449\\u0435\\u0441\\u0442\\u0432\\u0438\\u0442\\u044c \\u043e\\u043f\\u043b\\u0430\\u0442\\u0443 \\u0440\\u0430\\u0431\\u043e\\u0442 \\u0432 \\u043f\\u043e\\u0440\\u044f\\u0434\\u043a\\u0435, \\u043a\\u043e\\u0442\\u043e\\u0440\\u044b\\u0439 \\u043f\\u0440\\u0435\\u0434\\u0443\\u0441\\u043c\\u043e\\u0442\\u0440\\u0435\\u043d \\u0443\\u0441\\u043b\\u043e\\u0432\\u0438\\u044f\\u043c\\u0438 \\u0434\\u043e\\u0433\\u043e\\u0432\\u043e\\u0440\\u0430;\\n\\u0421\\u043e\\u043f\\u0440\\u043e\\u0432\\u043e\\u0434\\u0438\\u0442\\u044c \\u043f\\u0440\\u0438\\u0435\\u043c \\u0438 \\u043e\\u043f\\u043b\\u0430\\u0442\\u0443 \\u0440\\u0430\\u0431\\u043e\\u0442 \\u043f\\u0443\\u0442\\u0435\\u043c \\u0437\\u0430\\u043a\\u043b\\u044e\\u0447\\u0435\\u043d\\u0438\\u044f \\u0441\\u043e\\u043e\\u0442\\u0432\\u0435\\u0442\\u0441\\u0442\\u0432\\u0443\\u044e\\u0449\\u0435\\u0433\\u043e \\u0410\\u043a\\u0442\\u0430.\\n\\u041e\\u0442\\u0432\\u0435\\u0442\\u0441\\u0442\\u0432\\u0435\\u043d\\u043d\\u043e\\u0441\\u0442\\u044c \\u0441\\u0442\\u043e\\u0440\\u043e\\u043d\\n\\u041f\\u0440\\u0438 \\u043d\\u0430\\u0440\\u0443\\u0448\\u0435\\u043d\\u0438\\u0438 \\u0443\\u0441\\u043b\\u043e\\u0432\\u0438\\u0439 \\u0434\\u043e\\u0433\\u043e\\u0432\\u043e\\u0440\\u0430 \\u0441\\u0442\\u043e\\u0440\\u043e\\u043d\\u044b \\u043d\\u0435\\u0441\\u0443\\u0442 \\u043e\\u0442\\u0432\\u0435\\u0442\\u0441\\u0442\\u0432\\u0435\\u043d\\u043d\\u043e\\u0441\\u0442\\u044c \\u0441\\u043e\\u0433\\u043b\\u0430\\u0441\\u043d\\u043e \\u0442\\u0440\\u0435\\u0431\\u043e\\u0432\\u0430\\u043d\\u0438\\u044f\\u043c \\u0437\\u0430\\u043a\\u043e\\u043d\\u043e\\u0434\\u0430\\u0442\\u0435\\u043b\\u044c\\u0441\\u0442\\u0432\\u0430 \\u0420\\u043e\\u0441\\u0441\\u0438\\u0439\\u0441\\u043a\\u043e\\u0439 \\u0424\\u0435\\u0434\\u0435\\u0440\\u0430\\u0446\\u0438\\u0438.\\n\\u041f\\u0440\\u0438 \\u043d\\u0435\\u0441\\u0432\\u043e\\u0435\\u0432\\u0440\\u0435\\u043c\\u0435\\u043d\\u043d\\u043e\\u043c \\u0438\\u0441\\u043f\\u043e\\u043b\\u043d\\u0435\\u043d\\u0438\\u0438 \\u043e\\u0431\\u044f\\u0437\\u0430\\u0442\\u0435\\u043b\\u044c\\u0441\\u0442\\u0432, \\u0437\\u0430 \\u043a\\u0430\\u0436\\u0434\\u044b\\u0439 \\u043f\\u0440\\u043e\\u0441\\u0440\\u043e\\u0447\\u0435\\u043d\\u043d\\u044b\\u0439 \\u0434\\u0435\\u043d\\u044c \\u043d\\u0430\\u0447\\u0438\\u0441\\u043b\\u044f\\u0435\\u0442\\u0441\\u044f \\u043f\\u0435\\u043d\\u044f \\u0432 \\u0440\\u0430\\u0437\\u043c\\u0435\\u0440\\u0435 24 \\u0440\\u0443\\u0431\\u043b\\u044f\\n\\u0420\\u0435\\u043a\\u0432\\u0438\\u0437\\u0438\\u0442\\u044b \\u0438 \\u043f\\u043e\\u0434\\u043f\\u0438\\u0441\\u0438 \\u0441\\u0442\\u043e\\u0440\\u043e\\u043d  \\n\\n\"\n        ],\n        \"semantic_type\": \"\",\n        \"description\": \"\"\n      }\n    }\n  ]\n}"
            }
          },
          "metadata": {},
          "execution_count": 172
        }
      ]
    },
    {
      "cell_type": "code",
      "source": [
        "data_n = pd.concat([df, data.drop(columns = 'filename')], axis=0)"
      ],
      "metadata": {
        "id": "-zkLgKPWqVJy"
      },
      "execution_count": 173,
      "outputs": []
    },
    {
      "cell_type": "code",
      "source": [
        "data_n.to_csv('/content/drive/MyDrive/Хакатон/train_dataset_dataset/data/data.csv', index=False)"
      ],
      "metadata": {
        "id": "4TVspy_CygVs"
      },
      "execution_count": null,
      "outputs": []
    },
    {
      "cell_type": "markdown",
      "source": [
        "# Text Cleaning"
      ],
      "metadata": {
        "id": "EwylpctuUoTx"
      }
    },
    {
      "cell_type": "code",
      "source": [
        "# data = pd.read_csv('/content/drive/MyDrive/Хакатон/train_dataset_dataset/data/data.csv')\n",
        "# data.info()"
      ],
      "metadata": {
        "id": "tRrzxOiiyrro"
      },
      "execution_count": null,
      "outputs": []
    },
    {
      "cell_type": "code",
      "source": [
        "nlp = sp.load('ru_core_news_lg')\n",
        "\n",
        "def del_NER(text):\n",
        "\n",
        "    doc = nlp(text)\n",
        "    for ent in doc.ents:\n",
        "        text = text.replace(ent.text, '')\n",
        "\n",
        "    return text"
      ],
      "metadata": {
        "id": "IbYG2xFwDWxv"
      },
      "execution_count": 174,
      "outputs": []
    },
    {
      "cell_type": "code",
      "source": [
        "def clean(doc):\n",
        "\n",
        "    doc = doc.lower().strip()\n",
        "    doc = doc.replace('\\n', ' ')\n",
        "    doc = doc.replace('\\r', ' ')\n",
        "    doc = doc.replace('\\t', ' ')\n",
        "    # # html tags\n",
        "    doc = re.sub(r'<.*?>', '', doc)\n",
        "    # Замена адресов электронной почты на \"почта\"\n",
        "    doc = re.sub(r'[\\w\\.-]+@[\\w\\.-]+', 'почта', doc)\n",
        "    # Замена упоминаний на \"тэг\"\n",
        "    doc = re.sub(r'@[\\w]+', 'тэг', doc)\n",
        "    # Замена URL-адреса любого вида на \"сайт\"\n",
        "    doc = re.sub(r'(https?://)?(www\\.)?[\\w\\.-]+\\.[a-zа-я]+', 'сайт', doc)\n",
        "    # # Замена дат на \"дата\"\n",
        "    doc = re.sub(r\"(\\d{1,2}[./-]\\d{1,2}[./-]\\d{2,4})|(\\d{2,4}[./-]\\d{1,2}[./-]\\d{1,2})\", \"дата\", doc)\n",
        "    # Удаление знаков препинания и цифр\n",
        "    doc = re.sub('[^а-яА-Я0-9nN] | ([nN]\\b)', ' ', doc)\n",
        "    doc = re.sub(r'\\s+', ' ', doc)\n",
        "\n",
        "    stop_words = set(stopwords.words('russian'))\n",
        "    doc = word_tokenize(doc)\n",
        "    # Фильтрация стоп-слов\n",
        "    doc = [word for word in doc if word not in stop_words]\n",
        "\n",
        "    # Стемминг\n",
        "    stemmer = SnowballStemmer(\"russian\")\n",
        "    doc = ' '.join([stemmer.stem(token) for token in doc])\n",
        "\n",
        "    return doc\n",
        "\n",
        "    # # Лемматизация\n",
        "    # morph = pymorphy2.MorphAnalyzer()\n",
        "    # lemmatized = [morph.parse(word)[0].normal_form for word in filtered_tokens]\n",
        "    # print(lemmatized)"
      ],
      "metadata": {
        "id": "q_8uTlh-KVir"
      },
      "execution_count": 175,
      "outputs": []
    },
    {
      "cell_type": "code",
      "source": [
        "clean_data = data.copy()\n",
        "\n",
        "clean_data['text'] = data['text'].apply(lambda x: clean(del_NER(x)))"
      ],
      "metadata": {
        "id": "uk3ENuy2j9xp"
      },
      "execution_count": 176,
      "outputs": []
    },
    {
      "cell_type": "code",
      "source": [
        "clean_data.to_csv('/content/drive/MyDrive/Хакатон/train_dataset_dataset/data/data_clean.csv', index = False)"
      ],
      "metadata": {
        "id": "O4fKhvWNGwxA"
      },
      "execution_count": null,
      "outputs": []
    },
    {
      "cell_type": "markdown",
      "source": [
        "# TRAIN"
      ],
      "metadata": {
        "id": "MESS3zHZkW7K"
      }
    },
    {
      "cell_type": "code",
      "source": [
        "from sklearn.model_selection import train_test_split\n",
        "# from sklearn.preprocessing import LabelEncoder\n",
        "from sklearn.feature_extraction.text import TfidfVectorizer\n",
        "\n",
        "# Масштабирование данных\n",
        "tfidf = TfidfVectorizer()\n",
        "data_vector=tfidf.fit_transform(data['text']).toarray()\n",
        "\n",
        "# Кодирование меток классов\n",
        "# label_encoder = LabelEncoder()\n",
        "# y_encoded = label_encoder.fit_transform(y)\n",
        "\n",
        "# X_train, X_test, y_train, y_test = train_test_split(clean_data['text_vectors'], clean_data['class'], test_size=0.2, random_state=42)\n",
        "X_train, X_test, y_train, y_test = train_test_split(data_vector, clean_data['class'], test_size=0.2, random_state=42)"
      ],
      "metadata": {
        "id": "_JXZAKLe3kba"
      },
      "execution_count": 177,
      "outputs": []
    },
    {
      "cell_type": "markdown",
      "source": [
        "# Gaussian Naive Bayes"
      ],
      "metadata": {
        "id": "6mf-Gl_UYqRT"
      }
    },
    {
      "cell_type": "code",
      "source": [
        "gnb = GaussianNB()\n",
        "gnb.fit(X_train, y_train)\n",
        "\n",
        "y_pred_train = gnb.predict(X_train)\n",
        "y_pred_test = gnb.predict(X_test)\n",
        "print(\"\\nTraining Accuracy score:\",f1_score(y_train, y_pred_train, average='micro'))\n",
        "print(\"Testing Accuracy score:\",f1_score(y_test, y_pred_test, average='micro'))\n",
        "\n",
        "# Training Accuracy score: 1.0\n",
        "# Testing Accuracy score: 0.8272727272727273"
      ],
      "metadata": {
        "id": "CCj-dYa2VHrG",
        "colab": {
          "base_uri": "https://localhost:8080/"
        },
        "outputId": "7744c359-6d9f-4258-bfde-addca57bfa3c"
      },
      "execution_count": 178,
      "outputs": [
        {
          "output_type": "stream",
          "name": "stdout",
          "text": [
            "\n",
            "Training Accuracy score: 1.0\n",
            "Testing Accuracy score: 1.0\n"
          ]
        }
      ]
    },
    {
      "cell_type": "markdown",
      "source": [
        "# Multinomial Naive Bayes"
      ],
      "metadata": {
        "id": "SqbFdyOfYq6z"
      }
    },
    {
      "cell_type": "code",
      "source": [
        "mnb = MultinomialNB()\n",
        "mnb.fit(X_train, y_train)\n",
        "\n",
        "y_pred_train = mnb.predict(X_train)\n",
        "y_pred_test = mnb.predict(X_test)\n",
        "print(\"\\nTraining Accuracy score:\",f1_score(y_train, y_pred_train, average='micro'))\n",
        "print(\"Testing Accuracy score:\",f1_score(y_test, y_pred_test, average='micro'))\n",
        "\n",
        "# Training Accuracy score: 0.9680365296803652\n",
        "# Testing Accuracy score: 0.8454545454545455"
      ],
      "metadata": {
        "id": "pUR1_4tAVMZZ",
        "colab": {
          "base_uri": "https://localhost:8080/"
        },
        "outputId": "fd819107-bbb0-4a67-9def-97f55484a4e7"
      },
      "execution_count": 179,
      "outputs": [
        {
          "output_type": "stream",
          "name": "stdout",
          "text": [
            "\n",
            "Training Accuracy score: 1.0\n",
            "Testing Accuracy score: 1.0\n"
          ]
        }
      ]
    },
    {
      "cell_type": "markdown",
      "source": [
        "# Logistic Regression Classifier"
      ],
      "metadata": {
        "id": "kert9q2xYtPM"
      }
    },
    {
      "cell_type": "code",
      "source": [
        "from sklearn.linear_model import LogisticRegression\n",
        "lr = LogisticRegression(random_state=42)\n",
        "lr.fit(X_train, y_train)\n",
        "\n",
        "y_pred_train = lr.predict(X_train)\n",
        "y_pred_test = lr.predict(X_test)\n",
        "print(\"\\nTraining Accuracy score:\",f1_score(y_train, y_pred_train, average='micro'))\n",
        "print(\"Testing Accuracy score:\",f1_score(y_test, y_pred_test, average='micro'))\n",
        "\n",
        "# Training Accuracy score: 0.9954337899543378\n",
        "# Testing Accuracy score: 0.9363636363636364"
      ],
      "metadata": {
        "id": "Otu2LJmOVO4z",
        "colab": {
          "base_uri": "https://localhost:8080/"
        },
        "outputId": "52ac596c-4fe7-400f-967a-40fb89557ff5"
      },
      "execution_count": 180,
      "outputs": [
        {
          "output_type": "stream",
          "name": "stdout",
          "text": [
            "\n",
            "Training Accuracy score: 1.0\n",
            "Testing Accuracy score: 1.0\n"
          ]
        }
      ]
    },
    {
      "cell_type": "markdown",
      "source": [
        "# Support Vector Machine"
      ],
      "metadata": {
        "id": "pwyUCw0SYxhg"
      }
    },
    {
      "cell_type": "code",
      "source": [
        "svc =  LinearSVC(class_weight='balanced')\n",
        "svc.fit(X_train, y_train)\n",
        "\n",
        "y_pred_train = svc.predict(X_train)\n",
        "y_pred_test = svc.predict(X_test)\n",
        "print(\"\\nTraining Accuracy score:\",f1_score(y_train, y_pred_train, average='micro'))\n",
        "print(\"Testing Accuracy score:\",f1_score(y_test, y_pred_test, average='micro'))\n",
        "\n",
        "# Training Accuracy score: 1.0\n",
        "# Testing Accuracy score: 0.990909090909091"
      ],
      "metadata": {
        "id": "_xUvANpDVRiW",
        "colab": {
          "base_uri": "https://localhost:8080/"
        },
        "outputId": "018c4df7-ed80-4721-e2ee-285fa6ce3914"
      },
      "execution_count": 181,
      "outputs": [
        {
          "output_type": "stream",
          "name": "stdout",
          "text": [
            "\n",
            "Training Accuracy score: 1.0\n",
            "Testing Accuracy score: 1.0\n"
          ]
        }
      ]
    },
    {
      "cell_type": "markdown",
      "source": [
        "# Decision Tree"
      ],
      "metadata": {
        "id": "QofgjX0BY0II"
      }
    },
    {
      "cell_type": "code",
      "source": [
        "from sklearn.tree import DecisionTreeClassifier\n",
        "\n",
        "dt = DecisionTreeClassifier(random_state=42)\n",
        "dt.fit(X_train, y_train)\n",
        "\n",
        "y_pred_train = dt.predict(X_train)\n",
        "y_pred_test = dt.predict(X_test)\n",
        "print(\"\\nTraining Accuracy score:\",f1_score(y_train, y_pred_train, average='micro'))\n",
        "print(\"Testing Accuracy score:\",f1_score(y_test, y_pred_test, average='micro'))\n",
        "\n",
        "# Training Accuracy score: 1.0\n",
        "# Testing Accuracy score: 0.8818181818181818"
      ],
      "metadata": {
        "id": "u_lbal2KVT5u",
        "colab": {
          "base_uri": "https://localhost:8080/"
        },
        "outputId": "10117d76-6fa5-4699-d8e7-6d6400110069"
      },
      "execution_count": 182,
      "outputs": [
        {
          "output_type": "stream",
          "name": "stdout",
          "text": [
            "\n",
            "Training Accuracy score: 1.0\n",
            "Testing Accuracy score: 1.0\n"
          ]
        }
      ]
    },
    {
      "cell_type": "markdown",
      "source": [
        "# Ensembling"
      ],
      "metadata": {
        "id": "81ENrhhYY2OK"
      }
    },
    {
      "cell_type": "code",
      "source": [
        "from sklearn.ensemble import VotingClassifier\n",
        "\n",
        "classifiers = [('Decision Tree', dt),\n",
        "               ('Logistic Regression', lr),\n",
        "                ('Naive Bayes', gnb)\n",
        "              ]\n",
        "vc = VotingClassifier(estimators=classifiers)\n",
        "# Fit 'vc' to the traing set and predict test set Labels\n",
        "vc.fit(X_train, y_train)\n",
        "y_pred_train=vc.predict(X_train)\n",
        "y_pred_test = vc.predict(X_test)\n",
        "print(\"Training Accuracy score:\",f1_score(y_train, y_pred_train, average='micro'))\n",
        "print(\"Testing Accuracy score:\",f1_score(y_test, y_pred_test, average='micro'))\n",
        "\n",
        "# Training Accuracy score: 1.0\n",
        "# Testing Accuracy score: 0.9454545454545454"
      ],
      "metadata": {
        "id": "g1YQWEb2VZDy",
        "colab": {
          "base_uri": "https://localhost:8080/"
        },
        "outputId": "94b4df6e-82bf-4d12-a613-b526bf7ca291"
      },
      "execution_count": 183,
      "outputs": [
        {
          "output_type": "stream",
          "name": "stdout",
          "text": [
            "Training Accuracy score: 1.0\n",
            "Testing Accuracy score: 1.0\n"
          ]
        }
      ]
    },
    {
      "cell_type": "markdown",
      "source": [
        "# MLPClassifier"
      ],
      "metadata": {
        "id": "PFdYAabH8msh"
      }
    },
    {
      "cell_type": "code",
      "source": [
        "from sklearn.neural_network import MLPClassifier\n",
        "\n",
        "mlp = MLPClassifier(random_state=42)\n",
        "mlp.fit(X_train, y_train)\n",
        "\n",
        "y_pred_train = mlp.predict(X_train)\n",
        "y_pred_test = mlp.predict(X_test)\n",
        "print(\"\\nTraining Accuracy score:\",f1_score(y_train, y_pred_train, average='micro'))\n",
        "print(\"Testing Accuracy score:\",f1_score(y_test, y_pred_test, average='micro'))"
      ],
      "metadata": {
        "colab": {
          "base_uri": "https://localhost:8080/"
        },
        "id": "zgQEnnOW8ZQa",
        "outputId": "c52b2d26-1b4f-4777-d4ec-c865c722f4c5"
      },
      "execution_count": 184,
      "outputs": [
        {
          "output_type": "stream",
          "name": "stdout",
          "text": [
            "\n",
            "Training Accuracy score: 1.0\n",
            "Testing Accuracy score: 1.0\n"
          ]
        }
      ]
    },
    {
      "cell_type": "markdown",
      "source": [
        "# LightGBM"
      ],
      "metadata": {
        "id": "yPUiCxdTDvQf"
      }
    },
    {
      "cell_type": "code",
      "source": [
        "import lightgbm as lgb\n",
        "\n",
        "lgbm = lgb.LGBMClassifier(random_state=42, verbose=-1)\n",
        "lgbm.fit(X_train, y_train)\n",
        "\n",
        "y_pred_train = lgbm.predict(X_train)\n",
        "y_pred_test = lgbm.predict(X_test)\n",
        "print(\"\\nTraining Accuracy score:\",f1_score(y_train, y_pred_train, average='micro'))\n",
        "print(\"Testing Accuracy score:\",f1_score(y_test, y_pred_test, average='micro'))"
      ],
      "metadata": {
        "colab": {
          "base_uri": "https://localhost:8080/"
        },
        "id": "DlZJeUwW9djw",
        "outputId": "b95e5509-6065-482d-d681-59a76f50a6ca"
      },
      "execution_count": 185,
      "outputs": [
        {
          "output_type": "stream",
          "name": "stdout",
          "text": [
            "\n",
            "Training Accuracy score: 1.0\n",
            "Testing Accuracy score: 1.0\n"
          ]
        }
      ]
    },
    {
      "cell_type": "markdown",
      "source": [
        "# Тестирование"
      ],
      "metadata": {
        "id": "ufiCp_9TnwWS"
      }
    },
    {
      "cell_type": "code",
      "source": [
        "q = read_docx('/content/schet-na-oplaty.docx')\n",
        "q"
      ],
      "metadata": {
        "id": "_3bDSqnamwLl",
        "colab": {
          "base_uri": "https://localhost:8080/",
          "height": 110
        },
        "outputId": "d8de6199-dd62-485c-8587-714927de1d8e"
      },
      "execution_count": 166,
      "outputs": [
        {
          "output_type": "execute_result",
          "data": {
            "text/plain": [
              "'СЧЕТ  НА  ОПЛАТУ № (здесь порядковый номер) от (дата)\\nПокупатель: наименование покупателя, его ИНН, адрес, телефон.\\nУсловия поставки:  (например – самовывоз, обязательное уведомление об оплате, тогда резервирование товара на складе)\\nобразец заполнения  платежного  поручения\\n\\n\\n(Здесь приводятся сведения по Вашему желанию, обычно наименование фирмы (ИП, фамилия, имя, отчество, реквизиты  свидетельства  о  государственной регистрации  индивидуального  предпринимателя), адрес, телефоны, e-mail, иногда время действия счета и т.д.)\\n\\n(Далее имеет смысл перечислить товары или услуги по образцу накладной  и внизу обязательно указать: без налога (НДС), все это выглядеть может так) \\n\\n\\nБез налога (НДС)\\n\\nВыписал (предприниматель):                                           (Фамилия, инициалы)\\n\\nБухгалтер (предприниматель):                                         (Фамилия, инициалы)\\n\\nРуководитель (предприниматель):                                   (Фамилия, инициалы)\\nМ. П. '"
            ],
            "application/vnd.google.colaboratory.intrinsic+json": {
              "type": "string"
            }
          },
          "metadata": {},
          "execution_count": 166
        }
      ]
    },
    {
      "cell_type": "code",
      "source": [
        "q = clean(del_NER(q))"
      ],
      "metadata": {
        "id": "9n9tixlNnQ0d"
      },
      "execution_count": 186,
      "outputs": []
    },
    {
      "cell_type": "code",
      "source": [
        "q"
      ],
      "metadata": {
        "colab": {
          "base_uri": "https://localhost:8080/",
          "height": 73
        },
        "id": "fMaKuKULTzgx",
        "outputId": "cbca8e2d-c089-463d-f556-1cf27257b7c6"
      },
      "execution_count": 168,
      "outputs": [
        {
          "output_type": "execute_result",
          "data": {
            "text/plain": [
              "'порядков номер ( дат покупател наименован покупател ин адрес телефон услов поставк ( например самовывоз обязательн уведомлен оплат резервирован товар склад образец заполнен платежн поручен ( привод сведен ваш желан обычн наименован фирм ( фамил им отчеств реквизит свидетельств государствен регистрац индивидуальн предпринимател ) адрес телефон врем действ счет сайт . ( дал имеет смысл перечисл товар услуг образц накладн вниз обязательн указа налог ( ндс ) эт выглядет налог ( ндс ( предпринимател ) ( фамил инициал ( предпринимател ) ( фамил инициал руководител ( предпринимател ) ( фамил инициал )'"
            ],
            "application/vnd.google.colaboratory.intrinsic+json": {
              "type": "string"
            }
          },
          "metadata": {},
          "execution_count": 168
        }
      ]
    },
    {
      "cell_type": "code",
      "source": [
        "q_vec = tfidf.transform([q]).toarray()\n",
        "\n",
        "print(f'GaussianNB          {gnb.predict(q_vec)}')\n",
        "print(f'MultinomialNB       {mnb.predict(q_vec)}')\n",
        "print(f'LogisticRegression  {lr.predict(q_vec)}')\n",
        "print(f'Vector              {svc.predict(q_vec)}')\n",
        "print(f'Decision Tree       {dt.predict(q_vec)}')\n",
        "print(f'Voting Classifier   {vc.predict(q_vec)}')\n",
        "print(f'MLPClassifier       {mlp.predict(q_vec)}')"
      ],
      "metadata": {
        "id": "-Z5h3Prgv_Xm",
        "colab": {
          "base_uri": "https://localhost:8080/"
        },
        "outputId": "d5f6a0b9-ec16-45fb-bc11-4d3b3bb161bd"
      },
      "execution_count": 187,
      "outputs": [
        {
          "output_type": "stream",
          "name": "stdout",
          "text": [
            "GaussianNB          ['contract offer']\n",
            "MultinomialNB       ['contract offer']\n",
            "LogisticRegression  ['contract offer']\n",
            "Vector              ['contract offer']\n",
            "Decision Tree       ['contract offer']\n",
            "Voting Classifier   ['contract offer']\n",
            "MLPClassifier       ['contract offer']\n"
          ]
        }
      ]
    }
  ]
}